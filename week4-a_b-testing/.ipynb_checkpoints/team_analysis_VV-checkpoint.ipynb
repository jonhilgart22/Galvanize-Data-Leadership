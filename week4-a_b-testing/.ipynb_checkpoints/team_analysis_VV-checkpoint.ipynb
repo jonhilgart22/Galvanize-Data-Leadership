{
 "cells": [
  {
   "cell_type": "code",
   "execution_count": 1,
   "metadata": {
    "collapsed": true
   },
   "outputs": [],
   "source": [
    "import pandas as pd"
   ]
  },
  {
   "cell_type": "code",
   "execution_count": 64,
   "metadata": {
    "collapsed": false
   },
   "outputs": [],
   "source": [
    "control = pd.DataFrame.from_csv(\"control.csv\")\n",
    "baseline = pd.DataFrame.from_csv(\"baseline.csv\")\n",
    "experiment = pd.DataFrame.from_csv(\"experiment.csv\")"
   ]
  },
  {
   "cell_type": "code",
   "execution_count": 65,
   "metadata": {
    "collapsed": false,
    "scrolled": true
   },
   "outputs": [
    {
     "data": {
      "text/html": [
       "<div>\n",
       "<table border=\"1\" class=\"dataframe\">\n",
       "  <thead>\n",
       "    <tr style=\"text-align: right;\">\n",
       "      <th></th>\n",
       "      <th>40000</th>\n",
       "    </tr>\n",
       "    <tr>\n",
       "      <th>Unique cookies to view page per day:</th>\n",
       "      <th></th>\n",
       "    </tr>\n",
       "  </thead>\n",
       "  <tbody>\n",
       "    <tr>\n",
       "      <th>Unique cookies to click \"Start free trial\" per day:</th>\n",
       "      <td>3200.000000</td>\n",
       "    </tr>\n",
       "    <tr>\n",
       "      <th>Enrollments per day:</th>\n",
       "      <td>660.000000</td>\n",
       "    </tr>\n",
       "    <tr>\n",
       "      <th>Click-through-probability on \"Start free trial\":</th>\n",
       "      <td>0.080000</td>\n",
       "    </tr>\n",
       "    <tr>\n",
       "      <th>Probability of enrolling, given click:</th>\n",
       "      <td>0.206250</td>\n",
       "    </tr>\n",
       "    <tr>\n",
       "      <th>Probability of payment, given enroll:</th>\n",
       "      <td>0.530000</td>\n",
       "    </tr>\n",
       "    <tr>\n",
       "      <th>Probability of payment, given click</th>\n",
       "      <td>0.109313</td>\n",
       "    </tr>\n",
       "  </tbody>\n",
       "</table>\n",
       "</div>"
      ],
      "text/plain": [
       "                                                          40000\n",
       "Unique cookies to view page per day:                           \n",
       "Unique cookies to click \"Start free trial\" per ...  3200.000000\n",
       "Enrollments per day:                                 660.000000\n",
       "Click-through-probability on \"Start free trial\":       0.080000\n",
       "Probability of enrolling, given click:                 0.206250\n",
       "Probability of payment, given enroll:                  0.530000\n",
       "Probability of payment, given click                    0.109313"
      ]
     },
     "execution_count": 65,
     "metadata": {},
     "output_type": "execute_result"
    }
   ],
   "source": [
    "baseline"
   ]
  },
  {
   "cell_type": "code",
   "execution_count": 66,
   "metadata": {
    "collapsed": false,
    "scrolled": true
   },
   "outputs": [
    {
     "data": {
      "text/html": [
       "<div>\n",
       "<table border=\"1\" class=\"dataframe\">\n",
       "  <thead>\n",
       "    <tr style=\"text-align: right;\">\n",
       "      <th>Unique cookies to view page per day:</th>\n",
       "      <th>Unique cookies to click \"Start free trial\" per day:</th>\n",
       "      <th>Enrollments per day:</th>\n",
       "      <th>Click-through-probability on \"Start free trial\":</th>\n",
       "      <th>Probability of enrolling, given click:</th>\n",
       "      <th>Probability of payment, given enroll:</th>\n",
       "      <th>Probability of payment, given click</th>\n",
       "    </tr>\n",
       "  </thead>\n",
       "  <tbody>\n",
       "    <tr>\n",
       "      <th>40000</th>\n",
       "      <td>3200.0</td>\n",
       "      <td>660.0</td>\n",
       "      <td>0.08</td>\n",
       "      <td>0.20625</td>\n",
       "      <td>0.53</td>\n",
       "      <td>0.109313</td>\n",
       "    </tr>\n",
       "  </tbody>\n",
       "</table>\n",
       "</div>"
      ],
      "text/plain": [
       "Unique cookies to view page per day:  Unique cookies to click \"Start free trial\" per day:  \\\n",
       "40000                                                                            3200.0     \n",
       "\n",
       "Unique cookies to view page per day:  Enrollments per day:  \\\n",
       "40000                                                660.0   \n",
       "\n",
       "Unique cookies to view page per day:  Click-through-probability on \"Start free trial\":  \\\n",
       "40000                                                                             0.08   \n",
       "\n",
       "Unique cookies to view page per day:  Probability of enrolling, given click:  \\\n",
       "40000                                                                0.20625   \n",
       "\n",
       "Unique cookies to view page per day:  Probability of payment, given enroll:  \\\n",
       "40000                                                                  0.53   \n",
       "\n",
       "Unique cookies to view page per day:  Probability of payment, given click  \n",
       "40000                                                            0.109313  "
      ]
     },
     "execution_count": 66,
     "metadata": {},
     "output_type": "execute_result"
    }
   ],
   "source": [
    "baseline = baseline.transpose()\n",
    "baseline"
   ]
  },
  {
   "cell_type": "code",
   "execution_count": 20,
   "metadata": {
    "collapsed": false
   },
   "outputs": [],
   "source": [
    "experiment['ctp'] = experiment.Clicks/experiment.Pageviews\n",
    "experiment['gross_conv'] = experiment.Enrollments/experiment.Clicks\n",
    "experiment['retention'] = experiment.Payments/experiment.Enrollments\n",
    "experiment['net_conv'] = experiment.Payments/experiment.Clicks"
   ]
  },
  {
   "cell_type": "code",
   "execution_count": 23,
   "metadata": {
    "collapsed": true
   },
   "outputs": [],
   "source": [
    "control['ctp'] = experiment.Clicks/experiment.Pageviews\n",
    "control['gross_conv'] = experiment.Enrollments/experiment.Clicks\n",
    "control['retention'] = experiment.Payments/experiment.Enrollments\n",
    "control['net_conv'] = experiment.Payments/experiment.Clicks"
   ]
  },
  {
   "cell_type": "code",
   "execution_count": 21,
   "metadata": {
    "collapsed": false
   },
   "outputs": [
    {
     "data": {
      "text/html": [
       "<div>\n",
       "<table border=\"1\" class=\"dataframe\">\n",
       "  <thead>\n",
       "    <tr style=\"text-align: right;\">\n",
       "      <th></th>\n",
       "      <th>Pageviews</th>\n",
       "      <th>Clicks</th>\n",
       "      <th>Enrollments</th>\n",
       "      <th>Payments</th>\n",
       "      <th>ctp</th>\n",
       "      <th>gross_conv</th>\n",
       "      <th>retention</th>\n",
       "      <th>net_conv</th>\n",
       "    </tr>\n",
       "    <tr>\n",
       "      <th>Date</th>\n",
       "      <th></th>\n",
       "      <th></th>\n",
       "      <th></th>\n",
       "      <th></th>\n",
       "      <th></th>\n",
       "      <th></th>\n",
       "      <th></th>\n",
       "      <th></th>\n",
       "    </tr>\n",
       "  </thead>\n",
       "  <tbody>\n",
       "    <tr>\n",
       "      <th>Sat, Oct 11</th>\n",
       "      <td>7716</td>\n",
       "      <td>686</td>\n",
       "      <td>105.0</td>\n",
       "      <td>34.0</td>\n",
       "      <td>0.088906</td>\n",
       "      <td>0.153061</td>\n",
       "      <td>0.323810</td>\n",
       "      <td>0.049563</td>\n",
       "    </tr>\n",
       "    <tr>\n",
       "      <th>Sun, Oct 12</th>\n",
       "      <td>9288</td>\n",
       "      <td>785</td>\n",
       "      <td>116.0</td>\n",
       "      <td>91.0</td>\n",
       "      <td>0.084518</td>\n",
       "      <td>0.147771</td>\n",
       "      <td>0.784483</td>\n",
       "      <td>0.115924</td>\n",
       "    </tr>\n",
       "    <tr>\n",
       "      <th>Mon, Oct 13</th>\n",
       "      <td>10480</td>\n",
       "      <td>884</td>\n",
       "      <td>145.0</td>\n",
       "      <td>79.0</td>\n",
       "      <td>0.084351</td>\n",
       "      <td>0.164027</td>\n",
       "      <td>0.544828</td>\n",
       "      <td>0.089367</td>\n",
       "    </tr>\n",
       "    <tr>\n",
       "      <th>Tue, Oct 14</th>\n",
       "      <td>9867</td>\n",
       "      <td>827</td>\n",
       "      <td>138.0</td>\n",
       "      <td>92.0</td>\n",
       "      <td>0.083815</td>\n",
       "      <td>0.166868</td>\n",
       "      <td>0.666667</td>\n",
       "      <td>0.111245</td>\n",
       "    </tr>\n",
       "    <tr>\n",
       "      <th>Wed, Oct 15</th>\n",
       "      <td>9793</td>\n",
       "      <td>832</td>\n",
       "      <td>140.0</td>\n",
       "      <td>94.0</td>\n",
       "      <td>0.084959</td>\n",
       "      <td>0.168269</td>\n",
       "      <td>0.671429</td>\n",
       "      <td>0.112981</td>\n",
       "    </tr>\n",
       "  </tbody>\n",
       "</table>\n",
       "</div>"
      ],
      "text/plain": [
       "             Pageviews  Clicks  Enrollments  Payments       ctp  gross_conv  \\\n",
       "Date                                                                          \n",
       "Sat, Oct 11       7716     686        105.0      34.0  0.088906    0.153061   \n",
       "Sun, Oct 12       9288     785        116.0      91.0  0.084518    0.147771   \n",
       "Mon, Oct 13      10480     884        145.0      79.0  0.084351    0.164027   \n",
       "Tue, Oct 14       9867     827        138.0      92.0  0.083815    0.166868   \n",
       "Wed, Oct 15       9793     832        140.0      94.0  0.084959    0.168269   \n",
       "\n",
       "             retention  net_conv  \n",
       "Date                              \n",
       "Sat, Oct 11   0.323810  0.049563  \n",
       "Sun, Oct 12   0.784483  0.115924  \n",
       "Mon, Oct 13   0.544828  0.089367  \n",
       "Tue, Oct 14   0.666667  0.111245  \n",
       "Wed, Oct 15   0.671429  0.112981  "
      ]
     },
     "execution_count": 21,
     "metadata": {},
     "output_type": "execute_result"
    }
   ],
   "source": [
    "experiment.head()"
   ]
  },
  {
   "cell_type": "code",
   "execution_count": 22,
   "metadata": {
    "collapsed": false
   },
   "outputs": [
    {
     "data": {
      "text/html": [
       "<div>\n",
       "<table border=\"1\" class=\"dataframe\">\n",
       "  <thead>\n",
       "    <tr style=\"text-align: right;\">\n",
       "      <th></th>\n",
       "      <th>Pageviews</th>\n",
       "      <th>Clicks</th>\n",
       "      <th>Enrollments</th>\n",
       "      <th>Payments</th>\n",
       "      <th>ctp</th>\n",
       "      <th>gross_conv</th>\n",
       "      <th>retention</th>\n",
       "      <th>net_conv</th>\n",
       "    </tr>\n",
       "  </thead>\n",
       "  <tbody>\n",
       "    <tr>\n",
       "      <th>count</th>\n",
       "      <td>37.000000</td>\n",
       "      <td>37.000000</td>\n",
       "      <td>23.000000</td>\n",
       "      <td>23.000000</td>\n",
       "      <td>37.000000</td>\n",
       "      <td>23.000000</td>\n",
       "      <td>23.000000</td>\n",
       "      <td>23.000000</td>\n",
       "    </tr>\n",
       "    <tr>\n",
       "      <th>mean</th>\n",
       "      <td>9315.135135</td>\n",
       "      <td>765.540541</td>\n",
       "      <td>148.826087</td>\n",
       "      <td>84.565217</td>\n",
       "      <td>0.082191</td>\n",
       "      <td>0.199566</td>\n",
       "      <td>0.573140</td>\n",
       "      <td>0.113373</td>\n",
       "    </tr>\n",
       "    <tr>\n",
       "      <th>std</th>\n",
       "      <td>708.070781</td>\n",
       "      <td>64.578374</td>\n",
       "      <td>33.234227</td>\n",
       "      <td>23.060841</td>\n",
       "      <td>0.003116</td>\n",
       "      <td>0.047451</td>\n",
       "      <td>0.127571</td>\n",
       "      <td>0.032176</td>\n",
       "    </tr>\n",
       "    <tr>\n",
       "      <th>min</th>\n",
       "      <td>7664.000000</td>\n",
       "      <td>642.000000</td>\n",
       "      <td>94.000000</td>\n",
       "      <td>34.000000</td>\n",
       "      <td>0.074133</td>\n",
       "      <td>0.144172</td>\n",
       "      <td>0.323671</td>\n",
       "      <td>0.049563</td>\n",
       "    </tr>\n",
       "    <tr>\n",
       "      <th>25%</th>\n",
       "      <td>8881.000000</td>\n",
       "      <td>722.000000</td>\n",
       "      <td>127.000000</td>\n",
       "      <td>69.000000</td>\n",
       "      <td>0.079855</td>\n",
       "      <td>0.163866</td>\n",
       "      <td>0.490520</td>\n",
       "      <td>0.090700</td>\n",
       "    </tr>\n",
       "    <tr>\n",
       "      <th>50%</th>\n",
       "      <td>9359.000000</td>\n",
       "      <td>770.000000</td>\n",
       "      <td>142.000000</td>\n",
       "      <td>91.000000</td>\n",
       "      <td>0.082722</td>\n",
       "      <td>0.177907</td>\n",
       "      <td>0.565934</td>\n",
       "      <td>0.112981</td>\n",
       "    </tr>\n",
       "    <tr>\n",
       "      <th>75%</th>\n",
       "      <td>9737.000000</td>\n",
       "      <td>827.000000</td>\n",
       "      <td>172.000000</td>\n",
       "      <td>99.000000</td>\n",
       "      <td>0.084351</td>\n",
       "      <td>0.236080</td>\n",
       "      <td>0.663399</td>\n",
       "      <td>0.138564</td>\n",
       "    </tr>\n",
       "    <tr>\n",
       "      <th>max</th>\n",
       "      <td>10551.000000</td>\n",
       "      <td>884.000000</td>\n",
       "      <td>213.000000</td>\n",
       "      <td>123.000000</td>\n",
       "      <td>0.088906</td>\n",
       "      <td>0.284341</td>\n",
       "      <td>0.784483</td>\n",
       "      <td>0.170360</td>\n",
       "    </tr>\n",
       "  </tbody>\n",
       "</table>\n",
       "</div>"
      ],
      "text/plain": [
       "          Pageviews      Clicks  Enrollments    Payments        ctp  \\\n",
       "count     37.000000   37.000000    23.000000   23.000000  37.000000   \n",
       "mean    9315.135135  765.540541   148.826087   84.565217   0.082191   \n",
       "std      708.070781   64.578374    33.234227   23.060841   0.003116   \n",
       "min     7664.000000  642.000000    94.000000   34.000000   0.074133   \n",
       "25%     8881.000000  722.000000   127.000000   69.000000   0.079855   \n",
       "50%     9359.000000  770.000000   142.000000   91.000000   0.082722   \n",
       "75%     9737.000000  827.000000   172.000000   99.000000   0.084351   \n",
       "max    10551.000000  884.000000   213.000000  123.000000   0.088906   \n",
       "\n",
       "       gross_conv  retention   net_conv  \n",
       "count   23.000000  23.000000  23.000000  \n",
       "mean     0.199566   0.573140   0.113373  \n",
       "std      0.047451   0.127571   0.032176  \n",
       "min      0.144172   0.323671   0.049563  \n",
       "25%      0.163866   0.490520   0.090700  \n",
       "50%      0.177907   0.565934   0.112981  \n",
       "75%      0.236080   0.663399   0.138564  \n",
       "max      0.284341   0.784483   0.170360  "
      ]
     },
     "execution_count": 22,
     "metadata": {},
     "output_type": "execute_result"
    }
   ],
   "source": [
    "experiment.describe()"
   ]
  },
  {
   "cell_type": "code",
   "execution_count": 72,
   "metadata": {
    "collapsed": false
   },
   "outputs": [
    {
     "ename": "NameError",
     "evalue": "name 'power' is not defined",
     "output_type": "error",
     "traceback": [
      "\u001b[0;31m---------------------------------------------------------------------------\u001b[0m",
      "\u001b[0;31mNameError\u001b[0m                                 Traceback (most recent call last)",
      "\u001b[0;32m<ipython-input-72-45352e4376c4>\u001b[0m in \u001b[0;36m<module>\u001b[0;34m()\u001b[0m\n\u001b[0;32m----> 1\u001b[0;31m \u001b[0mpower\u001b[0m\u001b[0;34m.\u001b[0m\u001b[0mprop\u001b[0m\u001b[0;34m.\u001b[0m\u001b[0mtest\u001b[0m\u001b[0;34m(\u001b[0m\u001b[0mp1\u001b[0m \u001b[0;34m=\u001b[0m \u001b[0;36m0.53\u001b[0m\u001b[0;34m,\u001b[0m \u001b[0mp2\u001b[0m \u001b[0;34m=\u001b[0m \u001b[0;36m0.53\u001b[0m \u001b[0;34m+\u001b[0m \u001b[0;36m0.01\u001b[0m\u001b[0;34m,\u001b[0m \u001b[0mpower\u001b[0m \u001b[0;34m=\u001b[0m \u001b[0;36m0.8\u001b[0m\u001b[0;34m)\u001b[0m\u001b[0;34m\u001b[0m\u001b[0m\n\u001b[0m",
      "\u001b[0;31mNameError\u001b[0m: name 'power' is not defined"
     ]
    }
   ],
   "source": [
    "power.prop.test(p1 = 0.53, p2 = 0.53 + 0.01, power = 0.8)"
   ]
  },
  {
   "cell_type": "code",
   "execution_count": null,
   "metadata": {
    "collapsed": true
   },
   "outputs": [],
   "source": []
  }
 ],
 "metadata": {
  "kernelspec": {
   "display_name": "Python 3",
   "language": "python",
   "name": "python3"
  },
  "language_info": {
   "codemirror_mode": {
    "name": "ipython",
    "version": 3
   },
   "file_extension": ".py",
   "mimetype": "text/x-python",
   "name": "python",
   "nbconvert_exporter": "python",
   "pygments_lexer": "ipython3",
   "version": "3.5.2"
  }
 },
 "nbformat": 4,
 "nbformat_minor": 0
}
