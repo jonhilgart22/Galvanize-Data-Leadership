{
 "cells": [
  {
   "cell_type": "code",
   "execution_count": 24,
   "metadata": {
    "collapsed": false,
    "deletable": true,
    "editable": true
   },
   "outputs": [],
   "source": [
    "import matplotlib.pyplot as plt\n",
    "import pandas as pd\n",
    "import statsmodels.stats.api as sms \n",
    "import seaborn as sns\n",
    "%matplotlib inline"
   ]
  },
  {
   "cell_type": "markdown",
   "metadata": {},
   "source": [
    "# Sample size"
   ]
  },
  {
   "cell_type": "code",
   "execution_count": 21,
   "metadata": {
    "collapsed": false
   },
   "outputs": [
    {
     "data": {
      "text/plain": [
       "39050.67796811014"
      ]
     },
     "execution_count": 21,
     "metadata": {},
     "output_type": "execute_result"
    }
   ],
   "source": [
    "# Pageviews sample size for improving retention benchmark\n",
    "es = sms.proportion_effectsize(0.53, 0.53+0.01)\n",
    "sms.NormalIndPower().solve_power(es, power=0.8, alpha=0.05, ratio=1)"
   ]
  },
  {
   "cell_type": "code",
   "execution_count": 22,
   "metadata": {
    "collapsed": false
   },
   "outputs": [
    {
     "data": {
      "text/plain": [
       "27977.96232476509"
      ]
     },
     "execution_count": 22,
     "metadata": {},
     "output_type": "execute_result"
    }
   ],
   "source": [
    "# Pageviews sample size for improving net conversion benchmark\n",
    "es = sms.proportion_effectsize(0.109313, 0.109313+0.0075)\n",
    "sms.NormalIndPower().solve_power(es, power=0.8, alpha=0.05, ratio=1)"
   ]
  },
  {
   "cell_type": "markdown",
   "metadata": {},
   "source": [
    "# Analysis"
   ]
  },
  {
   "cell_type": "code",
   "execution_count": 8,
   "metadata": {
    "collapsed": false,
    "deletable": true,
    "editable": true
   },
   "outputs": [],
   "source": [
    "control = pd.DataFrame.from_csv(\"control.csv\")\n",
    "baseline = pd.DataFrame.from_csv(\"baseline.csv\")\n",
    "experiment = pd.DataFrame.from_csv(\"experiment.csv\")"
   ]
  },
  {
   "cell_type": "code",
   "execution_count": 9,
   "metadata": {
    "collapsed": false,
    "deletable": true,
    "editable": true,
    "scrolled": true
   },
   "outputs": [
    {
     "data": {
      "text/html": [
       "<div>\n",
       "<table border=\"1\" class=\"dataframe\">\n",
       "  <thead>\n",
       "    <tr style=\"text-align: right;\">\n",
       "      <th>Unique cookies to view page per day:</th>\n",
       "      <th>Unique cookies to click \"Start free trial\" per day:</th>\n",
       "      <th>Enrollments per day:</th>\n",
       "      <th>Click-through-probability on \"Start free trial\":</th>\n",
       "      <th>Probability of enrolling, given click:</th>\n",
       "      <th>Probability of payment, given enroll:</th>\n",
       "      <th>Probability of payment, given click</th>\n",
       "    </tr>\n",
       "  </thead>\n",
       "  <tbody>\n",
       "    <tr>\n",
       "      <th>40000</th>\n",
       "      <td>3200.0</td>\n",
       "      <td>660.0</td>\n",
       "      <td>0.08</td>\n",
       "      <td>0.20625</td>\n",
       "      <td>0.53</td>\n",
       "      <td>0.109313</td>\n",
       "    </tr>\n",
       "  </tbody>\n",
       "</table>\n",
       "</div>"
      ],
      "text/plain": [
       "Unique cookies to view page per day:  Unique cookies to click \"Start free trial\" per day:  \\\n",
       "40000                                                                            3200.0     \n",
       "\n",
       "Unique cookies to view page per day:  Enrollments per day:  \\\n",
       "40000                                                660.0   \n",
       "\n",
       "Unique cookies to view page per day:  Click-through-probability on \"Start free trial\":  \\\n",
       "40000                                                                             0.08   \n",
       "\n",
       "Unique cookies to view page per day:  Probability of enrolling, given click:  \\\n",
       "40000                                                                0.20625   \n",
       "\n",
       "Unique cookies to view page per day:  Probability of payment, given enroll:  \\\n",
       "40000                                                                  0.53   \n",
       "\n",
       "Unique cookies to view page per day:  Probability of payment, given click  \n",
       "40000                                                            0.109313  "
      ]
     },
     "execution_count": 9,
     "metadata": {},
     "output_type": "execute_result"
    }
   ],
   "source": [
    "baseline = baseline.transpose()\n",
    "baseline"
   ]
  },
  {
   "cell_type": "code",
   "execution_count": 10,
   "metadata": {
    "collapsed": false,
    "deletable": true,
    "editable": true
   },
   "outputs": [],
   "source": [
    "experiment['ctp'] = experiment.Clicks/experiment.Pageviews\n",
    "experiment['gross_conv'] = experiment.Enrollments/experiment.Clicks\n",
    "experiment['retention'] = experiment.Payments/experiment.Enrollments\n",
    "experiment['net_conv'] = experiment.Payments/experiment.Clicks"
   ]
  },
  {
   "cell_type": "code",
   "execution_count": 15,
   "metadata": {
    "collapsed": true,
    "deletable": true,
    "editable": true
   },
   "outputs": [],
   "source": [
    "control['ctp'] = control.Clicks/control.Pageviews\n",
    "control['gross_conv'] = control.Enrollments/control.Clicks\n",
    "control['retention'] = control.Payments/control.Enrollments\n",
    "control['net_conv'] = control.Payments/control.Clicks"
   ]
  },
  {
   "cell_type": "code",
   "execution_count": 16,
   "metadata": {
    "collapsed": false,
    "deletable": true,
    "editable": true
   },
   "outputs": [
    {
     "data": {
      "text/html": [
       "<div>\n",
       "<table border=\"1\" class=\"dataframe\">\n",
       "  <thead>\n",
       "    <tr style=\"text-align: right;\">\n",
       "      <th></th>\n",
       "      <th>Pageviews</th>\n",
       "      <th>Clicks</th>\n",
       "      <th>Enrollments</th>\n",
       "      <th>Payments</th>\n",
       "      <th>ctp</th>\n",
       "      <th>gross_conv</th>\n",
       "      <th>retention</th>\n",
       "      <th>net_conv</th>\n",
       "    </tr>\n",
       "    <tr>\n",
       "      <th>Date</th>\n",
       "      <th></th>\n",
       "      <th></th>\n",
       "      <th></th>\n",
       "      <th></th>\n",
       "      <th></th>\n",
       "      <th></th>\n",
       "      <th></th>\n",
       "      <th></th>\n",
       "    </tr>\n",
       "  </thead>\n",
       "  <tbody>\n",
       "    <tr>\n",
       "      <th>Sat, Oct 11</th>\n",
       "      <td>7716</td>\n",
       "      <td>686</td>\n",
       "      <td>105.0</td>\n",
       "      <td>34.0</td>\n",
       "      <td>0.088906</td>\n",
       "      <td>0.153061</td>\n",
       "      <td>0.323810</td>\n",
       "      <td>0.049563</td>\n",
       "    </tr>\n",
       "    <tr>\n",
       "      <th>Sun, Oct 12</th>\n",
       "      <td>9288</td>\n",
       "      <td>785</td>\n",
       "      <td>116.0</td>\n",
       "      <td>91.0</td>\n",
       "      <td>0.084518</td>\n",
       "      <td>0.147771</td>\n",
       "      <td>0.784483</td>\n",
       "      <td>0.115924</td>\n",
       "    </tr>\n",
       "    <tr>\n",
       "      <th>Mon, Oct 13</th>\n",
       "      <td>10480</td>\n",
       "      <td>884</td>\n",
       "      <td>145.0</td>\n",
       "      <td>79.0</td>\n",
       "      <td>0.084351</td>\n",
       "      <td>0.164027</td>\n",
       "      <td>0.544828</td>\n",
       "      <td>0.089367</td>\n",
       "    </tr>\n",
       "    <tr>\n",
       "      <th>Tue, Oct 14</th>\n",
       "      <td>9867</td>\n",
       "      <td>827</td>\n",
       "      <td>138.0</td>\n",
       "      <td>92.0</td>\n",
       "      <td>0.083815</td>\n",
       "      <td>0.166868</td>\n",
       "      <td>0.666667</td>\n",
       "      <td>0.111245</td>\n",
       "    </tr>\n",
       "    <tr>\n",
       "      <th>Wed, Oct 15</th>\n",
       "      <td>9793</td>\n",
       "      <td>832</td>\n",
       "      <td>140.0</td>\n",
       "      <td>94.0</td>\n",
       "      <td>0.084959</td>\n",
       "      <td>0.168269</td>\n",
       "      <td>0.671429</td>\n",
       "      <td>0.112981</td>\n",
       "    </tr>\n",
       "  </tbody>\n",
       "</table>\n",
       "</div>"
      ],
      "text/plain": [
       "             Pageviews  Clicks  Enrollments  Payments       ctp  gross_conv  \\\n",
       "Date                                                                          \n",
       "Sat, Oct 11       7716     686        105.0      34.0  0.088906    0.153061   \n",
       "Sun, Oct 12       9288     785        116.0      91.0  0.084518    0.147771   \n",
       "Mon, Oct 13      10480     884        145.0      79.0  0.084351    0.164027   \n",
       "Tue, Oct 14       9867     827        138.0      92.0  0.083815    0.166868   \n",
       "Wed, Oct 15       9793     832        140.0      94.0  0.084959    0.168269   \n",
       "\n",
       "             retention  net_conv  \n",
       "Date                              \n",
       "Sat, Oct 11   0.323810  0.049563  \n",
       "Sun, Oct 12   0.784483  0.115924  \n",
       "Mon, Oct 13   0.544828  0.089367  \n",
       "Tue, Oct 14   0.666667  0.111245  \n",
       "Wed, Oct 15   0.671429  0.112981  "
      ]
     },
     "execution_count": 16,
     "metadata": {},
     "output_type": "execute_result"
    }
   ],
   "source": [
    "experiment.head()"
   ]
  },
  {
   "cell_type": "code",
   "execution_count": 31,
   "metadata": {
    "collapsed": false
   },
   "outputs": [
    {
     "data": {
      "text/html": [
       "<div>\n",
       "<table border=\"1\" class=\"dataframe\">\n",
       "  <thead>\n",
       "    <tr style=\"text-align: right;\">\n",
       "      <th></th>\n",
       "      <th>Pageviews</th>\n",
       "      <th>Clicks</th>\n",
       "      <th>Enrollments</th>\n",
       "      <th>Payments</th>\n",
       "      <th>ctp</th>\n",
       "      <th>gross_conv</th>\n",
       "      <th>retention</th>\n",
       "      <th>net_conv</th>\n",
       "    </tr>\n",
       "    <tr>\n",
       "      <th>Date</th>\n",
       "      <th></th>\n",
       "      <th></th>\n",
       "      <th></th>\n",
       "      <th></th>\n",
       "      <th></th>\n",
       "      <th></th>\n",
       "      <th></th>\n",
       "      <th></th>\n",
       "    </tr>\n",
       "  </thead>\n",
       "  <tbody>\n",
       "    <tr>\n",
       "      <th>Sat, Oct 11</th>\n",
       "      <td>7723</td>\n",
       "      <td>687</td>\n",
       "      <td>134.0</td>\n",
       "      <td>70.0</td>\n",
       "      <td>0.088955</td>\n",
       "      <td>0.195051</td>\n",
       "      <td>0.522388</td>\n",
       "      <td>0.101892</td>\n",
       "    </tr>\n",
       "    <tr>\n",
       "      <th>Sun, Oct 12</th>\n",
       "      <td>9102</td>\n",
       "      <td>779</td>\n",
       "      <td>147.0</td>\n",
       "      <td>70.0</td>\n",
       "      <td>0.085586</td>\n",
       "      <td>0.188703</td>\n",
       "      <td>0.476190</td>\n",
       "      <td>0.089859</td>\n",
       "    </tr>\n",
       "    <tr>\n",
       "      <th>Mon, Oct 13</th>\n",
       "      <td>10511</td>\n",
       "      <td>909</td>\n",
       "      <td>167.0</td>\n",
       "      <td>95.0</td>\n",
       "      <td>0.086481</td>\n",
       "      <td>0.183718</td>\n",
       "      <td>0.568862</td>\n",
       "      <td>0.104510</td>\n",
       "    </tr>\n",
       "    <tr>\n",
       "      <th>Tue, Oct 14</th>\n",
       "      <td>9871</td>\n",
       "      <td>836</td>\n",
       "      <td>156.0</td>\n",
       "      <td>105.0</td>\n",
       "      <td>0.084693</td>\n",
       "      <td>0.186603</td>\n",
       "      <td>0.673077</td>\n",
       "      <td>0.125598</td>\n",
       "    </tr>\n",
       "    <tr>\n",
       "      <th>Wed, Oct 15</th>\n",
       "      <td>10014</td>\n",
       "      <td>837</td>\n",
       "      <td>163.0</td>\n",
       "      <td>64.0</td>\n",
       "      <td>0.083583</td>\n",
       "      <td>0.194743</td>\n",
       "      <td>0.392638</td>\n",
       "      <td>0.076464</td>\n",
       "    </tr>\n",
       "  </tbody>\n",
       "</table>\n",
       "</div>"
      ],
      "text/plain": [
       "             Pageviews  Clicks  Enrollments  Payments       ctp  gross_conv  \\\n",
       "Date                                                                          \n",
       "Sat, Oct 11       7723     687        134.0      70.0  0.088955    0.195051   \n",
       "Sun, Oct 12       9102     779        147.0      70.0  0.085586    0.188703   \n",
       "Mon, Oct 13      10511     909        167.0      95.0  0.086481    0.183718   \n",
       "Tue, Oct 14       9871     836        156.0     105.0  0.084693    0.186603   \n",
       "Wed, Oct 15      10014     837        163.0      64.0  0.083583    0.194743   \n",
       "\n",
       "             retention  net_conv  \n",
       "Date                              \n",
       "Sat, Oct 11   0.522388  0.101892  \n",
       "Sun, Oct 12   0.476190  0.089859  \n",
       "Mon, Oct 13   0.568862  0.104510  \n",
       "Tue, Oct 14   0.673077  0.125598  \n",
       "Wed, Oct 15   0.392638  0.076464  "
      ]
     },
     "execution_count": 31,
     "metadata": {},
     "output_type": "execute_result"
    }
   ],
   "source": [
    "control.head()"
   ]
  },
  {
   "cell_type": "code",
   "execution_count": 17,
   "metadata": {
    "collapsed": false,
    "deletable": true,
    "editable": true,
    "scrolled": true
   },
   "outputs": [
    {
     "data": {
      "text/html": [
       "<div>\n",
       "<table border=\"1\" class=\"dataframe\">\n",
       "  <thead>\n",
       "    <tr style=\"text-align: right;\">\n",
       "      <th></th>\n",
       "      <th>Pageviews</th>\n",
       "      <th>Clicks</th>\n",
       "      <th>Enrollments</th>\n",
       "      <th>Payments</th>\n",
       "      <th>ctp</th>\n",
       "      <th>gross_conv</th>\n",
       "      <th>retention</th>\n",
       "      <th>net_conv</th>\n",
       "    </tr>\n",
       "  </thead>\n",
       "  <tbody>\n",
       "    <tr>\n",
       "      <th>count</th>\n",
       "      <td>37.000000</td>\n",
       "      <td>37.000000</td>\n",
       "      <td>23.000000</td>\n",
       "      <td>23.000000</td>\n",
       "      <td>37.000000</td>\n",
       "      <td>23.000000</td>\n",
       "      <td>23.000000</td>\n",
       "      <td>23.000000</td>\n",
       "    </tr>\n",
       "    <tr>\n",
       "      <th>mean</th>\n",
       "      <td>9315.135135</td>\n",
       "      <td>765.540541</td>\n",
       "      <td>148.826087</td>\n",
       "      <td>84.565217</td>\n",
       "      <td>0.082191</td>\n",
       "      <td>0.199566</td>\n",
       "      <td>0.573140</td>\n",
       "      <td>0.113373</td>\n",
       "    </tr>\n",
       "    <tr>\n",
       "      <th>std</th>\n",
       "      <td>708.070781</td>\n",
       "      <td>64.578374</td>\n",
       "      <td>33.234227</td>\n",
       "      <td>23.060841</td>\n",
       "      <td>0.003116</td>\n",
       "      <td>0.047451</td>\n",
       "      <td>0.127571</td>\n",
       "      <td>0.032176</td>\n",
       "    </tr>\n",
       "    <tr>\n",
       "      <th>min</th>\n",
       "      <td>7664.000000</td>\n",
       "      <td>642.000000</td>\n",
       "      <td>94.000000</td>\n",
       "      <td>34.000000</td>\n",
       "      <td>0.074133</td>\n",
       "      <td>0.144172</td>\n",
       "      <td>0.323671</td>\n",
       "      <td>0.049563</td>\n",
       "    </tr>\n",
       "    <tr>\n",
       "      <th>25%</th>\n",
       "      <td>8881.000000</td>\n",
       "      <td>722.000000</td>\n",
       "      <td>127.000000</td>\n",
       "      <td>69.000000</td>\n",
       "      <td>0.079855</td>\n",
       "      <td>0.163866</td>\n",
       "      <td>0.490520</td>\n",
       "      <td>0.090700</td>\n",
       "    </tr>\n",
       "    <tr>\n",
       "      <th>50%</th>\n",
       "      <td>9359.000000</td>\n",
       "      <td>770.000000</td>\n",
       "      <td>142.000000</td>\n",
       "      <td>91.000000</td>\n",
       "      <td>0.082722</td>\n",
       "      <td>0.177907</td>\n",
       "      <td>0.565934</td>\n",
       "      <td>0.112981</td>\n",
       "    </tr>\n",
       "    <tr>\n",
       "      <th>75%</th>\n",
       "      <td>9737.000000</td>\n",
       "      <td>827.000000</td>\n",
       "      <td>172.000000</td>\n",
       "      <td>99.000000</td>\n",
       "      <td>0.084351</td>\n",
       "      <td>0.236080</td>\n",
       "      <td>0.663399</td>\n",
       "      <td>0.138564</td>\n",
       "    </tr>\n",
       "    <tr>\n",
       "      <th>max</th>\n",
       "      <td>10551.000000</td>\n",
       "      <td>884.000000</td>\n",
       "      <td>213.000000</td>\n",
       "      <td>123.000000</td>\n",
       "      <td>0.088906</td>\n",
       "      <td>0.284341</td>\n",
       "      <td>0.784483</td>\n",
       "      <td>0.170360</td>\n",
       "    </tr>\n",
       "  </tbody>\n",
       "</table>\n",
       "</div>"
      ],
      "text/plain": [
       "          Pageviews      Clicks  Enrollments    Payments        ctp  \\\n",
       "count     37.000000   37.000000    23.000000   23.000000  37.000000   \n",
       "mean    9315.135135  765.540541   148.826087   84.565217   0.082191   \n",
       "std      708.070781   64.578374    33.234227   23.060841   0.003116   \n",
       "min     7664.000000  642.000000    94.000000   34.000000   0.074133   \n",
       "25%     8881.000000  722.000000   127.000000   69.000000   0.079855   \n",
       "50%     9359.000000  770.000000   142.000000   91.000000   0.082722   \n",
       "75%     9737.000000  827.000000   172.000000   99.000000   0.084351   \n",
       "max    10551.000000  884.000000   213.000000  123.000000   0.088906   \n",
       "\n",
       "       gross_conv  retention   net_conv  \n",
       "count   23.000000  23.000000  23.000000  \n",
       "mean     0.199566   0.573140   0.113373  \n",
       "std      0.047451   0.127571   0.032176  \n",
       "min      0.144172   0.323671   0.049563  \n",
       "25%      0.163866   0.490520   0.090700  \n",
       "50%      0.177907   0.565934   0.112981  \n",
       "75%      0.236080   0.663399   0.138564  \n",
       "max      0.284341   0.784483   0.170360  "
      ]
     },
     "execution_count": 17,
     "metadata": {},
     "output_type": "execute_result"
    }
   ],
   "source": [
    "experiment.describe()"
   ]
  },
  {
   "cell_type": "code",
   "execution_count": 18,
   "metadata": {
    "collapsed": false
   },
   "outputs": [
    {
     "data": {
      "text/html": [
       "<div>\n",
       "<table border=\"1\" class=\"dataframe\">\n",
       "  <thead>\n",
       "    <tr style=\"text-align: right;\">\n",
       "      <th></th>\n",
       "      <th>Pageviews</th>\n",
       "      <th>Clicks</th>\n",
       "      <th>Enrollments</th>\n",
       "      <th>Payments</th>\n",
       "      <th>ctp</th>\n",
       "      <th>gross_conv</th>\n",
       "      <th>retention</th>\n",
       "      <th>net_conv</th>\n",
       "    </tr>\n",
       "  </thead>\n",
       "  <tbody>\n",
       "    <tr>\n",
       "      <th>count</th>\n",
       "      <td>37.000000</td>\n",
       "      <td>37.000000</td>\n",
       "      <td>23.000000</td>\n",
       "      <td>23.000000</td>\n",
       "      <td>37.000000</td>\n",
       "      <td>23.000000</td>\n",
       "      <td>23.000000</td>\n",
       "      <td>23.000000</td>\n",
       "    </tr>\n",
       "    <tr>\n",
       "      <th>mean</th>\n",
       "      <td>9339.000000</td>\n",
       "      <td>766.972973</td>\n",
       "      <td>164.565217</td>\n",
       "      <td>88.391304</td>\n",
       "      <td>0.082129</td>\n",
       "      <td>0.220351</td>\n",
       "      <td>0.539797</td>\n",
       "      <td>0.118269</td>\n",
       "    </tr>\n",
       "    <tr>\n",
       "      <th>std</th>\n",
       "      <td>740.239563</td>\n",
       "      <td>68.286767</td>\n",
       "      <td>29.977000</td>\n",
       "      <td>20.650202</td>\n",
       "      <td>0.003229</td>\n",
       "      <td>0.044043</td>\n",
       "      <td>0.094255</td>\n",
       "      <td>0.029405</td>\n",
       "    </tr>\n",
       "    <tr>\n",
       "      <th>min</th>\n",
       "      <td>7434.000000</td>\n",
       "      <td>632.000000</td>\n",
       "      <td>110.000000</td>\n",
       "      <td>56.000000</td>\n",
       "      <td>0.071338</td>\n",
       "      <td>0.167679</td>\n",
       "      <td>0.325243</td>\n",
       "      <td>0.076464</td>\n",
       "    </tr>\n",
       "    <tr>\n",
       "      <th>25%</th>\n",
       "      <td>8896.000000</td>\n",
       "      <td>708.000000</td>\n",
       "      <td>146.500000</td>\n",
       "      <td>70.000000</td>\n",
       "      <td>0.079601</td>\n",
       "      <td>0.190279</td>\n",
       "      <td>0.467103</td>\n",
       "      <td>0.100620</td>\n",
       "    </tr>\n",
       "    <tr>\n",
       "      <th>50%</th>\n",
       "      <td>9420.000000</td>\n",
       "      <td>759.000000</td>\n",
       "      <td>162.000000</td>\n",
       "      <td>91.000000</td>\n",
       "      <td>0.082909</td>\n",
       "      <td>0.195187</td>\n",
       "      <td>0.554545</td>\n",
       "      <td>0.110759</td>\n",
       "    </tr>\n",
       "    <tr>\n",
       "      <th>75%</th>\n",
       "      <td>9871.000000</td>\n",
       "      <td>825.000000</td>\n",
       "      <td>175.000000</td>\n",
       "      <td>102.500000</td>\n",
       "      <td>0.084117</td>\n",
       "      <td>0.237767</td>\n",
       "      <td>0.592556</td>\n",
       "      <td>0.131081</td>\n",
       "    </tr>\n",
       "    <tr>\n",
       "      <th>max</th>\n",
       "      <td>10667.000000</td>\n",
       "      <td>909.000000</td>\n",
       "      <td>233.000000</td>\n",
       "      <td>128.000000</td>\n",
       "      <td>0.088955</td>\n",
       "      <td>0.326895</td>\n",
       "      <td>0.727273</td>\n",
       "      <td>0.185239</td>\n",
       "    </tr>\n",
       "  </tbody>\n",
       "</table>\n",
       "</div>"
      ],
      "text/plain": [
       "          Pageviews      Clicks  Enrollments    Payments        ctp  \\\n",
       "count     37.000000   37.000000    23.000000   23.000000  37.000000   \n",
       "mean    9339.000000  766.972973   164.565217   88.391304   0.082129   \n",
       "std      740.239563   68.286767    29.977000   20.650202   0.003229   \n",
       "min     7434.000000  632.000000   110.000000   56.000000   0.071338   \n",
       "25%     8896.000000  708.000000   146.500000   70.000000   0.079601   \n",
       "50%     9420.000000  759.000000   162.000000   91.000000   0.082909   \n",
       "75%     9871.000000  825.000000   175.000000  102.500000   0.084117   \n",
       "max    10667.000000  909.000000   233.000000  128.000000   0.088955   \n",
       "\n",
       "       gross_conv  retention   net_conv  \n",
       "count   23.000000  23.000000  23.000000  \n",
       "mean     0.220351   0.539797   0.118269  \n",
       "std      0.044043   0.094255   0.029405  \n",
       "min      0.167679   0.325243   0.076464  \n",
       "25%      0.190279   0.467103   0.100620  \n",
       "50%      0.195187   0.554545   0.110759  \n",
       "75%      0.237767   0.592556   0.131081  \n",
       "max      0.326895   0.727273   0.185239  "
      ]
     },
     "execution_count": 18,
     "metadata": {},
     "output_type": "execute_result"
    }
   ],
   "source": [
    "control.describe()"
   ]
  },
  {
   "cell_type": "code",
   "execution_count": 29,
   "metadata": {
    "collapsed": false
   },
   "outputs": [
    {
     "name": "stderr",
     "output_type": "stream",
     "text": [
      "/Users/victorvulovic/anaconda/envs/gu/lib/python3.6/site-packages/statsmodels/nonparametric/kde.py:454: RuntimeWarning: invalid value encountered in greater\n",
      "  X = X[np.logical_and(X>clip[0], X<clip[1])] # won't work for two columns.\n",
      "/Users/victorvulovic/anaconda/envs/gu/lib/python3.6/site-packages/statsmodels/nonparametric/kde.py:454: RuntimeWarning: invalid value encountered in less\n",
      "  X = X[np.logical_and(X>clip[0], X<clip[1])] # won't work for two columns.\n",
      "/Users/victorvulovic/anaconda/envs/gu/lib/python3.6/site-packages/statsmodels/nonparametric/kdetools.py:20: VisibleDeprecationWarning: using a non-integer number instead of an integer will result in an error in the future\n",
      "  y = X[:m/2+1] + np.r_[0,X[m/2+1:],0]*1j\n"
     ]
    },
    {
     "data": {
      "image/png": "[encoded data removed]",
      "text/plain": [
       "<matplotlib.figure.Figure at 0x11f770080>"
      ]
     },
     "metadata": {},
     "output_type": "display_data"
    }
   ],
   "source": [
    "sns.kdeplot(experiment.retention, label=\"experiment\")\n",
    "sns.kdeplot(control.retention, label=\"control\")\n",
    "sns.rugplot(baseline['Probability of payment, given enroll:'], height=1)\n",
    "plt.legend();"
   ]
  },
  {
   "cell_type": "code",
   "execution_count": null,
   "metadata": {
    "collapsed": true
   },
   "outputs": [],
   "source": []
  }
 ],
 "metadata": {
  "kernelspec": {
   "display_name": "Python 3",
   "language": "python",
   "name": "python3"
  },
  "language_info": {
   "codemirror_mode": {
    "name": "ipython",
    "version": 3
   },
   "file_extension": ".py",
   "mimetype": "text/x-python",
   "name": "python",
   "nbconvert_exporter": "python",
   "pygments_lexer": "ipython3",
   "version": "3.6.0"
  }
 },
 "nbformat": 4,
 "nbformat_minor": 0
}
