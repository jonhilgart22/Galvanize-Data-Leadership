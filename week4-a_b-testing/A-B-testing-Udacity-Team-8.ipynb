{
 "cells": [
  {
   "cell_type": "markdown",
   "metadata": {},
   "source": [
    "# A/B Test Analysis \n",
    "### _Free Trial Screening Initiative_\n",
    "\n",
    "**`Team 8:`**\n",
    "`Joseph Miguel, Jeremy Grace, Jonathan Hilgart, & Victor Vulovic`\n",
    "\n",
    "---\n",
    "\n",
    "## Environment setup"
   ]
  },
  {
   "cell_type": "code",
   "execution_count": 5,
   "metadata": {
    "collapsed": false,
    "deletable": true,
    "editable": true
   },
   "outputs": [
    {
     "name": "stdout",
     "output_type": "stream",
     "text": [
      "Populating the interactive namespace from numpy and matplotlib\n"
     ]
    },
    {
     "name": "stderr",
     "output_type": "stream",
     "text": [
      "/Users/Jeremy/anaconda/envs/gu/lib/python3.6/site-packages/IPython/core/magics/pylab.py:161: UserWarning: pylab import has clobbered these variables: ['sqrt']\n",
      "`%matplotlib` prevents importing * from pylab and numpy\n",
      "  \"\\n`%matplotlib` prevents importing * from pylab and numpy\"\n"
     ]
    }
   ],
   "source": [
    "import pandas as pd\n",
    "import numpy as np\n",
    "import seaborn as sns\n",
    "import pymc3 as pm\n",
    "import statsmodels.api as smf\n",
    "\n",
    "from math import sqrt\n",
    "from scipy.stats import binom_test\n",
    "from sklearn.model_selection import train_test_split\n",
    "from sklearn.ensemble import RandomForestRegressor\n",
    "%pylab inline\n"
   ]
  },
  {
   "cell_type": "markdown",
   "metadata": {
    "deletable": true,
    "editable": true
   },
   "source": [
    "## Baseline"
   ]
  },
  {
   "cell_type": "code",
   "execution_count": 6,
   "metadata": {
    "collapsed": false,
    "deletable": true,
    "editable": true
   },
   "outputs": [],
   "source": [
    "col_names = ['Text','Numbers']\n",
    "baseline_df = pd.read_csv('data/baseline.csv',names=col_names)"
   ]
  },
  {
   "cell_type": "code",
   "execution_count": 7,
   "metadata": {
    "collapsed": false,
    "deletable": true,
    "editable": true
   },
   "outputs": [
    {
     "data": {
      "text/html": [
       "<div>\n",
       "<table border=\"1\" class=\"dataframe\">\n",
       "  <thead>\n",
       "    <tr style=\"text-align: right;\">\n",
       "      <th></th>\n",
       "      <th>0</th>\n",
       "      <th>1</th>\n",
       "      <th>2</th>\n",
       "      <th>3</th>\n",
       "      <th>4</th>\n",
       "      <th>5</th>\n",
       "      <th>6</th>\n",
       "    </tr>\n",
       "  </thead>\n",
       "  <tbody>\n",
       "    <tr>\n",
       "      <th>Text</th>\n",
       "      <td>Unique cookies to view page per day:</td>\n",
       "      <td>Unique cookies to click \"Start free trial\" per...</td>\n",
       "      <td>Enrollments per day:</td>\n",
       "      <td>Click-through-probability on \"Start free trial\":</td>\n",
       "      <td>Probability of enrolling, given click:</td>\n",
       "      <td>Probability of payment, given enroll:</td>\n",
       "      <td>Probability of payment, given click</td>\n",
       "    </tr>\n",
       "    <tr>\n",
       "      <th>Numbers</th>\n",
       "      <td>40000</td>\n",
       "      <td>3200</td>\n",
       "      <td>660</td>\n",
       "      <td>0.08</td>\n",
       "      <td>0.20625</td>\n",
       "      <td>0.53</td>\n",
       "      <td>0.109313</td>\n",
       "    </tr>\n",
       "  </tbody>\n",
       "</table>\n",
       "</div>"
      ],
      "text/plain": [
       "                                            0  \\\n",
       "Text     Unique cookies to view page per day:   \n",
       "Numbers                                 40000   \n",
       "\n",
       "                                                         1  \\\n",
       "Text     Unique cookies to click \"Start free trial\" per...   \n",
       "Numbers                                               3200   \n",
       "\n",
       "                            2  \\\n",
       "Text     Enrollments per day:   \n",
       "Numbers                   660   \n",
       "\n",
       "                                                        3  \\\n",
       "Text     Click-through-probability on \"Start free trial\":   \n",
       "Numbers                                              0.08   \n",
       "\n",
       "                                              4  \\\n",
       "Text     Probability of enrolling, given click:   \n",
       "Numbers                                 0.20625   \n",
       "\n",
       "                                             5  \\\n",
       "Text     Probability of payment, given enroll:   \n",
       "Numbers                                   0.53   \n",
       "\n",
       "                                           6  \n",
       "Text     Probability of payment, given click  \n",
       "Numbers                             0.109313  "
      ]
     },
     "execution_count": 7,
     "metadata": {},
     "output_type": "execute_result"
    }
   ],
   "source": [
    "baseline_df.T"
   ]
  },
  {
   "cell_type": "markdown",
   "metadata": {
    "deletable": true,
    "editable": true
   },
   "source": [
    "## $$Sample\\ Size\\ Calculation$$"
   ]
  },
  {
   "cell_type": "markdown",
   "metadata": {
    "deletable": true,
    "editable": true
   },
   "source": [
    "## Net Conversion Rate sample size (n is per group)\n",
    "In Python\n",
    "`# Pageviews sample size for improving net conversion benchmark\n",
    "es = sms.proportion_effectsize(0.109313, 0.109313+0.0075)\n",
    "sms.NormalIndPower().solve_power(es, power=0.8, alpha=0.05, ratio=1)`\n",
    "\n",
    "- Usign an R Function\n",
    "\n",
    "`power.prop.test(p1 = .109313, p2 = .109313 + .0075, power = .8)`\n",
    "\n",
    "output:\n",
    "\n",
    "    Two-sample comparison of proportions power calculation \n",
    "\n",
    "              n = 27984.02\n",
    "             p1 = 0.109313\n",
    "             p2 = 0.116813\n",
    "      sig.level = 0.05\n",
    "          power = 0.8\n",
    "    alternative = two.sided\n",
    "\n",
    "\n",
    "\n",
    "##  Enrollment sample size for improving retention benchmark for Retention\n",
    "In Python\n",
    "`es = sms.proportion_effectsize(0.53, 0.53+0.01)\n",
    "sms.NormalIndPower().solve_power(es, power=0.8, alpha=0.05, ratio=1)`\n",
    "\n",
    "- Retention using R function\n",
    "\n",
    "`power.prop.test(p1 = .53, p2 = .53 + .01, power = .8)`\n",
    "\n",
    "output:\n",
    "\n",
    "    Two-sample comparison of proportions power calculation \n",
    "\n",
    "              n = 39050.92\n",
    "             p1 = 0.53\n",
    "             p2 = 0.54\n",
    "      sig.level = 0.05\n",
    "          power = 0.8\n",
    "    alternative = two.sided\n",
    "\n",
    "\n",
    "    \n",
    "## Gross conversion rate $n$ is per goup\n",
    "\n",
    "##  Enrollment sample size for improving retention benchmark for Retention\n",
    "In Python\n",
    "`es = sms.proportion_effectsize( .20625, .20625 + .01)\n",
    "sms.NormalIndPower().solve_power(es, power=0.8, alpha=0.05, ratio=1)`\n",
    "\n",
    "- In R\n",
    "\n",
    "`power.prop.test(p1 = .20625, p2 = .20625 + .01, power = .8)`\n",
    "\n",
    "output:\n",
    "\n",
    "    Two-sample comparison of proportions power calculation \n",
    "\n",
    "              n = 26154.97\n",
    "             p1 = 0.20625\n",
    "             p2 = 0.21625\n",
    "      sig.level = 0.05\n",
    "          power = 0.8\n",
    "    alternative = two.sided\n",
    "\n",
    "\n",
    "    \n",
    "## Click-Through-Probability (CTP) $n$ is per group\n",
    "In Python\n",
    "`es = sms.proportion_effectsize( .08, .08 + .01)\n",
    "sms.NormalIndPower().solve_power(es, power=0.8, alpha=0.05, ratio=1)`\n",
    "- In R\n",
    "\n",
    "`power.prop.test(p1 = .08, p2 = .08 + .01, power = .8)`\n",
    "\n",
    "output:\n",
    "\n",
    "    Two-sample comparison of proportions power calculation \n",
    "\n",
    "              n = 12207.75\n",
    "             p1 = 0.08\n",
    "             p2 = 0.09\n",
    "      sig.level = 0.05\n",
    "          power = 0.8\n",
    "    alternative = two.sided\n",
    "\n",
    "\n",
    "\n",
    "\n",
    "    \n",
    "### Total site traffic\n",
    "\n",
    "- Net Converion rate : need $28$k clicks for each group\n",
    "- Gross Conversion rate: need $26$k clicks for each group\n",
    "- Retention rate: need $40$k enrollments for each group\n",
    "\n",
    "> We propose to run this test by diverting $50$% of the traffic which will be split into $25$% going to the control page and $25$% going to the test page. Based off of the baseline number of clicks per day ($3,200$), this means there will be $1,600$ clicks or $800$ clicks per group per day. Therefore, we will need to run this test for **36 days** to collect enough information for both groups.\n",
    "\n",
    "> The key metric will be net conversion rate; however, we will also look at retention rate since it is the metric most influenced by this test.\n"
   ]
  },
  {
   "cell_type": "markdown",
   "metadata": {
    "deletable": true,
    "editable": true
   },
   "source": [
    "### Duration and exposure\n",
    "\n",
    "- We will to run this test for 36 days in order to hit our proposed sample size.\n",
    "- There is relatively low risk to run this test because Udacity has already identified that there is a correlation between students who do not have enough time for the course and revenue. \n",
    "\n",
    "---"
   ]
  },
  {
   "cell_type": "markdown",
   "metadata": {
    "deletable": true,
    "editable": true
   },
   "source": [
    "# Key metrics: _Retention rate_ and _Net conversion rate_"
   ]
  },
  {
   "cell_type": "markdown",
   "metadata": {},
   "source": [
    "### `Control` Exploration"
   ]
  },
  {
   "cell_type": "code",
   "execution_count": 8,
   "metadata": {
    "collapsed": true,
    "deletable": true,
    "editable": true
   },
   "outputs": [],
   "source": [
    "#Control data\n",
    "control_df = pd.read_csv('data/control.csv')\n",
    "control_df['CTP']=control_df.Clicks/control_df.Pageviews\n",
    "control_df['Gross_Conversion']=control_df.Enrollments/control_df.Clicks\n",
    "control_df['Retention']=control_df.Payments / control_df.Enrollments\n",
    "control_df['Net_Conversion']=  control_df.Payments / control_df.Clicks\n",
    "control_df['CTP']=control_df.Clicks/control_df.Pageviews"
   ]
  },
  {
   "cell_type": "code",
   "execution_count": 9,
   "metadata": {
    "collapsed": false,
    "deletable": true,
    "editable": true
   },
   "outputs": [
    {
     "data": {
      "text/html": [
       "<div>\n",
       "<table border=\"1\" class=\"dataframe\">\n",
       "  <thead>\n",
       "    <tr style=\"text-align: right;\">\n",
       "      <th></th>\n",
       "      <th>Date</th>\n",
       "      <th>Pageviews</th>\n",
       "      <th>Clicks</th>\n",
       "      <th>Enrollments</th>\n",
       "      <th>Payments</th>\n",
       "      <th>CTP</th>\n",
       "      <th>Gross_Conversion</th>\n",
       "      <th>Retention</th>\n",
       "      <th>Net_Conversion</th>\n",
       "    </tr>\n",
       "  </thead>\n",
       "  <tbody>\n",
       "    <tr>\n",
       "      <th>0</th>\n",
       "      <td>Sat, Oct 11</td>\n",
       "      <td>7723</td>\n",
       "      <td>687</td>\n",
       "      <td>134.0</td>\n",
       "      <td>70.0</td>\n",
       "      <td>0.088955</td>\n",
       "      <td>0.195051</td>\n",
       "      <td>0.522388</td>\n",
       "      <td>0.101892</td>\n",
       "    </tr>\n",
       "    <tr>\n",
       "      <th>1</th>\n",
       "      <td>Sun, Oct 12</td>\n",
       "      <td>9102</td>\n",
       "      <td>779</td>\n",
       "      <td>147.0</td>\n",
       "      <td>70.0</td>\n",
       "      <td>0.085586</td>\n",
       "      <td>0.188703</td>\n",
       "      <td>0.476190</td>\n",
       "      <td>0.089859</td>\n",
       "    </tr>\n",
       "    <tr>\n",
       "      <th>2</th>\n",
       "      <td>Mon, Oct 13</td>\n",
       "      <td>10511</td>\n",
       "      <td>909</td>\n",
       "      <td>167.0</td>\n",
       "      <td>95.0</td>\n",
       "      <td>0.086481</td>\n",
       "      <td>0.183718</td>\n",
       "      <td>0.568862</td>\n",
       "      <td>0.104510</td>\n",
       "    </tr>\n",
       "    <tr>\n",
       "      <th>3</th>\n",
       "      <td>Tue, Oct 14</td>\n",
       "      <td>9871</td>\n",
       "      <td>836</td>\n",
       "      <td>156.0</td>\n",
       "      <td>105.0</td>\n",
       "      <td>0.084693</td>\n",
       "      <td>0.186603</td>\n",
       "      <td>0.673077</td>\n",
       "      <td>0.125598</td>\n",
       "    </tr>\n",
       "    <tr>\n",
       "      <th>4</th>\n",
       "      <td>Wed, Oct 15</td>\n",
       "      <td>10014</td>\n",
       "      <td>837</td>\n",
       "      <td>163.0</td>\n",
       "      <td>64.0</td>\n",
       "      <td>0.083583</td>\n",
       "      <td>0.194743</td>\n",
       "      <td>0.392638</td>\n",
       "      <td>0.076464</td>\n",
       "    </tr>\n",
       "    <tr>\n",
       "      <th>5</th>\n",
       "      <td>Thu, Oct 16</td>\n",
       "      <td>9670</td>\n",
       "      <td>823</td>\n",
       "      <td>138.0</td>\n",
       "      <td>82.0</td>\n",
       "      <td>0.085109</td>\n",
       "      <td>0.167679</td>\n",
       "      <td>0.594203</td>\n",
       "      <td>0.099635</td>\n",
       "    </tr>\n",
       "    <tr>\n",
       "      <th>6</th>\n",
       "      <td>Fri, Oct 17</td>\n",
       "      <td>9008</td>\n",
       "      <td>748</td>\n",
       "      <td>146.0</td>\n",
       "      <td>76.0</td>\n",
       "      <td>0.083037</td>\n",
       "      <td>0.195187</td>\n",
       "      <td>0.520548</td>\n",
       "      <td>0.101604</td>\n",
       "    </tr>\n",
       "    <tr>\n",
       "      <th>7</th>\n",
       "      <td>Sat, Oct 18</td>\n",
       "      <td>7434</td>\n",
       "      <td>632</td>\n",
       "      <td>110.0</td>\n",
       "      <td>70.0</td>\n",
       "      <td>0.085015</td>\n",
       "      <td>0.174051</td>\n",
       "      <td>0.636364</td>\n",
       "      <td>0.110759</td>\n",
       "    </tr>\n",
       "    <tr>\n",
       "      <th>8</th>\n",
       "      <td>Sun, Oct 19</td>\n",
       "      <td>8459</td>\n",
       "      <td>691</td>\n",
       "      <td>131.0</td>\n",
       "      <td>60.0</td>\n",
       "      <td>0.081688</td>\n",
       "      <td>0.189580</td>\n",
       "      <td>0.458015</td>\n",
       "      <td>0.086831</td>\n",
       "    </tr>\n",
       "    <tr>\n",
       "      <th>9</th>\n",
       "      <td>Mon, Oct 20</td>\n",
       "      <td>10667</td>\n",
       "      <td>861</td>\n",
       "      <td>165.0</td>\n",
       "      <td>97.0</td>\n",
       "      <td>0.080716</td>\n",
       "      <td>0.191638</td>\n",
       "      <td>0.587879</td>\n",
       "      <td>0.112660</td>\n",
       "    </tr>\n",
       "    <tr>\n",
       "      <th>10</th>\n",
       "      <td>Tue, Oct 21</td>\n",
       "      <td>10660</td>\n",
       "      <td>867</td>\n",
       "      <td>196.0</td>\n",
       "      <td>105.0</td>\n",
       "      <td>0.081332</td>\n",
       "      <td>0.226067</td>\n",
       "      <td>0.535714</td>\n",
       "      <td>0.121107</td>\n",
       "    </tr>\n",
       "    <tr>\n",
       "      <th>11</th>\n",
       "      <td>Wed, Oct 22</td>\n",
       "      <td>9947</td>\n",
       "      <td>838</td>\n",
       "      <td>162.0</td>\n",
       "      <td>92.0</td>\n",
       "      <td>0.084247</td>\n",
       "      <td>0.193317</td>\n",
       "      <td>0.567901</td>\n",
       "      <td>0.109785</td>\n",
       "    </tr>\n",
       "    <tr>\n",
       "      <th>12</th>\n",
       "      <td>Thu, Oct 23</td>\n",
       "      <td>8324</td>\n",
       "      <td>665</td>\n",
       "      <td>127.0</td>\n",
       "      <td>56.0</td>\n",
       "      <td>0.079889</td>\n",
       "      <td>0.190977</td>\n",
       "      <td>0.440945</td>\n",
       "      <td>0.084211</td>\n",
       "    </tr>\n",
       "    <tr>\n",
       "      <th>13</th>\n",
       "      <td>Fri, Oct 24</td>\n",
       "      <td>9434</td>\n",
       "      <td>673</td>\n",
       "      <td>220.0</td>\n",
       "      <td>122.0</td>\n",
       "      <td>0.071338</td>\n",
       "      <td>0.326895</td>\n",
       "      <td>0.554545</td>\n",
       "      <td>0.181278</td>\n",
       "    </tr>\n",
       "    <tr>\n",
       "      <th>14</th>\n",
       "      <td>Sat, Oct 25</td>\n",
       "      <td>8687</td>\n",
       "      <td>691</td>\n",
       "      <td>176.0</td>\n",
       "      <td>128.0</td>\n",
       "      <td>0.079544</td>\n",
       "      <td>0.254703</td>\n",
       "      <td>0.727273</td>\n",
       "      <td>0.185239</td>\n",
       "    </tr>\n",
       "    <tr>\n",
       "      <th>15</th>\n",
       "      <td>Sun, Oct 26</td>\n",
       "      <td>8896</td>\n",
       "      <td>708</td>\n",
       "      <td>161.0</td>\n",
       "      <td>104.0</td>\n",
       "      <td>0.079586</td>\n",
       "      <td>0.227401</td>\n",
       "      <td>0.645963</td>\n",
       "      <td>0.146893</td>\n",
       "    </tr>\n",
       "    <tr>\n",
       "      <th>16</th>\n",
       "      <td>Mon, Oct 27</td>\n",
       "      <td>9535</td>\n",
       "      <td>759</td>\n",
       "      <td>233.0</td>\n",
       "      <td>124.0</td>\n",
       "      <td>0.079601</td>\n",
       "      <td>0.306983</td>\n",
       "      <td>0.532189</td>\n",
       "      <td>0.163373</td>\n",
       "    </tr>\n",
       "    <tr>\n",
       "      <th>17</th>\n",
       "      <td>Tue, Oct 28</td>\n",
       "      <td>9363</td>\n",
       "      <td>736</td>\n",
       "      <td>154.0</td>\n",
       "      <td>91.0</td>\n",
       "      <td>0.078607</td>\n",
       "      <td>0.209239</td>\n",
       "      <td>0.590909</td>\n",
       "      <td>0.123641</td>\n",
       "    </tr>\n",
       "    <tr>\n",
       "      <th>18</th>\n",
       "      <td>Wed, Oct 29</td>\n",
       "      <td>9327</td>\n",
       "      <td>739</td>\n",
       "      <td>196.0</td>\n",
       "      <td>86.0</td>\n",
       "      <td>0.079232</td>\n",
       "      <td>0.265223</td>\n",
       "      <td>0.438776</td>\n",
       "      <td>0.116373</td>\n",
       "    </tr>\n",
       "    <tr>\n",
       "      <th>19</th>\n",
       "      <td>Thu, Oct 30</td>\n",
       "      <td>9345</td>\n",
       "      <td>734</td>\n",
       "      <td>167.0</td>\n",
       "      <td>75.0</td>\n",
       "      <td>0.078545</td>\n",
       "      <td>0.227520</td>\n",
       "      <td>0.449102</td>\n",
       "      <td>0.102180</td>\n",
       "    </tr>\n",
       "    <tr>\n",
       "      <th>20</th>\n",
       "      <td>Fri, Oct 31</td>\n",
       "      <td>8890</td>\n",
       "      <td>706</td>\n",
       "      <td>174.0</td>\n",
       "      <td>101.0</td>\n",
       "      <td>0.079415</td>\n",
       "      <td>0.246459</td>\n",
       "      <td>0.580460</td>\n",
       "      <td>0.143059</td>\n",
       "    </tr>\n",
       "    <tr>\n",
       "      <th>21</th>\n",
       "      <td>Sat, Nov 1</td>\n",
       "      <td>8460</td>\n",
       "      <td>681</td>\n",
       "      <td>156.0</td>\n",
       "      <td>93.0</td>\n",
       "      <td>0.080496</td>\n",
       "      <td>0.229075</td>\n",
       "      <td>0.596154</td>\n",
       "      <td>0.136564</td>\n",
       "    </tr>\n",
       "    <tr>\n",
       "      <th>22</th>\n",
       "      <td>Sun, Nov 2</td>\n",
       "      <td>8836</td>\n",
       "      <td>693</td>\n",
       "      <td>206.0</td>\n",
       "      <td>67.0</td>\n",
       "      <td>0.078429</td>\n",
       "      <td>0.297258</td>\n",
       "      <td>0.325243</td>\n",
       "      <td>0.096681</td>\n",
       "    </tr>\n",
       "    <tr>\n",
       "      <th>23</th>\n",
       "      <td>Mon, Nov 3</td>\n",
       "      <td>9437</td>\n",
       "      <td>788</td>\n",
       "      <td>NaN</td>\n",
       "      <td>NaN</td>\n",
       "      <td>0.083501</td>\n",
       "      <td>NaN</td>\n",
       "      <td>NaN</td>\n",
       "      <td>NaN</td>\n",
       "    </tr>\n",
       "    <tr>\n",
       "      <th>24</th>\n",
       "      <td>Tue, Nov 4</td>\n",
       "      <td>9420</td>\n",
       "      <td>781</td>\n",
       "      <td>NaN</td>\n",
       "      <td>NaN</td>\n",
       "      <td>0.082909</td>\n",
       "      <td>NaN</td>\n",
       "      <td>NaN</td>\n",
       "      <td>NaN</td>\n",
       "    </tr>\n",
       "    <tr>\n",
       "      <th>25</th>\n",
       "      <td>Wed, Nov 5</td>\n",
       "      <td>9570</td>\n",
       "      <td>805</td>\n",
       "      <td>NaN</td>\n",
       "      <td>NaN</td>\n",
       "      <td>0.084117</td>\n",
       "      <td>NaN</td>\n",
       "      <td>NaN</td>\n",
       "      <td>NaN</td>\n",
       "    </tr>\n",
       "    <tr>\n",
       "      <th>26</th>\n",
       "      <td>Thu, Nov 6</td>\n",
       "      <td>9921</td>\n",
       "      <td>830</td>\n",
       "      <td>NaN</td>\n",
       "      <td>NaN</td>\n",
       "      <td>0.083661</td>\n",
       "      <td>NaN</td>\n",
       "      <td>NaN</td>\n",
       "      <td>NaN</td>\n",
       "    </tr>\n",
       "    <tr>\n",
       "      <th>27</th>\n",
       "      <td>Fri, Nov 7</td>\n",
       "      <td>9424</td>\n",
       "      <td>781</td>\n",
       "      <td>NaN</td>\n",
       "      <td>NaN</td>\n",
       "      <td>0.082874</td>\n",
       "      <td>NaN</td>\n",
       "      <td>NaN</td>\n",
       "      <td>NaN</td>\n",
       "    </tr>\n",
       "    <tr>\n",
       "      <th>28</th>\n",
       "      <td>Sat, Nov 8</td>\n",
       "      <td>9010</td>\n",
       "      <td>756</td>\n",
       "      <td>NaN</td>\n",
       "      <td>NaN</td>\n",
       "      <td>0.083907</td>\n",
       "      <td>NaN</td>\n",
       "      <td>NaN</td>\n",
       "      <td>NaN</td>\n",
       "    </tr>\n",
       "    <tr>\n",
       "      <th>29</th>\n",
       "      <td>Sun, Nov 9</td>\n",
       "      <td>9656</td>\n",
       "      <td>825</td>\n",
       "      <td>NaN</td>\n",
       "      <td>NaN</td>\n",
       "      <td>0.085439</td>\n",
       "      <td>NaN</td>\n",
       "      <td>NaN</td>\n",
       "      <td>NaN</td>\n",
       "    </tr>\n",
       "    <tr>\n",
       "      <th>30</th>\n",
       "      <td>Mon, Nov 10</td>\n",
       "      <td>10419</td>\n",
       "      <td>874</td>\n",
       "      <td>NaN</td>\n",
       "      <td>NaN</td>\n",
       "      <td>0.083885</td>\n",
       "      <td>NaN</td>\n",
       "      <td>NaN</td>\n",
       "      <td>NaN</td>\n",
       "    </tr>\n",
       "    <tr>\n",
       "      <th>31</th>\n",
       "      <td>Tue, Nov 11</td>\n",
       "      <td>9880</td>\n",
       "      <td>830</td>\n",
       "      <td>NaN</td>\n",
       "      <td>NaN</td>\n",
       "      <td>0.084008</td>\n",
       "      <td>NaN</td>\n",
       "      <td>NaN</td>\n",
       "      <td>NaN</td>\n",
       "    </tr>\n",
       "    <tr>\n",
       "      <th>32</th>\n",
       "      <td>Wed, Nov 12</td>\n",
       "      <td>10134</td>\n",
       "      <td>801</td>\n",
       "      <td>NaN</td>\n",
       "      <td>NaN</td>\n",
       "      <td>0.079041</td>\n",
       "      <td>NaN</td>\n",
       "      <td>NaN</td>\n",
       "      <td>NaN</td>\n",
       "    </tr>\n",
       "    <tr>\n",
       "      <th>33</th>\n",
       "      <td>Thu, Nov 13</td>\n",
       "      <td>9717</td>\n",
       "      <td>814</td>\n",
       "      <td>NaN</td>\n",
       "      <td>NaN</td>\n",
       "      <td>0.083771</td>\n",
       "      <td>NaN</td>\n",
       "      <td>NaN</td>\n",
       "      <td>NaN</td>\n",
       "    </tr>\n",
       "    <tr>\n",
       "      <th>34</th>\n",
       "      <td>Fri, Nov 14</td>\n",
       "      <td>9192</td>\n",
       "      <td>735</td>\n",
       "      <td>NaN</td>\n",
       "      <td>NaN</td>\n",
       "      <td>0.079961</td>\n",
       "      <td>NaN</td>\n",
       "      <td>NaN</td>\n",
       "      <td>NaN</td>\n",
       "    </tr>\n",
       "    <tr>\n",
       "      <th>35</th>\n",
       "      <td>Sat, Nov 15</td>\n",
       "      <td>8630</td>\n",
       "      <td>743</td>\n",
       "      <td>NaN</td>\n",
       "      <td>NaN</td>\n",
       "      <td>0.086095</td>\n",
       "      <td>NaN</td>\n",
       "      <td>NaN</td>\n",
       "      <td>NaN</td>\n",
       "    </tr>\n",
       "    <tr>\n",
       "      <th>36</th>\n",
       "      <td>Sun, Nov 16</td>\n",
       "      <td>8970</td>\n",
       "      <td>722</td>\n",
       "      <td>NaN</td>\n",
       "      <td>NaN</td>\n",
       "      <td>0.080491</td>\n",
       "      <td>NaN</td>\n",
       "      <td>NaN</td>\n",
       "      <td>NaN</td>\n",
       "    </tr>\n",
       "  </tbody>\n",
       "</table>\n",
       "</div>"
      ],
      "text/plain": [
       "           Date  Pageviews  Clicks  Enrollments  Payments       CTP  \\\n",
       "0   Sat, Oct 11       7723     687        134.0      70.0  0.088955   \n",
       "1   Sun, Oct 12       9102     779        147.0      70.0  0.085586   \n",
       "2   Mon, Oct 13      10511     909        167.0      95.0  0.086481   \n",
       "3   Tue, Oct 14       9871     836        156.0     105.0  0.084693   \n",
       "4   Wed, Oct 15      10014     837        163.0      64.0  0.083583   \n",
       "5   Thu, Oct 16       9670     823        138.0      82.0  0.085109   \n",
       "6   Fri, Oct 17       9008     748        146.0      76.0  0.083037   \n",
       "7   Sat, Oct 18       7434     632        110.0      70.0  0.085015   \n",
       "8   Sun, Oct 19       8459     691        131.0      60.0  0.081688   \n",
       "9   Mon, Oct 20      10667     861        165.0      97.0  0.080716   \n",
       "10  Tue, Oct 21      10660     867        196.0     105.0  0.081332   \n",
       "11  Wed, Oct 22       9947     838        162.0      92.0  0.084247   \n",
       "12  Thu, Oct 23       8324     665        127.0      56.0  0.079889   \n",
       "13  Fri, Oct 24       9434     673        220.0     122.0  0.071338   \n",
       "14  Sat, Oct 25       8687     691        176.0     128.0  0.079544   \n",
       "15  Sun, Oct 26       8896     708        161.0     104.0  0.079586   \n",
       "16  Mon, Oct 27       9535     759        233.0     124.0  0.079601   \n",
       "17  Tue, Oct 28       9363     736        154.0      91.0  0.078607   \n",
       "18  Wed, Oct 29       9327     739        196.0      86.0  0.079232   \n",
       "19  Thu, Oct 30       9345     734        167.0      75.0  0.078545   \n",
       "20  Fri, Oct 31       8890     706        174.0     101.0  0.079415   \n",
       "21   Sat, Nov 1       8460     681        156.0      93.0  0.080496   \n",
       "22   Sun, Nov 2       8836     693        206.0      67.0  0.078429   \n",
       "23   Mon, Nov 3       9437     788          NaN       NaN  0.083501   \n",
       "24   Tue, Nov 4       9420     781          NaN       NaN  0.082909   \n",
       "25   Wed, Nov 5       9570     805          NaN       NaN  0.084117   \n",
       "26   Thu, Nov 6       9921     830          NaN       NaN  0.083661   \n",
       "27   Fri, Nov 7       9424     781          NaN       NaN  0.082874   \n",
       "28   Sat, Nov 8       9010     756          NaN       NaN  0.083907   \n",
       "29   Sun, Nov 9       9656     825          NaN       NaN  0.085439   \n",
       "30  Mon, Nov 10      10419     874          NaN       NaN  0.083885   \n",
       "31  Tue, Nov 11       9880     830          NaN       NaN  0.084008   \n",
       "32  Wed, Nov 12      10134     801          NaN       NaN  0.079041   \n",
       "33  Thu, Nov 13       9717     814          NaN       NaN  0.083771   \n",
       "34  Fri, Nov 14       9192     735          NaN       NaN  0.079961   \n",
       "35  Sat, Nov 15       8630     743          NaN       NaN  0.086095   \n",
       "36  Sun, Nov 16       8970     722          NaN       NaN  0.080491   \n",
       "\n",
       "    Gross_Conversion  Retention  Net_Conversion  \n",
       "0           0.195051   0.522388        0.101892  \n",
       "1           0.188703   0.476190        0.089859  \n",
       "2           0.183718   0.568862        0.104510  \n",
       "3           0.186603   0.673077        0.125598  \n",
       "4           0.194743   0.392638        0.076464  \n",
       "5           0.167679   0.594203        0.099635  \n",
       "6           0.195187   0.520548        0.101604  \n",
       "7           0.174051   0.636364        0.110759  \n",
       "8           0.189580   0.458015        0.086831  \n",
       "9           0.191638   0.587879        0.112660  \n",
       "10          0.226067   0.535714        0.121107  \n",
       "11          0.193317   0.567901        0.109785  \n",
       "12          0.190977   0.440945        0.084211  \n",
       "13          0.326895   0.554545        0.181278  \n",
       "14          0.254703   0.727273        0.185239  \n",
       "15          0.227401   0.645963        0.146893  \n",
       "16          0.306983   0.532189        0.163373  \n",
       "17          0.209239   0.590909        0.123641  \n",
       "18          0.265223   0.438776        0.116373  \n",
       "19          0.227520   0.449102        0.102180  \n",
       "20          0.246459   0.580460        0.143059  \n",
       "21          0.229075   0.596154        0.136564  \n",
       "22          0.297258   0.325243        0.096681  \n",
       "23               NaN        NaN             NaN  \n",
       "24               NaN        NaN             NaN  \n",
       "25               NaN        NaN             NaN  \n",
       "26               NaN        NaN             NaN  \n",
       "27               NaN        NaN             NaN  \n",
       "28               NaN        NaN             NaN  \n",
       "29               NaN        NaN             NaN  \n",
       "30               NaN        NaN             NaN  \n",
       "31               NaN        NaN             NaN  \n",
       "32               NaN        NaN             NaN  \n",
       "33               NaN        NaN             NaN  \n",
       "34               NaN        NaN             NaN  \n",
       "35               NaN        NaN             NaN  \n",
       "36               NaN        NaN             NaN  "
      ]
     },
     "execution_count": 9,
     "metadata": {},
     "output_type": "execute_result"
    }
   ],
   "source": [
    "control_df"
   ]
  },
  {
   "cell_type": "code",
   "execution_count": 10,
   "metadata": {
    "collapsed": false,
    "deletable": true,
    "editable": true
   },
   "outputs": [],
   "source": [
    "control_df_truncated = control_df.iloc[:23,:]"
   ]
  },
  {
   "cell_type": "code",
   "execution_count": 11,
   "metadata": {
    "collapsed": false,
    "deletable": true,
    "editable": true
   },
   "outputs": [
    {
     "name": "stdout",
     "output_type": "stream",
     "text": [
      "Total clicks for the control group is 28378\n"
     ]
    }
   ],
   "source": [
    "print('Total clicks for the control group is {}'.format(np.sum(control_df.Clicks)))"
   ]
  },
  {
   "cell_type": "markdown",
   "metadata": {},
   "source": [
    "### `Experiment` Exploration"
   ]
  },
  {
   "cell_type": "code",
   "execution_count": 13,
   "metadata": {
    "collapsed": false,
    "deletable": true,
    "editable": true
   },
   "outputs": [],
   "source": [
    "#Experiment Data\n",
    "experiment_df = pd.read_csv('data/experiment.csv')\n",
    "experiment_df['CTP']=experiment_df.Clicks/experiment_df.Pageviews\n",
    "experiment_df['Gross_Conversion']=experiment_df.Enrollments/experiment_df.Clicks\n",
    "experiment_df['Retention']=experiment_df.Payments / experiment_df.Enrollments\n",
    "experiment_df['Net_Conversion']=  experiment_df.Payments / experiment_df.Clicks\n",
    "experiment_df_truncated = experiment_df.iloc[:23,:]"
   ]
  },
  {
   "cell_type": "code",
   "execution_count": 14,
   "metadata": {
    "collapsed": false
   },
   "outputs": [
    {
     "data": {
      "text/html": [
       "<div>\n",
       "<table border=\"1\" class=\"dataframe\">\n",
       "  <thead>\n",
       "    <tr style=\"text-align: right;\">\n",
       "      <th></th>\n",
       "      <th>Date</th>\n",
       "      <th>Pageviews</th>\n",
       "      <th>Clicks</th>\n",
       "      <th>Enrollments</th>\n",
       "      <th>Payments</th>\n",
       "      <th>CTP</th>\n",
       "      <th>Gross_Conversion</th>\n",
       "      <th>Retention</th>\n",
       "      <th>Net_Conversion</th>\n",
       "    </tr>\n",
       "  </thead>\n",
       "  <tbody>\n",
       "    <tr>\n",
       "      <th>0</th>\n",
       "      <td>Sat, Oct 11</td>\n",
       "      <td>7716</td>\n",
       "      <td>686</td>\n",
       "      <td>105.0</td>\n",
       "      <td>34.0</td>\n",
       "      <td>0.088906</td>\n",
       "      <td>0.153061</td>\n",
       "      <td>0.323810</td>\n",
       "      <td>0.049563</td>\n",
       "    </tr>\n",
       "    <tr>\n",
       "      <th>1</th>\n",
       "      <td>Sun, Oct 12</td>\n",
       "      <td>9288</td>\n",
       "      <td>785</td>\n",
       "      <td>116.0</td>\n",
       "      <td>91.0</td>\n",
       "      <td>0.084518</td>\n",
       "      <td>0.147771</td>\n",
       "      <td>0.784483</td>\n",
       "      <td>0.115924</td>\n",
       "    </tr>\n",
       "    <tr>\n",
       "      <th>2</th>\n",
       "      <td>Mon, Oct 13</td>\n",
       "      <td>10480</td>\n",
       "      <td>884</td>\n",
       "      <td>145.0</td>\n",
       "      <td>79.0</td>\n",
       "      <td>0.084351</td>\n",
       "      <td>0.164027</td>\n",
       "      <td>0.544828</td>\n",
       "      <td>0.089367</td>\n",
       "    </tr>\n",
       "    <tr>\n",
       "      <th>3</th>\n",
       "      <td>Tue, Oct 14</td>\n",
       "      <td>9867</td>\n",
       "      <td>827</td>\n",
       "      <td>138.0</td>\n",
       "      <td>92.0</td>\n",
       "      <td>0.083815</td>\n",
       "      <td>0.166868</td>\n",
       "      <td>0.666667</td>\n",
       "      <td>0.111245</td>\n",
       "    </tr>\n",
       "    <tr>\n",
       "      <th>4</th>\n",
       "      <td>Wed, Oct 15</td>\n",
       "      <td>9793</td>\n",
       "      <td>832</td>\n",
       "      <td>140.0</td>\n",
       "      <td>94.0</td>\n",
       "      <td>0.084959</td>\n",
       "      <td>0.168269</td>\n",
       "      <td>0.671429</td>\n",
       "      <td>0.112981</td>\n",
       "    </tr>\n",
       "    <tr>\n",
       "      <th>5</th>\n",
       "      <td>Thu, Oct 16</td>\n",
       "      <td>9500</td>\n",
       "      <td>788</td>\n",
       "      <td>129.0</td>\n",
       "      <td>61.0</td>\n",
       "      <td>0.082947</td>\n",
       "      <td>0.163706</td>\n",
       "      <td>0.472868</td>\n",
       "      <td>0.077411</td>\n",
       "    </tr>\n",
       "    <tr>\n",
       "      <th>6</th>\n",
       "      <td>Fri, Oct 17</td>\n",
       "      <td>9088</td>\n",
       "      <td>780</td>\n",
       "      <td>127.0</td>\n",
       "      <td>44.0</td>\n",
       "      <td>0.085827</td>\n",
       "      <td>0.162821</td>\n",
       "      <td>0.346457</td>\n",
       "      <td>0.056410</td>\n",
       "    </tr>\n",
       "    <tr>\n",
       "      <th>7</th>\n",
       "      <td>Sat, Oct 18</td>\n",
       "      <td>7664</td>\n",
       "      <td>652</td>\n",
       "      <td>94.0</td>\n",
       "      <td>62.0</td>\n",
       "      <td>0.085073</td>\n",
       "      <td>0.144172</td>\n",
       "      <td>0.659574</td>\n",
       "      <td>0.095092</td>\n",
       "    </tr>\n",
       "    <tr>\n",
       "      <th>8</th>\n",
       "      <td>Sun, Oct 19</td>\n",
       "      <td>8434</td>\n",
       "      <td>697</td>\n",
       "      <td>120.0</td>\n",
       "      <td>77.0</td>\n",
       "      <td>0.082642</td>\n",
       "      <td>0.172166</td>\n",
       "      <td>0.641667</td>\n",
       "      <td>0.110473</td>\n",
       "    </tr>\n",
       "    <tr>\n",
       "      <th>9</th>\n",
       "      <td>Mon, Oct 20</td>\n",
       "      <td>10496</td>\n",
       "      <td>860</td>\n",
       "      <td>153.0</td>\n",
       "      <td>98.0</td>\n",
       "      <td>0.081936</td>\n",
       "      <td>0.177907</td>\n",
       "      <td>0.640523</td>\n",
       "      <td>0.113953</td>\n",
       "    </tr>\n",
       "    <tr>\n",
       "      <th>10</th>\n",
       "      <td>Tue, Oct 21</td>\n",
       "      <td>10551</td>\n",
       "      <td>864</td>\n",
       "      <td>143.0</td>\n",
       "      <td>71.0</td>\n",
       "      <td>0.081888</td>\n",
       "      <td>0.165509</td>\n",
       "      <td>0.496503</td>\n",
       "      <td>0.082176</td>\n",
       "    </tr>\n",
       "    <tr>\n",
       "      <th>11</th>\n",
       "      <td>Wed, Oct 22</td>\n",
       "      <td>9737</td>\n",
       "      <td>801</td>\n",
       "      <td>128.0</td>\n",
       "      <td>70.0</td>\n",
       "      <td>0.082264</td>\n",
       "      <td>0.159800</td>\n",
       "      <td>0.546875</td>\n",
       "      <td>0.087391</td>\n",
       "    </tr>\n",
       "    <tr>\n",
       "      <th>12</th>\n",
       "      <td>Thu, Oct 23</td>\n",
       "      <td>8176</td>\n",
       "      <td>642</td>\n",
       "      <td>122.0</td>\n",
       "      <td>68.0</td>\n",
       "      <td>0.078523</td>\n",
       "      <td>0.190031</td>\n",
       "      <td>0.557377</td>\n",
       "      <td>0.105919</td>\n",
       "    </tr>\n",
       "    <tr>\n",
       "      <th>13</th>\n",
       "      <td>Fri, Oct 24</td>\n",
       "      <td>9402</td>\n",
       "      <td>697</td>\n",
       "      <td>194.0</td>\n",
       "      <td>94.0</td>\n",
       "      <td>0.074133</td>\n",
       "      <td>0.278336</td>\n",
       "      <td>0.484536</td>\n",
       "      <td>0.134864</td>\n",
       "    </tr>\n",
       "    <tr>\n",
       "      <th>14</th>\n",
       "      <td>Sat, Oct 25</td>\n",
       "      <td>8669</td>\n",
       "      <td>669</td>\n",
       "      <td>127.0</td>\n",
       "      <td>81.0</td>\n",
       "      <td>0.077172</td>\n",
       "      <td>0.189836</td>\n",
       "      <td>0.637795</td>\n",
       "      <td>0.121076</td>\n",
       "    </tr>\n",
       "    <tr>\n",
       "      <th>15</th>\n",
       "      <td>Sun, Oct 26</td>\n",
       "      <td>8881</td>\n",
       "      <td>693</td>\n",
       "      <td>153.0</td>\n",
       "      <td>101.0</td>\n",
       "      <td>0.078032</td>\n",
       "      <td>0.220779</td>\n",
       "      <td>0.660131</td>\n",
       "      <td>0.145743</td>\n",
       "    </tr>\n",
       "    <tr>\n",
       "      <th>16</th>\n",
       "      <td>Mon, Oct 27</td>\n",
       "      <td>9655</td>\n",
       "      <td>771</td>\n",
       "      <td>213.0</td>\n",
       "      <td>119.0</td>\n",
       "      <td>0.079855</td>\n",
       "      <td>0.276265</td>\n",
       "      <td>0.558685</td>\n",
       "      <td>0.154345</td>\n",
       "    </tr>\n",
       "    <tr>\n",
       "      <th>17</th>\n",
       "      <td>Tue, Oct 28</td>\n",
       "      <td>9396</td>\n",
       "      <td>736</td>\n",
       "      <td>162.0</td>\n",
       "      <td>120.0</td>\n",
       "      <td>0.078331</td>\n",
       "      <td>0.220109</td>\n",
       "      <td>0.740741</td>\n",
       "      <td>0.163043</td>\n",
       "    </tr>\n",
       "    <tr>\n",
       "      <th>18</th>\n",
       "      <td>Wed, Oct 29</td>\n",
       "      <td>9262</td>\n",
       "      <td>727</td>\n",
       "      <td>201.0</td>\n",
       "      <td>96.0</td>\n",
       "      <td>0.078493</td>\n",
       "      <td>0.276479</td>\n",
       "      <td>0.477612</td>\n",
       "      <td>0.132050</td>\n",
       "    </tr>\n",
       "    <tr>\n",
       "      <th>19</th>\n",
       "      <td>Thu, Oct 30</td>\n",
       "      <td>9308</td>\n",
       "      <td>728</td>\n",
       "      <td>207.0</td>\n",
       "      <td>67.0</td>\n",
       "      <td>0.078212</td>\n",
       "      <td>0.284341</td>\n",
       "      <td>0.323671</td>\n",
       "      <td>0.092033</td>\n",
       "    </tr>\n",
       "    <tr>\n",
       "      <th>20</th>\n",
       "      <td>Fri, Oct 31</td>\n",
       "      <td>8715</td>\n",
       "      <td>722</td>\n",
       "      <td>182.0</td>\n",
       "      <td>123.0</td>\n",
       "      <td>0.082846</td>\n",
       "      <td>0.252078</td>\n",
       "      <td>0.675824</td>\n",
       "      <td>0.170360</td>\n",
       "    </tr>\n",
       "    <tr>\n",
       "      <th>21</th>\n",
       "      <td>Sat, Nov 1</td>\n",
       "      <td>8448</td>\n",
       "      <td>695</td>\n",
       "      <td>142.0</td>\n",
       "      <td>100.0</td>\n",
       "      <td>0.082268</td>\n",
       "      <td>0.204317</td>\n",
       "      <td>0.704225</td>\n",
       "      <td>0.143885</td>\n",
       "    </tr>\n",
       "    <tr>\n",
       "      <th>22</th>\n",
       "      <td>Sun, Nov 2</td>\n",
       "      <td>8836</td>\n",
       "      <td>724</td>\n",
       "      <td>182.0</td>\n",
       "      <td>103.0</td>\n",
       "      <td>0.081938</td>\n",
       "      <td>0.251381</td>\n",
       "      <td>0.565934</td>\n",
       "      <td>0.142265</td>\n",
       "    </tr>\n",
       "  </tbody>\n",
       "</table>\n",
       "</div>"
      ],
      "text/plain": [
       "           Date  Pageviews  Clicks  Enrollments  Payments       CTP  \\\n",
       "0   Sat, Oct 11       7716     686        105.0      34.0  0.088906   \n",
       "1   Sun, Oct 12       9288     785        116.0      91.0  0.084518   \n",
       "2   Mon, Oct 13      10480     884        145.0      79.0  0.084351   \n",
       "3   Tue, Oct 14       9867     827        138.0      92.0  0.083815   \n",
       "4   Wed, Oct 15       9793     832        140.0      94.0  0.084959   \n",
       "5   Thu, Oct 16       9500     788        129.0      61.0  0.082947   \n",
       "6   Fri, Oct 17       9088     780        127.0      44.0  0.085827   \n",
       "7   Sat, Oct 18       7664     652         94.0      62.0  0.085073   \n",
       "8   Sun, Oct 19       8434     697        120.0      77.0  0.082642   \n",
       "9   Mon, Oct 20      10496     860        153.0      98.0  0.081936   \n",
       "10  Tue, Oct 21      10551     864        143.0      71.0  0.081888   \n",
       "11  Wed, Oct 22       9737     801        128.0      70.0  0.082264   \n",
       "12  Thu, Oct 23       8176     642        122.0      68.0  0.078523   \n",
       "13  Fri, Oct 24       9402     697        194.0      94.0  0.074133   \n",
       "14  Sat, Oct 25       8669     669        127.0      81.0  0.077172   \n",
       "15  Sun, Oct 26       8881     693        153.0     101.0  0.078032   \n",
       "16  Mon, Oct 27       9655     771        213.0     119.0  0.079855   \n",
       "17  Tue, Oct 28       9396     736        162.0     120.0  0.078331   \n",
       "18  Wed, Oct 29       9262     727        201.0      96.0  0.078493   \n",
       "19  Thu, Oct 30       9308     728        207.0      67.0  0.078212   \n",
       "20  Fri, Oct 31       8715     722        182.0     123.0  0.082846   \n",
       "21   Sat, Nov 1       8448     695        142.0     100.0  0.082268   \n",
       "22   Sun, Nov 2       8836     724        182.0     103.0  0.081938   \n",
       "\n",
       "    Gross_Conversion  Retention  Net_Conversion  \n",
       "0           0.153061   0.323810        0.049563  \n",
       "1           0.147771   0.784483        0.115924  \n",
       "2           0.164027   0.544828        0.089367  \n",
       "3           0.166868   0.666667        0.111245  \n",
       "4           0.168269   0.671429        0.112981  \n",
       "5           0.163706   0.472868        0.077411  \n",
       "6           0.162821   0.346457        0.056410  \n",
       "7           0.144172   0.659574        0.095092  \n",
       "8           0.172166   0.641667        0.110473  \n",
       "9           0.177907   0.640523        0.113953  \n",
       "10          0.165509   0.496503        0.082176  \n",
       "11          0.159800   0.546875        0.087391  \n",
       "12          0.190031   0.557377        0.105919  \n",
       "13          0.278336   0.484536        0.134864  \n",
       "14          0.189836   0.637795        0.121076  \n",
       "15          0.220779   0.660131        0.145743  \n",
       "16          0.276265   0.558685        0.154345  \n",
       "17          0.220109   0.740741        0.163043  \n",
       "18          0.276479   0.477612        0.132050  \n",
       "19          0.284341   0.323671        0.092033  \n",
       "20          0.252078   0.675824        0.170360  \n",
       "21          0.204317   0.704225        0.143885  \n",
       "22          0.251381   0.565934        0.142265  "
      ]
     },
     "execution_count": 14,
     "metadata": {},
     "output_type": "execute_result"
    }
   ],
   "source": [
    "experiment_df_truncated"
   ]
  },
  {
   "cell_type": "markdown",
   "metadata": {
    "deletable": true,
    "editable": true
   },
   "source": [
    "---\n",
    "## Signs"
   ]
  },
  {
   "cell_type": "code",
   "execution_count": 15,
   "metadata": {
    "collapsed": false,
    "deletable": true,
    "editable": true
   },
   "outputs": [],
   "source": [
    "## new df\n",
    "signs_df = pd.DataFrame(control_df_truncated.Date)\n",
    "\n",
    "# Net Conversion Rates\n",
    "\n",
    "signs_df['Control_Net_Conversion'] = control_df_truncated.Net_Conversion\n",
    "signs_df['Experiment_Net_Conversion'] = experiment_df_truncated.Net_Conversion\n",
    "\n",
    "#Retention Rates\n",
    "\n",
    "signs_df['Control_Retention'] = control_df_truncated.Retention\n",
    "signs_df['Experiment_Retention'] = experiment_df_truncated.Retention\n",
    "\n",
    "\n",
    "# Success for signs is when the difference is greater than dmin\n",
    "signs_df['Net_Conversion_Sign'] =   signs_df['Experiment_Net_Conversion']-signs_df['Control_Net_Conversion'] > .0075\n",
    "signs_df['Retention'] = (signs_df['Experiment_Retention']-signs_df['Control_Retention']) > .01"
   ]
  },
  {
   "cell_type": "code",
   "execution_count": 16,
   "metadata": {
    "collapsed": false,
    "deletable": true,
    "editable": true
   },
   "outputs": [
    {
     "data": {
      "text/html": [
       "<div>\n",
       "<table border=\"1\" class=\"dataframe\">\n",
       "  <thead>\n",
       "    <tr style=\"text-align: right;\">\n",
       "      <th></th>\n",
       "      <th>Date</th>\n",
       "      <th>Control_Net_Conversion</th>\n",
       "      <th>Experiment_Net_Conversion</th>\n",
       "      <th>Control_Retention</th>\n",
       "      <th>Experiment_Retention</th>\n",
       "      <th>Net_Conversion_Sign</th>\n",
       "      <th>Retention</th>\n",
       "    </tr>\n",
       "  </thead>\n",
       "  <tbody>\n",
       "    <tr>\n",
       "      <th>0</th>\n",
       "      <td>Sat, Oct 11</td>\n",
       "      <td>0.101892</td>\n",
       "      <td>0.049563</td>\n",
       "      <td>0.522388</td>\n",
       "      <td>0.323810</td>\n",
       "      <td>False</td>\n",
       "      <td>False</td>\n",
       "    </tr>\n",
       "    <tr>\n",
       "      <th>1</th>\n",
       "      <td>Sun, Oct 12</td>\n",
       "      <td>0.089859</td>\n",
       "      <td>0.115924</td>\n",
       "      <td>0.476190</td>\n",
       "      <td>0.784483</td>\n",
       "      <td>True</td>\n",
       "      <td>True</td>\n",
       "    </tr>\n",
       "    <tr>\n",
       "      <th>2</th>\n",
       "      <td>Mon, Oct 13</td>\n",
       "      <td>0.104510</td>\n",
       "      <td>0.089367</td>\n",
       "      <td>0.568862</td>\n",
       "      <td>0.544828</td>\n",
       "      <td>False</td>\n",
       "      <td>False</td>\n",
       "    </tr>\n",
       "    <tr>\n",
       "      <th>3</th>\n",
       "      <td>Tue, Oct 14</td>\n",
       "      <td>0.125598</td>\n",
       "      <td>0.111245</td>\n",
       "      <td>0.673077</td>\n",
       "      <td>0.666667</td>\n",
       "      <td>False</td>\n",
       "      <td>False</td>\n",
       "    </tr>\n",
       "    <tr>\n",
       "      <th>4</th>\n",
       "      <td>Wed, Oct 15</td>\n",
       "      <td>0.076464</td>\n",
       "      <td>0.112981</td>\n",
       "      <td>0.392638</td>\n",
       "      <td>0.671429</td>\n",
       "      <td>True</td>\n",
       "      <td>True</td>\n",
       "    </tr>\n",
       "    <tr>\n",
       "      <th>5</th>\n",
       "      <td>Thu, Oct 16</td>\n",
       "      <td>0.099635</td>\n",
       "      <td>0.077411</td>\n",
       "      <td>0.594203</td>\n",
       "      <td>0.472868</td>\n",
       "      <td>False</td>\n",
       "      <td>False</td>\n",
       "    </tr>\n",
       "    <tr>\n",
       "      <th>6</th>\n",
       "      <td>Fri, Oct 17</td>\n",
       "      <td>0.101604</td>\n",
       "      <td>0.056410</td>\n",
       "      <td>0.520548</td>\n",
       "      <td>0.346457</td>\n",
       "      <td>False</td>\n",
       "      <td>False</td>\n",
       "    </tr>\n",
       "    <tr>\n",
       "      <th>7</th>\n",
       "      <td>Sat, Oct 18</td>\n",
       "      <td>0.110759</td>\n",
       "      <td>0.095092</td>\n",
       "      <td>0.636364</td>\n",
       "      <td>0.659574</td>\n",
       "      <td>False</td>\n",
       "      <td>True</td>\n",
       "    </tr>\n",
       "    <tr>\n",
       "      <th>8</th>\n",
       "      <td>Sun, Oct 19</td>\n",
       "      <td>0.086831</td>\n",
       "      <td>0.110473</td>\n",
       "      <td>0.458015</td>\n",
       "      <td>0.641667</td>\n",
       "      <td>True</td>\n",
       "      <td>True</td>\n",
       "    </tr>\n",
       "    <tr>\n",
       "      <th>9</th>\n",
       "      <td>Mon, Oct 20</td>\n",
       "      <td>0.112660</td>\n",
       "      <td>0.113953</td>\n",
       "      <td>0.587879</td>\n",
       "      <td>0.640523</td>\n",
       "      <td>False</td>\n",
       "      <td>True</td>\n",
       "    </tr>\n",
       "    <tr>\n",
       "      <th>10</th>\n",
       "      <td>Tue, Oct 21</td>\n",
       "      <td>0.121107</td>\n",
       "      <td>0.082176</td>\n",
       "      <td>0.535714</td>\n",
       "      <td>0.496503</td>\n",
       "      <td>False</td>\n",
       "      <td>False</td>\n",
       "    </tr>\n",
       "    <tr>\n",
       "      <th>11</th>\n",
       "      <td>Wed, Oct 22</td>\n",
       "      <td>0.109785</td>\n",
       "      <td>0.087391</td>\n",
       "      <td>0.567901</td>\n",
       "      <td>0.546875</td>\n",
       "      <td>False</td>\n",
       "      <td>False</td>\n",
       "    </tr>\n",
       "    <tr>\n",
       "      <th>12</th>\n",
       "      <td>Thu, Oct 23</td>\n",
       "      <td>0.084211</td>\n",
       "      <td>0.105919</td>\n",
       "      <td>0.440945</td>\n",
       "      <td>0.557377</td>\n",
       "      <td>True</td>\n",
       "      <td>True</td>\n",
       "    </tr>\n",
       "    <tr>\n",
       "      <th>13</th>\n",
       "      <td>Fri, Oct 24</td>\n",
       "      <td>0.181278</td>\n",
       "      <td>0.134864</td>\n",
       "      <td>0.554545</td>\n",
       "      <td>0.484536</td>\n",
       "      <td>False</td>\n",
       "      <td>False</td>\n",
       "    </tr>\n",
       "    <tr>\n",
       "      <th>14</th>\n",
       "      <td>Sat, Oct 25</td>\n",
       "      <td>0.185239</td>\n",
       "      <td>0.121076</td>\n",
       "      <td>0.727273</td>\n",
       "      <td>0.637795</td>\n",
       "      <td>False</td>\n",
       "      <td>False</td>\n",
       "    </tr>\n",
       "    <tr>\n",
       "      <th>15</th>\n",
       "      <td>Sun, Oct 26</td>\n",
       "      <td>0.146893</td>\n",
       "      <td>0.145743</td>\n",
       "      <td>0.645963</td>\n",
       "      <td>0.660131</td>\n",
       "      <td>False</td>\n",
       "      <td>True</td>\n",
       "    </tr>\n",
       "    <tr>\n",
       "      <th>16</th>\n",
       "      <td>Mon, Oct 27</td>\n",
       "      <td>0.163373</td>\n",
       "      <td>0.154345</td>\n",
       "      <td>0.532189</td>\n",
       "      <td>0.558685</td>\n",
       "      <td>False</td>\n",
       "      <td>True</td>\n",
       "    </tr>\n",
       "    <tr>\n",
       "      <th>17</th>\n",
       "      <td>Tue, Oct 28</td>\n",
       "      <td>0.123641</td>\n",
       "      <td>0.163043</td>\n",
       "      <td>0.590909</td>\n",
       "      <td>0.740741</td>\n",
       "      <td>True</td>\n",
       "      <td>True</td>\n",
       "    </tr>\n",
       "    <tr>\n",
       "      <th>18</th>\n",
       "      <td>Wed, Oct 29</td>\n",
       "      <td>0.116373</td>\n",
       "      <td>0.132050</td>\n",
       "      <td>0.438776</td>\n",
       "      <td>0.477612</td>\n",
       "      <td>True</td>\n",
       "      <td>True</td>\n",
       "    </tr>\n",
       "    <tr>\n",
       "      <th>19</th>\n",
       "      <td>Thu, Oct 30</td>\n",
       "      <td>0.102180</td>\n",
       "      <td>0.092033</td>\n",
       "      <td>0.449102</td>\n",
       "      <td>0.323671</td>\n",
       "      <td>False</td>\n",
       "      <td>False</td>\n",
       "    </tr>\n",
       "    <tr>\n",
       "      <th>20</th>\n",
       "      <td>Fri, Oct 31</td>\n",
       "      <td>0.143059</td>\n",
       "      <td>0.170360</td>\n",
       "      <td>0.580460</td>\n",
       "      <td>0.675824</td>\n",
       "      <td>True</td>\n",
       "      <td>True</td>\n",
       "    </tr>\n",
       "    <tr>\n",
       "      <th>21</th>\n",
       "      <td>Sat, Nov 1</td>\n",
       "      <td>0.136564</td>\n",
       "      <td>0.143885</td>\n",
       "      <td>0.596154</td>\n",
       "      <td>0.704225</td>\n",
       "      <td>False</td>\n",
       "      <td>True</td>\n",
       "    </tr>\n",
       "    <tr>\n",
       "      <th>22</th>\n",
       "      <td>Sun, Nov 2</td>\n",
       "      <td>0.096681</td>\n",
       "      <td>0.142265</td>\n",
       "      <td>0.325243</td>\n",
       "      <td>0.565934</td>\n",
       "      <td>True</td>\n",
       "      <td>True</td>\n",
       "    </tr>\n",
       "  </tbody>\n",
       "</table>\n",
       "</div>"
      ],
      "text/plain": [
       "           Date  Control_Net_Conversion  Experiment_Net_Conversion  \\\n",
       "0   Sat, Oct 11                0.101892                   0.049563   \n",
       "1   Sun, Oct 12                0.089859                   0.115924   \n",
       "2   Mon, Oct 13                0.104510                   0.089367   \n",
       "3   Tue, Oct 14                0.125598                   0.111245   \n",
       "4   Wed, Oct 15                0.076464                   0.112981   \n",
       "5   Thu, Oct 16                0.099635                   0.077411   \n",
       "6   Fri, Oct 17                0.101604                   0.056410   \n",
       "7   Sat, Oct 18                0.110759                   0.095092   \n",
       "8   Sun, Oct 19                0.086831                   0.110473   \n",
       "9   Mon, Oct 20                0.112660                   0.113953   \n",
       "10  Tue, Oct 21                0.121107                   0.082176   \n",
       "11  Wed, Oct 22                0.109785                   0.087391   \n",
       "12  Thu, Oct 23                0.084211                   0.105919   \n",
       "13  Fri, Oct 24                0.181278                   0.134864   \n",
       "14  Sat, Oct 25                0.185239                   0.121076   \n",
       "15  Sun, Oct 26                0.146893                   0.145743   \n",
       "16  Mon, Oct 27                0.163373                   0.154345   \n",
       "17  Tue, Oct 28                0.123641                   0.163043   \n",
       "18  Wed, Oct 29                0.116373                   0.132050   \n",
       "19  Thu, Oct 30                0.102180                   0.092033   \n",
       "20  Fri, Oct 31                0.143059                   0.170360   \n",
       "21   Sat, Nov 1                0.136564                   0.143885   \n",
       "22   Sun, Nov 2                0.096681                   0.142265   \n",
       "\n",
       "    Control_Retention  Experiment_Retention Net_Conversion_Sign Retention  \n",
       "0            0.522388              0.323810               False     False  \n",
       "1            0.476190              0.784483                True      True  \n",
       "2            0.568862              0.544828               False     False  \n",
       "3            0.673077              0.666667               False     False  \n",
       "4            0.392638              0.671429                True      True  \n",
       "5            0.594203              0.472868               False     False  \n",
       "6            0.520548              0.346457               False     False  \n",
       "7            0.636364              0.659574               False      True  \n",
       "8            0.458015              0.641667                True      True  \n",
       "9            0.587879              0.640523               False      True  \n",
       "10           0.535714              0.496503               False     False  \n",
       "11           0.567901              0.546875               False     False  \n",
       "12           0.440945              0.557377                True      True  \n",
       "13           0.554545              0.484536               False     False  \n",
       "14           0.727273              0.637795               False     False  \n",
       "15           0.645963              0.660131               False      True  \n",
       "16           0.532189              0.558685               False      True  \n",
       "17           0.590909              0.740741                True      True  \n",
       "18           0.438776              0.477612                True      True  \n",
       "19           0.449102              0.323671               False     False  \n",
       "20           0.580460              0.675824                True      True  \n",
       "21           0.596154              0.704225               False      True  \n",
       "22           0.325243              0.565934                True      True  "
      ]
     },
     "execution_count": 16,
     "metadata": {},
     "output_type": "execute_result"
    }
   ],
   "source": [
    "signs_df"
   ]
  },
  {
   "cell_type": "code",
   "execution_count": 17,
   "metadata": {
    "collapsed": false,
    "deletable": true,
    "editable": true
   },
   "outputs": [
    {
     "data": {
      "text/plain": [
       "8"
      ]
     },
     "execution_count": 17,
     "metadata": {},
     "output_type": "execute_result"
    }
   ],
   "source": [
    "signs_df.Net_Conversion_Sign.sum()"
   ]
  },
  {
   "cell_type": "code",
   "execution_count": 18,
   "metadata": {
    "collapsed": false,
    "deletable": true,
    "editable": true
   },
   "outputs": [
    {
     "data": {
      "text/plain": [
       "23"
      ]
     },
     "execution_count": 18,
     "metadata": {},
     "output_type": "execute_result"
    }
   ],
   "source": [
    "len(signs_df.Date)"
   ]
  },
  {
   "cell_type": "markdown",
   "metadata": {
    "deletable": true,
    "editable": true
   },
   "source": [
    "- Eight instance of **Net conversion rate** being greater than dmin.\n"
   ]
  },
  {
   "cell_type": "code",
   "execution_count": 20,
   "metadata": {
    "collapsed": false,
    "deletable": true,
    "editable": true
   },
   "outputs": [
    {
     "name": "stdout",
     "output_type": "stream",
     "text": [
      "The p-value of Net conversion rate being greater than dmin (.0075) is 21.00%\n"
     ]
    }
   ],
   "source": [
    "print('The p-value of Net conversion rate being greater than dmin (.0075) is {:.2%}'.format(binom_test(8,23)))"
   ]
  },
  {
   "cell_type": "markdown",
   "metadata": {
    "deletable": true,
    "editable": true
   },
   "source": [
    "- This means that there is $\\underline{not\\ a\\ statistically\\ significant\\ difference}$ in **Net conversion rates** between the control and experiment group. \n",
    "    - we want the p-value to be less than .05\n"
   ]
  },
  {
   "cell_type": "code",
   "execution_count": 23,
   "metadata": {
    "collapsed": false,
    "deletable": true,
    "editable": true
   },
   "outputs": [
    {
     "data": {
      "text/plain": [
       "13"
      ]
     },
     "execution_count": 23,
     "metadata": {},
     "output_type": "execute_result"
    }
   ],
   "source": [
    "signs_df.Retention.sum()"
   ]
  },
  {
   "cell_type": "code",
   "execution_count": 24,
   "metadata": {
    "collapsed": false,
    "deletable": true,
    "editable": true
   },
   "outputs": [
    {
     "data": {
      "text/plain": [
       "23"
      ]
     },
     "execution_count": 24,
     "metadata": {},
     "output_type": "execute_result"
    }
   ],
   "source": [
    "len(signs_df.Date)"
   ]
  },
  {
   "cell_type": "markdown",
   "metadata": {
    "deletable": true,
    "editable": true
   },
   "source": [
    "- 13 instances of Retention being greater in the experiment group,"
   ]
  },
  {
   "cell_type": "code",
   "execution_count": 25,
   "metadata": {
    "collapsed": false,
    "deletable": true,
    "editable": true
   },
   "outputs": [
    {
     "name": "stdout",
     "output_type": "stream",
     "text": [
      "The p-value of Retenteion rate being greater than dmin (.01) is 67.76%\n"
     ]
    }
   ],
   "source": [
    "print('The p-value of Retenteion rate being greater than dmin (.01) is {:.2%}'.format(binom_test(13,23)))"
   ]
  },
  {
   "cell_type": "markdown",
   "metadata": {
    "deletable": true,
    "editable": true
   },
   "source": [
    "- The test on Retention is also _inconclusive_ for this sign test."
   ]
  },
  {
   "cell_type": "markdown",
   "metadata": {
    "deletable": true,
    "editable": true
   },
   "source": [
    "---\n",
    "# Frequentist test \n",
    "### Retention rate between the two groups using a $95$% confidence interval"
   ]
  },
  {
   "cell_type": "markdown",
   "metadata": {},
   "source": [
    "* First hypothesis, test Retention rates using Pooled Standard Error"
   ]
  },
  {
   "cell_type": "code",
   "execution_count": 26,
   "metadata": {
    "collapsed": false,
    "deletable": true,
    "editable": true
   },
   "outputs": [],
   "source": [
    "control_retention= np.mean(control_df_truncated.Retention)\n",
    "control_number_of_enrollments = int(np.sum(control_df_truncated.Enrollments))\n",
    "control_number_of_payments = int(np.sum(control_df_truncated.Payments))\n",
    "\n",
    "experiment_retention = np.mean(experiment_df_truncated.Retention)\n",
    "experiment_number_of_enrollments = int(np.sum(experiment_df_truncated.Enrollments))\n",
    "experiment_number_of_payments = int(np.sum(experiment_df_truncated.Payments))\n"
   ]
  },
  {
   "cell_type": "markdown",
   "metadata": {},
   "source": [
    "* Next, test the differences in Net conversion rates"
   ]
  },
  {
   "cell_type": "code",
   "execution_count": 29,
   "metadata": {
    "collapsed": true,
    "deletable": true,
    "editable": true
   },
   "outputs": [],
   "source": [
    "control_net_conversion= np.mean(control_df_truncated.Net_Conversion)\n",
    "control_number_of_clicks = int(np.sum(control_df_truncated.Clicks))\n",
    "control_number_of_payments = int(np.sum(control_df_truncated.Payments))\n",
    "\n",
    "experiment_retention = np.mean(experiment_df_truncated.Net_Conversion)\n",
    "experiment_number_of_clicks= int(np.sum(experiment_df_truncated.Clicks))\n",
    "experiment_number_of_payments = int(np.sum(experiment_df_truncated.Payments))\n"
   ]
  },
  {
   "cell_type": "markdown",
   "metadata": {},
   "source": [
    "* Look at differences in CTPs for all days"
   ]
  },
  {
   "cell_type": "code",
   "execution_count": 30,
   "metadata": {
    "collapsed": true,
    "deletable": true,
    "editable": true
   },
   "outputs": [],
   "source": [
    "control_ctp = np.mean(control_df.CTP)\n",
    "control_number_of_clicks = int(np.sum(control_df.Clicks))\n",
    "control_number_of_pageviews= int(np.sum(control_df.Pageviews))\n",
    "\n",
    "experiment_ctp = np.mean(experiment_df.CTP)\n",
    "experiment_number_of_clicks= int(np.sum(experiment_df.Clicks))\n",
    "experiment_number_of_pageviews = int(np.sum(experiment_df.Pageviews))\n"
   ]
  },
  {
   "cell_type": "code",
   "execution_count": 36,
   "metadata": {
    "collapsed": false,
    "deletable": true,
    "editable": true
   },
   "outputs": [],
   "source": [
    "def two_sample_pooled_se(control_total_num, control_num_of_success, experiment_total_num, experiment_num_of_success, confidence_z=1.96):\n",
    "    \"\"\"Return the confidence interval for the difference \n",
    "    in two sample proportions at 95% confidence level\"\"\"\n",
    "    control_proportion = control_num_of_success/control_total_num\n",
    "    experiment_proportion = experiment_num_of_success/experiment_total_num\n",
    "    proportion_difference = experiment_proportion - control_proportion\n",
    "    \n",
    "    pooled_propotion = (experiment_num_of_success  + control_num_of_success) / \\\n",
    "    (experiment_total_num+control_total_num)\n",
    "    \n",
    "    pooled_standard_error = sqrt(pooled_propotion*(1-pooled_propotion)*\\\n",
    "                            (1/experiment_total_num + 1/control_total_num))\n",
    "    \n",
    "    return('The {} z-score confidence interval is: {:.2%} to {:.2%}'.format(confidence_z,\n",
    "          proportion_difference-confidence_z*pooled_standard_error,proportion_difference+confidence_z*pooled_standard_error))\n",
    " "
   ]
  },
  {
   "cell_type": "markdown",
   "metadata": {},
   "source": [
    "* Confidence Internval for Retention between control and experiment"
   ]
  },
  {
   "cell_type": "code",
   "execution_count": 38,
   "metadata": {
    "collapsed": false,
    "deletable": true,
    "editable": true
   },
   "outputs": [
    {
     "name": "stdout",
     "output_type": "stream",
     "text": [
      "The 1.96 z-score confidence interval is: 0.81% to 5.41%\n"
     ]
    }
   ],
   "source": [
    "retention_pse = two_sample_pooled_se(control_number_of_enrollments,control_number_of_payments,\n",
    "                     experiment_number_of_enrollments,experiment_number_of_payments )\n",
    "\n",
    "print(retention_pse)"
   ]
  },
  {
   "cell_type": "markdown",
   "metadata": {},
   "source": [
    "<br>\n",
    "* Confidence Interval for Net conversion rate between control and experiment"
   ]
  },
  {
   "cell_type": "code",
   "execution_count": 40,
   "metadata": {
    "collapsed": false,
    "deletable": true,
    "editable": true
   },
   "outputs": [
    {
     "name": "stdout",
     "output_type": "stream",
     "text": [
      "The 1.96 z-score confidence interval is: -0.72% to 0.12%\n"
     ]
    }
   ],
   "source": [
    "netconv_pse = two_sample_pooled_se(control_number_of_clicks,control_number_of_payments,\n",
    "                    experiment_number_of_clicks,experiment_number_of_payments)\n",
    "\n",
    "print(netconv_pse)"
   ]
  },
  {
   "cell_type": "markdown",
   "metadata": {
    "deletable": true,
    "editable": true
   },
   "source": [
    "---\n",
    "## Sanity Checks\n",
    "> It should be noted that we do not have enough data to determine the statistical significance for retention rates. \n",
    "- Ensure that our invariant metrics do not vary across the groups.\n",
    "\n",
    "<br>\n",
    "\n",
    "$H_o$ = The difference between control and experiment CTP is less than or equal to dmin\n",
    "\n",
    "$H_1$ = The difference between control and experiment for CTP is greater than dmin"
   ]
  },
  {
   "cell_type": "markdown",
   "metadata": {},
   "source": [
    "* Confidence Interval for CTP between control and experiment"
   ]
  },
  {
   "cell_type": "code",
   "execution_count": 41,
   "metadata": {
    "collapsed": false,
    "deletable": true,
    "editable": true
   },
   "outputs": [
    {
     "name": "stdout",
     "output_type": "stream",
     "text": [
      "The 1.96 z-score confidence interval is: -0.12% to 0.14%\n"
     ]
    }
   ],
   "source": [
    "ctp_pse = two_sample_pooled_se(control_number_of_pageviews,control_number_of_clicks,\n",
    "                    experiment_number_of_pageviews,experiment_number_of_clicks)\n",
    "\n",
    "print(ctp_pse)"
   ]
  },
  {
   "cell_type": "markdown",
   "metadata": {
    "deletable": true,
    "editable": true
   },
   "source": [
    "> The 95% confidence interval for CTP between the control and experiment group is not statistically significant. This means that our invariant metric holds between both groups."
   ]
  },
  {
   "cell_type": "markdown",
   "metadata": {
    "deletable": true,
    "editable": true
   },
   "source": [
    "### Pageviews\n",
    "\n",
    "* The pageviews is also an invariant metric between groups. \n",
    "    - We want to ensure that both tests are receiving the same amount of traffic."
   ]
  },
  {
   "cell_type": "code",
   "execution_count": 47,
   "metadata": {
    "collapsed": false,
    "deletable": true,
    "editable": true
   },
   "outputs": [
    {
     "data": {
      "image/png": "[encoded data removed]",
      "text/plain": [
       "<matplotlib.figure.Figure at 0x115d51e48>"
      ]
     },
     "metadata": {},
     "output_type": "display_data"
    }
   ],
   "source": [
    "plt.figure(figsize=(12,7))\n",
    "control_df.Pageviews.plot(kind='kde')\n",
    "experiment_df.Pageviews.plot(kind='kde')\n",
    "plt.title('Control Pageviews vs Experiment Pageviews', fontsize=14);\n"
   ]
  },
  {
   "cell_type": "markdown",
   "metadata": {
    "deletable": true,
    "editable": true
   },
   "source": [
    "> Here, we can see $\\underline{roughly\\ the\\ same}$ number of pageviews between the two groups."
   ]
  },
  {
   "cell_type": "markdown",
   "metadata": {
    "deletable": true,
    "editable": true
   },
   "source": [
    "---\n",
    "# Bayesian analysis"
   ]
  },
  {
   "cell_type": "code",
   "execution_count": 48,
   "metadata": {
    "collapsed": false,
    "deletable": true,
    "editable": true
   },
   "outputs": [
    {
     "name": "stdout",
     "output_type": "stream",
     "text": [
      "Optimization terminated successfully.\n",
      "         Current function value: -4.953189\n",
      "         Iterations: 0\n",
      "         Function evaluations: 1\n",
      "         Gradient evaluations: 1\n"
     ]
    }
   ],
   "source": [
    "with pm.Model() as retention: # model specifications in PyMC3 are wrapped in a with-statement\n",
    "    # Define random variables\n",
    "    control_prior = pm.Beta('control_retention', alpha=1 + control_number_of_payments,\n",
    "                            beta=1+control_number_of_enrollments - control_number_of_payments ) # uniform prior\n",
    "    experiment_prior = pm.Beta('experiment_retention', alpha=1 + experiment_number_of_payments, \n",
    "                               beta=1+experiment_number_of_enrollments - experiment_number_of_payments) # uniform prior\n",
    "    \n",
    "    \n",
    "    # Inference\n",
    "    start = pm.find_MAP()  # Find good starting point\n",
    "    step = pm.Slice()  # Instantiate MCMC sampling algorithm\n",
    "    trace = pm.sample(10000, step, start=start, progressbar=False)  # draw posterior samples using slice sampling\n",
    "    "
   ]
  },
  {
   "cell_type": "code",
   "execution_count": 49,
   "metadata": {
    "collapsed": false,
    "deletable": true,
    "editable": true
   },
   "outputs": [
    {
     "data": {
      "text/plain": [
       "['control_retention_logodds_',\n",
       " 'experiment_retention_logodds_',\n",
       " 'control_retention',\n",
       " 'experiment_retention']"
      ]
     },
     "execution_count": 49,
     "metadata": {},
     "output_type": "execute_result"
    }
   ],
   "source": [
    "trace.varnames"
   ]
  },
  {
   "cell_type": "code",
   "execution_count": 53,
   "metadata": {
    "collapsed": false,
    "deletable": true,
    "editable": true
   },
   "outputs": [
    {
     "name": "stderr",
     "output_type": "stream",
     "text": [
      "/Users/Jeremy/anaconda/envs/gu/lib/python3.6/site-packages/statsmodels/nonparametric/kdetools.py:20: VisibleDeprecationWarning: using a non-integer number instead of an integer will result in an error in the future\n",
      "  y = X[:m/2+1] + np.r_[0,X[m/2+1:],0]*1j\n"
     ]
    },
    {
     "data": {
      "image/png": "[encoded data removed]",
      "text/plain": [
       "<matplotlib.figure.Figure at 0x116f13208>"
      ]
     },
     "metadata": {},
     "output_type": "display_data"
    }
   ],
   "source": [
    "plt.figure(figsize=(12,7))\n",
    "sns.distplot(trace['control_retention'],label='Control')\n",
    "sns.distplot(trace['experiment_retention'],label='Experiment')\n",
    "plt.title('Retention Rates', fontsize=16)\n",
    "plt.legend(fontsize=14);\n"
   ]
  },
  {
   "cell_type": "code",
   "execution_count": 54,
   "metadata": {
    "collapsed": false,
    "deletable": true,
    "editable": true
   },
   "outputs": [
    {
     "name": "stdout",
     "output_type": "stream",
     "text": [
      "We are 99.49% confident that our experiment improved retention\n"
     ]
    }
   ],
   "source": [
    "print('We are {:.2%} confident that our experiment improved Retention'.format(\n",
    "        np.mean(trace['control_retention']<trace['experiment_retention'])))"
   ]
  },
  {
   "cell_type": "markdown",
   "metadata": {},
   "source": [
    "<br>"
   ]
  },
  {
   "cell_type": "code",
   "execution_count": 55,
   "metadata": {
    "collapsed": false,
    "deletable": true,
    "editable": true
   },
   "outputs": [
    {
     "name": "stdout",
     "output_type": "stream",
     "text": [
      "We are 96.47% confident that our experiment improved Retention by over 1%\n"
     ]
    }
   ],
   "source": [
    "print('We are {:.2%} confident that our experiment improved Retention by over 1%'.format(\n",
    "        np.mean((trace['control_retention']+.01)<trace['experiment_retention'])))"
   ]
  },
  {
   "cell_type": "markdown",
   "metadata": {},
   "source": [
    "<br>"
   ]
  },
  {
   "cell_type": "markdown",
   "metadata": {},
   "source": [
    "* Next check the Net conversion rate"
   ]
  },
  {
   "cell_type": "code",
   "execution_count": 58,
   "metadata": {
    "collapsed": false,
    "deletable": true,
    "editable": true
   },
   "outputs": [
    {
     "name": "stdout",
     "output_type": "stream",
     "text": [
      "Optimization terminated successfully.\n",
      "         Current function value: -5.684873\n",
      "         Iterations: 0\n",
      "         Function evaluations: 1\n",
      "         Gradient evaluations: 1\n"
     ]
    }
   ],
   "source": [
    "with pm.Model() as conversion_rate:  # model specifications in PyMC3 are wrapped in a with-statement\n",
    "    # Define random variables\n",
    "    control_prior = pm.Beta('control_net-conversion', alpha=1 + control_number_of_payments,\n",
    "                            beta=1+control_number_of_clicks - control_number_of_payments )  # uniform prior\n",
    "    \n",
    "    experiment_prior = pm.Beta('experiment_net-conversion', alpha=1 + experiment_number_of_payments, \n",
    "                               beta=1+experiment_number_of_clicks- experiment_number_of_payments)  # uniform prior\n",
    "    \n",
    "    # Inference\n",
    "    start = pm.find_MAP()  # Find good starting point\n",
    "    step = pm.Slice()  # Instantiate MCMC sampling algorithm\n",
    "    trace_cr = pm.sample(100000, step, start=start, progressbar=False)  # draw posterior samples using slice sampling \n"
   ]
  },
  {
   "cell_type": "code",
   "execution_count": 59,
   "metadata": {
    "collapsed": false,
    "deletable": true,
    "editable": true
   },
   "outputs": [
    {
     "name": "stderr",
     "output_type": "stream",
     "text": [
      "/Users/Jeremy/anaconda/envs/gu/lib/python3.6/site-packages/statsmodels/nonparametric/kdetools.py:20: VisibleDeprecationWarning: using a non-integer number instead of an integer will result in an error in the future\n",
      "  y = X[:m/2+1] + np.r_[0,X[m/2+1:],0]*1j\n"
     ]
    },
    {
     "data": {
      "image/png": "[encoded data removed]",
      "text/plain": [
       "<matplotlib.figure.Figure at 0x1171734e0>"
      ]
     },
     "metadata": {},
     "output_type": "display_data"
    }
   ],
   "source": [
    "plt.figure(figsize=(12,7))\n",
    "sns.distplot(trace_cr['control_net-conversion'],label='Control')\n",
    "sns.distplot(trace_cr['experiment_net-conversion'],label='Experiment')\n",
    "plt.title('Net Conversion Rate', fontsize=16)\n",
    "plt.legend(fontsize=14);"
   ]
  },
  {
   "cell_type": "code",
   "execution_count": 62,
   "metadata": {
    "collapsed": false,
    "deletable": true,
    "editable": true
   },
   "outputs": [
    {
     "name": "stdout",
     "output_type": "stream",
     "text": [
      "We are 8.43% confident that our experiment improved Net conversion rate\n"
     ]
    }
   ],
   "source": [
    "print('We are {:.2%} confident that our experiment improved Net conversion rate'.format(\n",
    "\n",
    "np.mean(trace_cr['control_net-conversion']<trace_cr['experiment_net-conversion'])))"
   ]
  },
  {
   "cell_type": "markdown",
   "metadata": {},
   "source": [
    "<br>"
   ]
  },
  {
   "cell_type": "code",
   "execution_count": 63,
   "metadata": {
    "collapsed": false,
    "deletable": true,
    "editable": true
   },
   "outputs": [
    {
     "name": "stdout",
     "output_type": "stream",
     "text": [
      "We are 0.00% confident that our experiment improved Net conversion rate above 1%\n"
     ]
    }
   ],
   "source": [
    "print('We are {:.2%} confident that our experiment improved Net conversion rate above 1%'.format(\n",
    "\n",
    "np.mean(trace_cr['control_net-conversion']+.01<trace_cr['experiment_net-conversion'])))"
   ]
  },
  {
   "cell_type": "markdown",
   "metadata": {},
   "source": [
    "<br>"
   ]
  },
  {
   "cell_type": "code",
   "execution_count": 64,
   "metadata": {
    "collapsed": false,
    "deletable": true,
    "editable": true
   },
   "outputs": [
    {
     "name": "stdout",
     "output_type": "stream",
     "text": [
      "We are 91.57% confident that our control was better than our experiment for  Net conversion rate\n"
     ]
    }
   ],
   "source": [
    "print('We are {:.2%} confident that our control was better than our experiment for  Net conversion rate'.format(\n",
    "\n",
    "np.mean(trace_cr['control_net-conversion']>trace_cr['experiment_net-conversion'])))"
   ]
  },
  {
   "cell_type": "markdown",
   "metadata": {
    "deletable": true,
    "editable": true
   },
   "source": [
    "---\n",
    "\n",
    "## Machine learning to predict the number of payments\n",
    "\n",
    "### Use Random Forest Regression to oversample from trainig data and hopefully reduce variance\n",
    "\n",
    "\n",
    "### `Control group` "
   ]
  },
  {
   "cell_type": "code",
   "execution_count": 65,
   "metadata": {
    "collapsed": false,
    "deletable": true,
    "editable": true
   },
   "outputs": [
    {
     "data": {
      "text/html": [
       "<div>\n",
       "<table border=\"1\" class=\"dataframe\">\n",
       "  <thead>\n",
       "    <tr style=\"text-align: right;\">\n",
       "      <th></th>\n",
       "      <th>Date</th>\n",
       "      <th>Pageviews</th>\n",
       "      <th>Clicks</th>\n",
       "      <th>Enrollments</th>\n",
       "      <th>Payments</th>\n",
       "      <th>CTP</th>\n",
       "      <th>Gross_Conversion</th>\n",
       "      <th>Retention</th>\n",
       "      <th>Net_Conversion</th>\n",
       "    </tr>\n",
       "  </thead>\n",
       "  <tbody>\n",
       "    <tr>\n",
       "      <th>23</th>\n",
       "      <td>Mon, Nov 3</td>\n",
       "      <td>9437</td>\n",
       "      <td>788</td>\n",
       "      <td>NaN</td>\n",
       "      <td>NaN</td>\n",
       "      <td>0.083501</td>\n",
       "      <td>NaN</td>\n",
       "      <td>NaN</td>\n",
       "      <td>NaN</td>\n",
       "    </tr>\n",
       "    <tr>\n",
       "      <th>24</th>\n",
       "      <td>Tue, Nov 4</td>\n",
       "      <td>9420</td>\n",
       "      <td>781</td>\n",
       "      <td>NaN</td>\n",
       "      <td>NaN</td>\n",
       "      <td>0.082909</td>\n",
       "      <td>NaN</td>\n",
       "      <td>NaN</td>\n",
       "      <td>NaN</td>\n",
       "    </tr>\n",
       "    <tr>\n",
       "      <th>25</th>\n",
       "      <td>Wed, Nov 5</td>\n",
       "      <td>9570</td>\n",
       "      <td>805</td>\n",
       "      <td>NaN</td>\n",
       "      <td>NaN</td>\n",
       "      <td>0.084117</td>\n",
       "      <td>NaN</td>\n",
       "      <td>NaN</td>\n",
       "      <td>NaN</td>\n",
       "    </tr>\n",
       "    <tr>\n",
       "      <th>26</th>\n",
       "      <td>Thu, Nov 6</td>\n",
       "      <td>9921</td>\n",
       "      <td>830</td>\n",
       "      <td>NaN</td>\n",
       "      <td>NaN</td>\n",
       "      <td>0.083661</td>\n",
       "      <td>NaN</td>\n",
       "      <td>NaN</td>\n",
       "      <td>NaN</td>\n",
       "    </tr>\n",
       "    <tr>\n",
       "      <th>27</th>\n",
       "      <td>Fri, Nov 7</td>\n",
       "      <td>9424</td>\n",
       "      <td>781</td>\n",
       "      <td>NaN</td>\n",
       "      <td>NaN</td>\n",
       "      <td>0.082874</td>\n",
       "      <td>NaN</td>\n",
       "      <td>NaN</td>\n",
       "      <td>NaN</td>\n",
       "    </tr>\n",
       "    <tr>\n",
       "      <th>28</th>\n",
       "      <td>Sat, Nov 8</td>\n",
       "      <td>9010</td>\n",
       "      <td>756</td>\n",
       "      <td>NaN</td>\n",
       "      <td>NaN</td>\n",
       "      <td>0.083907</td>\n",
       "      <td>NaN</td>\n",
       "      <td>NaN</td>\n",
       "      <td>NaN</td>\n",
       "    </tr>\n",
       "    <tr>\n",
       "      <th>29</th>\n",
       "      <td>Sun, Nov 9</td>\n",
       "      <td>9656</td>\n",
       "      <td>825</td>\n",
       "      <td>NaN</td>\n",
       "      <td>NaN</td>\n",
       "      <td>0.085439</td>\n",
       "      <td>NaN</td>\n",
       "      <td>NaN</td>\n",
       "      <td>NaN</td>\n",
       "    </tr>\n",
       "    <tr>\n",
       "      <th>30</th>\n",
       "      <td>Mon, Nov 10</td>\n",
       "      <td>10419</td>\n",
       "      <td>874</td>\n",
       "      <td>NaN</td>\n",
       "      <td>NaN</td>\n",
       "      <td>0.083885</td>\n",
       "      <td>NaN</td>\n",
       "      <td>NaN</td>\n",
       "      <td>NaN</td>\n",
       "    </tr>\n",
       "    <tr>\n",
       "      <th>31</th>\n",
       "      <td>Tue, Nov 11</td>\n",
       "      <td>9880</td>\n",
       "      <td>830</td>\n",
       "      <td>NaN</td>\n",
       "      <td>NaN</td>\n",
       "      <td>0.084008</td>\n",
       "      <td>NaN</td>\n",
       "      <td>NaN</td>\n",
       "      <td>NaN</td>\n",
       "    </tr>\n",
       "    <tr>\n",
       "      <th>32</th>\n",
       "      <td>Wed, Nov 12</td>\n",
       "      <td>10134</td>\n",
       "      <td>801</td>\n",
       "      <td>NaN</td>\n",
       "      <td>NaN</td>\n",
       "      <td>0.079041</td>\n",
       "      <td>NaN</td>\n",
       "      <td>NaN</td>\n",
       "      <td>NaN</td>\n",
       "    </tr>\n",
       "    <tr>\n",
       "      <th>33</th>\n",
       "      <td>Thu, Nov 13</td>\n",
       "      <td>9717</td>\n",
       "      <td>814</td>\n",
       "      <td>NaN</td>\n",
       "      <td>NaN</td>\n",
       "      <td>0.083771</td>\n",
       "      <td>NaN</td>\n",
       "      <td>NaN</td>\n",
       "      <td>NaN</td>\n",
       "    </tr>\n",
       "    <tr>\n",
       "      <th>34</th>\n",
       "      <td>Fri, Nov 14</td>\n",
       "      <td>9192</td>\n",
       "      <td>735</td>\n",
       "      <td>NaN</td>\n",
       "      <td>NaN</td>\n",
       "      <td>0.079961</td>\n",
       "      <td>NaN</td>\n",
       "      <td>NaN</td>\n",
       "      <td>NaN</td>\n",
       "    </tr>\n",
       "    <tr>\n",
       "      <th>35</th>\n",
       "      <td>Sat, Nov 15</td>\n",
       "      <td>8630</td>\n",
       "      <td>743</td>\n",
       "      <td>NaN</td>\n",
       "      <td>NaN</td>\n",
       "      <td>0.086095</td>\n",
       "      <td>NaN</td>\n",
       "      <td>NaN</td>\n",
       "      <td>NaN</td>\n",
       "    </tr>\n",
       "    <tr>\n",
       "      <th>36</th>\n",
       "      <td>Sun, Nov 16</td>\n",
       "      <td>8970</td>\n",
       "      <td>722</td>\n",
       "      <td>NaN</td>\n",
       "      <td>NaN</td>\n",
       "      <td>0.080491</td>\n",
       "      <td>NaN</td>\n",
       "      <td>NaN</td>\n",
       "      <td>NaN</td>\n",
       "    </tr>\n",
       "  </tbody>\n",
       "</table>\n",
       "</div>"
      ],
      "text/plain": [
       "           Date  Pageviews  Clicks  Enrollments  Payments       CTP  \\\n",
       "23   Mon, Nov 3       9437     788          NaN       NaN  0.083501   \n",
       "24   Tue, Nov 4       9420     781          NaN       NaN  0.082909   \n",
       "25   Wed, Nov 5       9570     805          NaN       NaN  0.084117   \n",
       "26   Thu, Nov 6       9921     830          NaN       NaN  0.083661   \n",
       "27   Fri, Nov 7       9424     781          NaN       NaN  0.082874   \n",
       "28   Sat, Nov 8       9010     756          NaN       NaN  0.083907   \n",
       "29   Sun, Nov 9       9656     825          NaN       NaN  0.085439   \n",
       "30  Mon, Nov 10      10419     874          NaN       NaN  0.083885   \n",
       "31  Tue, Nov 11       9880     830          NaN       NaN  0.084008   \n",
       "32  Wed, Nov 12      10134     801          NaN       NaN  0.079041   \n",
       "33  Thu, Nov 13       9717     814          NaN       NaN  0.083771   \n",
       "34  Fri, Nov 14       9192     735          NaN       NaN  0.079961   \n",
       "35  Sat, Nov 15       8630     743          NaN       NaN  0.086095   \n",
       "36  Sun, Nov 16       8970     722          NaN       NaN  0.080491   \n",
       "\n",
       "    Gross_Conversion  Retention  Net_Conversion  \n",
       "23               NaN        NaN             NaN  \n",
       "24               NaN        NaN             NaN  \n",
       "25               NaN        NaN             NaN  \n",
       "26               NaN        NaN             NaN  \n",
       "27               NaN        NaN             NaN  \n",
       "28               NaN        NaN             NaN  \n",
       "29               NaN        NaN             NaN  \n",
       "30               NaN        NaN             NaN  \n",
       "31               NaN        NaN             NaN  \n",
       "32               NaN        NaN             NaN  \n",
       "33               NaN        NaN             NaN  \n",
       "34               NaN        NaN             NaN  \n",
       "35               NaN        NaN             NaN  \n",
       "36               NaN        NaN             NaN  "
      ]
     },
     "execution_count": 65,
     "metadata": {},
     "output_type": "execute_result"
    }
   ],
   "source": [
    "control_df[23:]"
   ]
  },
  {
   "cell_type": "code",
   "execution_count": 66,
   "metadata": {
    "collapsed": false,
    "deletable": true,
    "editable": true
   },
   "outputs": [],
   "source": [
    "control_X_train = np.array([control_df_truncated.Pageviews,control_df_truncated.Clicks]).reshape(-1,2)\n",
    "control_y_train = np.array(control_df_truncated.Payments)\n",
    "\n",
    "X_control_train, X_control_test, y_control_train, y_control_test =\\\n",
    "    train_test_split(control_X_train, control_y_train, test_size=0.2, random_state=0)\n",
    "    \n",
    "control_X_test = np.array([control_df.Pageviews[:23],control_df.Clicks[:23]]).reshape(-1,2)\n"
   ]
  },
  {
   "cell_type": "code",
   "execution_count": 67,
   "metadata": {
    "collapsed": true,
    "deletable": true,
    "editable": true
   },
   "outputs": [],
   "source": [
    "control_rf = RandomForestRegressor(n_estimators=100)"
   ]
  },
  {
   "cell_type": "code",
   "execution_count": 68,
   "metadata": {
    "collapsed": false,
    "deletable": true,
    "editable": true
   },
   "outputs": [
    {
     "data": {
      "text/plain": [
       "RandomForestRegressor(bootstrap=True, criterion='mse', max_depth=None,\n",
       "           max_features='auto', max_leaf_nodes=None,\n",
       "           min_impurity_split=1e-07, min_samples_leaf=1,\n",
       "           min_samples_split=2, min_weight_fraction_leaf=0.0,\n",
       "           n_estimators=100, n_jobs=1, oob_score=False, random_state=None,\n",
       "           verbose=0, warm_start=False)"
      ]
     },
     "execution_count": 68,
     "metadata": {},
     "output_type": "execute_result"
    }
   ],
   "source": [
    "control_rf.fit(X_control_train,y_control_train)"
   ]
  },
  {
   "cell_type": "markdown",
   "metadata": {
    "collapsed": true,
    "deletable": true,
    "editable": true
   },
   "source": [
    "### RMSE on `Control`"
   ]
  },
  {
   "cell_type": "code",
   "execution_count": 69,
   "metadata": {
    "collapsed": false,
    "deletable": true,
    "editable": true
   },
   "outputs": [],
   "source": [
    "rmse_control = np.linalg.norm(y_control_test- control_rf.predict(X_control_test))/sqrt(len(y_control_test))\n"
   ]
  },
  {
   "cell_type": "code",
   "execution_count": 70,
   "metadata": {
    "collapsed": false,
    "deletable": true,
    "editable": true
   },
   "outputs": [
    {
     "data": {
      "text/plain": [
       "25.557131685695875"
      ]
     },
     "execution_count": 70,
     "metadata": {},
     "output_type": "execute_result"
    }
   ],
   "source": [
    "rmse_control"
   ]
  },
  {
   "cell_type": "code",
   "execution_count": 71,
   "metadata": {
    "collapsed": false,
    "deletable": true,
    "editable": true
   },
   "outputs": [
    {
     "data": {
      "text/plain": [
       "RandomForestRegressor(bootstrap=True, criterion='mse', max_depth=None,\n",
       "           max_features='auto', max_leaf_nodes=None,\n",
       "           min_impurity_split=1e-07, min_samples_leaf=1,\n",
       "           min_samples_split=2, min_weight_fraction_leaf=0.0,\n",
       "           n_estimators=100, n_jobs=1, oob_score=False, random_state=None,\n",
       "           verbose=0, warm_start=False)"
      ]
     },
     "execution_count": 71,
     "metadata": {},
     "output_type": "execute_result"
    }
   ],
   "source": [
    "control_rf_test = RandomForestRegressor(n_estimators=100)\n",
    "control_rf_test.fit(control_X_train,control_y_train)"
   ]
  },
  {
   "cell_type": "markdown",
   "metadata": {
    "collapsed": true,
    "deletable": true,
    "editable": true
   },
   "source": [
    "<br>"
   ]
  },
  {
   "cell_type": "markdown",
   "metadata": {},
   "source": [
    "#### Predicted values for the `control` payments per day assume $\\$400$ is the price of a payment"
   ]
  },
  {
   "cell_type": "code",
   "execution_count": 78,
   "metadata": {
    "collapsed": false,
    "deletable": true,
    "editable": true
   },
   "outputs": [
    {
     "data": {
      "text/plain": [
       "817468.0"
      ]
     },
     "execution_count": 78,
     "metadata": {},
     "output_type": "execute_result"
    }
   ],
   "source": [
    "control_predictions = control_rf_test.predict(control_X_test)\n",
    "control_predictions_money = control_predictions*400\n",
    "predicted_totalpayment_control = np.sum([i*400 for i in control_rf_test.predict(control_X_test)])\n",
    "predicted_totalpayment_control\n"
   ]
  },
  {
   "cell_type": "markdown",
   "metadata": {
    "collapsed": true,
    "deletable": true,
    "editable": true
   },
   "source": [
    "###  `Experiment` group"
   ]
  },
  {
   "cell_type": "code",
   "execution_count": 72,
   "metadata": {
    "collapsed": true,
    "deletable": true,
    "editable": true
   },
   "outputs": [],
   "source": [
    "experiment_X_train = np.array([experiment_df_truncated.Pageviews,experiment_df_truncated.Clicks]).reshape(-1,2)\n",
    "experiment_y_train = np.array(experiment_df_truncated.Payments)\n",
    "\n",
    "X_experiment_train, X_experiment_test, y_experiment_train, y_experiment_test =\\\n",
    "    train_test_split(experiment_X_train, experiment_y_train, test_size=0.2, random_state=0)\n",
    "    \n",
    "experiment_X_test = np.array([experiment_df.Pageviews[:23],experiment_df.Clicks[:23]]).reshape(-1,2)\n"
   ]
  },
  {
   "cell_type": "code",
   "execution_count": 73,
   "metadata": {
    "collapsed": false,
    "deletable": true,
    "editable": true
   },
   "outputs": [
    {
     "data": {
      "text/plain": [
       "RandomForestRegressor(bootstrap=True, criterion='mse', max_depth=None,\n",
       "           max_features='auto', max_leaf_nodes=None,\n",
       "           min_impurity_split=1e-07, min_samples_leaf=1,\n",
       "           min_samples_split=2, min_weight_fraction_leaf=0.0,\n",
       "           n_estimators=1000, n_jobs=1, oob_score=False, random_state=None,\n",
       "           verbose=0, warm_start=False)"
      ]
     },
     "execution_count": 73,
     "metadata": {},
     "output_type": "execute_result"
    }
   ],
   "source": [
    "experiment_rf = RandomForestRegressor(n_estimators=1000)\n",
    "experiment_rf.fit(X_experiment_train,y_experiment_train)"
   ]
  },
  {
   "cell_type": "markdown",
   "metadata": {},
   "source": [
    "<br>"
   ]
  },
  {
   "cell_type": "markdown",
   "metadata": {},
   "source": [
    "### RMSE on `Experiment`"
   ]
  },
  {
   "cell_type": "code",
   "execution_count": 74,
   "metadata": {
    "collapsed": false,
    "deletable": true,
    "editable": true
   },
   "outputs": [
    {
     "data": {
      "text/plain": [
       "19.865752953261044"
      ]
     },
     "execution_count": 74,
     "metadata": {},
     "output_type": "execute_result"
    }
   ],
   "source": [
    "rmse_experiment = np.linalg.norm(y_experiment_test- experiment_rf.predict(X_experiment_test))/ \\\n",
    "sqrt(len(y_experiment_test))\n",
    "rmse_experiment\n"
   ]
  },
  {
   "cell_type": "code",
   "execution_count": 75,
   "metadata": {
    "collapsed": false,
    "deletable": true,
    "editable": true
   },
   "outputs": [
    {
     "data": {
      "text/plain": [
       "RandomForestRegressor(bootstrap=True, criterion='mse', max_depth=None,\n",
       "           max_features='auto', max_leaf_nodes=None,\n",
       "           min_impurity_split=1e-07, min_samples_leaf=1,\n",
       "           min_samples_split=2, min_weight_fraction_leaf=0.0,\n",
       "           n_estimators=100, n_jobs=1, oob_score=False, random_state=None,\n",
       "           verbose=0, warm_start=False)"
      ]
     },
     "execution_count": 75,
     "metadata": {},
     "output_type": "execute_result"
    }
   ],
   "source": [
    "experiment_rf_test = RandomForestRegressor(n_estimators=100)\n",
    "experiment_rf_test.fit(experiment_X_train,experiment_y_train)"
   ]
  },
  {
   "cell_type": "markdown",
   "metadata": {},
   "source": [
    "<br>"
   ]
  },
  {
   "cell_type": "markdown",
   "metadata": {},
   "source": [
    "#### Predicted values for the `experiment` payments per day ssume $\\$400$ is the price of a payment"
   ]
  },
  {
   "cell_type": "code",
   "execution_count": 76,
   "metadata": {
    "collapsed": false,
    "deletable": true,
    "editable": true
   },
   "outputs": [
    {
     "data": {
      "text/plain": [
       "784292.0"
      ]
     },
     "execution_count": 76,
     "metadata": {},
     "output_type": "execute_result"
    }
   ],
   "source": [
    "predicted_paymenttotal_experiment = np.sum([i*400 for i in experiment_rf_test.predict(experiment_X_test)])\n",
    "experiment_predictions= experiment_rf_test.predict(experiment_X_test)\n",
    "experiment_prediction_money = experiment_predictions*400\n",
    "predicted_paymenttotal_experiment\n"
   ]
  },
  {
   "cell_type": "code",
   "execution_count": 79,
   "metadata": {
    "collapsed": false,
    "deletable": true,
    "editable": true
   },
   "outputs": [
    {
     "name": "stderr",
     "output_type": "stream",
     "text": [
      "/Users/Jeremy/anaconda/envs/gu/lib/python3.6/site-packages/statsmodels/nonparametric/kdetools.py:20: VisibleDeprecationWarning: using a non-integer number instead of an integer will result in an error in the future\n",
      "  y = X[:m/2+1] + np.r_[0,X[m/2+1:],0]*1j\n"
     ]
    },
    {
     "data": {
      "image/png": "[encoded data removed]",
      "text/plain": [
       "<matplotlib.figure.Figure at 0x118a832b0>"
      ]
     },
     "metadata": {},
     "output_type": "display_data"
    }
   ],
   "source": [
    "plt.figure(figsize=(12,7))\n",
    "sns.distplot(experiment_prediction_money, label='experiment')\n",
    "sns.distplot(control_predictions_money, label='control')\n",
    "plt.legend(fontsize=14)\n",
    "plt.title('Predicted Revenue Per Day', fontsize=16);"
   ]
  },
  {
   "cell_type": "markdown",
   "metadata": {},
   "source": [
    "## Recommendation\n",
    "- After reviewing the evidence, we suggest gradually increasing traffic to receive the squeeze page. This is due to the positive evidence from the bayesian analysis as well as the low business risk. \n",
    "- In addition, we suggest continuing to monitor the results and generate another report once the sample size requirement for frequentist statistics has been met. \n",
    "- Finally, additional metrics, such as revenue, can be used to further validate the total value of screening out people who may not complete a given course."
   ]
  },
  {
   "cell_type": "code",
   "execution_count": null,
   "metadata": {
    "collapsed": true
   },
   "outputs": [],
   "source": []
  }
 ],
 "metadata": {
  "anaconda-cloud": {},
  "kernelspec": {
   "display_name": "Python [conda env:gu]",
   "language": "python",
   "name": "conda-env-gu-py"
  },
  "language_info": {
   "codemirror_mode": {
    "name": "ipython",
    "version": 3
   },
   "file_extension": ".py",
   "mimetype": "text/x-python",
   "name": "python",
   "nbconvert_exporter": "python",
   "pygments_lexer": "ipython3",
   "version": "3.6.0"
  }
 },
 "nbformat": 4,
 "nbformat_minor": 1
}
