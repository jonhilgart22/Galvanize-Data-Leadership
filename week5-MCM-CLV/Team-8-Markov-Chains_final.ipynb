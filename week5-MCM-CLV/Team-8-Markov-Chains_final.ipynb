{
 "cells": [
  {
   "cell_type": "markdown",
   "metadata": {},
   "source": [
    "# $Customer\\ Analytics$\n",
    "\n",
    "#### Case Study II\n",
    "## <i>Customer Lifetime Value</i>\n",
    "---\n",
    "\n",
    "**Team 8:**  `Joseph Miguel, Jeremy Grace, Jonathan Hilgart, & Victor Vulovic`\n",
    "\n",
    "<br>"
   ]
  },
  {
   "cell_type": "code",
   "execution_count": 1,
   "metadata": {
    "collapsed": false,
    "deletable": true,
    "editable": true
   },
   "outputs": [
    {
     "name": "stdout",
     "output_type": "stream",
     "text": [
      "Populating the interactive namespace from numpy and matplotlib\n"
     ]
    },
    {
     "name": "stderr",
     "output_type": "stream",
     "text": [
      "/Users/jonathanhilgart/anaconda/lib/python3.5/site-packages/IPython/core/magics/pylab.py:161: UserWarning: pylab import has clobbered these variables: ['relativedelta']\n",
      "`%matplotlib` prevents importing * from pylab and numpy\n",
      "  \"\\n`%matplotlib` prevents importing * from pylab and numpy\"\n"
     ]
    }
   ],
   "source": [
    "import pandas as pd\n",
    "import numpy as np\n",
    "import seaborn as sns\n",
    "import datetime\n",
    "from dateutil import relativedelta\n",
    "import datetime\n",
    "%pylab inline\n",
    "import numpy as np\n",
    "import matplotlib.pyplot as plt\n",
    "import matplotlib.ticker as tkr\n"
   ]
  },
  {
   "cell_type": "markdown",
   "metadata": {},
   "source": [
    "* Load and prep <i>`purchase`</i> data"
   ]
  },
  {
   "cell_type": "code",
   "execution_count": 2,
   "metadata": {
    "collapsed": false,
    "deletable": true,
    "editable": true
   },
   "outputs": [],
   "source": [
    "col_names = ['customer_id','amount','date']\n",
    "original_df = pd.read_csv('purchases.txt',delimiter='\\t',names=col_names)\n",
    "original_df.date = pd.to_datetime(original_df['date']) ## datetime\n"
   ]
  },
  {
   "cell_type": "markdown",
   "metadata": {},
   "source": [
    "* Create separate columns for **`month`** and **`year`**:"
   ]
  },
  {
   "cell_type": "code",
   "execution_count": null,
   "metadata": {
    "collapsed": true
   },
   "outputs": [],
   "source": [
    "original_df['month'] = pd.DatetimeIndex(original_df['date']).month ## add in month\n",
    "original_df['year'] = pd.DatetimeIndex(original_df['date']).year ## add in year\n",
    "original_df.date = pd.DatetimeIndex(original_df['date'])\n",
    "##days\n",
    "start_date = datetime.datetime(2016,1,1)\n",
    "original_df['days_since_purchase'] = start_date -original_df.date  ## days since last purchase for each purchase\n"
   ]
  },
  {
   "cell_type": "code",
   "execution_count": 3,
   "metadata": {
    "collapsed": true,
    "deletable": true,
    "editable": true
   },
   "outputs": [],
   "source": [
    "#http://stackoverflow.com/questions/4039879/best-way-to-find-the-months-between-two-dates\n",
    "def diff_month(d1, d2):\n",
    "    return (d1.year - d2.year)*12 + d1.month - d2.month\n",
    "def diff_year(d1, d2):\n",
    "    return (d1.year - d2.year)"
   ]
  },
  {
   "cell_type": "code",
   "execution_count": 4,
   "metadata": {
    "collapsed": false,
    "deletable": true,
    "editable": true
   },
   "outputs": [],
   "source": [
    "#Months\n",
    "original_df['months_since_purchase']=original_df.date.apply(lambda x: diff_month(start_date,x))\n",
    "#Year\n",
    "original_df['years_since_purchase']=original_df.date.apply(lambda x: diff_year(start_date,x))\n"
   ]
  },
  {
   "cell_type": "markdown",
   "metadata": {},
   "source": [
    "* Get **quarters** (`three months` = 1 `quarter`)"
   ]
  },
  {
   "cell_type": "code",
   "execution_count": 5,
   "metadata": {
    "collapsed": false,
    "deletable": true,
    "editable": true,
    "scrolled": true
   },
   "outputs": [],
   "source": [
    "original_df['quarters_since_purchase'] = (original_df.months_since_purchase/3).apply(lambda x: round(x))\n",
    "# must use apply to avoid typerror for series to float failure for .round function"
   ]
  },
  {
   "cell_type": "markdown",
   "metadata": {},
   "source": [
    "* Create **indicators** for our `state`"
   ]
  },
  {
   "cell_type": "code",
   "execution_count": 6,
   "metadata": {
    "collapsed": false,
    "deletable": true,
    "editable": true
   },
   "outputs": [],
   "source": [
    "original_df['state_one'] = original_df.years_since_purchase.apply(lambda x: 3-x) >=0\n",
    "original_df['state_two'] =  original_df.years_since_purchase.apply(lambda x: x>3 and x<=6)\n",
    "original_df['state_three'] =  original_df.years_since_purchase.apply(lambda x: x>6 and x<=9)"
   ]
  },
  {
   "cell_type": "code",
   "execution_count": 7,
   "metadata": {
    "collapsed": false,
    "deletable": true,
    "editable": true
   },
   "outputs": [
    {
     "name": "stdout",
     "output_type": "stream",
     "text": [
      "Average purchases 2.7823749796383774\n",
      "Median purchases 2.0\n"
     ]
    }
   ],
   "source": [
    "## On average people make 2.78 purchases\n",
    "print('Average purchases', np.mean(original_df.groupby(by=['customer_id']).count()['amount']))\n",
    "# Median purcahses are 2.0\n",
    "print('Median purchases', np.median(original_df.groupby(by=['customer_id']).count()['amount']))\n"
   ]
  },
  {
   "cell_type": "markdown",
   "metadata": {},
   "source": [
    "* `Number of days` between purchases on average per customer"
   ]
  },
  {
   "cell_type": "code",
   "execution_count": 8,
   "metadata": {
    "collapsed": true,
    "deletable": true,
    "editable": true
   },
   "outputs": [],
   "source": [
    "first_last_per_customer =original_df.groupby('customer_id').date.max()  - \\\n",
    "original_df.groupby('customer_id').date.min()\n",
    "first_last_per_customer= first_last_per_customer.reset_index()\n",
    "number_of_purchases_per_cust = original_df.groupby('customer_id').amount.count()\n",
    "number_of_purchases_per_cust = number_of_purchases_per_cust.reset_index()\n",
    "first_last_per_customer['average']= first_last_per_customer.date / number_of_purchases_per_cust.amount\n",
    "average_time_between_purchases_days = first_last_per_customer\n"
   ]
  },
  {
   "cell_type": "code",
   "execution_count": 9,
   "metadata": {
    "collapsed": false,
    "deletable": true,
    "editable": true
   },
   "outputs": [],
   "source": [
    "average_time_between_purchases_days['average_days'] =\\\n",
    "        (first_last_per_customer.date / number_of_purchases_per_cust.amount).apply(lambda x:x.days)\n",
    "#average_time_between_purchases_days= average_time_between_purchases_days.apply(lambda x:x.days)\n",
    "average_time_between_purchases_days['average_months']= average_time_between_purchases_days.average_days.apply(lambda x:x/30)"
   ]
  },
  {
   "cell_type": "markdown",
   "metadata": {},
   "source": [
    "* `Average number of months` since purchase per customer id"
   ]
  },
  {
   "cell_type": "code",
   "execution_count": 10,
   "metadata": {
    "collapsed": true,
    "deletable": true,
    "editable": true
   },
   "outputs": [],
   "source": [
    "avg_months_since_purchase_per_customer= original_df.groupby(by=['customer_id',])['months_since_purchase'].mean().reset_index()"
   ]
  },
  {
   "cell_type": "code",
   "execution_count": 11,
   "metadata": {
    "collapsed": false,
    "deletable": true,
    "editable": true
   },
   "outputs": [
    {
     "name": "stdout",
     "output_type": "stream",
     "text": [
      "Average days in-between purchases 171.68892870717272\n",
      "Median number of days in-between purchases 51.0\n"
     ]
    }
   ],
   "source": [
    "#(### average number of days between purcahses per customer id\n",
    "## 0days means only one purchase\n",
    "\n",
    "print('Average days in-between purchases',np.mean( \\\n",
    "average_time_between_purchases_days.average_days))\n",
    "\n",
    "print('Median number of days in-between purchases',np.median( \\\n",
    "                        average_time_between_purchases_days.average_days))"
   ]
  },
  {
   "cell_type": "code",
   "execution_count": 12,
   "metadata": {
    "collapsed": false,
    "deletable": true,
    "editable": true
   },
   "outputs": [
    {
     "data": {
      "text/plain": [
       "<matplotlib.text.Text at 0x115592c18>"
      ]
     },
     "execution_count": 12,
     "metadata": {},
     "output_type": "execute_result"
    },
    {
     "data": {
      "image/png": "[encoded data removed]",
      "text/plain": [
       "<matplotlib.figure.Figure at 0x1049d8748>"
      ]
     },
     "metadata": {},
     "output_type": "display_data"
    }
   ],
   "source": [
    "average_time_between_purchases_days.average_days.plot(kind='kde',xlim=[0,500])\n",
    "plt.title('Average Days Between Purchases Purcahses Per Customer')\n",
    "plt.xlabel('Days');"
   ]
  },
  {
   "cell_type": "code",
   "execution_count": 13,
   "metadata": {
    "collapsed": false,
    "deletable": true,
    "editable": true
   },
   "outputs": [
    {
     "data": {
      "text/plain": [
       "<matplotlib.text.Text at 0x114d35a90>"
      ]
     },
     "execution_count": 13,
     "metadata": {},
     "output_type": "execute_result"
    },
    {
     "data": {
      "image/png": "[encoded data removed]",
      "text/plain": [
       "<matplotlib.figure.Figure at 0x114d23eb8>"
      ]
     },
     "metadata": {},
     "output_type": "display_data"
    }
   ],
   "source": [
    "average_time_between_purchases_days.average_months.plot(kind='kde',xlim=[0,20])\n",
    "plt.title('Average Months Between Purchases Purcahses Per Customer')\n",
    "plt.xlabel('Months');"
   ]
  },
  {
   "cell_type": "markdown",
   "metadata": {},
   "source": [
    "* `Number of purchases per month total` - **not** by unique customer id"
   ]
  },
  {
   "cell_type": "code",
   "execution_count": 14,
   "metadata": {
    "collapsed": false,
    "deletable": true,
    "editable": true,
    "scrolled": false
   },
   "outputs": [
    {
     "data": {
      "text/plain": [
       "<matplotlib.text.Text at 0x114cc6048>"
      ]
     },
     "execution_count": 14,
     "metadata": {},
     "output_type": "execute_result"
    },
    {
     "data": {
      "image/png": "[encoded data removed]",
      "text/plain": [
       "<matplotlib.figure.Figure at 0x114f96780>"
      ]
     },
     "metadata": {},
     "output_type": "display_data"
    }
   ],
   "source": [
    "original_df.groupby(by=['months_since_purchase']).count()['customer_id'].plot(kind='bar',figsize=([25,8]))\n",
    "plt.ylabel('Number of Purchases');"
   ]
  },
  {
   "cell_type": "markdown",
   "metadata": {},
   "source": [
    "* `Number of pruchases per year total` - **not** by unique customer id"
   ]
  },
  {
   "cell_type": "code",
   "execution_count": 15,
   "metadata": {
    "collapsed": false,
    "deletable": true,
    "editable": true
   },
   "outputs": [
    {
     "data": {
      "text/plain": [
       "<matplotlib.axes._subplots.AxesSubplot at 0x114e33b38>"
      ]
     },
     "execution_count": 15,
     "metadata": {},
     "output_type": "execute_result"
    },
    {
     "data": {
      "image/png": "[encoded data removed]",
      "text/plain": [
       "<matplotlib.figure.Figure at 0x11916a6d8>"
      ]
     },
     "metadata": {},
     "output_type": "display_data"
    }
   ],
   "source": [
    "original_df.groupby(by=['years_since_purchase']).count()['customer_id'].plot(kind='bar');"
   ]
  },
  {
   "cell_type": "code",
   "execution_count": 16,
   "metadata": {
    "collapsed": false,
    "deletable": true,
    "editable": true
   },
   "outputs": [],
   "source": [
    "cumulative_purchases_per_year = original_df.groupby(by=['years_since_purchase']).count()['customer_id'].apply(\n",
    "lambda x: x/sum(original_df.groupby(by=['years_since_purchase']).count())).reset_index()"
   ]
  },
  {
   "cell_type": "code",
   "execution_count": 17,
   "metadata": {
    "collapsed": false,
    "deletable": true,
    "editable": true
   },
   "outputs": [],
   "source": [
    "cumulative_purchases_per_year['running_total'] = cumulative_purchases_per_year.customer_id.cumsum()"
   ]
  },
  {
   "cell_type": "code",
   "execution_count": 18,
   "metadata": {
    "collapsed": false,
    "deletable": true,
    "editable": true
   },
   "outputs": [
    {
     "data": {
      "text/plain": [
       "<matplotlib.text.Text at 0x10a781550>"
      ]
     },
     "execution_count": 18,
     "metadata": {},
     "output_type": "execute_result"
    },
    {
     "data": {
      "image/png": "[encoded data removed]",
      "text/plain": [
       "<matplotlib.figure.Figure at 0x11910dbe0>"
      ]
     },
     "metadata": {},
     "output_type": "display_data"
    }
   ],
   "source": [
    "## Cumulative purchases over years\n",
    "plt.figure(figsize=(10,5))\n",
    "cumulative_purchases_per_year.running_total.plot(kind='bar',colormap='viridis')\n",
    "plt.title('Cumulative Purchases Per Year')\n",
    "plt.ylabel('Percent of Purchases')\n",
    "plt.xlabel('Number of Years');"
   ]
  },
  {
   "cell_type": "code",
   "execution_count": 19,
   "metadata": {
    "collapsed": false,
    "deletable": true,
    "editable": true
   },
   "outputs": [
    {
     "data": {
      "text/plain": [
       "<matplotlib.axes._subplots.AxesSubplot at 0x11a368390>"
      ]
     },
     "execution_count": 19,
     "metadata": {},
     "output_type": "execute_result"
    },
    {
     "data": {
      "image/png": "[encoded data removed]",
      "text/plain": [
       "<matplotlib.figure.Figure at 0x11931c208>"
      ]
     },
     "metadata": {},
     "output_type": "display_data"
    }
   ],
   "source": [
    "## Total number of purchases per year\n",
    "original_df.groupby(['year']).count()['customer_id'].plot(kind='bar');"
   ]
  },
  {
   "cell_type": "markdown",
   "metadata": {
    "collapsed": true,
    "deletable": true,
    "editable": true
   },
   "source": [
    "---\n",
    "## Next, drop recrods in year 9 or 10 (only adds ~5% of total purchases)\n"
   ]
  },
  {
   "cell_type": "code",
   "execution_count": 20,
   "metadata": {
    "collapsed": false,
    "deletable": true,
    "editable": true,
    "scrolled": false
   },
   "outputs": [
    {
     "data": {
      "text/html": [
       "<div>\n",
       "<table border=\"1\" class=\"dataframe\">\n",
       "  <thead>\n",
       "    <tr style=\"text-align: right;\">\n",
       "      <th></th>\n",
       "      <th>customer_id</th>\n",
       "      <th>amount</th>\n",
       "      <th>date</th>\n",
       "      <th>month</th>\n",
       "      <th>year</th>\n",
       "      <th>days_since_purchase</th>\n",
       "      <th>months_since_purchase</th>\n",
       "      <th>years_since_purchase</th>\n",
       "      <th>quarters_since_purchase</th>\n",
       "      <th>state_one</th>\n",
       "      <th>state_two</th>\n",
       "      <th>state_three</th>\n",
       "    </tr>\n",
       "  </thead>\n",
       "  <tbody>\n",
       "    <tr>\n",
       "      <th>2</th>\n",
       "      <td>1200</td>\n",
       "      <td>100.0</td>\n",
       "      <td>2005-10-25</td>\n",
       "      <td>10</td>\n",
       "      <td>2005</td>\n",
       "      <td>3720 days</td>\n",
       "      <td>123</td>\n",
       "      <td>11</td>\n",
       "      <td>41</td>\n",
       "      <td>False</td>\n",
       "      <td>False</td>\n",
       "      <td>False</td>\n",
       "    </tr>\n",
       "    <tr>\n",
       "      <th>6</th>\n",
       "      <td>2620</td>\n",
       "      <td>30.0</td>\n",
       "      <td>2006-03-09</td>\n",
       "      <td>3</td>\n",
       "      <td>2006</td>\n",
       "      <td>3585 days</td>\n",
       "      <td>118</td>\n",
       "      <td>10</td>\n",
       "      <td>39</td>\n",
       "      <td>False</td>\n",
       "      <td>False</td>\n",
       "      <td>False</td>\n",
       "    </tr>\n",
       "    <tr>\n",
       "      <th>8</th>\n",
       "      <td>3120</td>\n",
       "      <td>150.0</td>\n",
       "      <td>2006-11-08</td>\n",
       "      <td>11</td>\n",
       "      <td>2006</td>\n",
       "      <td>3341 days</td>\n",
       "      <td>110</td>\n",
       "      <td>10</td>\n",
       "      <td>37</td>\n",
       "      <td>False</td>\n",
       "      <td>False</td>\n",
       "      <td>False</td>\n",
       "    </tr>\n",
       "    <tr>\n",
       "      <th>12</th>\n",
       "      <td>4000</td>\n",
       "      <td>20.0</td>\n",
       "      <td>2005-11-25</td>\n",
       "      <td>11</td>\n",
       "      <td>2005</td>\n",
       "      <td>3689 days</td>\n",
       "      <td>122</td>\n",
       "      <td>11</td>\n",
       "      <td>41</td>\n",
       "      <td>False</td>\n",
       "      <td>False</td>\n",
       "      <td>False</td>\n",
       "    </tr>\n",
       "    <tr>\n",
       "      <th>16</th>\n",
       "      <td>4840</td>\n",
       "      <td>30.0</td>\n",
       "      <td>2005-10-14</td>\n",
       "      <td>10</td>\n",
       "      <td>2005</td>\n",
       "      <td>3731 days</td>\n",
       "      <td>123</td>\n",
       "      <td>11</td>\n",
       "      <td>41</td>\n",
       "      <td>False</td>\n",
       "      <td>False</td>\n",
       "      <td>False</td>\n",
       "    </tr>\n",
       "    <tr>\n",
       "      <th>17</th>\n",
       "      <td>4910</td>\n",
       "      <td>15.0</td>\n",
       "      <td>2006-12-13</td>\n",
       "      <td>12</td>\n",
       "      <td>2006</td>\n",
       "      <td>3306 days</td>\n",
       "      <td>109</td>\n",
       "      <td>10</td>\n",
       "      <td>36</td>\n",
       "      <td>False</td>\n",
       "      <td>False</td>\n",
       "      <td>False</td>\n",
       "    </tr>\n",
       "    <tr>\n",
       "      <th>19</th>\n",
       "      <td>4970</td>\n",
       "      <td>30.0</td>\n",
       "      <td>2006-12-01</td>\n",
       "      <td>12</td>\n",
       "      <td>2006</td>\n",
       "      <td>3318 days</td>\n",
       "      <td>109</td>\n",
       "      <td>10</td>\n",
       "      <td>36</td>\n",
       "      <td>False</td>\n",
       "      <td>False</td>\n",
       "      <td>False</td>\n",
       "    </tr>\n",
       "    <tr>\n",
       "      <th>20</th>\n",
       "      <td>5250</td>\n",
       "      <td>50.0</td>\n",
       "      <td>2005-12-20</td>\n",
       "      <td>12</td>\n",
       "      <td>2005</td>\n",
       "      <td>3664 days</td>\n",
       "      <td>121</td>\n",
       "      <td>11</td>\n",
       "      <td>40</td>\n",
       "      <td>False</td>\n",
       "      <td>False</td>\n",
       "      <td>False</td>\n",
       "    </tr>\n",
       "    <tr>\n",
       "      <th>22</th>\n",
       "      <td>5990</td>\n",
       "      <td>30.0</td>\n",
       "      <td>2006-03-17</td>\n",
       "      <td>3</td>\n",
       "      <td>2006</td>\n",
       "      <td>3577 days</td>\n",
       "      <td>118</td>\n",
       "      <td>10</td>\n",
       "      <td>39</td>\n",
       "      <td>False</td>\n",
       "      <td>False</td>\n",
       "      <td>False</td>\n",
       "    </tr>\n",
       "    <tr>\n",
       "      <th>23</th>\n",
       "      <td>6240</td>\n",
       "      <td>100.0</td>\n",
       "      <td>2006-11-09</td>\n",
       "      <td>11</td>\n",
       "      <td>2006</td>\n",
       "      <td>3340 days</td>\n",
       "      <td>110</td>\n",
       "      <td>10</td>\n",
       "      <td>37</td>\n",
       "      <td>False</td>\n",
       "      <td>False</td>\n",
       "      <td>False</td>\n",
       "    </tr>\n",
       "    <tr>\n",
       "      <th>24</th>\n",
       "      <td>6390</td>\n",
       "      <td>15.0</td>\n",
       "      <td>2005-10-25</td>\n",
       "      <td>10</td>\n",
       "      <td>2005</td>\n",
       "      <td>3720 days</td>\n",
       "      <td>123</td>\n",
       "      <td>11</td>\n",
       "      <td>41</td>\n",
       "      <td>False</td>\n",
       "      <td>False</td>\n",
       "      <td>False</td>\n",
       "    </tr>\n",
       "    <tr>\n",
       "      <th>26</th>\n",
       "      <td>6600</td>\n",
       "      <td>50.0</td>\n",
       "      <td>2005-09-23</td>\n",
       "      <td>9</td>\n",
       "      <td>2005</td>\n",
       "      <td>3752 days</td>\n",
       "      <td>124</td>\n",
       "      <td>11</td>\n",
       "      <td>41</td>\n",
       "      <td>False</td>\n",
       "      <td>False</td>\n",
       "      <td>False</td>\n",
       "    </tr>\n",
       "    <tr>\n",
       "      <th>36</th>\n",
       "      <td>7660</td>\n",
       "      <td>30.0</td>\n",
       "      <td>2006-06-03</td>\n",
       "      <td>6</td>\n",
       "      <td>2006</td>\n",
       "      <td>3499 days</td>\n",
       "      <td>115</td>\n",
       "      <td>10</td>\n",
       "      <td>38</td>\n",
       "      <td>False</td>\n",
       "      <td>False</td>\n",
       "      <td>False</td>\n",
       "    </tr>\n",
       "    <tr>\n",
       "      <th>43</th>\n",
       "      <td>8190</td>\n",
       "      <td>20.0</td>\n",
       "      <td>2006-12-09</td>\n",
       "      <td>12</td>\n",
       "      <td>2006</td>\n",
       "      <td>3310 days</td>\n",
       "      <td>109</td>\n",
       "      <td>10</td>\n",
       "      <td>36</td>\n",
       "      <td>False</td>\n",
       "      <td>False</td>\n",
       "      <td>False</td>\n",
       "    </tr>\n",
       "    <tr>\n",
       "      <th>45</th>\n",
       "      <td>8550</td>\n",
       "      <td>30.0</td>\n",
       "      <td>2006-10-17</td>\n",
       "      <td>10</td>\n",
       "      <td>2006</td>\n",
       "      <td>3363 days</td>\n",
       "      <td>111</td>\n",
       "      <td>10</td>\n",
       "      <td>37</td>\n",
       "      <td>False</td>\n",
       "      <td>False</td>\n",
       "      <td>False</td>\n",
       "    </tr>\n",
       "    <tr>\n",
       "      <th>49</th>\n",
       "      <td>8720</td>\n",
       "      <td>50.0</td>\n",
       "      <td>2005-08-23</td>\n",
       "      <td>8</td>\n",
       "      <td>2005</td>\n",
       "      <td>3783 days</td>\n",
       "      <td>125</td>\n",
       "      <td>11</td>\n",
       "      <td>42</td>\n",
       "      <td>False</td>\n",
       "      <td>False</td>\n",
       "      <td>False</td>\n",
       "    </tr>\n",
       "    <tr>\n",
       "      <th>51</th>\n",
       "      <td>9010</td>\n",
       "      <td>15.0</td>\n",
       "      <td>2005-10-25</td>\n",
       "      <td>10</td>\n",
       "      <td>2005</td>\n",
       "      <td>3720 days</td>\n",
       "      <td>123</td>\n",
       "      <td>11</td>\n",
       "      <td>41</td>\n",
       "      <td>False</td>\n",
       "      <td>False</td>\n",
       "      <td>False</td>\n",
       "    </tr>\n",
       "    <tr>\n",
       "      <th>53</th>\n",
       "      <td>9250</td>\n",
       "      <td>25.0</td>\n",
       "      <td>2005-08-02</td>\n",
       "      <td>8</td>\n",
       "      <td>2005</td>\n",
       "      <td>3804 days</td>\n",
       "      <td>125</td>\n",
       "      <td>11</td>\n",
       "      <td>42</td>\n",
       "      <td>False</td>\n",
       "      <td>False</td>\n",
       "      <td>False</td>\n",
       "    </tr>\n",
       "    <tr>\n",
       "      <th>56</th>\n",
       "      <td>9740</td>\n",
       "      <td>60.0</td>\n",
       "      <td>2006-12-31</td>\n",
       "      <td>12</td>\n",
       "      <td>2006</td>\n",
       "      <td>3288 days</td>\n",
       "      <td>109</td>\n",
       "      <td>10</td>\n",
       "      <td>36</td>\n",
       "      <td>False</td>\n",
       "      <td>False</td>\n",
       "      <td>False</td>\n",
       "    </tr>\n",
       "    <tr>\n",
       "      <th>60</th>\n",
       "      <td>10210</td>\n",
       "      <td>30.0</td>\n",
       "      <td>2006-10-31</td>\n",
       "      <td>10</td>\n",
       "      <td>2006</td>\n",
       "      <td>3349 days</td>\n",
       "      <td>111</td>\n",
       "      <td>10</td>\n",
       "      <td>37</td>\n",
       "      <td>False</td>\n",
       "      <td>False</td>\n",
       "      <td>False</td>\n",
       "    </tr>\n",
       "    <tr>\n",
       "      <th>62</th>\n",
       "      <td>10310</td>\n",
       "      <td>30.0</td>\n",
       "      <td>2005-12-17</td>\n",
       "      <td>12</td>\n",
       "      <td>2005</td>\n",
       "      <td>3667 days</td>\n",
       "      <td>121</td>\n",
       "      <td>11</td>\n",
       "      <td>40</td>\n",
       "      <td>False</td>\n",
       "      <td>False</td>\n",
       "      <td>False</td>\n",
       "    </tr>\n",
       "    <tr>\n",
       "      <th>63</th>\n",
       "      <td>10550</td>\n",
       "      <td>30.0</td>\n",
       "      <td>2006-12-31</td>\n",
       "      <td>12</td>\n",
       "      <td>2006</td>\n",
       "      <td>3288 days</td>\n",
       "      <td>109</td>\n",
       "      <td>10</td>\n",
       "      <td>36</td>\n",
       "      <td>False</td>\n",
       "      <td>False</td>\n",
       "      <td>False</td>\n",
       "    </tr>\n",
       "    <tr>\n",
       "      <th>68</th>\n",
       "      <td>10700</td>\n",
       "      <td>15.0</td>\n",
       "      <td>2006-03-08</td>\n",
       "      <td>3</td>\n",
       "      <td>2006</td>\n",
       "      <td>3586 days</td>\n",
       "      <td>118</td>\n",
       "      <td>10</td>\n",
       "      <td>39</td>\n",
       "      <td>False</td>\n",
       "      <td>False</td>\n",
       "      <td>False</td>\n",
       "    </tr>\n",
       "    <tr>\n",
       "      <th>71</th>\n",
       "      <td>10870</td>\n",
       "      <td>25.0</td>\n",
       "      <td>2005-08-02</td>\n",
       "      <td>8</td>\n",
       "      <td>2005</td>\n",
       "      <td>3804 days</td>\n",
       "      <td>125</td>\n",
       "      <td>11</td>\n",
       "      <td>42</td>\n",
       "      <td>False</td>\n",
       "      <td>False</td>\n",
       "      <td>False</td>\n",
       "    </tr>\n",
       "    <tr>\n",
       "      <th>74</th>\n",
       "      <td>11070</td>\n",
       "      <td>25.0</td>\n",
       "      <td>2005-07-26</td>\n",
       "      <td>7</td>\n",
       "      <td>2005</td>\n",
       "      <td>3811 days</td>\n",
       "      <td>126</td>\n",
       "      <td>11</td>\n",
       "      <td>42</td>\n",
       "      <td>False</td>\n",
       "      <td>False</td>\n",
       "      <td>False</td>\n",
       "    </tr>\n",
       "    <tr>\n",
       "      <th>75</th>\n",
       "      <td>11070</td>\n",
       "      <td>30.0</td>\n",
       "      <td>2006-04-29</td>\n",
       "      <td>4</td>\n",
       "      <td>2006</td>\n",
       "      <td>3534 days</td>\n",
       "      <td>117</td>\n",
       "      <td>10</td>\n",
       "      <td>39</td>\n",
       "      <td>False</td>\n",
       "      <td>False</td>\n",
       "      <td>False</td>\n",
       "    </tr>\n",
       "    <tr>\n",
       "      <th>85</th>\n",
       "      <td>12060</td>\n",
       "      <td>20.0</td>\n",
       "      <td>2005-10-14</td>\n",
       "      <td>10</td>\n",
       "      <td>2005</td>\n",
       "      <td>3731 days</td>\n",
       "      <td>123</td>\n",
       "      <td>11</td>\n",
       "      <td>41</td>\n",
       "      <td>False</td>\n",
       "      <td>False</td>\n",
       "      <td>False</td>\n",
       "    </tr>\n",
       "    <tr>\n",
       "      <th>90</th>\n",
       "      <td>12670</td>\n",
       "      <td>180.0</td>\n",
       "      <td>2005-11-16</td>\n",
       "      <td>11</td>\n",
       "      <td>2005</td>\n",
       "      <td>3698 days</td>\n",
       "      <td>122</td>\n",
       "      <td>11</td>\n",
       "      <td>41</td>\n",
       "      <td>False</td>\n",
       "      <td>False</td>\n",
       "      <td>False</td>\n",
       "    </tr>\n",
       "    <tr>\n",
       "      <th>92</th>\n",
       "      <td>13140</td>\n",
       "      <td>30.0</td>\n",
       "      <td>2005-10-29</td>\n",
       "      <td>10</td>\n",
       "      <td>2005</td>\n",
       "      <td>3716 days</td>\n",
       "      <td>123</td>\n",
       "      <td>11</td>\n",
       "      <td>41</td>\n",
       "      <td>False</td>\n",
       "      <td>False</td>\n",
       "      <td>False</td>\n",
       "    </tr>\n",
       "    <tr>\n",
       "      <th>94</th>\n",
       "      <td>13240</td>\n",
       "      <td>15.0</td>\n",
       "      <td>2005-11-23</td>\n",
       "      <td>11</td>\n",
       "      <td>2005</td>\n",
       "      <td>3691 days</td>\n",
       "      <td>122</td>\n",
       "      <td>11</td>\n",
       "      <td>41</td>\n",
       "      <td>False</td>\n",
       "      <td>False</td>\n",
       "      <td>False</td>\n",
       "    </tr>\n",
       "    <tr>\n",
       "      <th>...</th>\n",
       "      <td>...</td>\n",
       "      <td>...</td>\n",
       "      <td>...</td>\n",
       "      <td>...</td>\n",
       "      <td>...</td>\n",
       "      <td>...</td>\n",
       "      <td>...</td>\n",
       "      <td>...</td>\n",
       "      <td>...</td>\n",
       "      <td>...</td>\n",
       "      <td>...</td>\n",
       "      <td>...</td>\n",
       "    </tr>\n",
       "    <tr>\n",
       "      <th>50872</th>\n",
       "      <td>54100</td>\n",
       "      <td>50.0</td>\n",
       "      <td>2006-12-05</td>\n",
       "      <td>12</td>\n",
       "      <td>2006</td>\n",
       "      <td>3314 days</td>\n",
       "      <td>109</td>\n",
       "      <td>10</td>\n",
       "      <td>36</td>\n",
       "      <td>False</td>\n",
       "      <td>False</td>\n",
       "      <td>False</td>\n",
       "    </tr>\n",
       "    <tr>\n",
       "      <th>50881</th>\n",
       "      <td>6120</td>\n",
       "      <td>30.0</td>\n",
       "      <td>2006-12-31</td>\n",
       "      <td>12</td>\n",
       "      <td>2006</td>\n",
       "      <td>3288 days</td>\n",
       "      <td>109</td>\n",
       "      <td>10</td>\n",
       "      <td>36</td>\n",
       "      <td>False</td>\n",
       "      <td>False</td>\n",
       "      <td>False</td>\n",
       "    </tr>\n",
       "    <tr>\n",
       "      <th>50882</th>\n",
       "      <td>7550</td>\n",
       "      <td>15.0</td>\n",
       "      <td>2006-10-18</td>\n",
       "      <td>10</td>\n",
       "      <td>2006</td>\n",
       "      <td>3362 days</td>\n",
       "      <td>111</td>\n",
       "      <td>10</td>\n",
       "      <td>37</td>\n",
       "      <td>False</td>\n",
       "      <td>False</td>\n",
       "      <td>False</td>\n",
       "    </tr>\n",
       "    <tr>\n",
       "      <th>50884</th>\n",
       "      <td>13060</td>\n",
       "      <td>46.0</td>\n",
       "      <td>2005-09-02</td>\n",
       "      <td>9</td>\n",
       "      <td>2005</td>\n",
       "      <td>3773 days</td>\n",
       "      <td>124</td>\n",
       "      <td>11</td>\n",
       "      <td>41</td>\n",
       "      <td>False</td>\n",
       "      <td>False</td>\n",
       "      <td>False</td>\n",
       "    </tr>\n",
       "    <tr>\n",
       "      <th>50885</th>\n",
       "      <td>27370</td>\n",
       "      <td>30.0</td>\n",
       "      <td>2006-10-18</td>\n",
       "      <td>10</td>\n",
       "      <td>2006</td>\n",
       "      <td>3362 days</td>\n",
       "      <td>111</td>\n",
       "      <td>10</td>\n",
       "      <td>37</td>\n",
       "      <td>False</td>\n",
       "      <td>False</td>\n",
       "      <td>False</td>\n",
       "    </tr>\n",
       "    <tr>\n",
       "      <th>50902</th>\n",
       "      <td>33310</td>\n",
       "      <td>30.0</td>\n",
       "      <td>2006-03-17</td>\n",
       "      <td>3</td>\n",
       "      <td>2006</td>\n",
       "      <td>3577 days</td>\n",
       "      <td>118</td>\n",
       "      <td>10</td>\n",
       "      <td>39</td>\n",
       "      <td>False</td>\n",
       "      <td>False</td>\n",
       "      <td>False</td>\n",
       "    </tr>\n",
       "    <tr>\n",
       "      <th>50912</th>\n",
       "      <td>17810</td>\n",
       "      <td>50.0</td>\n",
       "      <td>2005-10-14</td>\n",
       "      <td>10</td>\n",
       "      <td>2005</td>\n",
       "      <td>3731 days</td>\n",
       "      <td>123</td>\n",
       "      <td>11</td>\n",
       "      <td>41</td>\n",
       "      <td>False</td>\n",
       "      <td>False</td>\n",
       "      <td>False</td>\n",
       "    </tr>\n",
       "    <tr>\n",
       "      <th>50920</th>\n",
       "      <td>6870</td>\n",
       "      <td>30.0</td>\n",
       "      <td>2005-04-22</td>\n",
       "      <td>4</td>\n",
       "      <td>2005</td>\n",
       "      <td>3906 days</td>\n",
       "      <td>129</td>\n",
       "      <td>11</td>\n",
       "      <td>43</td>\n",
       "      <td>False</td>\n",
       "      <td>False</td>\n",
       "      <td>False</td>\n",
       "    </tr>\n",
       "    <tr>\n",
       "      <th>50923</th>\n",
       "      <td>19250</td>\n",
       "      <td>15.0</td>\n",
       "      <td>2005-10-15</td>\n",
       "      <td>10</td>\n",
       "      <td>2005</td>\n",
       "      <td>3730 days</td>\n",
       "      <td>123</td>\n",
       "      <td>11</td>\n",
       "      <td>41</td>\n",
       "      <td>False</td>\n",
       "      <td>False</td>\n",
       "      <td>False</td>\n",
       "    </tr>\n",
       "    <tr>\n",
       "      <th>50935</th>\n",
       "      <td>50110</td>\n",
       "      <td>60.0</td>\n",
       "      <td>2006-10-20</td>\n",
       "      <td>10</td>\n",
       "      <td>2006</td>\n",
       "      <td>3360 days</td>\n",
       "      <td>111</td>\n",
       "      <td>10</td>\n",
       "      <td>37</td>\n",
       "      <td>False</td>\n",
       "      <td>False</td>\n",
       "      <td>False</td>\n",
       "    </tr>\n",
       "    <tr>\n",
       "      <th>50945</th>\n",
       "      <td>48900</td>\n",
       "      <td>30.0</td>\n",
       "      <td>2006-06-01</td>\n",
       "      <td>6</td>\n",
       "      <td>2006</td>\n",
       "      <td>3501 days</td>\n",
       "      <td>115</td>\n",
       "      <td>10</td>\n",
       "      <td>38</td>\n",
       "      <td>False</td>\n",
       "      <td>False</td>\n",
       "      <td>False</td>\n",
       "    </tr>\n",
       "    <tr>\n",
       "      <th>50956</th>\n",
       "      <td>54290</td>\n",
       "      <td>30.0</td>\n",
       "      <td>2006-12-06</td>\n",
       "      <td>12</td>\n",
       "      <td>2006</td>\n",
       "      <td>3313 days</td>\n",
       "      <td>109</td>\n",
       "      <td>10</td>\n",
       "      <td>36</td>\n",
       "      <td>False</td>\n",
       "      <td>False</td>\n",
       "      <td>False</td>\n",
       "    </tr>\n",
       "    <tr>\n",
       "      <th>50957</th>\n",
       "      <td>19180</td>\n",
       "      <td>30.0</td>\n",
       "      <td>2005-05-24</td>\n",
       "      <td>5</td>\n",
       "      <td>2005</td>\n",
       "      <td>3874 days</td>\n",
       "      <td>128</td>\n",
       "      <td>11</td>\n",
       "      <td>43</td>\n",
       "      <td>False</td>\n",
       "      <td>False</td>\n",
       "      <td>False</td>\n",
       "    </tr>\n",
       "    <tr>\n",
       "      <th>50972</th>\n",
       "      <td>55250</td>\n",
       "      <td>10.0</td>\n",
       "      <td>2006-12-13</td>\n",
       "      <td>12</td>\n",
       "      <td>2006</td>\n",
       "      <td>3306 days</td>\n",
       "      <td>109</td>\n",
       "      <td>10</td>\n",
       "      <td>36</td>\n",
       "      <td>False</td>\n",
       "      <td>False</td>\n",
       "      <td>False</td>\n",
       "    </tr>\n",
       "    <tr>\n",
       "      <th>50996</th>\n",
       "      <td>51070</td>\n",
       "      <td>50.0</td>\n",
       "      <td>2006-11-18</td>\n",
       "      <td>11</td>\n",
       "      <td>2006</td>\n",
       "      <td>3331 days</td>\n",
       "      <td>110</td>\n",
       "      <td>10</td>\n",
       "      <td>37</td>\n",
       "      <td>False</td>\n",
       "      <td>False</td>\n",
       "      <td>False</td>\n",
       "    </tr>\n",
       "    <tr>\n",
       "      <th>50999</th>\n",
       "      <td>18380</td>\n",
       "      <td>50.0</td>\n",
       "      <td>2005-04-27</td>\n",
       "      <td>4</td>\n",
       "      <td>2005</td>\n",
       "      <td>3901 days</td>\n",
       "      <td>129</td>\n",
       "      <td>11</td>\n",
       "      <td>43</td>\n",
       "      <td>False</td>\n",
       "      <td>False</td>\n",
       "      <td>False</td>\n",
       "    </tr>\n",
       "    <tr>\n",
       "      <th>51010</th>\n",
       "      <td>60970</td>\n",
       "      <td>70.0</td>\n",
       "      <td>2006-12-31</td>\n",
       "      <td>12</td>\n",
       "      <td>2006</td>\n",
       "      <td>3288 days</td>\n",
       "      <td>109</td>\n",
       "      <td>10</td>\n",
       "      <td>36</td>\n",
       "      <td>False</td>\n",
       "      <td>False</td>\n",
       "      <td>False</td>\n",
       "    </tr>\n",
       "    <tr>\n",
       "      <th>51034</th>\n",
       "      <td>9560</td>\n",
       "      <td>30.0</td>\n",
       "      <td>2005-04-16</td>\n",
       "      <td>4</td>\n",
       "      <td>2005</td>\n",
       "      <td>3912 days</td>\n",
       "      <td>129</td>\n",
       "      <td>11</td>\n",
       "      <td>43</td>\n",
       "      <td>False</td>\n",
       "      <td>False</td>\n",
       "      <td>False</td>\n",
       "    </tr>\n",
       "    <tr>\n",
       "      <th>51070</th>\n",
       "      <td>25280</td>\n",
       "      <td>30.0</td>\n",
       "      <td>2006-10-28</td>\n",
       "      <td>10</td>\n",
       "      <td>2006</td>\n",
       "      <td>3352 days</td>\n",
       "      <td>111</td>\n",
       "      <td>10</td>\n",
       "      <td>37</td>\n",
       "      <td>False</td>\n",
       "      <td>False</td>\n",
       "      <td>False</td>\n",
       "    </tr>\n",
       "    <tr>\n",
       "      <th>51073</th>\n",
       "      <td>6160</td>\n",
       "      <td>100.0</td>\n",
       "      <td>2005-12-27</td>\n",
       "      <td>12</td>\n",
       "      <td>2005</td>\n",
       "      <td>3657 days</td>\n",
       "      <td>121</td>\n",
       "      <td>11</td>\n",
       "      <td>40</td>\n",
       "      <td>False</td>\n",
       "      <td>False</td>\n",
       "      <td>False</td>\n",
       "    </tr>\n",
       "    <tr>\n",
       "      <th>51088</th>\n",
       "      <td>59290</td>\n",
       "      <td>15.0</td>\n",
       "      <td>2006-12-31</td>\n",
       "      <td>12</td>\n",
       "      <td>2006</td>\n",
       "      <td>3288 days</td>\n",
       "      <td>109</td>\n",
       "      <td>10</td>\n",
       "      <td>36</td>\n",
       "      <td>False</td>\n",
       "      <td>False</td>\n",
       "      <td>False</td>\n",
       "    </tr>\n",
       "    <tr>\n",
       "      <th>51089</th>\n",
       "      <td>52100</td>\n",
       "      <td>50.0</td>\n",
       "      <td>2006-11-24</td>\n",
       "      <td>11</td>\n",
       "      <td>2006</td>\n",
       "      <td>3325 days</td>\n",
       "      <td>110</td>\n",
       "      <td>10</td>\n",
       "      <td>37</td>\n",
       "      <td>False</td>\n",
       "      <td>False</td>\n",
       "      <td>False</td>\n",
       "    </tr>\n",
       "    <tr>\n",
       "      <th>51098</th>\n",
       "      <td>15520</td>\n",
       "      <td>30.0</td>\n",
       "      <td>2005-04-20</td>\n",
       "      <td>4</td>\n",
       "      <td>2005</td>\n",
       "      <td>3908 days</td>\n",
       "      <td>129</td>\n",
       "      <td>11</td>\n",
       "      <td>43</td>\n",
       "      <td>False</td>\n",
       "      <td>False</td>\n",
       "      <td>False</td>\n",
       "    </tr>\n",
       "    <tr>\n",
       "      <th>51109</th>\n",
       "      <td>47770</td>\n",
       "      <td>50.0</td>\n",
       "      <td>2005-12-31</td>\n",
       "      <td>12</td>\n",
       "      <td>2005</td>\n",
       "      <td>3653 days</td>\n",
       "      <td>121</td>\n",
       "      <td>11</td>\n",
       "      <td>40</td>\n",
       "      <td>False</td>\n",
       "      <td>False</td>\n",
       "      <td>False</td>\n",
       "    </tr>\n",
       "    <tr>\n",
       "      <th>51143</th>\n",
       "      <td>13710</td>\n",
       "      <td>50.0</td>\n",
       "      <td>2006-11-29</td>\n",
       "      <td>11</td>\n",
       "      <td>2006</td>\n",
       "      <td>3320 days</td>\n",
       "      <td>110</td>\n",
       "      <td>10</td>\n",
       "      <td>37</td>\n",
       "      <td>False</td>\n",
       "      <td>False</td>\n",
       "      <td>False</td>\n",
       "    </tr>\n",
       "    <tr>\n",
       "      <th>51151</th>\n",
       "      <td>24980</td>\n",
       "      <td>30.0</td>\n",
       "      <td>2006-11-23</td>\n",
       "      <td>11</td>\n",
       "      <td>2006</td>\n",
       "      <td>3326 days</td>\n",
       "      <td>110</td>\n",
       "      <td>10</td>\n",
       "      <td>37</td>\n",
       "      <td>False</td>\n",
       "      <td>False</td>\n",
       "      <td>False</td>\n",
       "    </tr>\n",
       "    <tr>\n",
       "      <th>51164</th>\n",
       "      <td>19320</td>\n",
       "      <td>10.0</td>\n",
       "      <td>2005-05-24</td>\n",
       "      <td>5</td>\n",
       "      <td>2005</td>\n",
       "      <td>3874 days</td>\n",
       "      <td>128</td>\n",
       "      <td>11</td>\n",
       "      <td>43</td>\n",
       "      <td>False</td>\n",
       "      <td>False</td>\n",
       "      <td>False</td>\n",
       "    </tr>\n",
       "    <tr>\n",
       "      <th>51175</th>\n",
       "      <td>61240</td>\n",
       "      <td>40.0</td>\n",
       "      <td>2006-12-31</td>\n",
       "      <td>12</td>\n",
       "      <td>2006</td>\n",
       "      <td>3288 days</td>\n",
       "      <td>109</td>\n",
       "      <td>10</td>\n",
       "      <td>36</td>\n",
       "      <td>False</td>\n",
       "      <td>False</td>\n",
       "      <td>False</td>\n",
       "    </tr>\n",
       "    <tr>\n",
       "      <th>51176</th>\n",
       "      <td>48180</td>\n",
       "      <td>100.0</td>\n",
       "      <td>2006-12-31</td>\n",
       "      <td>12</td>\n",
       "      <td>2006</td>\n",
       "      <td>3288 days</td>\n",
       "      <td>109</td>\n",
       "      <td>10</td>\n",
       "      <td>36</td>\n",
       "      <td>False</td>\n",
       "      <td>False</td>\n",
       "      <td>False</td>\n",
       "    </tr>\n",
       "    <tr>\n",
       "      <th>51186</th>\n",
       "      <td>60140</td>\n",
       "      <td>40.0</td>\n",
       "      <td>2006-12-31</td>\n",
       "      <td>12</td>\n",
       "      <td>2006</td>\n",
       "      <td>3288 days</td>\n",
       "      <td>109</td>\n",
       "      <td>10</td>\n",
       "      <td>36</td>\n",
       "      <td>False</td>\n",
       "      <td>False</td>\n",
       "      <td>False</td>\n",
       "    </tr>\n",
       "  </tbody>\n",
       "</table>\n",
       "<p>3652 rows × 12 columns</p>\n",
       "</div>"
      ],
      "text/plain": [
       "       customer_id  amount       date  month  year  days_since_purchase  \\\n",
       "2             1200   100.0 2005-10-25     10  2005            3720 days   \n",
       "6             2620    30.0 2006-03-09      3  2006            3585 days   \n",
       "8             3120   150.0 2006-11-08     11  2006            3341 days   \n",
       "12            4000    20.0 2005-11-25     11  2005            3689 days   \n",
       "16            4840    30.0 2005-10-14     10  2005            3731 days   \n",
       "17            4910    15.0 2006-12-13     12  2006            3306 days   \n",
       "19            4970    30.0 2006-12-01     12  2006            3318 days   \n",
       "20            5250    50.0 2005-12-20     12  2005            3664 days   \n",
       "22            5990    30.0 2006-03-17      3  2006            3577 days   \n",
       "23            6240   100.0 2006-11-09     11  2006            3340 days   \n",
       "24            6390    15.0 2005-10-25     10  2005            3720 days   \n",
       "26            6600    50.0 2005-09-23      9  2005            3752 days   \n",
       "36            7660    30.0 2006-06-03      6  2006            3499 days   \n",
       "43            8190    20.0 2006-12-09     12  2006            3310 days   \n",
       "45            8550    30.0 2006-10-17     10  2006            3363 days   \n",
       "49            8720    50.0 2005-08-23      8  2005            3783 days   \n",
       "51            9010    15.0 2005-10-25     10  2005            3720 days   \n",
       "53            9250    25.0 2005-08-02      8  2005            3804 days   \n",
       "56            9740    60.0 2006-12-31     12  2006            3288 days   \n",
       "60           10210    30.0 2006-10-31     10  2006            3349 days   \n",
       "62           10310    30.0 2005-12-17     12  2005            3667 days   \n",
       "63           10550    30.0 2006-12-31     12  2006            3288 days   \n",
       "68           10700    15.0 2006-03-08      3  2006            3586 days   \n",
       "71           10870    25.0 2005-08-02      8  2005            3804 days   \n",
       "74           11070    25.0 2005-07-26      7  2005            3811 days   \n",
       "75           11070    30.0 2006-04-29      4  2006            3534 days   \n",
       "85           12060    20.0 2005-10-14     10  2005            3731 days   \n",
       "90           12670   180.0 2005-11-16     11  2005            3698 days   \n",
       "92           13140    30.0 2005-10-29     10  2005            3716 days   \n",
       "94           13240    15.0 2005-11-23     11  2005            3691 days   \n",
       "...            ...     ...        ...    ...   ...                  ...   \n",
       "50872        54100    50.0 2006-12-05     12  2006            3314 days   \n",
       "50881         6120    30.0 2006-12-31     12  2006            3288 days   \n",
       "50882         7550    15.0 2006-10-18     10  2006            3362 days   \n",
       "50884        13060    46.0 2005-09-02      9  2005            3773 days   \n",
       "50885        27370    30.0 2006-10-18     10  2006            3362 days   \n",
       "50902        33310    30.0 2006-03-17      3  2006            3577 days   \n",
       "50912        17810    50.0 2005-10-14     10  2005            3731 days   \n",
       "50920         6870    30.0 2005-04-22      4  2005            3906 days   \n",
       "50923        19250    15.0 2005-10-15     10  2005            3730 days   \n",
       "50935        50110    60.0 2006-10-20     10  2006            3360 days   \n",
       "50945        48900    30.0 2006-06-01      6  2006            3501 days   \n",
       "50956        54290    30.0 2006-12-06     12  2006            3313 days   \n",
       "50957        19180    30.0 2005-05-24      5  2005            3874 days   \n",
       "50972        55250    10.0 2006-12-13     12  2006            3306 days   \n",
       "50996        51070    50.0 2006-11-18     11  2006            3331 days   \n",
       "50999        18380    50.0 2005-04-27      4  2005            3901 days   \n",
       "51010        60970    70.0 2006-12-31     12  2006            3288 days   \n",
       "51034         9560    30.0 2005-04-16      4  2005            3912 days   \n",
       "51070        25280    30.0 2006-10-28     10  2006            3352 days   \n",
       "51073         6160   100.0 2005-12-27     12  2005            3657 days   \n",
       "51088        59290    15.0 2006-12-31     12  2006            3288 days   \n",
       "51089        52100    50.0 2006-11-24     11  2006            3325 days   \n",
       "51098        15520    30.0 2005-04-20      4  2005            3908 days   \n",
       "51109        47770    50.0 2005-12-31     12  2005            3653 days   \n",
       "51143        13710    50.0 2006-11-29     11  2006            3320 days   \n",
       "51151        24980    30.0 2006-11-23     11  2006            3326 days   \n",
       "51164        19320    10.0 2005-05-24      5  2005            3874 days   \n",
       "51175        61240    40.0 2006-12-31     12  2006            3288 days   \n",
       "51176        48180   100.0 2006-12-31     12  2006            3288 days   \n",
       "51186        60140    40.0 2006-12-31     12  2006            3288 days   \n",
       "\n",
       "       months_since_purchase  years_since_purchase  quarters_since_purchase  \\\n",
       "2                        123                    11                       41   \n",
       "6                        118                    10                       39   \n",
       "8                        110                    10                       37   \n",
       "12                       122                    11                       41   \n",
       "16                       123                    11                       41   \n",
       "17                       109                    10                       36   \n",
       "19                       109                    10                       36   \n",
       "20                       121                    11                       40   \n",
       "22                       118                    10                       39   \n",
       "23                       110                    10                       37   \n",
       "24                       123                    11                       41   \n",
       "26                       124                    11                       41   \n",
       "36                       115                    10                       38   \n",
       "43                       109                    10                       36   \n",
       "45                       111                    10                       37   \n",
       "49                       125                    11                       42   \n",
       "51                       123                    11                       41   \n",
       "53                       125                    11                       42   \n",
       "56                       109                    10                       36   \n",
       "60                       111                    10                       37   \n",
       "62                       121                    11                       40   \n",
       "63                       109                    10                       36   \n",
       "68                       118                    10                       39   \n",
       "71                       125                    11                       42   \n",
       "74                       126                    11                       42   \n",
       "75                       117                    10                       39   \n",
       "85                       123                    11                       41   \n",
       "90                       122                    11                       41   \n",
       "92                       123                    11                       41   \n",
       "94                       122                    11                       41   \n",
       "...                      ...                   ...                      ...   \n",
       "50872                    109                    10                       36   \n",
       "50881                    109                    10                       36   \n",
       "50882                    111                    10                       37   \n",
       "50884                    124                    11                       41   \n",
       "50885                    111                    10                       37   \n",
       "50902                    118                    10                       39   \n",
       "50912                    123                    11                       41   \n",
       "50920                    129                    11                       43   \n",
       "50923                    123                    11                       41   \n",
       "50935                    111                    10                       37   \n",
       "50945                    115                    10                       38   \n",
       "50956                    109                    10                       36   \n",
       "50957                    128                    11                       43   \n",
       "50972                    109                    10                       36   \n",
       "50996                    110                    10                       37   \n",
       "50999                    129                    11                       43   \n",
       "51010                    109                    10                       36   \n",
       "51034                    129                    11                       43   \n",
       "51070                    111                    10                       37   \n",
       "51073                    121                    11                       40   \n",
       "51088                    109                    10                       36   \n",
       "51089                    110                    10                       37   \n",
       "51098                    129                    11                       43   \n",
       "51109                    121                    11                       40   \n",
       "51143                    110                    10                       37   \n",
       "51151                    110                    10                       37   \n",
       "51164                    128                    11                       43   \n",
       "51175                    109                    10                       36   \n",
       "51176                    109                    10                       36   \n",
       "51186                    109                    10                       36   \n",
       "\n",
       "      state_one state_two state_three  \n",
       "2         False     False       False  \n",
       "6         False     False       False  \n",
       "8         False     False       False  \n",
       "12        False     False       False  \n",
       "16        False     False       False  \n",
       "17        False     False       False  \n",
       "19        False     False       False  \n",
       "20        False     False       False  \n",
       "22        False     False       False  \n",
       "23        False     False       False  \n",
       "24        False     False       False  \n",
       "26        False     False       False  \n",
       "36        False     False       False  \n",
       "43        False     False       False  \n",
       "45        False     False       False  \n",
       "49        False     False       False  \n",
       "51        False     False       False  \n",
       "53        False     False       False  \n",
       "56        False     False       False  \n",
       "60        False     False       False  \n",
       "62        False     False       False  \n",
       "63        False     False       False  \n",
       "68        False     False       False  \n",
       "71        False     False       False  \n",
       "74        False     False       False  \n",
       "75        False     False       False  \n",
       "85        False     False       False  \n",
       "90        False     False       False  \n",
       "92        False     False       False  \n",
       "94        False     False       False  \n",
       "...         ...       ...         ...  \n",
       "50872     False     False       False  \n",
       "50881     False     False       False  \n",
       "50882     False     False       False  \n",
       "50884     False     False       False  \n",
       "50885     False     False       False  \n",
       "50902     False     False       False  \n",
       "50912     False     False       False  \n",
       "50920     False     False       False  \n",
       "50923     False     False       False  \n",
       "50935     False     False       False  \n",
       "50945     False     False       False  \n",
       "50956     False     False       False  \n",
       "50957     False     False       False  \n",
       "50972     False     False       False  \n",
       "50996     False     False       False  \n",
       "50999     False     False       False  \n",
       "51010     False     False       False  \n",
       "51034     False     False       False  \n",
       "51070     False     False       False  \n",
       "51073     False     False       False  \n",
       "51088     False     False       False  \n",
       "51089     False     False       False  \n",
       "51098     False     False       False  \n",
       "51109     False     False       False  \n",
       "51143     False     False       False  \n",
       "51151     False     False       False  \n",
       "51164     False     False       False  \n",
       "51175     False     False       False  \n",
       "51176     False     False       False  \n",
       "51186     False     False       False  \n",
       "\n",
       "[3652 rows x 12 columns]"
      ]
     },
     "execution_count": 20,
     "metadata": {},
     "output_type": "execute_result"
    }
   ],
   "source": [
    "## drop these \n",
    "original_df[(original_df.state_one == False) &\n",
    "            (original_df.state_two == False) &\n",
    "                (original_df.state_three == False)]"
   ]
  },
  {
   "cell_type": "code",
   "execution_count": 21,
   "metadata": {
    "collapsed": false,
    "deletable": true,
    "editable": true
   },
   "outputs": [],
   "source": [
    "indexes_to_drop = original_df[(original_df.state_one == False) &\n",
    "            (original_df.state_two == False) &\n",
    "                (original_df.state_three == False)].index"
   ]
  },
  {
   "cell_type": "code",
   "execution_count": 22,
   "metadata": {
    "collapsed": false,
    "deletable": true,
    "editable": true
   },
   "outputs": [],
   "source": [
    "# this drops the last years (with very few purchases)\n",
    "state_df = original_df.drop(original_df.index[indexes_to_drop])"
   ]
  },
  {
   "cell_type": "code",
   "execution_count": 23,
   "metadata": {
    "collapsed": false,
    "deletable": true,
    "editable": true
   },
   "outputs": [
    {
     "data": {
      "text/html": [
       "<div>\n",
       "<table border=\"1\" class=\"dataframe\">\n",
       "  <thead>\n",
       "    <tr style=\"text-align: right;\">\n",
       "      <th></th>\n",
       "      <th>customer_id</th>\n",
       "      <th>amount</th>\n",
       "      <th>date</th>\n",
       "      <th>month</th>\n",
       "      <th>year</th>\n",
       "      <th>days_since_purchase</th>\n",
       "      <th>months_since_purchase</th>\n",
       "      <th>years_since_purchase</th>\n",
       "      <th>quarters_since_purchase</th>\n",
       "      <th>state_one</th>\n",
       "      <th>state_two</th>\n",
       "      <th>state_three</th>\n",
       "    </tr>\n",
       "  </thead>\n",
       "  <tbody>\n",
       "  </tbody>\n",
       "</table>\n",
       "</div>"
      ],
      "text/plain": [
       "Empty DataFrame\n",
       "Columns: [customer_id, amount, date, month, year, days_since_purchase, months_since_purchase, years_since_purchase, quarters_since_purchase, state_one, state_two, state_three]\n",
       "Index: []"
      ]
     },
     "execution_count": 23,
     "metadata": {},
     "output_type": "execute_result"
    }
   ],
   "source": [
    "## Confirm we dropped everything correctly\n",
    "state_df[(state_df.state_one == False) &\n",
    "            (state_df.state_two == False) &\n",
    "                (state_df.state_three == False)]"
   ]
  },
  {
   "cell_type": "markdown",
   "metadata": {
    "deletable": true,
    "editable": true
   },
   "source": [
    "---\n",
    "# Next, break customers into segments using RFM metrics\n"
   ]
  },
  {
   "cell_type": "markdown",
   "metadata": {
    "deletable": true,
    "editable": true
   },
   "source": [
    "## Find Amount "
   ]
  },
  {
   "cell_type": "code",
   "execution_count": 24,
   "metadata": {
    "collapsed": false,
    "deletable": true,
    "editable": true
   },
   "outputs": [],
   "source": [
    "amount_df = state_df.groupby('amount').count()['customer_id'].reset_index()"
   ]
  },
  {
   "cell_type": "code",
   "execution_count": 25,
   "metadata": {
    "collapsed": false,
    "deletable": true,
    "editable": true
   },
   "outputs": [],
   "source": [
    "total_transactions = sum(state_df.groupby('amount').count()['customer_id'].reset_index()['customer_id'])"
   ]
  },
  {
   "cell_type": "code",
   "execution_count": 26,
   "metadata": {
    "collapsed": false,
    "deletable": true,
    "editable": true
   },
   "outputs": [],
   "source": [
    "amount_df['relative_percent']=state_df.groupby('amount').count()['customer_id'].reset_index().customer_id/ total_transactions"
   ]
  },
  {
   "cell_type": "code",
   "execution_count": 27,
   "metadata": {
    "collapsed": false,
    "deletable": true,
    "editable": true
   },
   "outputs": [],
   "source": [
    "amount_df['cumulative_percent']=amount_df.relative_percent.cumsum()"
   ]
  },
  {
   "cell_type": "code",
   "execution_count": 28,
   "metadata": {
    "collapsed": false,
    "deletable": true,
    "editable": true
   },
   "outputs": [],
   "source": [
    "amount_df['total_purchases'] = amount_df['customer_id']"
   ]
  },
  {
   "cell_type": "code",
   "execution_count": 29,
   "metadata": {
    "collapsed": false,
    "deletable": true,
    "editable": true
   },
   "outputs": [
    {
     "data": {
      "text/plain": [
       "<matplotlib.axes._subplots.AxesSubplot at 0x11a653550>"
      ]
     },
     "execution_count": 29,
     "metadata": {},
     "output_type": "execute_result"
    },
    {
     "data": {
      "image/png": "[encoded data removed]",
      "text/plain": [
       "<matplotlib.figure.Figure at 0x11a653278>"
      ]
     },
     "metadata": {},
     "output_type": "display_data"
    }
   ],
   "source": [
    "plt.figure(figsize=(23,7))\n",
    "sns.barplot(x=amount_df.amount[amount_df.amount<30],y=amount_df.cumulative_percent);\n"
   ]
  },
  {
   "cell_type": "code",
   "execution_count": 30,
   "metadata": {
    "collapsed": false,
    "deletable": true,
    "editable": true
   },
   "outputs": [
    {
     "data": {
      "text/plain": [
       "<matplotlib.axes._subplots.AxesSubplot at 0x1198bf710>"
      ]
     },
     "execution_count": 30,
     "metadata": {},
     "output_type": "execute_result"
    },
    {
     "data": {
      "image/png": "[encoded data removed]",
      "text/plain": [
       "<matplotlib.figure.Figure at 0x119a02358>"
      ]
     },
     "metadata": {},
     "output_type": "display_data"
    }
   ],
   "source": [
    "plt.figure(figsize=(23,7))\n",
    "sns.barplot(x=amount_df.amount[amount_df.amount<80],y=amount_df.cumulative_percent);\n"
   ]
  },
  {
   "cell_type": "code",
   "execution_count": 31,
   "metadata": {
    "collapsed": false,
    "deletable": true,
    "editable": true
   },
   "outputs": [
    {
     "data": {
      "text/plain": [
       "<matplotlib.axes._subplots.AxesSubplot at 0x11b8baa58>"
      ]
     },
     "execution_count": 31,
     "metadata": {},
     "output_type": "execute_result"
    },
    {
     "data": {
      "image/png": "[encoded data removed]",
      "text/plain": [
       "<matplotlib.figure.Figure at 0x11b8b2588>"
      ]
     },
     "metadata": {},
     "output_type": "display_data"
    }
   ],
   "source": [
    "plt.figure(figsize=(23,7))\n",
    "sns.barplot(x=amount_df.amount,y=amount_df.cumulative_percent);\n"
   ]
  },
  {
   "cell_type": "code",
   "execution_count": 32,
   "metadata": {
    "collapsed": false,
    "deletable": true,
    "editable": true
   },
   "outputs": [
    {
     "data": {
      "text/plain": [
       "<matplotlib.axes._subplots.AxesSubplot at 0x11bf22898>"
      ]
     },
     "execution_count": 32,
     "metadata": {},
     "output_type": "execute_result"
    },
    {
     "data": {
      "image/png": "[encoded data removed]",
      "text/plain": [
       "<matplotlib.figure.Figure at 0x119b494e0>"
      ]
     },
     "metadata": {},
     "output_type": "display_data"
    }
   ],
   "source": [
    "plt.figure(figsize=(23,7))\n",
    "total = sns.barplot(x=amount_df.amount[amount_df.amount<120],y=amount_df.total_purchases)\n",
    "for item in total.get_xticklabels():\n",
    "    item.set_rotation(90)\n",
    "\n",
    "total"
   ]
  },
  {
   "cell_type": "markdown",
   "metadata": {
    "deletable": true,
    "editable": true
   },
   "source": [
    "> ### most popular amount is \\$$30$. We will segment into two cohorts: $< \\$30\\ and > \\$30$"
   ]
  },
  {
   "cell_type": "markdown",
   "metadata": {
    "deletable": true,
    "editable": true
   },
   "source": [
    "----\n",
    "# Frequency"
   ]
  },
  {
   "cell_type": "code",
   "execution_count": 33,
   "metadata": {
    "collapsed": true,
    "deletable": true,
    "editable": true
   },
   "outputs": [],
   "source": [
    "frequency_df = state_df.groupby('customer_id').count().reset_index()"
   ]
  },
  {
   "cell_type": "code",
   "execution_count": 34,
   "metadata": {
    "collapsed": false,
    "deletable": true,
    "editable": true
   },
   "outputs": [
    {
     "data": {
      "text/html": [
       "<div>\n",
       "<table border=\"1\" class=\"dataframe\">\n",
       "  <thead>\n",
       "    <tr style=\"text-align: right;\">\n",
       "      <th></th>\n",
       "      <th>customer_id</th>\n",
       "      <th>amount</th>\n",
       "      <th>date</th>\n",
       "      <th>month</th>\n",
       "      <th>year</th>\n",
       "      <th>days_since_purchase</th>\n",
       "      <th>months_since_purchase</th>\n",
       "      <th>years_since_purchase</th>\n",
       "      <th>quarters_since_purchase</th>\n",
       "      <th>state_one</th>\n",
       "      <th>state_two</th>\n",
       "      <th>state_three</th>\n",
       "    </tr>\n",
       "  </thead>\n",
       "  <tbody>\n",
       "    <tr>\n",
       "      <th>0</th>\n",
       "      <td>80</td>\n",
       "      <td>6</td>\n",
       "      <td>6</td>\n",
       "      <td>6</td>\n",
       "      <td>6</td>\n",
       "      <td>6</td>\n",
       "      <td>6</td>\n",
       "      <td>6</td>\n",
       "      <td>6</td>\n",
       "      <td>6</td>\n",
       "      <td>6</td>\n",
       "      <td>6</td>\n",
       "    </tr>\n",
       "    <tr>\n",
       "      <th>1</th>\n",
       "      <td>90</td>\n",
       "      <td>8</td>\n",
       "      <td>8</td>\n",
       "      <td>8</td>\n",
       "      <td>8</td>\n",
       "      <td>8</td>\n",
       "      <td>8</td>\n",
       "      <td>8</td>\n",
       "      <td>8</td>\n",
       "      <td>8</td>\n",
       "      <td>8</td>\n",
       "      <td>8</td>\n",
       "    </tr>\n",
       "    <tr>\n",
       "      <th>2</th>\n",
       "      <td>120</td>\n",
       "      <td>1</td>\n",
       "      <td>1</td>\n",
       "      <td>1</td>\n",
       "      <td>1</td>\n",
       "      <td>1</td>\n",
       "      <td>1</td>\n",
       "      <td>1</td>\n",
       "      <td>1</td>\n",
       "      <td>1</td>\n",
       "      <td>1</td>\n",
       "      <td>1</td>\n",
       "    </tr>\n",
       "    <tr>\n",
       "      <th>3</th>\n",
       "      <td>130</td>\n",
       "      <td>1</td>\n",
       "      <td>1</td>\n",
       "      <td>1</td>\n",
       "      <td>1</td>\n",
       "      <td>1</td>\n",
       "      <td>1</td>\n",
       "      <td>1</td>\n",
       "      <td>1</td>\n",
       "      <td>1</td>\n",
       "      <td>1</td>\n",
       "      <td>1</td>\n",
       "    </tr>\n",
       "    <tr>\n",
       "      <th>4</th>\n",
       "      <td>160</td>\n",
       "      <td>1</td>\n",
       "      <td>1</td>\n",
       "      <td>1</td>\n",
       "      <td>1</td>\n",
       "      <td>1</td>\n",
       "      <td>1</td>\n",
       "      <td>1</td>\n",
       "      <td>1</td>\n",
       "      <td>1</td>\n",
       "      <td>1</td>\n",
       "      <td>1</td>\n",
       "    </tr>\n",
       "  </tbody>\n",
       "</table>\n",
       "</div>"
      ],
      "text/plain": [
       "   customer_id  amount  date  month  year  days_since_purchase  \\\n",
       "0           80       6     6      6     6                    6   \n",
       "1           90       8     8      8     8                    8   \n",
       "2          120       1     1      1     1                    1   \n",
       "3          130       1     1      1     1                    1   \n",
       "4          160       1     1      1     1                    1   \n",
       "\n",
       "   months_since_purchase  years_since_purchase  quarters_since_purchase  \\\n",
       "0                      6                     6                        6   \n",
       "1                      8                     8                        8   \n",
       "2                      1                     1                        1   \n",
       "3                      1                     1                        1   \n",
       "4                      1                     1                        1   \n",
       "\n",
       "   state_one  state_two  state_three  \n",
       "0          6          6            6  \n",
       "1          8          8            8  \n",
       "2          1          1            1  \n",
       "3          1          1            1  \n",
       "4          1          1            1  "
      ]
     },
     "execution_count": 34,
     "metadata": {},
     "output_type": "execute_result"
    }
   ],
   "source": [
    "frequency_df.head()"
   ]
  },
  {
   "cell_type": "code",
   "execution_count": 35,
   "metadata": {
    "collapsed": false,
    "deletable": true,
    "editable": true
   },
   "outputs": [
    {
     "data": {
      "text/plain": [
       "<matplotlib.axes._subplots.AxesSubplot at 0x11d10ce80>"
      ]
     },
     "execution_count": 35,
     "metadata": {},
     "output_type": "execute_result"
    },
    {
     "data": {
      "image/png": "[encoded data removed]",
      "text/plain": [
       "<matplotlib.figure.Figure at 0x11cc24208>"
      ]
     },
     "metadata": {},
     "output_type": "display_data"
    }
   ],
   "source": [
    "frequency_df.amount.plot(kind=\"kde\")"
   ]
  },
  {
   "cell_type": "code",
   "execution_count": 36,
   "metadata": {
    "collapsed": false,
    "deletable": true,
    "editable": true
   },
   "outputs": [
    {
     "name": "stderr",
     "output_type": "stream",
     "text": [
      "/Users/jonathanhilgart/anaconda/lib/python3.5/site-packages/statsmodels/nonparametric/kdetools.py:20: VisibleDeprecationWarning: using a non-integer number instead of an integer will result in an error in the future\n",
      "  y = X[:m/2+1] + np.r_[0,X[m/2+1:],0]*1j\n"
     ]
    },
    {
     "data": {
      "text/plain": [
       "<matplotlib.axes._subplots.AxesSubplot at 0x11d3c8b00>"
      ]
     },
     "execution_count": 36,
     "metadata": {},
     "output_type": "execute_result"
    },
    {
     "data": {
      "image/png": "[encoded data removed]",
      "text/plain": [
       "<matplotlib.figure.Figure at 0x11dc4f4e0>"
      ]
     },
     "metadata": {},
     "output_type": "display_data"
    }
   ],
   "source": [
    "plt.figure(figsize=(23,7))\n",
    "freq = sns.distplot(frequency_df.amount[frequency_df.amount<15])\n",
    "for item in freq.get_xticklabels():\n",
    "    item.set_rotation(90)\n",
    "\n",
    "freq"
   ]
  },
  {
   "cell_type": "markdown",
   "metadata": {
    "deletable": true,
    "editable": true
   },
   "source": [
    "> ### most popular frequency is 1 purchase. We will segment into two cohorts: $< 2 \\ and > 2$ purchase"
   ]
  },
  {
   "cell_type": "markdown",
   "metadata": {
    "deletable": true,
    "editable": true
   },
   "source": [
    "---\n",
    "# Recency Matrix "
   ]
  },
  {
   "cell_type": "code",
   "execution_count": 37,
   "metadata": {
    "collapsed": false,
    "deletable": true,
    "editable": true
   },
   "outputs": [],
   "source": [
    "recency_df = state_df.ix[state_df.groupby('customer_id').date.idxmax(), :]\n",
    "recency_df.days_since_purchase = recency_df.days_since_purchase.apply(lambda x:x.days)"
   ]
  },
  {
   "cell_type": "code",
   "execution_count": 38,
   "metadata": {
    "collapsed": false,
    "deletable": true,
    "editable": true
   },
   "outputs": [
    {
     "data": {
      "text/plain": [
       "<matplotlib.text.Text at 0x11dba3438>"
      ]
     },
     "execution_count": 38,
     "metadata": {},
     "output_type": "execute_result"
    },
    {
     "data": {
      "image/png": "[encoded data removed]",
      "text/plain": [
       "<matplotlib.figure.Figure at 0x11dc55668>"
      ]
     },
     "metadata": {},
     "output_type": "display_data"
    }
   ],
   "source": [
    "recency_df.months_since_purchase.plot(kind='kde')\n",
    "plt.xlabel('months since last purchase')"
   ]
  },
  {
   "cell_type": "code",
   "execution_count": 39,
   "metadata": {
    "collapsed": false,
    "deletable": true,
    "editable": true
   },
   "outputs": [
    {
     "data": {
      "text/plain": [
       "<matplotlib.text.Text at 0x11c6d0390>"
      ]
     },
     "execution_count": 39,
     "metadata": {},
     "output_type": "execute_result"
    },
    {
     "data": {
      "image/png": "[encoded data removed]",
      "text/plain": [
       "<matplotlib.figure.Figure at 0x11c8344a8>"
      ]
     },
     "metadata": {},
     "output_type": "display_data"
    }
   ],
   "source": [
    "recency_df.months_since_purchase[recency_df.months_since_purchase<18].plot(kind='kde',xlim=[0,18])\n",
    "plt.xlabel('months since last purchase')"
   ]
  },
  {
   "cell_type": "code",
   "execution_count": 40,
   "metadata": {
    "collapsed": false,
    "deletable": true,
    "editable": true
   },
   "outputs": [
    {
     "name": "stderr",
     "output_type": "stream",
     "text": [
      "/Users/jonathanhilgart/anaconda/lib/python3.5/site-packages/statsmodels/nonparametric/kdetools.py:20: VisibleDeprecationWarning: using a non-integer number instead of an integer will result in an error in the future\n",
      "  y = X[:m/2+1] + np.r_[0,X[m/2+1:],0]*1j\n"
     ]
    },
    {
     "data": {
      "text/plain": [
       "<matplotlib.axes._subplots.AxesSubplot at 0x11ea82550>"
      ]
     },
     "execution_count": 40,
     "metadata": {},
     "output_type": "execute_result"
    },
    {
     "data": {
      "image/png": "[encoded data removed]",
      "text/plain": [
       "<matplotlib.figure.Figure at 0x11ea822e8>"
      ]
     },
     "metadata": {},
     "output_type": "display_data"
    }
   ],
   "source": [
    "plt.figure(figsize=(23,7))\n",
    "recency_plot = sns.distplot(recency_df.days_since_purchase)\n",
    "for item in recency_plot.get_xticklabels():\n",
    "    item.set_rotation(90)\n",
    "\n",
    "recency_plot"
   ]
  },
  {
   "cell_type": "code",
   "execution_count": 41,
   "metadata": {
    "collapsed": false,
    "deletable": true,
    "editable": true
   },
   "outputs": [
    {
     "name": "stderr",
     "output_type": "stream",
     "text": [
      "/Users/jonathanhilgart/anaconda/lib/python3.5/site-packages/statsmodels/nonparametric/kdetools.py:20: VisibleDeprecationWarning: using a non-integer number instead of an integer will result in an error in the future\n",
      "  y = X[:m/2+1] + np.r_[0,X[m/2+1:],0]*1j\n"
     ]
    },
    {
     "data": {
      "text/plain": [
       "<matplotlib.axes._subplots.AxesSubplot at 0x11ea61358>"
      ]
     },
     "execution_count": 41,
     "metadata": {},
     "output_type": "execute_result"
    },
    {
     "data": {
      "image/png": "[encoded data removed]",
      "text/plain": [
       "<matplotlib.figure.Figure at 0x11eaa7eb8>"
      ]
     },
     "metadata": {},
     "output_type": "display_data"
    }
   ],
   "source": [
    "plt.figure(figsize=(23,7))\n",
    "recency_plot = sns.distplot(recency_df.days_since_purchase[recency_df.days_since_purchase<360])\n",
    "for item in recency_plot.get_xticklabels():\n",
    "    item.set_rotation(90)\n",
    "\n",
    "recency_plot"
   ]
  },
  {
   "cell_type": "code",
   "execution_count": 42,
   "metadata": {
    "collapsed": false,
    "deletable": true,
    "editable": true
   },
   "outputs": [
    {
     "name": "stderr",
     "output_type": "stream",
     "text": [
      "/Users/jonathanhilgart/anaconda/lib/python3.5/site-packages/statsmodels/nonparametric/kdetools.py:20: VisibleDeprecationWarning: using a non-integer number instead of an integer will result in an error in the future\n",
      "  y = X[:m/2+1] + np.r_[0,X[m/2+1:],0]*1j\n"
     ]
    },
    {
     "data": {
      "text/plain": [
       "<matplotlib.axes._subplots.AxesSubplot at 0x11e956588>"
      ]
     },
     "execution_count": 42,
     "metadata": {},
     "output_type": "execute_result"
    },
    {
     "data": {
      "image/png": "[encoded data removed]",
      "text/plain": [
       "<matplotlib.figure.Figure at 0x11e9565c0>"
      ]
     },
     "metadata": {},
     "output_type": "display_data"
    }
   ],
   "source": [
    "plt.figure(figsize=(23,7))\n",
    "recency_plot = sns.distplot(recency_df.days_since_purchase[recency_df.days_since_purchase<100])\n",
    "for item in recency_plot.get_xticklabels():\n",
    "    item.set_rotation(90)\n",
    "\n",
    "recency_plot"
   ]
  },
  {
   "cell_type": "markdown",
   "metadata": {
    "deletable": true,
    "editable": true
   },
   "source": [
    "> ### Using days is too noisy, therefore let us use 12 months as the state segmentation. However, from the RFM data, we will actually use 2 years as the segmentation information."
   ]
  },
  {
   "cell_type": "markdown",
   "metadata": {
    "deletable": true,
    "editable": true
   },
   "source": [
    "---\n",
    "# Transition Matrix\n",
    "- Start with recency\n",
    "- Use the states from the RFM segmentation , 1-<2 yrs, 2-<4 years, 4-<6 yrs"
   ]
  },
  {
   "cell_type": "code",
   "execution_count": 43,
   "metadata": {
    "collapsed": false,
    "deletable": true,
    "editable": true
   },
   "outputs": [
    {
     "data": {
      "text/plain": [
       "1958"
      ]
     },
     "execution_count": 43,
     "metadata": {},
     "output_type": "execute_result"
    }
   ],
   "source": [
    "recency_df[(recency_df.months_since_purchase>12) & (recency_df.months_since_purchase<=24)]['customer_id'].count()"
   ]
  },
  {
   "cell_type": "code",
   "execution_count": 44,
   "metadata": {
    "collapsed": false,
    "deletable": true,
    "editable": true
   },
   "outputs": [],
   "source": [
    "# people who have purchase in last year\n",
    "people_purchase_this_year = recency_df[recency_df.months_since_purchase<=12]['customer_id'].count()\n",
    "people_purchase_year_two = recency_df[(recency_df.months_since_purchase>12) & (recency_df.months_since_purchase<=24)]['customer_id'].count()\n",
    "people_purchase_year_three = recency_df[(recency_df.months_since_purchase>24) & (recency_df.months_since_purchase<=36)]['customer_id'].count()\n",
    "people_purchase_year_four = recency_df[(recency_df.months_since_purchase>36) & (recency_df.months_since_purchase<=48)]['customer_id'].count()\n",
    "people_purchase_year_five = recency_df[(recency_df.months_since_purchase>48) & (recency_df.months_since_purchase<=60)]['customer_id'].count()\n",
    "people_purchase_year_six = recency_df[(recency_df.months_since_purchase>60) & (recency_df.months_since_purchase<=72)]['customer_id'].count()\n",
    "people_purchase_year_seven = recency_df[(recency_df.months_since_purchase>72) & (recency_df.months_since_purchase<=84)]['customer_id'].count()\n",
    "people_purchase_year_eight = recency_df[(recency_df.months_since_purchase>84) & (recency_df.months_since_purchase<=96)]['customer_id'].count()\n",
    "people_purchase_year_nine = recency_df[(recency_df.months_since_purchase>96) & (recency_df.months_since_purchase<=108)]['customer_id'].count()\n"
   ]
  },
  {
   "cell_type": "code",
   "execution_count": 45,
   "metadata": {
    "collapsed": false,
    "deletable": true,
    "editable": true
   },
   "outputs": [],
   "source": [
    "## transition matrix using the RFM recency states\n",
    "\n",
    "people_purchase_this_thisyear_lesstwo = \\\n",
    "recency_df[(recency_df.months_since_purchase>0) & (recency_df.months_since_purchase<=24)]['customer_id'].count()\n",
    "\n",
    "people_purchase_yeartwo_lessfour = recency_df[(recency_df.months_since_purchase>24) & \\\n",
    "                                              (recency_df.months_since_purchase<=48)]['customer_id'].count()\n",
    "people_purchase_yearfour_lesssix = recency_df[(recency_df.months_since_purchase>48) & \\\n",
    "                                              (recency_df.months_since_purchase<=62)]['customer_id'].count()\n",
    "people_purchase_yearsix_greater_churned = recency_df[(recency_df.months_since_purchase>=62)]['customer_id'].count()\n"
   ]
  },
  {
   "cell_type": "code",
   "execution_count": 46,
   "metadata": {
    "collapsed": false,
    "deletable": true,
    "editable": true
   },
   "outputs": [],
   "source": [
    "total_customers = recency_df.customer_id.count()"
   ]
  },
  {
   "cell_type": "code",
   "execution_count": 47,
   "metadata": {
    "collapsed": false,
    "deletable": true,
    "editable": true
   },
   "outputs": [],
   "source": [
    "state_probs = [float(people_purchase_this_year*1.0 / total_customers),\n",
    "               float(people_purchase_year_two*1.0 / total_customers),\n",
    "               float(people_purchase_year_three*1.0 / total_customers),\n",
    "               float(people_purchase_year_four*1.0 / total_customers),\n",
    "               float(people_purchase_year_five*1.0 / total_customers),\n",
    "               float(people_purchase_year_six*1.0 / total_customers),\n",
    "               float(people_purchase_year_seven*1.0 / total_customers),\n",
    "               float(people_purchase_year_eight*1.0 / total_customers),\n",
    "               float(people_purchase_year_nine*1.0 / total_customers),\n",
    "              0]\n",
    "state_probs_RFM_states = [float(people_purchase_this_thisyear_lesstwo*1.0 / total_customers),\n",
    "                          float(people_purchase_yeartwo_lessfour*1.0 / total_customers),\n",
    "                          float(people_purchase_yearfour_lesssix*1.0 / total_customers),\n",
    "                          float(people_purchase_yearsix_greater_churned*1.0/total_customers)]"
   ]
  },
  {
   "cell_type": "code",
   "execution_count": 48,
   "metadata": {
    "collapsed": false,
    "deletable": true,
    "editable": true
   },
   "outputs": [
    {
     "data": {
      "text/plain": [
       "[0.30464473164399797,\n",
       " 0.1105028500479711,\n",
       " 0.10739883740617416,\n",
       " 0.10897906202381624,\n",
       " 0.0725774592245612,\n",
       " 0.0824538630848242,\n",
       " 0.07477848637056267,\n",
       " 0.06580506800609515,\n",
       " 0.0728596421919973,\n",
       " 0]"
      ]
     },
     "execution_count": 48,
     "metadata": {},
     "output_type": "execute_result"
    }
   ],
   "source": [
    "state_probs"
   ]
  },
  {
   "cell_type": "code",
   "execution_count": 49,
   "metadata": {
    "collapsed": true,
    "deletable": true,
    "editable": true
   },
   "outputs": [],
   "source": [
    "state_index = ['state_1',\n",
    "               'state_2',\n",
    "               'state_3',\n",
    "               'state_4',\n",
    "               'state_5',\n",
    "               'state_6',\n",
    "               'state_7',\n",
    "               'state_8',\n",
    "               'state_9',\n",
    "               'state_10']\n",
    "cols = [\"state_{}\".format(i+1) for i in range(len(state_index)-1)]"
   ]
  },
  {
   "cell_type": "code",
   "execution_count": 50,
   "metadata": {
    "collapsed": false,
    "deletable": true,
    "editable": true
   },
   "outputs": [],
   "source": [
    "# state_probs.append(0)"
   ]
  },
  {
   "cell_type": "code",
   "execution_count": 51,
   "metadata": {
    "collapsed": false,
    "deletable": true,
    "editable": true,
    "scrolled": true
   },
   "outputs": [],
   "source": [
    "trans_matrix = pd.DataFrame(0 ,index=state_index,columns=cols)"
   ]
  },
  {
   "cell_type": "code",
   "execution_count": 52,
   "metadata": {
    "collapsed": false,
    "deletable": true,
    "editable": true
   },
   "outputs": [
    {
     "data": {
      "text/html": [
       "<div>\n",
       "<table border=\"1\" class=\"dataframe\">\n",
       "  <thead>\n",
       "    <tr style=\"text-align: right;\">\n",
       "      <th></th>\n",
       "      <th>state_1</th>\n",
       "      <th>state_2</th>\n",
       "      <th>state_3</th>\n",
       "      <th>state_4</th>\n",
       "      <th>state_5</th>\n",
       "      <th>state_6</th>\n",
       "      <th>state_7</th>\n",
       "      <th>state_8</th>\n",
       "      <th>state_9</th>\n",
       "    </tr>\n",
       "  </thead>\n",
       "  <tbody>\n",
       "    <tr>\n",
       "      <th>state_1</th>\n",
       "      <td>0</td>\n",
       "      <td>0</td>\n",
       "      <td>0</td>\n",
       "      <td>0</td>\n",
       "      <td>0</td>\n",
       "      <td>0</td>\n",
       "      <td>0</td>\n",
       "      <td>0</td>\n",
       "      <td>0</td>\n",
       "    </tr>\n",
       "    <tr>\n",
       "      <th>state_2</th>\n",
       "      <td>0</td>\n",
       "      <td>0</td>\n",
       "      <td>0</td>\n",
       "      <td>0</td>\n",
       "      <td>0</td>\n",
       "      <td>0</td>\n",
       "      <td>0</td>\n",
       "      <td>0</td>\n",
       "      <td>0</td>\n",
       "    </tr>\n",
       "    <tr>\n",
       "      <th>state_3</th>\n",
       "      <td>0</td>\n",
       "      <td>0</td>\n",
       "      <td>0</td>\n",
       "      <td>0</td>\n",
       "      <td>0</td>\n",
       "      <td>0</td>\n",
       "      <td>0</td>\n",
       "      <td>0</td>\n",
       "      <td>0</td>\n",
       "    </tr>\n",
       "    <tr>\n",
       "      <th>state_4</th>\n",
       "      <td>0</td>\n",
       "      <td>0</td>\n",
       "      <td>0</td>\n",
       "      <td>0</td>\n",
       "      <td>0</td>\n",
       "      <td>0</td>\n",
       "      <td>0</td>\n",
       "      <td>0</td>\n",
       "      <td>0</td>\n",
       "    </tr>\n",
       "    <tr>\n",
       "      <th>state_5</th>\n",
       "      <td>0</td>\n",
       "      <td>0</td>\n",
       "      <td>0</td>\n",
       "      <td>0</td>\n",
       "      <td>0</td>\n",
       "      <td>0</td>\n",
       "      <td>0</td>\n",
       "      <td>0</td>\n",
       "      <td>0</td>\n",
       "    </tr>\n",
       "    <tr>\n",
       "      <th>state_6</th>\n",
       "      <td>0</td>\n",
       "      <td>0</td>\n",
       "      <td>0</td>\n",
       "      <td>0</td>\n",
       "      <td>0</td>\n",
       "      <td>0</td>\n",
       "      <td>0</td>\n",
       "      <td>0</td>\n",
       "      <td>0</td>\n",
       "    </tr>\n",
       "    <tr>\n",
       "      <th>state_7</th>\n",
       "      <td>0</td>\n",
       "      <td>0</td>\n",
       "      <td>0</td>\n",
       "      <td>0</td>\n",
       "      <td>0</td>\n",
       "      <td>0</td>\n",
       "      <td>0</td>\n",
       "      <td>0</td>\n",
       "      <td>0</td>\n",
       "    </tr>\n",
       "    <tr>\n",
       "      <th>state_8</th>\n",
       "      <td>0</td>\n",
       "      <td>0</td>\n",
       "      <td>0</td>\n",
       "      <td>0</td>\n",
       "      <td>0</td>\n",
       "      <td>0</td>\n",
       "      <td>0</td>\n",
       "      <td>0</td>\n",
       "      <td>0</td>\n",
       "    </tr>\n",
       "    <tr>\n",
       "      <th>state_9</th>\n",
       "      <td>0</td>\n",
       "      <td>0</td>\n",
       "      <td>0</td>\n",
       "      <td>0</td>\n",
       "      <td>0</td>\n",
       "      <td>0</td>\n",
       "      <td>0</td>\n",
       "      <td>0</td>\n",
       "      <td>0</td>\n",
       "    </tr>\n",
       "    <tr>\n",
       "      <th>state_10</th>\n",
       "      <td>0</td>\n",
       "      <td>0</td>\n",
       "      <td>0</td>\n",
       "      <td>0</td>\n",
       "      <td>0</td>\n",
       "      <td>0</td>\n",
       "      <td>0</td>\n",
       "      <td>0</td>\n",
       "      <td>0</td>\n",
       "    </tr>\n",
       "  </tbody>\n",
       "</table>\n",
       "</div>"
      ],
      "text/plain": [
       "          state_1  state_2  state_3  state_4  state_5  state_6  state_7  \\\n",
       "state_1         0        0        0        0        0        0        0   \n",
       "state_2         0        0        0        0        0        0        0   \n",
       "state_3         0        0        0        0        0        0        0   \n",
       "state_4         0        0        0        0        0        0        0   \n",
       "state_5         0        0        0        0        0        0        0   \n",
       "state_6         0        0        0        0        0        0        0   \n",
       "state_7         0        0        0        0        0        0        0   \n",
       "state_8         0        0        0        0        0        0        0   \n",
       "state_9         0        0        0        0        0        0        0   \n",
       "state_10        0        0        0        0        0        0        0   \n",
       "\n",
       "          state_8  state_9  \n",
       "state_1         0        0  \n",
       "state_2         0        0  \n",
       "state_3         0        0  \n",
       "state_4         0        0  \n",
       "state_5         0        0  \n",
       "state_6         0        0  \n",
       "state_7         0        0  \n",
       "state_8         0        0  \n",
       "state_9         0        0  \n",
       "state_10        0        0  "
      ]
     },
     "execution_count": 52,
     "metadata": {},
     "output_type": "execute_result"
    }
   ],
   "source": [
    "trans_matrix"
   ]
  },
  {
   "cell_type": "code",
   "execution_count": 53,
   "metadata": {
    "collapsed": false,
    "deletable": true,
    "editable": true
   },
   "outputs": [],
   "source": [
    "trans_matrix['state_1'] = state_probs\n",
    "trans_matrix['state_2'] = [1-state_probs[0], 0, 0, 0, 0, 0, 0, 0, 0, 0]\n",
    "trans_matrix['state_3'] = [0, 1-state_probs[1], 0, 0, 0, 0, 0, 0, 0, 0]\n",
    "trans_matrix['state_4'] = [0, 0, 1-state_probs[2], 0, 0, 0, 0, 0, 0, 0]\n",
    "trans_matrix['state_5'] = [0, 0, 0, 1-state_probs[3], 0, 0, 0, 0, 0, 0]\n",
    "trans_matrix['state_6'] = [0, 0, 0, 0, 1-state_probs[4],  0, 0, 0, 0, 0]\n",
    "trans_matrix['state_7'] = [0, 0, 0, 0, 0, 1-state_probs[5], 0, 0, 0, 0]\n",
    "trans_matrix['state_8'] = [0, 0, 0, 0, 0, 0, 1-state_probs[6], 0, 0, 0]\n",
    "trans_matrix['state_9'] = [ 0, 0, 0, 0, 0, 0, 0, 1-state_probs[7], 0, 0]\n",
    "trans_matrix['state_10'] = [0, 0, 0, 0, 0, 0, 0, 0, 1-state_probs[8], 0]\n",
    "trans_matrix['state_11']= [0, 0, 0, 0, 0, 0, 0, 0, 0, 1]"
   ]
  },
  {
   "cell_type": "markdown",
   "metadata": {
    "deletable": true,
    "editable": true
   },
   "source": [
    "---\n",
    "## One-time Transition Matrix based upon Recency"
   ]
  },
  {
   "cell_type": "code",
   "execution_count": 54,
   "metadata": {
    "collapsed": false,
    "deletable": true,
    "editable": true
   },
   "outputs": [
    {
     "data": {
      "text/html": [
       "<div>\n",
       "<table border=\"1\" class=\"dataframe\">\n",
       "  <thead>\n",
       "    <tr style=\"text-align: right;\">\n",
       "      <th></th>\n",
       "      <th>state_1</th>\n",
       "      <th>state_2</th>\n",
       "      <th>state_3</th>\n",
       "      <th>state_4</th>\n",
       "      <th>state_5</th>\n",
       "      <th>state_6</th>\n",
       "      <th>state_7</th>\n",
       "      <th>state_8</th>\n",
       "      <th>state_9</th>\n",
       "      <th>state_10</th>\n",
       "      <th>state_11</th>\n",
       "    </tr>\n",
       "  </thead>\n",
       "  <tbody>\n",
       "    <tr>\n",
       "      <th>state_1</th>\n",
       "      <td>0.304645</td>\n",
       "      <td>0.695355</td>\n",
       "      <td>0.000000</td>\n",
       "      <td>0.000000</td>\n",
       "      <td>0.000000</td>\n",
       "      <td>0.000000</td>\n",
       "      <td>0.000000</td>\n",
       "      <td>0.000000</td>\n",
       "      <td>0.000000</td>\n",
       "      <td>0.00000</td>\n",
       "      <td>0</td>\n",
       "    </tr>\n",
       "    <tr>\n",
       "      <th>state_2</th>\n",
       "      <td>0.110503</td>\n",
       "      <td>0.000000</td>\n",
       "      <td>0.889497</td>\n",
       "      <td>0.000000</td>\n",
       "      <td>0.000000</td>\n",
       "      <td>0.000000</td>\n",
       "      <td>0.000000</td>\n",
       "      <td>0.000000</td>\n",
       "      <td>0.000000</td>\n",
       "      <td>0.00000</td>\n",
       "      <td>0</td>\n",
       "    </tr>\n",
       "    <tr>\n",
       "      <th>state_3</th>\n",
       "      <td>0.107399</td>\n",
       "      <td>0.000000</td>\n",
       "      <td>0.000000</td>\n",
       "      <td>0.892601</td>\n",
       "      <td>0.000000</td>\n",
       "      <td>0.000000</td>\n",
       "      <td>0.000000</td>\n",
       "      <td>0.000000</td>\n",
       "      <td>0.000000</td>\n",
       "      <td>0.00000</td>\n",
       "      <td>0</td>\n",
       "    </tr>\n",
       "    <tr>\n",
       "      <th>state_4</th>\n",
       "      <td>0.108979</td>\n",
       "      <td>0.000000</td>\n",
       "      <td>0.000000</td>\n",
       "      <td>0.000000</td>\n",
       "      <td>0.891021</td>\n",
       "      <td>0.000000</td>\n",
       "      <td>0.000000</td>\n",
       "      <td>0.000000</td>\n",
       "      <td>0.000000</td>\n",
       "      <td>0.00000</td>\n",
       "      <td>0</td>\n",
       "    </tr>\n",
       "    <tr>\n",
       "      <th>state_5</th>\n",
       "      <td>0.072577</td>\n",
       "      <td>0.000000</td>\n",
       "      <td>0.000000</td>\n",
       "      <td>0.000000</td>\n",
       "      <td>0.000000</td>\n",
       "      <td>0.927423</td>\n",
       "      <td>0.000000</td>\n",
       "      <td>0.000000</td>\n",
       "      <td>0.000000</td>\n",
       "      <td>0.00000</td>\n",
       "      <td>0</td>\n",
       "    </tr>\n",
       "    <tr>\n",
       "      <th>state_6</th>\n",
       "      <td>0.082454</td>\n",
       "      <td>0.000000</td>\n",
       "      <td>0.000000</td>\n",
       "      <td>0.000000</td>\n",
       "      <td>0.000000</td>\n",
       "      <td>0.000000</td>\n",
       "      <td>0.917546</td>\n",
       "      <td>0.000000</td>\n",
       "      <td>0.000000</td>\n",
       "      <td>0.00000</td>\n",
       "      <td>0</td>\n",
       "    </tr>\n",
       "    <tr>\n",
       "      <th>state_7</th>\n",
       "      <td>0.074778</td>\n",
       "      <td>0.000000</td>\n",
       "      <td>0.000000</td>\n",
       "      <td>0.000000</td>\n",
       "      <td>0.000000</td>\n",
       "      <td>0.000000</td>\n",
       "      <td>0.000000</td>\n",
       "      <td>0.925222</td>\n",
       "      <td>0.000000</td>\n",
       "      <td>0.00000</td>\n",
       "      <td>0</td>\n",
       "    </tr>\n",
       "    <tr>\n",
       "      <th>state_8</th>\n",
       "      <td>0.065805</td>\n",
       "      <td>0.000000</td>\n",
       "      <td>0.000000</td>\n",
       "      <td>0.000000</td>\n",
       "      <td>0.000000</td>\n",
       "      <td>0.000000</td>\n",
       "      <td>0.000000</td>\n",
       "      <td>0.000000</td>\n",
       "      <td>0.934195</td>\n",
       "      <td>0.00000</td>\n",
       "      <td>0</td>\n",
       "    </tr>\n",
       "    <tr>\n",
       "      <th>state_9</th>\n",
       "      <td>0.072860</td>\n",
       "      <td>0.000000</td>\n",
       "      <td>0.000000</td>\n",
       "      <td>0.000000</td>\n",
       "      <td>0.000000</td>\n",
       "      <td>0.000000</td>\n",
       "      <td>0.000000</td>\n",
       "      <td>0.000000</td>\n",
       "      <td>0.000000</td>\n",
       "      <td>0.92714</td>\n",
       "      <td>0</td>\n",
       "    </tr>\n",
       "    <tr>\n",
       "      <th>state_10</th>\n",
       "      <td>0.000000</td>\n",
       "      <td>0.000000</td>\n",
       "      <td>0.000000</td>\n",
       "      <td>0.000000</td>\n",
       "      <td>0.000000</td>\n",
       "      <td>0.000000</td>\n",
       "      <td>0.000000</td>\n",
       "      <td>0.000000</td>\n",
       "      <td>0.000000</td>\n",
       "      <td>0.00000</td>\n",
       "      <td>1</td>\n",
       "    </tr>\n",
       "  </tbody>\n",
       "</table>\n",
       "</div>"
      ],
      "text/plain": [
       "           state_1   state_2   state_3   state_4   state_5   state_6  \\\n",
       "state_1   0.304645  0.695355  0.000000  0.000000  0.000000  0.000000   \n",
       "state_2   0.110503  0.000000  0.889497  0.000000  0.000000  0.000000   \n",
       "state_3   0.107399  0.000000  0.000000  0.892601  0.000000  0.000000   \n",
       "state_4   0.108979  0.000000  0.000000  0.000000  0.891021  0.000000   \n",
       "state_5   0.072577  0.000000  0.000000  0.000000  0.000000  0.927423   \n",
       "state_6   0.082454  0.000000  0.000000  0.000000  0.000000  0.000000   \n",
       "state_7   0.074778  0.000000  0.000000  0.000000  0.000000  0.000000   \n",
       "state_8   0.065805  0.000000  0.000000  0.000000  0.000000  0.000000   \n",
       "state_9   0.072860  0.000000  0.000000  0.000000  0.000000  0.000000   \n",
       "state_10  0.000000  0.000000  0.000000  0.000000  0.000000  0.000000   \n",
       "\n",
       "           state_7   state_8   state_9  state_10  state_11  \n",
       "state_1   0.000000  0.000000  0.000000   0.00000         0  \n",
       "state_2   0.000000  0.000000  0.000000   0.00000         0  \n",
       "state_3   0.000000  0.000000  0.000000   0.00000         0  \n",
       "state_4   0.000000  0.000000  0.000000   0.00000         0  \n",
       "state_5   0.000000  0.000000  0.000000   0.00000         0  \n",
       "state_6   0.917546  0.000000  0.000000   0.00000         0  \n",
       "state_7   0.000000  0.925222  0.000000   0.00000         0  \n",
       "state_8   0.000000  0.000000  0.934195   0.00000         0  \n",
       "state_9   0.000000  0.000000  0.000000   0.92714         0  \n",
       "state_10  0.000000  0.000000  0.000000   0.00000         1  "
      ]
     },
     "execution_count": 54,
     "metadata": {},
     "output_type": "execute_result"
    }
   ],
   "source": [
    "trans_matrix"
   ]
  },
  {
   "cell_type": "code",
   "execution_count": 55,
   "metadata": {
    "collapsed": false,
    "deletable": true,
    "editable": true
   },
   "outputs": [],
   "source": [
    "## FOr RFM states \n",
    "state_probs_RFM_states.insert(4,0)"
   ]
  },
  {
   "cell_type": "code",
   "execution_count": 56,
   "metadata": {
    "collapsed": false,
    "deletable": true,
    "editable": true
   },
   "outputs": [
    {
     "data": {
      "text/plain": [
       "[0.4151475816919691,\n",
       " 0.21637789942999042,\n",
       " 0.09385405496924205,\n",
       " 0.27986906710310966,\n",
       " 0]"
      ]
     },
     "execution_count": 56,
     "metadata": {},
     "output_type": "execute_result"
    }
   ],
   "source": [
    "state_probs_RFM_states"
   ]
  },
  {
   "cell_type": "code",
   "execution_count": 57,
   "metadata": {
    "collapsed": false,
    "deletable": true,
    "editable": true
   },
   "outputs": [],
   "source": [
    "state_probs_complement = np.zeros(shape=(5,6))\n",
    "                          \n",
    "for idx,i in enumerate(state_probs_RFM_states):\n",
    "    state_probs_complement[idx,idx+1]=1-i\n",
    "\n",
    "state_probs_complement[:,0]=state_probs_RFM_states"
   ]
  },
  {
   "cell_type": "code",
   "execution_count": 58,
   "metadata": {
    "collapsed": false,
    "deletable": true,
    "editable": true
   },
   "outputs": [
    {
     "name": "stdout",
     "output_type": "stream",
     "text": [
      "[[ 0.41514758  0.58485242  0.          0.          0.          0.        ]\n",
      " [ 0.2163779   0.          0.7836221   0.          0.          0.        ]\n",
      " [ 0.09385405  0.          0.          0.90614595  0.          0.        ]\n",
      " [ 0.27986907  0.          0.          0.          0.72013093  0.        ]\n",
      " [ 0.          0.          0.          0.          0.          1.        ]]\n"
     ]
    }
   ],
   "source": [
    "print(state_probs_complement)"
   ]
  },
  {
   "cell_type": "code",
   "execution_count": 59,
   "metadata": {
    "collapsed": false,
    "deletable": true,
    "editable": true
   },
   "outputs": [
    {
     "data": {
      "text/html": [
       "<div>\n",
       "<table border=\"1\" class=\"dataframe\">\n",
       "  <thead>\n",
       "    <tr style=\"text-align: right;\">\n",
       "      <th></th>\n",
       "      <th>0</th>\n",
       "    </tr>\n",
       "  </thead>\n",
       "  <tbody>\n",
       "    <tr>\n",
       "      <th>0</th>\n",
       "      <td>0.415148</td>\n",
       "    </tr>\n",
       "    <tr>\n",
       "      <th>1</th>\n",
       "      <td>0.216378</td>\n",
       "    </tr>\n",
       "    <tr>\n",
       "      <th>2</th>\n",
       "      <td>0.093854</td>\n",
       "    </tr>\n",
       "    <tr>\n",
       "      <th>3</th>\n",
       "      <td>0.279869</td>\n",
       "    </tr>\n",
       "    <tr>\n",
       "      <th>4</th>\n",
       "      <td>0.000000</td>\n",
       "    </tr>\n",
       "  </tbody>\n",
       "</table>\n",
       "</div>"
      ],
      "text/plain": [
       "          0\n",
       "0  0.415148\n",
       "1  0.216378\n",
       "2  0.093854\n",
       "3  0.279869\n",
       "4  0.000000"
      ]
     },
     "execution_count": 59,
     "metadata": {},
     "output_type": "execute_result"
    }
   ],
   "source": [
    "pd.DataFrame(state_probs_RFM_states)"
   ]
  },
  {
   "cell_type": "code",
   "execution_count": 127,
   "metadata": {
    "collapsed": false,
    "deletable": true,
    "editable": true
   },
   "outputs": [
    {
     "data": {
      "text/plain": [
       "<matplotlib.text.Text at 0x12017f438>"
      ]
     },
     "execution_count": 127,
     "metadata": {},
     "output_type": "execute_result"
    },
    {
     "data": {
      "image/png": "[encoded data removed]",
      "text/plain": [
       "<matplotlib.figure.Figure at 0x1201131d0>"
      ]
     },
     "metadata": {},
     "output_type": "display_data"
    }
   ],
   "source": [
    "trans_matrix.state_1.cumsum().plot(kind='bar',colormap='viridis',figsize=(10,5))\n",
    "plt.title('Recency Transition Matrix')\n",
    "plt.ylabel('Cumulative Transition Probability to Recency One')"
   ]
  },
  {
   "cell_type": "markdown",
   "metadata": {
    "deletable": true,
    "editable": true
   },
   "source": [
    "> ### Based on this table, let us group together state 1 and 2 (~40% of people), state 3 and4 (25%), and state 5 and 6 (20%) as our active states"
   ]
  },
  {
   "cell_type": "markdown",
   "metadata": {
    "deletable": true,
    "editable": true
   },
   "source": [
    "---\n",
    "\n",
    "# Next - segment on frequency and monetary value\n",
    "- Monetary value > 30\n",
    "- Frequency >2\n",
    "\n",
    "`state 1: R < 2, F >=2, MV >=30\n",
    "state 2: R <2 , F >=2 , MV <30\n",
    "state 3: R <2 , F <2 , MV <30\n",
    "state 4: R <2 , F <2 , MV >=30`\n",
    "\n",
    "`state 5: R >=2-<4, F >=2, MV >=30\n",
    "state 6: R 2-4, F >=2, MV <30\n",
    "state 7: R 2-4, F<2, MV <30\n",
    "state 8: R 2-4, F<2, MV >=30`\n",
    "\n",
    "`state 9: R >=4-<6, F >=2, MV >=30\n",
    "state 10: R 4-6, F >=2, MV <30\n",
    "state 11: R 4-6, F<2, MV <30\n",
    "state 12: R 4-6, F<2, MV >=30`\n",
    "- Below, is defined as inactive\n",
    "\n",
    "`state 13: R >=6-<8, F >=2, MV >=30\n",
    "state 14: R 6-8, F >=2, MV <30\n",
    "state 15: R 6-8, F<2, MV <30\n",
    "state 16: R 6-8, F<2, MV >=30`"
   ]
  },
  {
   "cell_type": "markdown",
   "metadata": {
    "deletable": true,
    "editable": true
   },
   "source": [
    "### First, define the expected reward vector for each state"
   ]
  },
  {
   "cell_type": "code",
   "execution_count": 61,
   "metadata": {
    "collapsed": true,
    "deletable": true,
    "editable": true
   },
   "outputs": [],
   "source": [
    "# frequency flag less than 2\n",
    "frequency_less2 = (state_df.groupby('customer_id').count()<2).reset_index()\n",
    "frequency_less2 = frequency_less2[['customer_id','amount']]\n",
    "frequency_less2['one_purchase']=frequency_less2['amount']\n",
    "\n",
    "## frequency flag greater than or equal to 2\n",
    "frequency_more2 = (state_df.groupby('customer_id').count()>=2).reset_index()\n",
    "frequency_more2 = frequency_more2[['customer_id','amount']]\n",
    "frequency_more2['2_or_more_purchases']=frequency_more2['amount']\n",
    "# amount flag less than 30\n",
    "amount_less30 = (state_df.groupby('customer_id').mean()<30).reset_index()\n",
    "amount_less30 = amount_less30[['customer_id','amount']]\n",
    "amount_less30['average_amount_<_30'] = amount_less30['amount']\n",
    "\n",
    "# amount flag more than\n",
    "amount_more30 = (state_df.groupby('customer_id').mean()>=30).reset_index()\n",
    "amount_more30 = amount_more30[['customer_id','amount']]\n",
    "amount_more30['average_amount_=>_30'] = amount_more30['amount']\n",
    "\n",
    "# Recency 1-<2 years\n",
    "recency_1_2 = state_df.ix[state_df.groupby('customer_id').date.idxmax(),:]\n",
    "recency_1_2['purchased_in_past_1<2_yrs.']=recency_1_2.years_since_purchase<2\n",
    "recency_1_2.drop(recency_1_2[['amount','date','month','days_since_purchase','months_since_purchase',\n",
    "                  'years_since_purchase','state_one','state_two','state_three','year']],axis=1,inplace=True)\n",
    "\n",
    "# Recency 2->4 yrs\n",
    "recency_more2_less4 = state_df.ix[state_df.groupby('customer_id').date.idxmax(),:]\n",
    "recency_more2_less4['purchased_in_past_>=2<4_yrs.']=(recency_more2_less4.years_since_purchase>=2 )\\\n",
    "                                                    & (recency_more2_less4.years_since_purchase<4) \n",
    "recency_more2_less4.drop(recency_more2_less4[['amount','date','month','days_since_purchase','months_since_purchase',\n",
    "                  'years_since_purchase','state_one','state_two','state_three','year']],axis=1,inplace=True)\n",
    "\n",
    "# Recency 4-<6 yrs\n",
    "recency_more4_less6 = state_df.ix[state_df.groupby('customer_id').date.idxmax(),:]\n",
    "recency_more4_less6['purchased_in_past_>=4<6_yrs.']=(recency_more4_less6.years_since_purchase>=4 )\\\n",
    "                                                    & (recency_more4_less6.years_since_purchase<6) \n",
    "recency_more4_less6.drop(recency_more4_less6[['amount','date','month','days_since_purchase','months_since_purchase',\n",
    "                  'years_since_purchase','state_one','state_two','state_three','year']],axis=1,inplace=True)\n",
    "\n",
    "# Recency 6-<8 yrs\n",
    "recency_more6_less8 = state_df.ix[state_df.groupby('customer_id').date.idxmax(),:]\n",
    "recency_more6_less8['purchased_in_past_>=6<8_yrs.']=(recency_more6_less8.years_since_purchase>=6 )\\\n",
    "                                                    & (recency_more6_less8.years_since_purchase<8) \n",
    "recency_more6_less8.drop(recency_more6_less8[['amount','date','month','days_since_purchase','months_since_purchase',\n",
    "                  'years_since_purchase','state_one','state_two','state_three','year']],axis=1,inplace=True)"
   ]
  },
  {
   "cell_type": "code",
   "execution_count": 62,
   "metadata": {
    "collapsed": true,
    "deletable": true,
    "editable": true
   },
   "outputs": [],
   "source": [
    "### merge everything now\n",
    "reward_state = state_df.copy()\n",
    "reward_states_list = [frequency_less2,frequency_more2,amount_more30,amount_less30,recency_1_2,\\\n",
    "                  recency_more2_less4,recency_more4_less6,recency_more6_less8]\n",
    "\n",
    "for dataframe in reward_states_list:\n",
    "    temp =pd.merge(reward_state,dataframe,on='customer_id')\n",
    "    reward_state = temp"
   ]
  },
  {
   "cell_type": "code",
   "execution_count": 63,
   "metadata": {
    "collapsed": true,
    "deletable": true,
    "editable": true
   },
   "outputs": [],
   "source": [
    "# clean up\n",
    "reward_state = reward_state.drop(labels=\\\n",
    "        ['amount','state_one','state_two','state_three','date','month','year','days_since_purchase'],axis=1)"
   ]
  },
  {
   "cell_type": "markdown",
   "metadata": {
    "deletable": true,
    "editable": true
   },
   "source": [
    "- Next, calculate total $$ per state"
   ]
  },
  {
   "cell_type": "code",
   "execution_count": 64,
   "metadata": {
    "collapsed": false,
    "deletable": true,
    "editable": true
   },
   "outputs": [],
   "source": [
    "state_one_reward = np.sum(reward_state[(reward_state['purchased_in_past_1<2_yrs.']==True) & \\\n",
    "                                        (reward_state['2_or_more_purchases']==True) &\\\n",
    "             (reward_state['average_amount_=>_30']==True)].amount_x).reset_index().iloc[0,1]\n",
    "state_two_reward = np.sum(reward_state[(reward_state['purchased_in_past_1<2_yrs.']==True) & \\\n",
    "                                        (reward_state['2_or_more_purchases']==True) &\\\n",
    "             (reward_state['average_amount_<_30']==True)].amount_x).reset_index().iloc[0,1]\n",
    "state_three_reward = np.sum(reward_state[(reward_state['purchased_in_past_1<2_yrs.']==True) & \\\n",
    "                                        (reward_state['one_purchase']==True) &\\\n",
    "             (reward_state['average_amount_<_30']==True)].amount_x).reset_index().iloc[0,1]\n",
    "state_four_reward = np.sum(reward_state[(reward_state['purchased_in_past_1<2_yrs.']==True) & \\\n",
    "                                        (reward_state['one_purchase']==True) &\\\n",
    "             (reward_state['average_amount_=>_30']==True)].amount_x).reset_index().iloc[0,1]\n",
    "state_five_reward = np.sum(reward_state[(reward_state['purchased_in_past_>=2<4_yrs.']==True) & \\\n",
    "                                        (reward_state['2_or_more_purchases']==True) &\\\n",
    "             (reward_state['average_amount_=>_30']==True)].amount_x).reset_index().iloc[0,1]\n",
    "state_six_reward = np.sum(reward_state[(reward_state['purchased_in_past_>=2<4_yrs.']==True) & \\\n",
    "                                        (reward_state['2_or_more_purchases']==True) &\\\n",
    "             (reward_state['average_amount_<_30']==True)].amount_x).reset_index().iloc[0,1]\n",
    "state_seven_reward = np.sum(reward_state[(reward_state['purchased_in_past_>=2<4_yrs.']==True) & \\\n",
    "                                        (reward_state['one_purchase']==True) &\\\n",
    "             (reward_state['average_amount_<_30']==True)].amount_x).reset_index().iloc[0,1]\n",
    "state_eight_reward = np.sum(reward_state[(reward_state['purchased_in_past_>=2<4_yrs.']==True) & \\\n",
    "                                        (reward_state['one_purchase']==True) &\\\n",
    "             (reward_state['average_amount_=>_30']==True)].amount_x).reset_index().iloc[0,1]\n",
    "state_nine_reward = np.sum(reward_state[(reward_state['purchased_in_past_>=4<6_yrs.']==True) & \\\n",
    "                                        (reward_state['2_or_more_purchases']==True) &\\\n",
    "             (reward_state['average_amount_=>_30']==True)].amount_x).reset_index().iloc[0,1]\n",
    "state_ten_reward = np.sum(reward_state[(reward_state['purchased_in_past_>=4<6_yrs.']==True) & \\\n",
    "                                        (reward_state['2_or_more_purchases']==True) &\\\n",
    "             (reward_state['average_amount_<_30']==True)].amount_x).reset_index().iloc[0,1]\n",
    "state_elleven_reward = np.sum(reward_state[(reward_state['purchased_in_past_>=4<6_yrs.']==True) & \\\n",
    "                                        (reward_state['one_purchase']==True) &\\\n",
    "             (reward_state['average_amount_<_30']==True)].amount_x).reset_index().iloc[0,1]\n",
    "state_twelve_reward = np.sum(reward_state[(reward_state['purchased_in_past_>=4<6_yrs.']==True) & \\\n",
    "                                        (reward_state['one_purchase']==True) &\\\n",
    "             (reward_state['average_amount_=>_30']==True)].amount_x).reset_index().iloc[0,1]\n",
    "state_thirteen_reward = np.sum(reward_state[(reward_state['purchased_in_past_>=6<8_yrs.']==True) & \\\n",
    "                                        (reward_state['2_or_more_purchases']==True) &\\\n",
    "             (reward_state['average_amount_=>_30']==True)].amount_x).reset_index().iloc[0,1]\n",
    "state_fourteen_reward = np.sum(reward_state[(reward_state['purchased_in_past_>=6<8_yrs.']==True) & \\\n",
    "                                        (reward_state['2_or_more_purchases']==True) &\\\n",
    "             (reward_state['average_amount_<_30']==True)].amount_x).reset_index().iloc[0,1]\n",
    "state_fifteen_reward = np.sum(reward_state[(reward_state['purchased_in_past_>=6<8_yrs.']==True) & \\\n",
    "                                        (reward_state['one_purchase']==True) &\\\n",
    "             (reward_state['average_amount_<_30']==True)].amount_x).reset_index().iloc[0,1]\n",
    "state_sixteen_reward = np.sum(reward_state[(reward_state['purchased_in_past_>=6<8_yrs.']==True) & \\\n",
    "                                        (reward_state['one_purchase']==True) &\\\n",
    "             (reward_state['average_amount_=>_30']==True)].amount_x).reset_index().iloc[0,1]"
   ]
  },
  {
   "cell_type": "code",
   "execution_count": 65,
   "metadata": {
    "collapsed": true,
    "deletable": true,
    "editable": true
   },
   "outputs": [],
   "source": [
    "## turn these number into a reward vector\n",
    "reward_vector = [state_one_reward,state_two_reward,state_three_reward,state_four_reward,state_five_reward,state_six_reward,\\\n",
    "                state_seven_reward,state_eight_reward,state_nine_reward,state_ten_reward,state_elleven_reward,\\\n",
    "                state_twelve_reward]"
   ]
  },
  {
   "cell_type": "code",
   "execution_count": 66,
   "metadata": {
    "collapsed": false,
    "deletable": true,
    "editable": true
   },
   "outputs": [
    {
     "data": {
      "text/plain": [
       "[1424962.6200000001,\n",
       " 117285.2,\n",
       " 7020.6199999999999,\n",
       " 107535.21000000001,\n",
       " 442699.39000000001,\n",
       " 45419.550000000003,\n",
       " 8382.5,\n",
       " 107781.68000000001,\n",
       " 255424.85000000001,\n",
       " 36750.0,\n",
       " 8718.0,\n",
       " 74367.339999999997]"
      ]
     },
     "execution_count": 66,
     "metadata": {},
     "output_type": "execute_result"
    }
   ],
   "source": [
    "#average amount per RFM state\n",
    "reward_vector"
   ]
  },
  {
   "cell_type": "code",
   "execution_count": 67,
   "metadata": {
    "collapsed": true,
    "deletable": true,
    "editable": true
   },
   "outputs": [],
   "source": [
    "reward_vector.append(0)"
   ]
  },
  {
   "cell_type": "code",
   "execution_count": 68,
   "metadata": {
    "collapsed": false,
    "deletable": true,
    "editable": true
   },
   "outputs": [
    {
     "data": {
      "text/plain": [
       "[1424962.6200000001,\n",
       " 117285.2,\n",
       " 7020.6199999999999,\n",
       " 107535.21000000001,\n",
       " 442699.39000000001,\n",
       " 45419.550000000003,\n",
       " 8382.5,\n",
       " 107781.68000000001,\n",
       " 255424.85000000001,\n",
       " 36750.0,\n",
       " 8718.0,\n",
       " 74367.339999999997,\n",
       " 0]"
      ]
     },
     "execution_count": 68,
     "metadata": {},
     "output_type": "execute_result"
    }
   ],
   "source": [
    "reward_vector"
   ]
  },
  {
   "cell_type": "markdown",
   "metadata": {
    "deletable": true,
    "editable": true
   },
   "source": [
    "----\n",
    "# Create the recency transition matrix"
   ]
  },
  {
   "cell_type": "code",
   "execution_count": 69,
   "metadata": {
    "collapsed": true,
    "deletable": true,
    "editable": true
   },
   "outputs": [],
   "source": [
    "RFM_df = pd.DataFrame()"
   ]
  },
  {
   "cell_type": "code",
   "execution_count": 70,
   "metadata": {
    "collapsed": false,
    "deletable": true,
    "editable": true
   },
   "outputs": [
    {
     "data": {
      "text/html": [
       "<div>\n",
       "<table border=\"1\" class=\"dataframe\">\n",
       "  <thead>\n",
       "    <tr style=\"text-align: right;\">\n",
       "      <th></th>\n",
       "      <th>customer_id</th>\n",
       "      <th>years_since_purchase</th>\n",
       "    </tr>\n",
       "  </thead>\n",
       "  <tbody>\n",
       "    <tr>\n",
       "      <th>16131</th>\n",
       "      <td>80</td>\n",
       "      <td>1</td>\n",
       "    </tr>\n",
       "    <tr>\n",
       "      <th>16859</th>\n",
       "      <td>90</td>\n",
       "      <td>3</td>\n",
       "    </tr>\n",
       "    <tr>\n",
       "      <th>32193</th>\n",
       "      <td>120</td>\n",
       "      <td>4</td>\n",
       "    </tr>\n",
       "    <tr>\n",
       "      <th>4073</th>\n",
       "      <td>130</td>\n",
       "      <td>9</td>\n",
       "    </tr>\n",
       "    <tr>\n",
       "      <th>42643</th>\n",
       "      <td>160</td>\n",
       "      <td>9</td>\n",
       "    </tr>\n",
       "  </tbody>\n",
       "</table>\n",
       "</div>"
      ],
      "text/plain": [
       "       customer_id  years_since_purchase\n",
       "16131           80                     1\n",
       "16859           90                     3\n",
       "32193          120                     4\n",
       "4073           130                     9\n",
       "42643          160                     9"
      ]
     },
     "execution_count": 70,
     "metadata": {},
     "output_type": "execute_result"
    }
   ],
   "source": [
    "recency_df = recency_df[['customer_id','years_since_purchase']]\n",
    "recency_df.head()"
   ]
  },
  {
   "cell_type": "code",
   "execution_count": 71,
   "metadata": {
    "collapsed": false,
    "deletable": true,
    "editable": true
   },
   "outputs": [
    {
     "data": {
      "text/html": [
       "<div>\n",
       "<table border=\"1\" class=\"dataframe\">\n",
       "  <thead>\n",
       "    <tr style=\"text-align: right;\">\n",
       "      <th></th>\n",
       "      <th>customer_id</th>\n",
       "      <th>amount</th>\n",
       "      <th>number_of_purchases</th>\n",
       "    </tr>\n",
       "  </thead>\n",
       "  <tbody>\n",
       "    <tr>\n",
       "      <th>0</th>\n",
       "      <td>80</td>\n",
       "      <td>6</td>\n",
       "      <td>6</td>\n",
       "    </tr>\n",
       "    <tr>\n",
       "      <th>1</th>\n",
       "      <td>90</td>\n",
       "      <td>8</td>\n",
       "      <td>8</td>\n",
       "    </tr>\n",
       "    <tr>\n",
       "      <th>2</th>\n",
       "      <td>120</td>\n",
       "      <td>1</td>\n",
       "      <td>1</td>\n",
       "    </tr>\n",
       "    <tr>\n",
       "      <th>3</th>\n",
       "      <td>130</td>\n",
       "      <td>1</td>\n",
       "      <td>1</td>\n",
       "    </tr>\n",
       "    <tr>\n",
       "      <th>4</th>\n",
       "      <td>160</td>\n",
       "      <td>1</td>\n",
       "      <td>1</td>\n",
       "    </tr>\n",
       "  </tbody>\n",
       "</table>\n",
       "</div>"
      ],
      "text/plain": [
       "   customer_id  amount  number_of_purchases\n",
       "0           80       6                    6\n",
       "1           90       8                    8\n",
       "2          120       1                    1\n",
       "3          130       1                    1\n",
       "4          160       1                    1"
      ]
     },
     "execution_count": 71,
     "metadata": {},
     "output_type": "execute_result"
    }
   ],
   "source": [
    "frequency_df = frequency_df[['customer_id','amount']]\n",
    "frequency_df['number_of_purchases']=frequency_df['amount']\n",
    "frequency_df.head()"
   ]
  },
  {
   "cell_type": "code",
   "execution_count": 72,
   "metadata": {
    "collapsed": false,
    "deletable": true,
    "editable": true
   },
   "outputs": [
    {
     "data": {
      "text/html": [
       "<div>\n",
       "<table border=\"1\" class=\"dataframe\">\n",
       "  <thead>\n",
       "    <tr style=\"text-align: right;\">\n",
       "      <th></th>\n",
       "      <th>customer_id</th>\n",
       "      <th>amount</th>\n",
       "      <th>avg_amount_spent</th>\n",
       "    </tr>\n",
       "  </thead>\n",
       "  <tbody>\n",
       "    <tr>\n",
       "      <th>0</th>\n",
       "      <td>80</td>\n",
       "      <td>75.000</td>\n",
       "      <td>75.000</td>\n",
       "    </tr>\n",
       "    <tr>\n",
       "      <th>1</th>\n",
       "      <td>90</td>\n",
       "      <td>106.875</td>\n",
       "      <td>106.875</td>\n",
       "    </tr>\n",
       "    <tr>\n",
       "      <th>2</th>\n",
       "      <td>120</td>\n",
       "      <td>20.000</td>\n",
       "      <td>20.000</td>\n",
       "    </tr>\n",
       "    <tr>\n",
       "      <th>3</th>\n",
       "      <td>130</td>\n",
       "      <td>60.000</td>\n",
       "      <td>60.000</td>\n",
       "    </tr>\n",
       "    <tr>\n",
       "      <th>4</th>\n",
       "      <td>160</td>\n",
       "      <td>30.000</td>\n",
       "      <td>30.000</td>\n",
       "    </tr>\n",
       "  </tbody>\n",
       "</table>\n",
       "</div>"
      ],
      "text/plain": [
       "   customer_id   amount  avg_amount_spent\n",
       "0           80   75.000            75.000\n",
       "1           90  106.875           106.875\n",
       "2          120   20.000            20.000\n",
       "3          130   60.000            60.000\n",
       "4          160   30.000            30.000"
      ]
     },
     "execution_count": 72,
     "metadata": {},
     "output_type": "execute_result"
    }
   ],
   "source": [
    " monetary_df = state_df.groupby(['customer_id']).mean().reset_index()\n",
    "monetary_df = monetary_df[['customer_id','amount']]\n",
    "monetary_df['avg_amount_spent']=monetary_df['amount']\n",
    "monetary_df.head()"
   ]
  },
  {
   "cell_type": "code",
   "execution_count": 73,
   "metadata": {
    "collapsed": false,
    "deletable": true,
    "editable": true
   },
   "outputs": [],
   "source": [
    "merged = pd.merge(frequency_df, monetary_df, on='customer_id')"
   ]
  },
  {
   "cell_type": "code",
   "execution_count": 74,
   "metadata": {
    "collapsed": false,
    "deletable": true,
    "editable": true
   },
   "outputs": [],
   "source": [
    "RMF_df = pd.merge(merged, recency_df, on='customer_id')"
   ]
  },
  {
   "cell_type": "code",
   "execution_count": 75,
   "metadata": {
    "collapsed": false,
    "deletable": true,
    "editable": true,
    "scrolled": true
   },
   "outputs": [
    {
     "data": {
      "text/html": [
       "<div>\n",
       "<table border=\"1\" class=\"dataframe\">\n",
       "  <thead>\n",
       "    <tr style=\"text-align: right;\">\n",
       "      <th></th>\n",
       "      <th>customer_id</th>\n",
       "      <th>amount_x</th>\n",
       "      <th>number_of_purchases</th>\n",
       "      <th>amount_y</th>\n",
       "      <th>avg_amount_spent</th>\n",
       "      <th>years_since_purchase</th>\n",
       "    </tr>\n",
       "  </thead>\n",
       "  <tbody>\n",
       "    <tr>\n",
       "      <th>0</th>\n",
       "      <td>80</td>\n",
       "      <td>6</td>\n",
       "      <td>6</td>\n",
       "      <td>75.000</td>\n",
       "      <td>75.000</td>\n",
       "      <td>1</td>\n",
       "    </tr>\n",
       "    <tr>\n",
       "      <th>1</th>\n",
       "      <td>90</td>\n",
       "      <td>8</td>\n",
       "      <td>8</td>\n",
       "      <td>106.875</td>\n",
       "      <td>106.875</td>\n",
       "      <td>3</td>\n",
       "    </tr>\n",
       "    <tr>\n",
       "      <th>2</th>\n",
       "      <td>120</td>\n",
       "      <td>1</td>\n",
       "      <td>1</td>\n",
       "      <td>20.000</td>\n",
       "      <td>20.000</td>\n",
       "      <td>4</td>\n",
       "    </tr>\n",
       "    <tr>\n",
       "      <th>3</th>\n",
       "      <td>130</td>\n",
       "      <td>1</td>\n",
       "      <td>1</td>\n",
       "      <td>60.000</td>\n",
       "      <td>60.000</td>\n",
       "      <td>9</td>\n",
       "    </tr>\n",
       "    <tr>\n",
       "      <th>4</th>\n",
       "      <td>160</td>\n",
       "      <td>1</td>\n",
       "      <td>1</td>\n",
       "      <td>30.000</td>\n",
       "      <td>30.000</td>\n",
       "      <td>9</td>\n",
       "    </tr>\n",
       "  </tbody>\n",
       "</table>\n",
       "</div>"
      ],
      "text/plain": [
       "   customer_id  amount_x  number_of_purchases  amount_y  avg_amount_spent  \\\n",
       "0           80         6                    6    75.000            75.000   \n",
       "1           90         8                    8   106.875           106.875   \n",
       "2          120         1                    1    20.000            20.000   \n",
       "3          130         1                    1    60.000            60.000   \n",
       "4          160         1                    1    30.000            30.000   \n",
       "\n",
       "   years_since_purchase  \n",
       "0                     1  \n",
       "1                     3  \n",
       "2                     4  \n",
       "3                     9  \n",
       "4                     9  "
      ]
     },
     "execution_count": 75,
     "metadata": {},
     "output_type": "execute_result"
    }
   ],
   "source": [
    "RMF_df.head()"
   ]
  },
  {
   "cell_type": "code",
   "execution_count": 76,
   "metadata": {
    "collapsed": false,
    "deletable": true,
    "editable": true
   },
   "outputs": [],
   "source": [
    "assert(RMF_df.amount_x.all() == RMF_df.number_of_purchases.all())"
   ]
  },
  {
   "cell_type": "code",
   "execution_count": 77,
   "metadata": {
    "collapsed": true,
    "deletable": true,
    "editable": true
   },
   "outputs": [],
   "source": [
    "RMF_df.drop(['amount_x', 'amount_y'], axis=1, inplace=True)"
   ]
  },
  {
   "cell_type": "markdown",
   "metadata": {
    "deletable": true,
    "editable": true
   },
   "source": [
    "---\n",
    "## Recency-Monetary-Frequency Data"
   ]
  },
  {
   "cell_type": "code",
   "execution_count": 78,
   "metadata": {
    "collapsed": false,
    "deletable": true,
    "editable": true
   },
   "outputs": [
    {
     "data": {
      "text/html": [
       "<div>\n",
       "<table border=\"1\" class=\"dataframe\">\n",
       "  <thead>\n",
       "    <tr style=\"text-align: right;\">\n",
       "      <th></th>\n",
       "      <th>customer_id</th>\n",
       "      <th>number_of_purchases</th>\n",
       "      <th>avg_amount_spent</th>\n",
       "      <th>years_since_purchase</th>\n",
       "    </tr>\n",
       "  </thead>\n",
       "  <tbody>\n",
       "    <tr>\n",
       "      <th>0</th>\n",
       "      <td>80</td>\n",
       "      <td>6</td>\n",
       "      <td>75.000</td>\n",
       "      <td>1</td>\n",
       "    </tr>\n",
       "    <tr>\n",
       "      <th>1</th>\n",
       "      <td>90</td>\n",
       "      <td>8</td>\n",
       "      <td>106.875</td>\n",
       "      <td>3</td>\n",
       "    </tr>\n",
       "    <tr>\n",
       "      <th>2</th>\n",
       "      <td>120</td>\n",
       "      <td>1</td>\n",
       "      <td>20.000</td>\n",
       "      <td>4</td>\n",
       "    </tr>\n",
       "    <tr>\n",
       "      <th>3</th>\n",
       "      <td>130</td>\n",
       "      <td>1</td>\n",
       "      <td>60.000</td>\n",
       "      <td>9</td>\n",
       "    </tr>\n",
       "    <tr>\n",
       "      <th>4</th>\n",
       "      <td>160</td>\n",
       "      <td>1</td>\n",
       "      <td>30.000</td>\n",
       "      <td>9</td>\n",
       "    </tr>\n",
       "  </tbody>\n",
       "</table>\n",
       "</div>"
      ],
      "text/plain": [
       "   customer_id  number_of_purchases  avg_amount_spent  years_since_purchase\n",
       "0           80                    6            75.000                     1\n",
       "1           90                    8           106.875                     3\n",
       "2          120                    1            20.000                     4\n",
       "3          130                    1            60.000                     9\n",
       "4          160                    1            30.000                     9"
      ]
     },
     "execution_count": 78,
     "metadata": {},
     "output_type": "execute_result"
    }
   ],
   "source": [
    "RMF_df.head()"
   ]
  },
  {
   "cell_type": "code",
   "execution_count": 79,
   "metadata": {
    "collapsed": true,
    "deletable": true,
    "editable": true
   },
   "outputs": [],
   "source": [
    "RMF_segments_df = pd.DataFrame(columns=['creme', 'high', 'medium', 'low'])"
   ]
  },
  {
   "cell_type": "code",
   "execution_count": 80,
   "metadata": {
    "collapsed": false,
    "deletable": true,
    "editable": true
   },
   "outputs": [],
   "source": [
    "rmf_state_1 = RMF_df[(RMF_df.years_since_purchase<2) & (RMF_df.number_of_purchases>=2) & (RMF_df.avg_amount_spent>=30)]['customer_id'].count()\n",
    "rmf_state_2 = RMF_df[(RMF_df.years_since_purchase<2) & (RMF_df.number_of_purchases>=2) & (RMF_df.avg_amount_spent<30)]['customer_id'].count()\n",
    "rmf_state_3 = RMF_df[(RMF_df.years_since_purchase<2) & (RMF_df.number_of_purchases<2) & (RMF_df.avg_amount_spent<30)]['customer_id'].count()\n",
    "rmf_state_4 = RMF_df[(RMF_df.years_since_purchase<2) & (RMF_df.number_of_purchases<2) & (RMF_df.avg_amount_spent>=30)]['customer_id'].count()\n",
    "rmf_state_5 = RMF_df[(RMF_df.years_since_purchase.isin(range(2,4))) & (RMF_df.number_of_purchases>=2) & (RMF_df.avg_amount_spent>=30)]['customer_id'].count()\n",
    "rmf_state_6 = RMF_df[(RMF_df.years_since_purchase.isin(range(2,4))) & (RMF_df.number_of_purchases>=2) & (RMF_df.avg_amount_spent<30)]['customer_id'].count()\n",
    "rmf_state_7 = RMF_df[(RMF_df.years_since_purchase.isin(range(2,4))) & (RMF_df.number_of_purchases<2) & (RMF_df.avg_amount_spent<30)]['customer_id'].count()\n",
    "rmf_state_8 = RMF_df[(RMF_df.years_since_purchase.isin(range(2,4))) & (RMF_df.number_of_purchases<2) & (RMF_df.avg_amount_spent>=30)]['customer_id'].count()\n",
    "rmf_state_9 = RMF_df[(RMF_df.years_since_purchase.isin(range(4,6))) & (RMF_df.number_of_purchases>=2) & (RMF_df.avg_amount_spent>=30)]['customer_id'].count()\n",
    "rmf_state_10 = RMF_df[(RMF_df.years_since_purchase.isin(range(4,6))) & (RMF_df.number_of_purchases>=2) & (RMF_df.avg_amount_spent<30)]['customer_id'].count()\n",
    "rmf_state_11 = RMF_df[(RMF_df.years_since_purchase.isin(range(4,6))) & (RMF_df.number_of_purchases<2) & (RMF_df.avg_amount_spent<30)]['customer_id'].count()\n",
    "rmf_state_12 = RMF_df[(RMF_df.years_since_purchase.isin(range(4,6))) & (RMF_df.number_of_purchases<2) & (RMF_df.avg_amount_spent>=30)]['customer_id'].count()\n",
    "rmf_state_13 = RMF_df[(RMF_df.years_since_purchase.isin(range(6,8))) & (RMF_df.number_of_purchases>=2) & (RMF_df.avg_amount_spent>=30)]['customer_id'].count()\n",
    "rmf_state_14 = RMF_df[(RMF_df.years_since_purchase.isin(range(6,8))) & (RMF_df.number_of_purchases>=2) & (RMF_df.avg_amount_spent<30)]['customer_id'].count()\n",
    "rmf_state_15 = RMF_df[(RMF_df.years_since_purchase.isin(range(6,8))) & (RMF_df.number_of_purchases<2) & (RMF_df.avg_amount_spent<30)]['customer_id'].count()\n",
    "rmf_state_16 = RMF_df[(RMF_df.years_since_purchase.isin(range(6,8))) & (RMF_df.number_of_purchases<2) & (RMF_df.avg_amount_spent>=30)]['customer_id'].count()"
   ]
  },
  {
   "cell_type": "code",
   "execution_count": 86,
   "metadata": {
    "collapsed": false,
    "deletable": true,
    "editable": true
   },
   "outputs": [
    {
     "name": "stdout",
     "output_type": "stream",
     "text": [
      "[0.1688582877137536, 0.05237315875613748, 0.02263107398837406, 0.06078221118573283, 0.07466561318358823, 0.029967831141712285, 0.030193577515661155, 0.0830746656131836, 0.05468705908911338, 0.03154805575935436, 0.030983689824482193, 0.0643377165754275, 0] 13\n"
     ]
    }
   ],
   "source": [
    "rmf_probs = [float(rmf_state_1*1.0 / total_customers),\n",
    "              float(rmf_state_2*1.0 / total_customers),\n",
    "              float(rmf_state_3*1.0 / total_customers),\n",
    "              float(rmf_state_4*1.0 / total_customers),\n",
    "              float(rmf_state_5*1.0 / total_customers),\n",
    "              float(rmf_state_6*1.0 / total_customers),\n",
    "              float(rmf_state_7*1.0 / total_customers),\n",
    "              float(rmf_state_8*1.0 / total_customers),\n",
    "              float(rmf_state_9*1.0 / total_customers),\n",
    "              float(rmf_state_10*1.0 / total_customers),\n",
    "              float(rmf_state_11*1.0 / total_customers),\n",
    "              float(rmf_state_12*1.0 / total_customers),]\n",
    "rmf_probs\n",
    "rmf_probs.append(0)\n",
    "print(rmf_probs,len(rmf_probs))\n"
   ]
  },
  {
   "cell_type": "markdown",
   "metadata": {
    "deletable": true,
    "editable": true
   },
   "source": [
    "---\n",
    "## One-time RMF Transition Matrix"
   ]
  },
  {
   "cell_type": "code",
   "execution_count": 89,
   "metadata": {
    "collapsed": false,
    "deletable": true,
    "editable": true
   },
   "outputs": [
    {
     "name": "stdout",
     "output_type": "stream",
     "text": [
      "['state1', 'state2', 'state3', 'state4', 'state5', 'state6', 'state7', 'state8', 'state9', 'state10', 'state11', 'state12', 'inactive']\n"
     ]
    }
   ],
   "source": [
    "transRMFrows = ['state{}'.format(i) for i in range(1, len(rmf_probs))]\n",
    "transRMFrows.append('inactive')\n",
    "print(transRMFrows)"
   ]
  },
  {
   "cell_type": "code",
   "execution_count": 90,
   "metadata": {
    "collapsed": false,
    "deletable": true,
    "editable": true
   },
   "outputs": [
    {
     "data": {
      "text/html": [
       "<div>\n",
       "<table border=\"1\" class=\"dataframe\">\n",
       "  <thead>\n",
       "    <tr style=\"text-align: right;\">\n",
       "      <th></th>\n",
       "      <th>state1</th>\n",
       "      <th>state2</th>\n",
       "      <th>state3</th>\n",
       "      <th>state4</th>\n",
       "      <th>state5</th>\n",
       "      <th>state6</th>\n",
       "      <th>state7</th>\n",
       "      <th>state8</th>\n",
       "      <th>state9</th>\n",
       "      <th>state10</th>\n",
       "      <th>state11</th>\n",
       "      <th>state12</th>\n",
       "      <th>inactive</th>\n",
       "    </tr>\n",
       "  </thead>\n",
       "  <tbody>\n",
       "    <tr>\n",
       "      <th>state1</th>\n",
       "      <td>0</td>\n",
       "      <td>0</td>\n",
       "      <td>0</td>\n",
       "      <td>0</td>\n",
       "      <td>0</td>\n",
       "      <td>0</td>\n",
       "      <td>0</td>\n",
       "      <td>0</td>\n",
       "      <td>0</td>\n",
       "      <td>0</td>\n",
       "      <td>0</td>\n",
       "      <td>0</td>\n",
       "      <td>0</td>\n",
       "    </tr>\n",
       "    <tr>\n",
       "      <th>state2</th>\n",
       "      <td>0</td>\n",
       "      <td>0</td>\n",
       "      <td>0</td>\n",
       "      <td>0</td>\n",
       "      <td>0</td>\n",
       "      <td>0</td>\n",
       "      <td>0</td>\n",
       "      <td>0</td>\n",
       "      <td>0</td>\n",
       "      <td>0</td>\n",
       "      <td>0</td>\n",
       "      <td>0</td>\n",
       "      <td>0</td>\n",
       "    </tr>\n",
       "    <tr>\n",
       "      <th>state3</th>\n",
       "      <td>0</td>\n",
       "      <td>0</td>\n",
       "      <td>0</td>\n",
       "      <td>0</td>\n",
       "      <td>0</td>\n",
       "      <td>0</td>\n",
       "      <td>0</td>\n",
       "      <td>0</td>\n",
       "      <td>0</td>\n",
       "      <td>0</td>\n",
       "      <td>0</td>\n",
       "      <td>0</td>\n",
       "      <td>0</td>\n",
       "    </tr>\n",
       "    <tr>\n",
       "      <th>state4</th>\n",
       "      <td>0</td>\n",
       "      <td>0</td>\n",
       "      <td>0</td>\n",
       "      <td>0</td>\n",
       "      <td>0</td>\n",
       "      <td>0</td>\n",
       "      <td>0</td>\n",
       "      <td>0</td>\n",
       "      <td>0</td>\n",
       "      <td>0</td>\n",
       "      <td>0</td>\n",
       "      <td>0</td>\n",
       "      <td>0</td>\n",
       "    </tr>\n",
       "    <tr>\n",
       "      <th>state5</th>\n",
       "      <td>0</td>\n",
       "      <td>0</td>\n",
       "      <td>0</td>\n",
       "      <td>0</td>\n",
       "      <td>0</td>\n",
       "      <td>0</td>\n",
       "      <td>0</td>\n",
       "      <td>0</td>\n",
       "      <td>0</td>\n",
       "      <td>0</td>\n",
       "      <td>0</td>\n",
       "      <td>0</td>\n",
       "      <td>0</td>\n",
       "    </tr>\n",
       "    <tr>\n",
       "      <th>state6</th>\n",
       "      <td>0</td>\n",
       "      <td>0</td>\n",
       "      <td>0</td>\n",
       "      <td>0</td>\n",
       "      <td>0</td>\n",
       "      <td>0</td>\n",
       "      <td>0</td>\n",
       "      <td>0</td>\n",
       "      <td>0</td>\n",
       "      <td>0</td>\n",
       "      <td>0</td>\n",
       "      <td>0</td>\n",
       "      <td>0</td>\n",
       "    </tr>\n",
       "    <tr>\n",
       "      <th>state7</th>\n",
       "      <td>0</td>\n",
       "      <td>0</td>\n",
       "      <td>0</td>\n",
       "      <td>0</td>\n",
       "      <td>0</td>\n",
       "      <td>0</td>\n",
       "      <td>0</td>\n",
       "      <td>0</td>\n",
       "      <td>0</td>\n",
       "      <td>0</td>\n",
       "      <td>0</td>\n",
       "      <td>0</td>\n",
       "      <td>0</td>\n",
       "    </tr>\n",
       "    <tr>\n",
       "      <th>state8</th>\n",
       "      <td>0</td>\n",
       "      <td>0</td>\n",
       "      <td>0</td>\n",
       "      <td>0</td>\n",
       "      <td>0</td>\n",
       "      <td>0</td>\n",
       "      <td>0</td>\n",
       "      <td>0</td>\n",
       "      <td>0</td>\n",
       "      <td>0</td>\n",
       "      <td>0</td>\n",
       "      <td>0</td>\n",
       "      <td>0</td>\n",
       "    </tr>\n",
       "    <tr>\n",
       "      <th>state9</th>\n",
       "      <td>0</td>\n",
       "      <td>0</td>\n",
       "      <td>0</td>\n",
       "      <td>0</td>\n",
       "      <td>0</td>\n",
       "      <td>0</td>\n",
       "      <td>0</td>\n",
       "      <td>0</td>\n",
       "      <td>0</td>\n",
       "      <td>0</td>\n",
       "      <td>0</td>\n",
       "      <td>0</td>\n",
       "      <td>0</td>\n",
       "    </tr>\n",
       "    <tr>\n",
       "      <th>state10</th>\n",
       "      <td>0</td>\n",
       "      <td>0</td>\n",
       "      <td>0</td>\n",
       "      <td>0</td>\n",
       "      <td>0</td>\n",
       "      <td>0</td>\n",
       "      <td>0</td>\n",
       "      <td>0</td>\n",
       "      <td>0</td>\n",
       "      <td>0</td>\n",
       "      <td>0</td>\n",
       "      <td>0</td>\n",
       "      <td>0</td>\n",
       "    </tr>\n",
       "    <tr>\n",
       "      <th>state11</th>\n",
       "      <td>0</td>\n",
       "      <td>0</td>\n",
       "      <td>0</td>\n",
       "      <td>0</td>\n",
       "      <td>0</td>\n",
       "      <td>0</td>\n",
       "      <td>0</td>\n",
       "      <td>0</td>\n",
       "      <td>0</td>\n",
       "      <td>0</td>\n",
       "      <td>0</td>\n",
       "      <td>0</td>\n",
       "      <td>0</td>\n",
       "    </tr>\n",
       "    <tr>\n",
       "      <th>state12</th>\n",
       "      <td>0</td>\n",
       "      <td>0</td>\n",
       "      <td>0</td>\n",
       "      <td>0</td>\n",
       "      <td>0</td>\n",
       "      <td>0</td>\n",
       "      <td>0</td>\n",
       "      <td>0</td>\n",
       "      <td>0</td>\n",
       "      <td>0</td>\n",
       "      <td>0</td>\n",
       "      <td>0</td>\n",
       "      <td>0</td>\n",
       "    </tr>\n",
       "    <tr>\n",
       "      <th>inactive</th>\n",
       "      <td>0</td>\n",
       "      <td>0</td>\n",
       "      <td>0</td>\n",
       "      <td>0</td>\n",
       "      <td>0</td>\n",
       "      <td>0</td>\n",
       "      <td>0</td>\n",
       "      <td>0</td>\n",
       "      <td>0</td>\n",
       "      <td>0</td>\n",
       "      <td>0</td>\n",
       "      <td>0</td>\n",
       "      <td>0</td>\n",
       "    </tr>\n",
       "  </tbody>\n",
       "</table>\n",
       "</div>"
      ],
      "text/plain": [
       "          state1  state2  state3  state4  state5  state6  state7  state8  \\\n",
       "state1         0       0       0       0       0       0       0       0   \n",
       "state2         0       0       0       0       0       0       0       0   \n",
       "state3         0       0       0       0       0       0       0       0   \n",
       "state4         0       0       0       0       0       0       0       0   \n",
       "state5         0       0       0       0       0       0       0       0   \n",
       "state6         0       0       0       0       0       0       0       0   \n",
       "state7         0       0       0       0       0       0       0       0   \n",
       "state8         0       0       0       0       0       0       0       0   \n",
       "state9         0       0       0       0       0       0       0       0   \n",
       "state10        0       0       0       0       0       0       0       0   \n",
       "state11        0       0       0       0       0       0       0       0   \n",
       "state12        0       0       0       0       0       0       0       0   \n",
       "inactive       0       0       0       0       0       0       0       0   \n",
       "\n",
       "          state9  state10  state11  state12  inactive  \n",
       "state1         0        0        0        0         0  \n",
       "state2         0        0        0        0         0  \n",
       "state3         0        0        0        0         0  \n",
       "state4         0        0        0        0         0  \n",
       "state5         0        0        0        0         0  \n",
       "state6         0        0        0        0         0  \n",
       "state7         0        0        0        0         0  \n",
       "state8         0        0        0        0         0  \n",
       "state9         0        0        0        0         0  \n",
       "state10        0        0        0        0         0  \n",
       "state11        0        0        0        0         0  \n",
       "state12        0        0        0        0         0  \n",
       "inactive       0        0        0        0         0  "
      ]
     },
     "execution_count": 90,
     "metadata": {},
     "output_type": "execute_result"
    }
   ],
   "source": [
    "trans_RMF_df = pd.DataFrame(0, columns=transRMFrows, index=transRMFrows)\n",
    "trans_RMF_df"
   ]
  },
  {
   "cell_type": "code",
   "execution_count": 91,
   "metadata": {
    "collapsed": false,
    "deletable": true,
    "editable": true
   },
   "outputs": [
    {
     "data": {
      "text/plain": [
       "[0.1688582877137536,\n",
       " 0.05237315875613748,\n",
       " 0.02263107398837406,\n",
       " 0.06078221118573283,\n",
       " 0.07466561318358823,\n",
       " 0.029967831141712285,\n",
       " 0.030193577515661155,\n",
       " 0.0830746656131836,\n",
       " 0.05468705908911338,\n",
       " 0.03154805575935436,\n",
       " 0.030983689824482193,\n",
       " 0.0643377165754275,\n",
       " 0]"
      ]
     },
     "execution_count": 91,
     "metadata": {},
     "output_type": "execute_result"
    }
   ],
   "source": [
    "rmf_probs"
   ]
  },
  {
   "cell_type": "code",
   "execution_count": 92,
   "metadata": {
    "collapsed": false,
    "deletable": true,
    "editable": true
   },
   "outputs": [
    {
     "data": {
      "text/plain": [
       "[0.1688582877137536,\n",
       " 0.05237315875613748,\n",
       " 0.02263107398837406,\n",
       " 0.06078221118573283,\n",
       " 0.07466561318358823,\n",
       " 0.029967831141712285,\n",
       " 0.030193577515661155,\n",
       " 0.0830746656131836,\n",
       " 0.05468705908911338,\n",
       " 0.03154805575935436,\n",
       " 0.030983689824482193,\n",
       " 0.0643377165754275,\n",
       " 0]"
      ]
     },
     "execution_count": 92,
     "metadata": {},
     "output_type": "execute_result"
    }
   ],
   "source": [
    "trans_RMF_df['state1'] = [i/4 for i in rmf_probs]\n",
    "trans_RMF_df['state2'] = [rmf_probs[0]/4, rmf_probs[1]/4,rmf_probs[2]/4, rmf_probs[3]/4, rmf_probs[4]/4,\\\n",
    "                          rmf_probs[5]/4, rmf_probs[6]/4, rmf_probs[7]/4, rmf_probs[8]/4, rmf_probs[9]/4,\\\n",
    "                          rmf_probs[10]/4, rmf_probs[11]/4,rmf_probs[12]/4]\n",
    "trans_RMF_df['state3'] = [rmf_probs[0]/4, rmf_probs[1]/4, rmf_probs[2]/4,rmf_probs[3]/4, rmf_probs[4]/4,\\\n",
    "                          rmf_probs[5]/4, rmf_probs[6]/4, rmf_probs[7]/4, rmf_probs[8]/4, rmf_probs[9]/4,\\\n",
    "                          rmf_probs[10]/4, rmf_probs[11]/4,rmf_probs[12]/4]\n",
    "trans_RMF_df['state4'] = [rmf_probs[0]/4, rmf_probs[1]/4, rmf_probs[2]/4, rmf_probs[3]/4,rmf_probs[4]/4,\\\n",
    "                          rmf_probs[5]/4, rmf_probs[6]/4, rmf_probs[7]/4, rmf_probs[8]/4, rmf_probs[9]/4,\\\n",
    "                          rmf_probs[10]/4, rmf_probs[11]/4,rmf_probs[12]/4]\n",
    "trans_RMF_df['state5'] = [(1-rmf_probs[0])/4, (1-rmf_probs[1])/4,  (1-rmf_probs[2])/4, (1-rmf_probs[3])/4,\\\n",
    "                          0, 0, 0, 0, 0, 0, 0, 0, 0]\n",
    "trans_RMF_df['state6'] = [(1-rmf_probs[0])/4, (1-rmf_probs[1])/4,  (1-rmf_probs[2])/4, (1-rmf_probs[3])/4,\\\n",
    "                          0, 0, 0, 0, 0, 0, 0, 0, 0]\n",
    "trans_RMF_df['state7'] = [(1-rmf_probs[0])/4, (1-rmf_probs[1])/4, (1-rmf_probs[2])/4, (1-rmf_probs[3])/4,\\\n",
    "                          0, 0, 0, 0, 0, 0, 0, 0, 0]\n",
    "trans_RMF_df['state8'] = [(1-rmf_probs[0])/4,  (1-rmf_probs[1])/4, (1-rmf_probs[2])/4, (1-rmf_probs[3])/4,\\\n",
    "                          0, 0, 0, 0, 0, 0, 0, 0, 0]\n",
    "trans_RMF_df['state9'] = [0, 0, 0, 0, (1-rmf_probs[4])/4, (1-rmf_probs[5])/4, (1-rmf_probs[6])/4, (1-rmf_probs[7])/4,\\\n",
    "                          0, 0, 0, 0, 0]\n",
    "trans_RMF_df['state10'] = [0, 0, 0, 0, (1-rmf_probs[4])/4, (1-rmf_probs[5])/4, (1-rmf_probs[6])/4, (1-rmf_probs[7])/4,\\\n",
    "                           0, 0, 0, 0, 0]\n",
    "trans_RMF_df['state11'] = [0, 0, 0, 0, (1-rmf_probs[4])/4, (1-rmf_probs[5])/4, (1-rmf_probs[6])/4, (1-rmf_probs[7])/4,\\\n",
    "                           0, 0, 0, 0, 0]\n",
    "trans_RMF_df['state12'] = [0, 0, 0, 0, (1-rmf_probs[4])/4, (1-rmf_probs[5])/4, (1-rmf_probs[6])/4, (1-rmf_probs[7])/4,\\\n",
    "                           0, 0, 0, 0, 0]\n",
    "trans_RMF_df['inactive']=[0, 0, 0, 0, 0, 0, 0, 0, 1-rmf_probs[8], 1-rmf_probs[9],1-rmf_probs[10],1-rmf_probs[11], 1]\n",
    "\n",
    "# rmf_probs[0]\n",
    "# rmf_probs[1]\n",
    "# rmf_probs[2]\n",
    "# rmf_probs[3]\n",
    "# rmf_probs[4]\n",
    "# rmf_probs[5]\n",
    "# rmf_probs[6]\n",
    "# rmf_probs[7]\n",
    "# rmf_probs[8]\n",
    "# rmf_probs[9]\n",
    "# rmf_probs[10]\n",
    "\n",
    "# rmf_probs[11]\n",
    "rmf_probs"
   ]
  },
  {
   "cell_type": "code",
   "execution_count": 93,
   "metadata": {
    "collapsed": false,
    "deletable": true,
    "editable": true
   },
   "outputs": [
    {
     "data": {
      "text/html": [
       "<div>\n",
       "<table border=\"1\" class=\"dataframe\">\n",
       "  <thead>\n",
       "    <tr style=\"text-align: right;\">\n",
       "      <th></th>\n",
       "      <th>state1</th>\n",
       "      <th>state2</th>\n",
       "      <th>state3</th>\n",
       "      <th>state4</th>\n",
       "      <th>state5</th>\n",
       "      <th>state6</th>\n",
       "      <th>state7</th>\n",
       "      <th>state8</th>\n",
       "      <th>state9</th>\n",
       "      <th>state10</th>\n",
       "      <th>state11</th>\n",
       "      <th>state12</th>\n",
       "      <th>inactive</th>\n",
       "    </tr>\n",
       "  </thead>\n",
       "  <tbody>\n",
       "    <tr>\n",
       "      <th>state1</th>\n",
       "      <td>0.042215</td>\n",
       "      <td>0.042215</td>\n",
       "      <td>0.042215</td>\n",
       "      <td>0.042215</td>\n",
       "      <td>0.207785</td>\n",
       "      <td>0.207785</td>\n",
       "      <td>0.207785</td>\n",
       "      <td>0.207785</td>\n",
       "      <td>0.000000</td>\n",
       "      <td>0.000000</td>\n",
       "      <td>0.000000</td>\n",
       "      <td>0.000000</td>\n",
       "      <td>0.000000</td>\n",
       "    </tr>\n",
       "    <tr>\n",
       "      <th>state2</th>\n",
       "      <td>0.013093</td>\n",
       "      <td>0.013093</td>\n",
       "      <td>0.013093</td>\n",
       "      <td>0.013093</td>\n",
       "      <td>0.236907</td>\n",
       "      <td>0.236907</td>\n",
       "      <td>0.236907</td>\n",
       "      <td>0.236907</td>\n",
       "      <td>0.000000</td>\n",
       "      <td>0.000000</td>\n",
       "      <td>0.000000</td>\n",
       "      <td>0.000000</td>\n",
       "      <td>0.000000</td>\n",
       "    </tr>\n",
       "    <tr>\n",
       "      <th>state3</th>\n",
       "      <td>0.005658</td>\n",
       "      <td>0.005658</td>\n",
       "      <td>0.005658</td>\n",
       "      <td>0.005658</td>\n",
       "      <td>0.244342</td>\n",
       "      <td>0.244342</td>\n",
       "      <td>0.244342</td>\n",
       "      <td>0.244342</td>\n",
       "      <td>0.000000</td>\n",
       "      <td>0.000000</td>\n",
       "      <td>0.000000</td>\n",
       "      <td>0.000000</td>\n",
       "      <td>0.000000</td>\n",
       "    </tr>\n",
       "    <tr>\n",
       "      <th>state4</th>\n",
       "      <td>0.015196</td>\n",
       "      <td>0.015196</td>\n",
       "      <td>0.015196</td>\n",
       "      <td>0.015196</td>\n",
       "      <td>0.234804</td>\n",
       "      <td>0.234804</td>\n",
       "      <td>0.234804</td>\n",
       "      <td>0.234804</td>\n",
       "      <td>0.000000</td>\n",
       "      <td>0.000000</td>\n",
       "      <td>0.000000</td>\n",
       "      <td>0.000000</td>\n",
       "      <td>0.000000</td>\n",
       "    </tr>\n",
       "    <tr>\n",
       "      <th>state5</th>\n",
       "      <td>0.018666</td>\n",
       "      <td>0.018666</td>\n",
       "      <td>0.018666</td>\n",
       "      <td>0.018666</td>\n",
       "      <td>0.000000</td>\n",
       "      <td>0.000000</td>\n",
       "      <td>0.000000</td>\n",
       "      <td>0.000000</td>\n",
       "      <td>0.231334</td>\n",
       "      <td>0.231334</td>\n",
       "      <td>0.231334</td>\n",
       "      <td>0.231334</td>\n",
       "      <td>0.000000</td>\n",
       "    </tr>\n",
       "    <tr>\n",
       "      <th>state6</th>\n",
       "      <td>0.007492</td>\n",
       "      <td>0.007492</td>\n",
       "      <td>0.007492</td>\n",
       "      <td>0.007492</td>\n",
       "      <td>0.000000</td>\n",
       "      <td>0.000000</td>\n",
       "      <td>0.000000</td>\n",
       "      <td>0.000000</td>\n",
       "      <td>0.242508</td>\n",
       "      <td>0.242508</td>\n",
       "      <td>0.242508</td>\n",
       "      <td>0.242508</td>\n",
       "      <td>0.000000</td>\n",
       "    </tr>\n",
       "    <tr>\n",
       "      <th>state7</th>\n",
       "      <td>0.007548</td>\n",
       "      <td>0.007548</td>\n",
       "      <td>0.007548</td>\n",
       "      <td>0.007548</td>\n",
       "      <td>0.000000</td>\n",
       "      <td>0.000000</td>\n",
       "      <td>0.000000</td>\n",
       "      <td>0.000000</td>\n",
       "      <td>0.242452</td>\n",
       "      <td>0.242452</td>\n",
       "      <td>0.242452</td>\n",
       "      <td>0.242452</td>\n",
       "      <td>0.000000</td>\n",
       "    </tr>\n",
       "    <tr>\n",
       "      <th>state8</th>\n",
       "      <td>0.020769</td>\n",
       "      <td>0.020769</td>\n",
       "      <td>0.020769</td>\n",
       "      <td>0.020769</td>\n",
       "      <td>0.000000</td>\n",
       "      <td>0.000000</td>\n",
       "      <td>0.000000</td>\n",
       "      <td>0.000000</td>\n",
       "      <td>0.229231</td>\n",
       "      <td>0.229231</td>\n",
       "      <td>0.229231</td>\n",
       "      <td>0.229231</td>\n",
       "      <td>0.000000</td>\n",
       "    </tr>\n",
       "    <tr>\n",
       "      <th>state9</th>\n",
       "      <td>0.013672</td>\n",
       "      <td>0.013672</td>\n",
       "      <td>0.013672</td>\n",
       "      <td>0.013672</td>\n",
       "      <td>0.000000</td>\n",
       "      <td>0.000000</td>\n",
       "      <td>0.000000</td>\n",
       "      <td>0.000000</td>\n",
       "      <td>0.000000</td>\n",
       "      <td>0.000000</td>\n",
       "      <td>0.000000</td>\n",
       "      <td>0.000000</td>\n",
       "      <td>0.945313</td>\n",
       "    </tr>\n",
       "    <tr>\n",
       "      <th>state10</th>\n",
       "      <td>0.007887</td>\n",
       "      <td>0.007887</td>\n",
       "      <td>0.007887</td>\n",
       "      <td>0.007887</td>\n",
       "      <td>0.000000</td>\n",
       "      <td>0.000000</td>\n",
       "      <td>0.000000</td>\n",
       "      <td>0.000000</td>\n",
       "      <td>0.000000</td>\n",
       "      <td>0.000000</td>\n",
       "      <td>0.000000</td>\n",
       "      <td>0.000000</td>\n",
       "      <td>0.968452</td>\n",
       "    </tr>\n",
       "    <tr>\n",
       "      <th>state11</th>\n",
       "      <td>0.007746</td>\n",
       "      <td>0.007746</td>\n",
       "      <td>0.007746</td>\n",
       "      <td>0.007746</td>\n",
       "      <td>0.000000</td>\n",
       "      <td>0.000000</td>\n",
       "      <td>0.000000</td>\n",
       "      <td>0.000000</td>\n",
       "      <td>0.000000</td>\n",
       "      <td>0.000000</td>\n",
       "      <td>0.000000</td>\n",
       "      <td>0.000000</td>\n",
       "      <td>0.969016</td>\n",
       "    </tr>\n",
       "    <tr>\n",
       "      <th>state12</th>\n",
       "      <td>0.016084</td>\n",
       "      <td>0.016084</td>\n",
       "      <td>0.016084</td>\n",
       "      <td>0.016084</td>\n",
       "      <td>0.000000</td>\n",
       "      <td>0.000000</td>\n",
       "      <td>0.000000</td>\n",
       "      <td>0.000000</td>\n",
       "      <td>0.000000</td>\n",
       "      <td>0.000000</td>\n",
       "      <td>0.000000</td>\n",
       "      <td>0.000000</td>\n",
       "      <td>0.935662</td>\n",
       "    </tr>\n",
       "    <tr>\n",
       "      <th>inactive</th>\n",
       "      <td>0.000000</td>\n",
       "      <td>0.000000</td>\n",
       "      <td>0.000000</td>\n",
       "      <td>0.000000</td>\n",
       "      <td>0.000000</td>\n",
       "      <td>0.000000</td>\n",
       "      <td>0.000000</td>\n",
       "      <td>0.000000</td>\n",
       "      <td>0.000000</td>\n",
       "      <td>0.000000</td>\n",
       "      <td>0.000000</td>\n",
       "      <td>0.000000</td>\n",
       "      <td>1.000000</td>\n",
       "    </tr>\n",
       "  </tbody>\n",
       "</table>\n",
       "</div>"
      ],
      "text/plain": [
       "            state1    state2    state3    state4    state5    state6  \\\n",
       "state1    0.042215  0.042215  0.042215  0.042215  0.207785  0.207785   \n",
       "state2    0.013093  0.013093  0.013093  0.013093  0.236907  0.236907   \n",
       "state3    0.005658  0.005658  0.005658  0.005658  0.244342  0.244342   \n",
       "state4    0.015196  0.015196  0.015196  0.015196  0.234804  0.234804   \n",
       "state5    0.018666  0.018666  0.018666  0.018666  0.000000  0.000000   \n",
       "state6    0.007492  0.007492  0.007492  0.007492  0.000000  0.000000   \n",
       "state7    0.007548  0.007548  0.007548  0.007548  0.000000  0.000000   \n",
       "state8    0.020769  0.020769  0.020769  0.020769  0.000000  0.000000   \n",
       "state9    0.013672  0.013672  0.013672  0.013672  0.000000  0.000000   \n",
       "state10   0.007887  0.007887  0.007887  0.007887  0.000000  0.000000   \n",
       "state11   0.007746  0.007746  0.007746  0.007746  0.000000  0.000000   \n",
       "state12   0.016084  0.016084  0.016084  0.016084  0.000000  0.000000   \n",
       "inactive  0.000000  0.000000  0.000000  0.000000  0.000000  0.000000   \n",
       "\n",
       "            state7    state8    state9   state10   state11   state12  inactive  \n",
       "state1    0.207785  0.207785  0.000000  0.000000  0.000000  0.000000  0.000000  \n",
       "state2    0.236907  0.236907  0.000000  0.000000  0.000000  0.000000  0.000000  \n",
       "state3    0.244342  0.244342  0.000000  0.000000  0.000000  0.000000  0.000000  \n",
       "state4    0.234804  0.234804  0.000000  0.000000  0.000000  0.000000  0.000000  \n",
       "state5    0.000000  0.000000  0.231334  0.231334  0.231334  0.231334  0.000000  \n",
       "state6    0.000000  0.000000  0.242508  0.242508  0.242508  0.242508  0.000000  \n",
       "state7    0.000000  0.000000  0.242452  0.242452  0.242452  0.242452  0.000000  \n",
       "state8    0.000000  0.000000  0.229231  0.229231  0.229231  0.229231  0.000000  \n",
       "state9    0.000000  0.000000  0.000000  0.000000  0.000000  0.000000  0.945313  \n",
       "state10   0.000000  0.000000  0.000000  0.000000  0.000000  0.000000  0.968452  \n",
       "state11   0.000000  0.000000  0.000000  0.000000  0.000000  0.000000  0.969016  \n",
       "state12   0.000000  0.000000  0.000000  0.000000  0.000000  0.000000  0.935662  \n",
       "inactive  0.000000  0.000000  0.000000  0.000000  0.000000  0.000000  1.000000  "
      ]
     },
     "execution_count": 93,
     "metadata": {},
     "output_type": "execute_result"
    }
   ],
   "source": [
    "trans_RMF_df"
   ]
  },
  {
   "cell_type": "markdown",
   "metadata": {
    "deletable": true,
    "editable": true
   },
   "source": [
    "---\n",
    "# NPV Calculation"
   ]
  },
  {
   "cell_type": "code",
   "execution_count": 94,
   "metadata": {
    "collapsed": false,
    "deletable": true,
    "editable": true
   },
   "outputs": [
    {
     "data": {
      "text/plain": [
       "0     38.672386\n",
       "1     33.010713\n",
       "2     31.565121\n",
       "3     33.419429\n",
       "4     14.324877\n",
       "5     11.197428\n",
       "6     11.213223\n",
       "7     14.913249\n",
       "8      4.324073\n",
       "9      2.494486\n",
       "10     2.449862\n",
       "11     5.087145\n",
       "12     0.000000\n",
       "dtype: float64"
      ]
     },
     "execution_count": 94,
     "metadata": {},
     "output_type": "execute_result"
    }
   ],
   "source": [
    "pd.DataFrame(np.linalg.matrix_power((1/(1+.1))*trans_RMF_df,10)).dot(reward_vector)"
   ]
  },
  {
   "cell_type": "code",
   "execution_count": 95,
   "metadata": {
    "collapsed": false,
    "deletable": true,
    "editable": true
   },
   "outputs": [],
   "source": [
    "ten_years_val = sum(pd.DataFrame(np.linalg.matrix_power((1/(1+.1))*trans_RMF_df,10)).dot(reward_vector))"
   ]
  },
  {
   "cell_type": "code",
   "execution_count": 96,
   "metadata": {
    "collapsed": true,
    "deletable": true,
    "editable": true
   },
   "outputs": [],
   "source": [
    "def NPV_calc(r, t, P, R):\n",
    "    annual_returns = []\n",
    "    for i in range(1, t+1):\n",
    "        annual_returns.append(round(sum(pd.DataFrame(np.linalg.matrix_power((1/(1+r))*P, i)).dot(R)), 2))\n",
    "    return sum(annual_returns), annual_returns"
   ]
  },
  {
   "cell_type": "code",
   "execution_count": 97,
   "metadata": {
    "collapsed": false,
    "deletable": true,
    "editable": true
   },
   "outputs": [
    {
     "name": "stdout",
     "output_type": "stream",
     "text": [
      "value of the database at year 10 is $202.67.\n"
     ]
    }
   ],
   "source": [
    "print(\"value of the database at year 10 is ${}.\".format(round(ten_years_val, 2)))"
   ]
  },
  {
   "cell_type": "code",
   "execution_count": 98,
   "metadata": {
    "collapsed": false,
    "deletable": true,
    "editable": true
   },
   "outputs": [
    {
     "data": {
      "text/plain": [
       "state1      177729.530563\n",
       "state2      149865.214730\n",
       "state3      142750.634088\n",
       "state4      151876.737530\n",
       "state5      107033.504151\n",
       "state6       94014.833639\n",
       "state7       94080.584500\n",
       "state8      109482.723729\n",
       "state9       20592.208888\n",
       "state10      11879.303166\n",
       "state11      11666.793271\n",
       "state12      24226.128103\n",
       "inactive         0.000000\n",
       "dtype: float64"
      ]
     },
     "execution_count": 98,
     "metadata": {},
     "output_type": "execute_result"
    }
   ],
   "source": [
    "((1/(1+.1))*trans_RMF_df).dot(reward_vector)"
   ]
  },
  {
   "cell_type": "code",
   "execution_count": 99,
   "metadata": {
    "collapsed": false,
    "deletable": true,
    "editable": true
   },
   "outputs": [
    {
     "data": {
      "text/plain": [
       "state1      110339.244380\n",
       "state2      104002.148439\n",
       "state3      102384.101171\n",
       "state4      104459.622904\n",
       "state5       27429.639246\n",
       "state6       21240.586741\n",
       "state7       21271.844582\n",
       "state8       28593.993820\n",
       "state9        8506.874419\n",
       "state10       4907.474510\n",
       "state11       4819.684268\n",
       "state12      10008.087551\n",
       "inactive         0.000000\n",
       "dtype: float64"
      ]
     },
     "execution_count": 99,
     "metadata": {},
     "output_type": "execute_result"
    }
   ],
   "source": [
    "((1/(1+.1))*trans_RMF_df).dot(trans_RMF_df).dot(reward_vector)"
   ]
  },
  {
   "cell_type": "code",
   "execution_count": 100,
   "metadata": {
    "collapsed": false,
    "deletable": true,
    "editable": true
   },
   "outputs": [
    {
     "data": {
      "text/plain": [
       "state1      38254.507732\n",
       "state2      28858.553610\n",
       "state3      26459.489742\n",
       "state4      29536.846809\n",
       "state5      14395.362625\n",
       "state6      10004.442526\n",
       "state7      10026.618890\n",
       "state8      15221.432189\n",
       "state9       5758.343844\n",
       "state10      3321.892888\n",
       "state11      3262.467255\n",
       "state12      6774.522169\n",
       "inactive        0.000000\n",
       "dtype: float64"
      ]
     },
     "execution_count": 100,
     "metadata": {},
     "output_type": "execute_result"
    }
   ],
   "source": [
    "# two periods\n",
    "((1/(1+.1))*trans_RMF_df).dot(trans_RMF_df).dot(trans_RMF_df).dot(reward_vector)"
   ]
  },
  {
   "cell_type": "markdown",
   "metadata": {
    "deletable": true,
    "editable": true
   },
   "source": [
    "---\n",
    "## Annual revenues for the next 10 years\n",
    "\n",
    "* Note: these numbers are in terms of TODAY'S dollars"
   ]
  },
  {
   "cell_type": "code",
   "execution_count": 101,
   "metadata": {
    "collapsed": false,
    "deletable": true,
    "editable": true
   },
   "outputs": [],
   "source": [
    "value_of_DB, revenues = NPV_calc(.1, 10, trans_RMF_df, reward_vector)"
   ]
  },
  {
   "cell_type": "code",
   "execution_count": 102,
   "metadata": {
    "collapsed": false,
    "deletable": true,
    "editable": true
   },
   "outputs": [
    {
     "data": {
      "text/plain": [
       "<matplotlib.text.Text at 0x11eb6d4a8>"
      ]
     },
     "execution_count": 102,
     "metadata": {},
     "output_type": "execute_result"
    },
    {
     "data": {
      "text/plain": [
       "<matplotlib.figure.Figure at 0x11eb5c208>"
      ]
     },
     "metadata": {},
     "output_type": "display_data"
    },
    {
     "data": {
      "image/png": "[encoded data removed]",
      "text/plain": [
       "<matplotlib.figure.Figure at 0x11eb56198>"
      ]
     },
     "metadata": {},
     "output_type": "display_data"
    }
   ],
   "source": [
    "\n",
    "rev_index = range(1, 11)\n",
    "plt.figure(figsize=(10,5))\n",
    "pd.DataFrame(revenues, index=rev_index, columns=['annual_expected_revenue']).plot(kind='bar',figsize=(10,5))\n",
    "plt.title('Expected Revenue X Years From Now')\n",
    "plt.ylabel('Rev.')\n"
   ]
  },
  {
   "cell_type": "code",
   "execution_count": 103,
   "metadata": {
    "collapsed": false
   },
   "outputs": [
    {
     "name": "stdout",
     "output_type": "stream",
     "text": [
      "Database will be worth $1857080.48 in 2025\n"
     ]
    }
   ],
   "source": [
    "print(\"Database will be worth ${} in 2025\".format(value_of_DB))"
   ]
  },
  {
   "cell_type": "code",
   "execution_count": 104,
   "metadata": {
    "collapsed": false
   },
   "outputs": [
    {
     "ename": "SyntaxError",
     "evalue": "invalid syntax (<ipython-input-104-172a9a627d2e>, line 1)",
     "output_type": "error",
     "traceback": [
      "\u001b[0;36m  File \u001b[0;32m\"<ipython-input-104-172a9a627d2e>\"\u001b[0;36m, line \u001b[0;32m1\u001b[0m\n\u001b[0;31m    Database will be worth $1,857,080.48 in 2025\u001b[0m\n\u001b[0m                ^\u001b[0m\n\u001b[0;31mSyntaxError\u001b[0m\u001b[0;31m:\u001b[0m invalid syntax\n"
     ]
    }
   ],
   "source": [
    "Database will be worth $1,857,080.48 in 2025"
   ]
  },
  {
   "cell_type": "code",
   "execution_count": null,
   "metadata": {
    "collapsed": true
   },
   "outputs": [],
   "source": []
  },
  {
   "cell_type": "markdown",
   "metadata": {},
   "source": [
    "# Create new RFM transition matrices with higher probabilities of Cash Cows (states, 1) returning to recency one (years one to two).\n",
    "- 5% higher probability"
   ]
  },
  {
   "cell_type": "code",
   "execution_count": 105,
   "metadata": {
    "collapsed": false
   },
   "outputs": [],
   "source": [
    "trans_RMF_df_probchanged = trans_RMF_df"
   ]
  },
  {
   "cell_type": "code",
   "execution_count": 106,
   "metadata": {
    "collapsed": false
   },
   "outputs": [
    {
     "data": {
      "text/plain": [
       "0.0143556"
      ]
     },
     "execution_count": 106,
     "metadata": {},
     "output_type": "execute_result"
    }
   ],
   "source": [
    "(0.013672*.05+0.013672)"
   ]
  },
  {
   "cell_type": "code",
   "execution_count": 107,
   "metadata": {
    "collapsed": false
   },
   "outputs": [
    {
     "data": {
      "text/plain": [
       "0.0006836"
      ]
     },
     "execution_count": 107,
     "metadata": {},
     "output_type": "execute_result"
    }
   ],
   "source": [
    "(0.013672*.05)"
   ]
  },
  {
   "cell_type": "code",
   "execution_count": 108,
   "metadata": {
    "collapsed": false
   },
   "outputs": [
    {
     "data": {
      "text/html": [
       "<div>\n",
       "<table border=\"1\" class=\"dataframe\">\n",
       "  <thead>\n",
       "    <tr style=\"text-align: right;\">\n",
       "      <th></th>\n",
       "      <th>state1</th>\n",
       "      <th>state2</th>\n",
       "      <th>state3</th>\n",
       "      <th>state4</th>\n",
       "      <th>state5</th>\n",
       "      <th>state6</th>\n",
       "      <th>state7</th>\n",
       "      <th>state8</th>\n",
       "      <th>state9</th>\n",
       "      <th>state10</th>\n",
       "      <th>state11</th>\n",
       "      <th>state12</th>\n",
       "      <th>inactive</th>\n",
       "    </tr>\n",
       "  </thead>\n",
       "  <tbody>\n",
       "    <tr>\n",
       "      <th>state1</th>\n",
       "      <td>0.042215</td>\n",
       "      <td>0.042215</td>\n",
       "      <td>0.042215</td>\n",
       "      <td>0.042215</td>\n",
       "      <td>0.207785</td>\n",
       "      <td>0.207785</td>\n",
       "      <td>0.207785</td>\n",
       "      <td>0.207785</td>\n",
       "      <td>0.000000</td>\n",
       "      <td>0.000000</td>\n",
       "      <td>0.000000</td>\n",
       "      <td>0.000000</td>\n",
       "      <td>0.000000</td>\n",
       "    </tr>\n",
       "    <tr>\n",
       "      <th>state2</th>\n",
       "      <td>0.013093</td>\n",
       "      <td>0.013093</td>\n",
       "      <td>0.013093</td>\n",
       "      <td>0.013093</td>\n",
       "      <td>0.236907</td>\n",
       "      <td>0.236907</td>\n",
       "      <td>0.236907</td>\n",
       "      <td>0.236907</td>\n",
       "      <td>0.000000</td>\n",
       "      <td>0.000000</td>\n",
       "      <td>0.000000</td>\n",
       "      <td>0.000000</td>\n",
       "      <td>0.000000</td>\n",
       "    </tr>\n",
       "    <tr>\n",
       "      <th>state3</th>\n",
       "      <td>0.005658</td>\n",
       "      <td>0.005658</td>\n",
       "      <td>0.005658</td>\n",
       "      <td>0.005658</td>\n",
       "      <td>0.244342</td>\n",
       "      <td>0.244342</td>\n",
       "      <td>0.244342</td>\n",
       "      <td>0.244342</td>\n",
       "      <td>0.000000</td>\n",
       "      <td>0.000000</td>\n",
       "      <td>0.000000</td>\n",
       "      <td>0.000000</td>\n",
       "      <td>0.000000</td>\n",
       "    </tr>\n",
       "    <tr>\n",
       "      <th>state4</th>\n",
       "      <td>0.015196</td>\n",
       "      <td>0.015196</td>\n",
       "      <td>0.015196</td>\n",
       "      <td>0.015196</td>\n",
       "      <td>0.234804</td>\n",
       "      <td>0.234804</td>\n",
       "      <td>0.234804</td>\n",
       "      <td>0.234804</td>\n",
       "      <td>0.000000</td>\n",
       "      <td>0.000000</td>\n",
       "      <td>0.000000</td>\n",
       "      <td>0.000000</td>\n",
       "      <td>0.000000</td>\n",
       "    </tr>\n",
       "    <tr>\n",
       "      <th>state5</th>\n",
       "      <td>0.018666</td>\n",
       "      <td>0.018666</td>\n",
       "      <td>0.018666</td>\n",
       "      <td>0.018666</td>\n",
       "      <td>0.000000</td>\n",
       "      <td>0.000000</td>\n",
       "      <td>0.000000</td>\n",
       "      <td>0.000000</td>\n",
       "      <td>0.231334</td>\n",
       "      <td>0.231334</td>\n",
       "      <td>0.231334</td>\n",
       "      <td>0.231334</td>\n",
       "      <td>0.000000</td>\n",
       "    </tr>\n",
       "    <tr>\n",
       "      <th>state6</th>\n",
       "      <td>0.007492</td>\n",
       "      <td>0.007492</td>\n",
       "      <td>0.007492</td>\n",
       "      <td>0.007492</td>\n",
       "      <td>0.000000</td>\n",
       "      <td>0.000000</td>\n",
       "      <td>0.000000</td>\n",
       "      <td>0.000000</td>\n",
       "      <td>0.242508</td>\n",
       "      <td>0.242508</td>\n",
       "      <td>0.242508</td>\n",
       "      <td>0.242508</td>\n",
       "      <td>0.000000</td>\n",
       "    </tr>\n",
       "    <tr>\n",
       "      <th>state7</th>\n",
       "      <td>0.007548</td>\n",
       "      <td>0.007548</td>\n",
       "      <td>0.007548</td>\n",
       "      <td>0.007548</td>\n",
       "      <td>0.000000</td>\n",
       "      <td>0.000000</td>\n",
       "      <td>0.000000</td>\n",
       "      <td>0.000000</td>\n",
       "      <td>0.242452</td>\n",
       "      <td>0.242452</td>\n",
       "      <td>0.242452</td>\n",
       "      <td>0.242452</td>\n",
       "      <td>0.000000</td>\n",
       "    </tr>\n",
       "    <tr>\n",
       "      <th>state8</th>\n",
       "      <td>0.020769</td>\n",
       "      <td>0.020769</td>\n",
       "      <td>0.020769</td>\n",
       "      <td>0.020769</td>\n",
       "      <td>0.000000</td>\n",
       "      <td>0.000000</td>\n",
       "      <td>0.000000</td>\n",
       "      <td>0.000000</td>\n",
       "      <td>0.229231</td>\n",
       "      <td>0.229231</td>\n",
       "      <td>0.229231</td>\n",
       "      <td>0.229231</td>\n",
       "      <td>0.000000</td>\n",
       "    </tr>\n",
       "    <tr>\n",
       "      <th>state9</th>\n",
       "      <td>0.013672</td>\n",
       "      <td>0.013672</td>\n",
       "      <td>0.013672</td>\n",
       "      <td>0.013672</td>\n",
       "      <td>0.000000</td>\n",
       "      <td>0.000000</td>\n",
       "      <td>0.000000</td>\n",
       "      <td>0.000000</td>\n",
       "      <td>0.000000</td>\n",
       "      <td>0.000000</td>\n",
       "      <td>0.000000</td>\n",
       "      <td>0.000000</td>\n",
       "      <td>0.945313</td>\n",
       "    </tr>\n",
       "    <tr>\n",
       "      <th>state10</th>\n",
       "      <td>0.007887</td>\n",
       "      <td>0.007887</td>\n",
       "      <td>0.007887</td>\n",
       "      <td>0.007887</td>\n",
       "      <td>0.000000</td>\n",
       "      <td>0.000000</td>\n",
       "      <td>0.000000</td>\n",
       "      <td>0.000000</td>\n",
       "      <td>0.000000</td>\n",
       "      <td>0.000000</td>\n",
       "      <td>0.000000</td>\n",
       "      <td>0.000000</td>\n",
       "      <td>0.968452</td>\n",
       "    </tr>\n",
       "    <tr>\n",
       "      <th>state11</th>\n",
       "      <td>0.007746</td>\n",
       "      <td>0.007746</td>\n",
       "      <td>0.007746</td>\n",
       "      <td>0.007746</td>\n",
       "      <td>0.000000</td>\n",
       "      <td>0.000000</td>\n",
       "      <td>0.000000</td>\n",
       "      <td>0.000000</td>\n",
       "      <td>0.000000</td>\n",
       "      <td>0.000000</td>\n",
       "      <td>0.000000</td>\n",
       "      <td>0.000000</td>\n",
       "      <td>0.969016</td>\n",
       "    </tr>\n",
       "    <tr>\n",
       "      <th>state12</th>\n",
       "      <td>0.016084</td>\n",
       "      <td>0.016084</td>\n",
       "      <td>0.016084</td>\n",
       "      <td>0.016084</td>\n",
       "      <td>0.000000</td>\n",
       "      <td>0.000000</td>\n",
       "      <td>0.000000</td>\n",
       "      <td>0.000000</td>\n",
       "      <td>0.000000</td>\n",
       "      <td>0.000000</td>\n",
       "      <td>0.000000</td>\n",
       "      <td>0.000000</td>\n",
       "      <td>0.935662</td>\n",
       "    </tr>\n",
       "    <tr>\n",
       "      <th>inactive</th>\n",
       "      <td>0.000000</td>\n",
       "      <td>0.000000</td>\n",
       "      <td>0.000000</td>\n",
       "      <td>0.000000</td>\n",
       "      <td>0.000000</td>\n",
       "      <td>0.000000</td>\n",
       "      <td>0.000000</td>\n",
       "      <td>0.000000</td>\n",
       "      <td>0.000000</td>\n",
       "      <td>0.000000</td>\n",
       "      <td>0.000000</td>\n",
       "      <td>0.000000</td>\n",
       "      <td>1.000000</td>\n",
       "    </tr>\n",
       "  </tbody>\n",
       "</table>\n",
       "</div>"
      ],
      "text/plain": [
       "            state1    state2    state3    state4    state5    state6  \\\n",
       "state1    0.042215  0.042215  0.042215  0.042215  0.207785  0.207785   \n",
       "state2    0.013093  0.013093  0.013093  0.013093  0.236907  0.236907   \n",
       "state3    0.005658  0.005658  0.005658  0.005658  0.244342  0.244342   \n",
       "state4    0.015196  0.015196  0.015196  0.015196  0.234804  0.234804   \n",
       "state5    0.018666  0.018666  0.018666  0.018666  0.000000  0.000000   \n",
       "state6    0.007492  0.007492  0.007492  0.007492  0.000000  0.000000   \n",
       "state7    0.007548  0.007548  0.007548  0.007548  0.000000  0.000000   \n",
       "state8    0.020769  0.020769  0.020769  0.020769  0.000000  0.000000   \n",
       "state9    0.013672  0.013672  0.013672  0.013672  0.000000  0.000000   \n",
       "state10   0.007887  0.007887  0.007887  0.007887  0.000000  0.000000   \n",
       "state11   0.007746  0.007746  0.007746  0.007746  0.000000  0.000000   \n",
       "state12   0.016084  0.016084  0.016084  0.016084  0.000000  0.000000   \n",
       "inactive  0.000000  0.000000  0.000000  0.000000  0.000000  0.000000   \n",
       "\n",
       "            state7    state8    state9   state10   state11   state12  inactive  \n",
       "state1    0.207785  0.207785  0.000000  0.000000  0.000000  0.000000  0.000000  \n",
       "state2    0.236907  0.236907  0.000000  0.000000  0.000000  0.000000  0.000000  \n",
       "state3    0.244342  0.244342  0.000000  0.000000  0.000000  0.000000  0.000000  \n",
       "state4    0.234804  0.234804  0.000000  0.000000  0.000000  0.000000  0.000000  \n",
       "state5    0.000000  0.000000  0.231334  0.231334  0.231334  0.231334  0.000000  \n",
       "state6    0.000000  0.000000  0.242508  0.242508  0.242508  0.242508  0.000000  \n",
       "state7    0.000000  0.000000  0.242452  0.242452  0.242452  0.242452  0.000000  \n",
       "state8    0.000000  0.000000  0.229231  0.229231  0.229231  0.229231  0.000000  \n",
       "state9    0.000000  0.000000  0.000000  0.000000  0.000000  0.000000  0.945313  \n",
       "state10   0.000000  0.000000  0.000000  0.000000  0.000000  0.000000  0.968452  \n",
       "state11   0.000000  0.000000  0.000000  0.000000  0.000000  0.000000  0.969016  \n",
       "state12   0.000000  0.000000  0.000000  0.000000  0.000000  0.000000  0.935662  \n",
       "inactive  0.000000  0.000000  0.000000  0.000000  0.000000  0.000000  1.000000  "
      ]
     },
     "execution_count": 108,
     "metadata": {},
     "output_type": "execute_result"
    }
   ],
   "source": [
    "trans_RMF_df_probchanged "
   ]
  },
  {
   "cell_type": "code",
   "execution_count": 109,
   "metadata": {
    "collapsed": false
   },
   "outputs": [
    {
     "name": "stdout",
     "output_type": "stream",
     "text": [
      "[0.04432575, 0.01309328968903437, 0.005657768497093515, 0.015195552796433207, 0.0195993, 0.007491957785428071, 0.007548394378915289, 0.0207686664032959, 0.0143556, 0.00788701393983859, 0.007745922456120548, 0.016084429143856875, 0.0] 13\n"
     ]
    },
    {
     "data": {
      "text/plain": [
       "[0.1688582877137536,\n",
       " 0.05237315875613748,\n",
       " 0.02263107398837406,\n",
       " 0.06078221118573283,\n",
       " 0.07466561318358823,\n",
       " 0.029967831141712285,\n",
       " 0.030193577515661155,\n",
       " 0.0830746656131836,\n",
       " 0.05468705908911338,\n",
       " 0.03154805575935436,\n",
       " 0.030983689824482193,\n",
       " 0.0643377165754275,\n",
       " 0]"
      ]
     },
     "execution_count": 109,
     "metadata": {},
     "output_type": "execute_result"
    }
   ],
   "source": [
    "p = [i/4 for i in rmf_probs]\n",
    "p[0]=0.04432575\n",
    "p[4]=0.0195993\n",
    "p[8]=0.0143556\n",
    "print(p,len(p))\n",
    "trans_RMF_df_probchanged ['state1'] =  p\n",
    "trans_RMF_df_probchanged ['state2'] = [0.04432575, rmf_probs[1]/4,rmf_probs[2]/4, rmf_probs[3]/4, 0.0195993,\\\n",
    "                          rmf_probs[5]/4, rmf_probs[6]/4, rmf_probs[7]/4, 0.0143556, rmf_probs[9]/4,\\\n",
    "                          rmf_probs[10]/4, rmf_probs[11]/4,rmf_probs[12]/4]\n",
    "trans_RMF_df_probchanged ['state3'] = [0.04432575, rmf_probs[1]/4, rmf_probs[2]/4,rmf_probs[3]/4, 0.0195993,\\\n",
    "                          rmf_probs[5]/4, rmf_probs[6]/4, rmf_probs[7]/4, 0.0143556, rmf_probs[9]/4,\\\n",
    "                          rmf_probs[10]/4, rmf_probs[11]/4,rmf_probs[12]/4]\n",
    "trans_RMF_df_probchanged ['state4'] = [0.04432575, rmf_probs[1]/4, rmf_probs[2]/4, rmf_probs[3]/4,0.0195993,\\\n",
    "                          rmf_probs[5]/4, rmf_probs[6]/4, rmf_probs[7]/4, 0.0143556, rmf_probs[9]/4,\\\n",
    "                          rmf_probs[10]/4, rmf_probs[11]/4,rmf_probs[12]/4]\n",
    "trans_RMF_df_probchanged ['state5'] = [(1-rmf_probs[0])/4-0.00211075, (1-rmf_probs[1])/4,  (1-rmf_probs[2])/4, (1-rmf_probs[3])/4,\\\n",
    "                          0, 0, 0, 0, 0, 0, 0, 0, 0]\n",
    "trans_RMF_df_probchanged ['state6'] = [(1-rmf_probs[0])/4-0.00211075, (1-rmf_probs[1])/4,  (1-rmf_probs[2])/4, (1-rmf_probs[3])/4,\\\n",
    "                          0, 0, 0, 0, 0, 0, 0, 0, 0]\n",
    "trans_RMF_df_probchanged ['state7'] = [(1-rmf_probs[0])/4-0.00211075, (1-rmf_probs[1])/4, (1-rmf_probs[2])/4, (1-rmf_probs[3])/4,\\\n",
    "                          0, 0, 0, 0, 0, 0, 0, 0, 0]\n",
    "trans_RMF_df_probchanged ['state8'] = [(1-rmf_probs[0])/4-0.00211075,  (1-rmf_probs[1])/4, (1-rmf_probs[2])/4, (1-rmf_probs[3])/4,\\\n",
    "                          0, 0, 0, 0, 0, 0, 0, 0, 0]\n",
    "trans_RMF_df_probchanged ['state9'] = [0, 0, 0, 0, (1-rmf_probs[4])/4-0.0009333, (1-rmf_probs[5])/4,\\\n",
    "                                       (1-rmf_probs[6])/4, (1-rmf_probs[7])/4,\\\n",
    "                          0, 0, 0, 0, 0]\n",
    "trans_RMF_df_probchanged ['state10'] = [0, 0, 0, 0, (1-rmf_probs[4])/4-0.0009333, (1-rmf_probs[5])/4, (1-rmf_probs[6])/4, (1-rmf_probs[7])/4,\\\n",
    "                           0, 0, 0, 0, 0]\n",
    "trans_RMF_df_probchanged ['state11'] = [0, 0, 0, 0, (1-rmf_probs[4])/4-0.0009333, (1-rmf_probs[5])/4, (1-rmf_probs[6])/4, (1-rmf_probs[7])/4,\\\n",
    "                           0, 0, 0, 0, 0]\n",
    "trans_RMF_df_probchanged ['state12'] = [0, 0, 0, 0, (1-rmf_probs[4])/4-0.0009333, (1-rmf_probs[5])/4, (1-rmf_probs[6])/4, (1-rmf_probs[7])/4,\\\n",
    "                           0, 0, 0, 0, 0]\n",
    "trans_RMF_df_probchanged ['inactive']=[0, 0, 0, 0, 0, 0, 0, 0, 1-rmf_probs[8]-0.0006836, 1-rmf_probs[9],1-rmf_probs[10],1-rmf_probs[11], 1]\n",
    "\n",
    "# rmf_probs[0]\n",
    "# rmf_probs[1]\n",
    "# rmf_probs[2]\n",
    "# rmf_probs[3]\n",
    "# rmf_probs[4]\n",
    "# rmf_probs[5]\n",
    "# rmf_probs[6]\n",
    "# rmf_probs[7]\n",
    "# rmf_probs[8]\n",
    "# rmf_probs[9]\n",
    "# rmf_probs[10]\n",
    "\n",
    "# rmf_probs[11]\n",
    "rmf_probs"
   ]
  },
  {
   "cell_type": "code",
   "execution_count": 110,
   "metadata": {
    "collapsed": false
   },
   "outputs": [
    {
     "data": {
      "text/plain": [
       "[0.04432575,\n",
       " 0.01309328968903437,\n",
       " 0.005657768497093515,\n",
       " 0.015195552796433207,\n",
       " 0.01866640329589706,\n",
       " 0.007491957785428071,\n",
       " 0.007548394378915289,\n",
       " 0.0207686664032959,\n",
       " 0.013671764772278345,\n",
       " 0.00788701393983859,\n",
       " 0.007745922456120548,\n",
       " 0.016084429143856875,\n",
       " 0.0]"
      ]
     },
     "execution_count": 110,
     "metadata": {},
     "output_type": "execute_result"
    }
   ],
   "source": [
    "p = [i/4 for i in rmf_probs[1:]]\n",
    "p.insert(0,0.04432575)\n",
    "p"
   ]
  },
  {
   "cell_type": "code",
   "execution_count": 111,
   "metadata": {
    "collapsed": false
   },
   "outputs": [
    {
     "data": {
      "text/plain": [
       "state1      1.000002\n",
       "state2      1.000000\n",
       "state3      1.000000\n",
       "state4      1.000000\n",
       "state5      0.999998\n",
       "state6      1.000000\n",
       "state7      1.000000\n",
       "state8      1.000000\n",
       "state9      1.002052\n",
       "state10     1.000000\n",
       "state11     1.000000\n",
       "state12     1.000000\n",
       "inactive    1.000000\n",
       "dtype: float64"
      ]
     },
     "execution_count": 111,
     "metadata": {},
     "output_type": "execute_result"
    }
   ],
   "source": [
    "trans_RMF_df_probchanged.sum(axis=1)"
   ]
  },
  {
   "cell_type": "code",
   "execution_count": 112,
   "metadata": {
    "collapsed": true
   },
   "outputs": [],
   "source": [
    "value_of_DB_add5, revenues_add5 = NPV_calc(.1, 10, trans_RMF_df_probchanged, reward_vector)"
   ]
  },
  {
   "cell_type": "code",
   "execution_count": 113,
   "metadata": {
    "collapsed": false
   },
   "outputs": [
    {
     "data": {
      "text/plain": [
       "1870404.8599999999"
      ]
     },
     "execution_count": 113,
     "metadata": {},
     "output_type": "execute_result"
    }
   ],
   "source": [
    "value_of_DB_add5"
   ]
  },
  {
   "cell_type": "code",
   "execution_count": 114,
   "metadata": {
    "collapsed": false
   },
   "outputs": [
    {
     "data": {
      "text/plain": [
       "1857080.48"
      ]
     },
     "execution_count": 114,
     "metadata": {},
     "output_type": "execute_result"
    }
   ],
   "source": [
    "value_of_DB"
   ]
  },
  {
   "cell_type": "markdown",
   "metadata": {},
   "source": [
    "## Try increasing by 10% for cash cows\n",
    "\n"
   ]
  },
  {
   "cell_type": "code",
   "execution_count": 115,
   "metadata": {
    "collapsed": true
   },
   "outputs": [],
   "source": [
    "trans_RMF_df_probchanged2 = trans_RMF_df"
   ]
  },
  {
   "cell_type": "code",
   "execution_count": 116,
   "metadata": {
    "collapsed": false
   },
   "outputs": [
    {
     "data": {
      "text/html": [
       "<div>\n",
       "<table border=\"1\" class=\"dataframe\">\n",
       "  <thead>\n",
       "    <tr style=\"text-align: right;\">\n",
       "      <th></th>\n",
       "      <th>state1</th>\n",
       "      <th>state2</th>\n",
       "      <th>state3</th>\n",
       "      <th>state4</th>\n",
       "      <th>state5</th>\n",
       "      <th>state6</th>\n",
       "      <th>state7</th>\n",
       "      <th>state8</th>\n",
       "      <th>state9</th>\n",
       "      <th>state10</th>\n",
       "      <th>state11</th>\n",
       "      <th>state12</th>\n",
       "      <th>inactive</th>\n",
       "    </tr>\n",
       "  </thead>\n",
       "  <tbody>\n",
       "    <tr>\n",
       "      <th>state1</th>\n",
       "      <td>0.044326</td>\n",
       "      <td>0.044326</td>\n",
       "      <td>0.044326</td>\n",
       "      <td>0.044326</td>\n",
       "      <td>0.205675</td>\n",
       "      <td>0.205675</td>\n",
       "      <td>0.205675</td>\n",
       "      <td>0.205675</td>\n",
       "      <td>0.000000</td>\n",
       "      <td>0.000000</td>\n",
       "      <td>0.000000</td>\n",
       "      <td>0.000000</td>\n",
       "      <td>0.000000</td>\n",
       "    </tr>\n",
       "    <tr>\n",
       "      <th>state2</th>\n",
       "      <td>0.013093</td>\n",
       "      <td>0.013093</td>\n",
       "      <td>0.013093</td>\n",
       "      <td>0.013093</td>\n",
       "      <td>0.236907</td>\n",
       "      <td>0.236907</td>\n",
       "      <td>0.236907</td>\n",
       "      <td>0.236907</td>\n",
       "      <td>0.000000</td>\n",
       "      <td>0.000000</td>\n",
       "      <td>0.000000</td>\n",
       "      <td>0.000000</td>\n",
       "      <td>0.000000</td>\n",
       "    </tr>\n",
       "    <tr>\n",
       "      <th>state3</th>\n",
       "      <td>0.005658</td>\n",
       "      <td>0.005658</td>\n",
       "      <td>0.005658</td>\n",
       "      <td>0.005658</td>\n",
       "      <td>0.244342</td>\n",
       "      <td>0.244342</td>\n",
       "      <td>0.244342</td>\n",
       "      <td>0.244342</td>\n",
       "      <td>0.000000</td>\n",
       "      <td>0.000000</td>\n",
       "      <td>0.000000</td>\n",
       "      <td>0.000000</td>\n",
       "      <td>0.000000</td>\n",
       "    </tr>\n",
       "    <tr>\n",
       "      <th>state4</th>\n",
       "      <td>0.015196</td>\n",
       "      <td>0.015196</td>\n",
       "      <td>0.015196</td>\n",
       "      <td>0.015196</td>\n",
       "      <td>0.234804</td>\n",
       "      <td>0.234804</td>\n",
       "      <td>0.234804</td>\n",
       "      <td>0.234804</td>\n",
       "      <td>0.000000</td>\n",
       "      <td>0.000000</td>\n",
       "      <td>0.000000</td>\n",
       "      <td>0.000000</td>\n",
       "      <td>0.000000</td>\n",
       "    </tr>\n",
       "    <tr>\n",
       "      <th>state5</th>\n",
       "      <td>0.019599</td>\n",
       "      <td>0.019599</td>\n",
       "      <td>0.019599</td>\n",
       "      <td>0.019599</td>\n",
       "      <td>0.000000</td>\n",
       "      <td>0.000000</td>\n",
       "      <td>0.000000</td>\n",
       "      <td>0.000000</td>\n",
       "      <td>0.230400</td>\n",
       "      <td>0.230400</td>\n",
       "      <td>0.230400</td>\n",
       "      <td>0.230400</td>\n",
       "      <td>0.000000</td>\n",
       "    </tr>\n",
       "    <tr>\n",
       "      <th>state6</th>\n",
       "      <td>0.007492</td>\n",
       "      <td>0.007492</td>\n",
       "      <td>0.007492</td>\n",
       "      <td>0.007492</td>\n",
       "      <td>0.000000</td>\n",
       "      <td>0.000000</td>\n",
       "      <td>0.000000</td>\n",
       "      <td>0.000000</td>\n",
       "      <td>0.242508</td>\n",
       "      <td>0.242508</td>\n",
       "      <td>0.242508</td>\n",
       "      <td>0.242508</td>\n",
       "      <td>0.000000</td>\n",
       "    </tr>\n",
       "    <tr>\n",
       "      <th>state7</th>\n",
       "      <td>0.007548</td>\n",
       "      <td>0.007548</td>\n",
       "      <td>0.007548</td>\n",
       "      <td>0.007548</td>\n",
       "      <td>0.000000</td>\n",
       "      <td>0.000000</td>\n",
       "      <td>0.000000</td>\n",
       "      <td>0.000000</td>\n",
       "      <td>0.242452</td>\n",
       "      <td>0.242452</td>\n",
       "      <td>0.242452</td>\n",
       "      <td>0.242452</td>\n",
       "      <td>0.000000</td>\n",
       "    </tr>\n",
       "    <tr>\n",
       "      <th>state8</th>\n",
       "      <td>0.020769</td>\n",
       "      <td>0.020769</td>\n",
       "      <td>0.020769</td>\n",
       "      <td>0.020769</td>\n",
       "      <td>0.000000</td>\n",
       "      <td>0.000000</td>\n",
       "      <td>0.000000</td>\n",
       "      <td>0.000000</td>\n",
       "      <td>0.229231</td>\n",
       "      <td>0.229231</td>\n",
       "      <td>0.229231</td>\n",
       "      <td>0.229231</td>\n",
       "      <td>0.000000</td>\n",
       "    </tr>\n",
       "    <tr>\n",
       "      <th>state9</th>\n",
       "      <td>0.014356</td>\n",
       "      <td>0.014356</td>\n",
       "      <td>0.014356</td>\n",
       "      <td>0.014356</td>\n",
       "      <td>0.000000</td>\n",
       "      <td>0.000000</td>\n",
       "      <td>0.000000</td>\n",
       "      <td>0.000000</td>\n",
       "      <td>0.000000</td>\n",
       "      <td>0.000000</td>\n",
       "      <td>0.000000</td>\n",
       "      <td>0.000000</td>\n",
       "      <td>0.944629</td>\n",
       "    </tr>\n",
       "    <tr>\n",
       "      <th>state10</th>\n",
       "      <td>0.007887</td>\n",
       "      <td>0.007887</td>\n",
       "      <td>0.007887</td>\n",
       "      <td>0.007887</td>\n",
       "      <td>0.000000</td>\n",
       "      <td>0.000000</td>\n",
       "      <td>0.000000</td>\n",
       "      <td>0.000000</td>\n",
       "      <td>0.000000</td>\n",
       "      <td>0.000000</td>\n",
       "      <td>0.000000</td>\n",
       "      <td>0.000000</td>\n",
       "      <td>0.968452</td>\n",
       "    </tr>\n",
       "    <tr>\n",
       "      <th>state11</th>\n",
       "      <td>0.007746</td>\n",
       "      <td>0.007746</td>\n",
       "      <td>0.007746</td>\n",
       "      <td>0.007746</td>\n",
       "      <td>0.000000</td>\n",
       "      <td>0.000000</td>\n",
       "      <td>0.000000</td>\n",
       "      <td>0.000000</td>\n",
       "      <td>0.000000</td>\n",
       "      <td>0.000000</td>\n",
       "      <td>0.000000</td>\n",
       "      <td>0.000000</td>\n",
       "      <td>0.969016</td>\n",
       "    </tr>\n",
       "    <tr>\n",
       "      <th>state12</th>\n",
       "      <td>0.016084</td>\n",
       "      <td>0.016084</td>\n",
       "      <td>0.016084</td>\n",
       "      <td>0.016084</td>\n",
       "      <td>0.000000</td>\n",
       "      <td>0.000000</td>\n",
       "      <td>0.000000</td>\n",
       "      <td>0.000000</td>\n",
       "      <td>0.000000</td>\n",
       "      <td>0.000000</td>\n",
       "      <td>0.000000</td>\n",
       "      <td>0.000000</td>\n",
       "      <td>0.935662</td>\n",
       "    </tr>\n",
       "    <tr>\n",
       "      <th>inactive</th>\n",
       "      <td>0.000000</td>\n",
       "      <td>0.000000</td>\n",
       "      <td>0.000000</td>\n",
       "      <td>0.000000</td>\n",
       "      <td>0.000000</td>\n",
       "      <td>0.000000</td>\n",
       "      <td>0.000000</td>\n",
       "      <td>0.000000</td>\n",
       "      <td>0.000000</td>\n",
       "      <td>0.000000</td>\n",
       "      <td>0.000000</td>\n",
       "      <td>0.000000</td>\n",
       "      <td>1.000000</td>\n",
       "    </tr>\n",
       "  </tbody>\n",
       "</table>\n",
       "</div>"
      ],
      "text/plain": [
       "            state1    state2    state3    state4    state5    state6  \\\n",
       "state1    0.044326  0.044326  0.044326  0.044326  0.205675  0.205675   \n",
       "state2    0.013093  0.013093  0.013093  0.013093  0.236907  0.236907   \n",
       "state3    0.005658  0.005658  0.005658  0.005658  0.244342  0.244342   \n",
       "state4    0.015196  0.015196  0.015196  0.015196  0.234804  0.234804   \n",
       "state5    0.019599  0.019599  0.019599  0.019599  0.000000  0.000000   \n",
       "state6    0.007492  0.007492  0.007492  0.007492  0.000000  0.000000   \n",
       "state7    0.007548  0.007548  0.007548  0.007548  0.000000  0.000000   \n",
       "state8    0.020769  0.020769  0.020769  0.020769  0.000000  0.000000   \n",
       "state9    0.014356  0.014356  0.014356  0.014356  0.000000  0.000000   \n",
       "state10   0.007887  0.007887  0.007887  0.007887  0.000000  0.000000   \n",
       "state11   0.007746  0.007746  0.007746  0.007746  0.000000  0.000000   \n",
       "state12   0.016084  0.016084  0.016084  0.016084  0.000000  0.000000   \n",
       "inactive  0.000000  0.000000  0.000000  0.000000  0.000000  0.000000   \n",
       "\n",
       "            state7    state8    state9   state10   state11   state12  inactive  \n",
       "state1    0.205675  0.205675  0.000000  0.000000  0.000000  0.000000  0.000000  \n",
       "state2    0.236907  0.236907  0.000000  0.000000  0.000000  0.000000  0.000000  \n",
       "state3    0.244342  0.244342  0.000000  0.000000  0.000000  0.000000  0.000000  \n",
       "state4    0.234804  0.234804  0.000000  0.000000  0.000000  0.000000  0.000000  \n",
       "state5    0.000000  0.000000  0.230400  0.230400  0.230400  0.230400  0.000000  \n",
       "state6    0.000000  0.000000  0.242508  0.242508  0.242508  0.242508  0.000000  \n",
       "state7    0.000000  0.000000  0.242452  0.242452  0.242452  0.242452  0.000000  \n",
       "state8    0.000000  0.000000  0.229231  0.229231  0.229231  0.229231  0.000000  \n",
       "state9    0.000000  0.000000  0.000000  0.000000  0.000000  0.000000  0.944629  \n",
       "state10   0.000000  0.000000  0.000000  0.000000  0.000000  0.000000  0.968452  \n",
       "state11   0.000000  0.000000  0.000000  0.000000  0.000000  0.000000  0.969016  \n",
       "state12   0.000000  0.000000  0.000000  0.000000  0.000000  0.000000  0.935662  \n",
       "inactive  0.000000  0.000000  0.000000  0.000000  0.000000  0.000000  1.000000  "
      ]
     },
     "execution_count": 116,
     "metadata": {},
     "output_type": "execute_result"
    }
   ],
   "source": [
    "trans_RMF_df_probchanged2 "
   ]
  },
  {
   "cell_type": "code",
   "execution_count": 117,
   "metadata": {
    "collapsed": false
   },
   "outputs": [
    {
     "data": {
      "text/plain": [
       "0.0150392"
      ]
     },
     "execution_count": 117,
     "metadata": {},
     "output_type": "execute_result"
    }
   ],
   "source": [
    "(0.013672*.10+0.013672)"
   ]
  },
  {
   "cell_type": "code",
   "execution_count": 118,
   "metadata": {
    "collapsed": false
   },
   "outputs": [
    {
     "data": {
      "text/plain": [
       "0.0013672"
      ]
     },
     "execution_count": 118,
     "metadata": {},
     "output_type": "execute_result"
    }
   ],
   "source": [
    "0.013672*.10"
   ]
  },
  {
   "cell_type": "code",
   "execution_count": 119,
   "metadata": {
    "collapsed": false,
    "deletable": true,
    "editable": true
   },
   "outputs": [
    {
     "name": "stdout",
     "output_type": "stream",
     "text": [
      "[0.0464365, 0.01309328968903437, 0.005657768497093515, 0.015195552796433207, 0.0205326, 0.007491957785428071, 0.007548394378915289, 0.0207686664032959, 0.0150392, 0.00788701393983859, 0.007745922456120548, 0.016084429143856875, 0.0] 13\n"
     ]
    },
    {
     "data": {
      "text/plain": [
       "[0.1688582877137536,\n",
       " 0.05237315875613748,\n",
       " 0.02263107398837406,\n",
       " 0.06078221118573283,\n",
       " 0.07466561318358823,\n",
       " 0.029967831141712285,\n",
       " 0.030193577515661155,\n",
       " 0.0830746656131836,\n",
       " 0.05468705908911338,\n",
       " 0.03154805575935436,\n",
       " 0.030983689824482193,\n",
       " 0.0643377165754275,\n",
       " 0]"
      ]
     },
     "execution_count": 119,
     "metadata": {},
     "output_type": "execute_result"
    }
   ],
   "source": [
    "\n",
    "p = [i/4 for i in rmf_probs]\n",
    "p[0]=0.0464365\n",
    "p[4]=0.0205326\n",
    "p[8]=0.0150392\n",
    "print(p,len(p))\n",
    "trans_RMF_df_probchanged2 ['state1'] =  p\n",
    "trans_RMF_df_probchanged2 ['state2'] = [0.0464365, rmf_probs[1]/4,rmf_probs[2]/4, rmf_probs[3]/4, 0.0205326,\\\n",
    "                          rmf_probs[5]/4, rmf_probs[6]/4, rmf_probs[7]/4, 0.0150392, rmf_probs[9]/4,\\\n",
    "                          rmf_probs[10]/4, rmf_probs[11]/4,rmf_probs[12]/4]\n",
    "trans_RMF_df_probchanged2 ['state3'] = [0.0464365, rmf_probs[1]/4, rmf_probs[2]/4,rmf_probs[3]/4, 0.0205326,\\\n",
    "                          rmf_probs[5]/4, rmf_probs[6]/4, rmf_probs[7]/4, 0.0150392, rmf_probs[9]/4,\\\n",
    "                          rmf_probs[10]/4, rmf_probs[11]/4,rmf_probs[12]/4]\n",
    "trans_RMF_df_probchanged2 ['state4'] = [0.0464365, rmf_probs[1]/4, rmf_probs[2]/4, rmf_probs[3]/4,0.0205326,\\\n",
    "                          rmf_probs[5]/4, rmf_probs[6]/4, rmf_probs[7]/4, 0.0150392, rmf_probs[9]/4,\\\n",
    "                          rmf_probs[10]/4, rmf_probs[11]/4,rmf_probs[12]/4]\n",
    "trans_RMF_df_probchanged2 ['state5'] = [(1-rmf_probs[0])/4-0.0042215, (1-rmf_probs[1])/4,  (1-rmf_probs[2])/4, (1-rmf_probs[3])/4,\\\n",
    "                          0, 0, 0, 0, 0, 0, 0, 0, 0]\n",
    "trans_RMF_df_probchanged2 ['state6'] = [(1-rmf_probs[0])/4-0.0042215, (1-rmf_probs[1])/4,  (1-rmf_probs[2])/4, (1-rmf_probs[3])/4,\\\n",
    "                          0, 0, 0, 0, 0, 0, 0, 0, 0]\n",
    "trans_RMF_df_probchanged2 ['state7'] = [(1-rmf_probs[0])/4-0.0042215, (1-rmf_probs[1])/4, (1-rmf_probs[2])/4, (1-rmf_probs[3])/4,\\\n",
    "                          0, 0, 0, 0, 0, 0, 0, 0, 0]\n",
    "trans_RMF_df_probchanged2 ['state8'] = [(1-rmf_probs[0])/4-0.0042215,  (1-rmf_probs[1])/4, (1-rmf_probs[2])/4, (1-rmf_probs[3])/4,\\\n",
    "                          0, 0, 0, 0, 0, 0, 0, 0, 0]\n",
    "trans_RMF_df_probchanged2 ['state9'] = [0, 0, 0, 0, (1-rmf_probs[4])/4-0.0018666, (1-rmf_probs[5])/4,\\\n",
    "                                       (1-rmf_probs[6])/4, (1-rmf_probs[7])/4,\\\n",
    "                          0, 0, 0, 0, 0]\n",
    "trans_RMF_df_probchanged2 ['state10'] = [0, 0, 0, 0, (1-rmf_probs[4])/4-0.0018666, (1-rmf_probs[5])/4, (1-rmf_probs[6])/4, (1-rmf_probs[7])/4,\\\n",
    "                           0, 0, 0, 0, 0]\n",
    "trans_RMF_df_probchanged2 ['state11'] = [0, 0, 0, 0, (1-rmf_probs[4])/4-0.0018666, (1-rmf_probs[5])/4, (1-rmf_probs[6])/4, (1-rmf_probs[7])/4,\\\n",
    "                           0, 0, 0, 0, 0]\n",
    "trans_RMF_df_probchanged2 ['state12'] = [0, 0, 0, 0, (1-rmf_probs[4])/4-0.0018666, (1-rmf_probs[5])/4, (1-rmf_probs[6])/4, (1-rmf_probs[7])/4,\\\n",
    "                           0, 0, 0, 0, 0]\n",
    "trans_RMF_df_probchanged2 ['inactive']=[0, 0, 0, 0, 0, 0, 0, 0, 1-rmf_probs[8]-0.0013672, 1-rmf_probs[9],1-rmf_probs[10],1-rmf_probs[11], 1]\n",
    "\n",
    "# rmf_probs[0]\n",
    "# rmf_probs[1]\n",
    "# rmf_probs[2]\n",
    "# rmf_probs[3]\n",
    "# rmf_probs[4]\n",
    "# rmf_probs[5]\n",
    "# rmf_probs[6]\n",
    "# rmf_probs[7]\n",
    "# rmf_probs[8]\n",
    "# rmf_probs[9]\n",
    "# rmf_probs[10]\n",
    "\n",
    "# rmf_probs[11]\n",
    "rmf_probs"
   ]
  },
  {
   "cell_type": "code",
   "execution_count": 120,
   "metadata": {
    "collapsed": true
   },
   "outputs": [],
   "source": [
    "value_of_DB_add10, revenues_add10 = NPV_calc(.1, 10,trans_RMF_df_probchanged2 , reward_vector)"
   ]
  },
  {
   "cell_type": "code",
   "execution_count": 121,
   "metadata": {
    "collapsed": false
   },
   "outputs": [
    {
     "data": {
      "text/plain": [
       "1883786.3300000001"
      ]
     },
     "execution_count": 121,
     "metadata": {},
     "output_type": "execute_result"
    }
   ],
   "source": [
    "value_of_DB_add10"
   ]
  },
  {
   "cell_type": "code",
   "execution_count": 122,
   "metadata": {
    "collapsed": false
   },
   "outputs": [
    {
     "data": {
      "text/plain": [
       "1870404.8599999999"
      ]
     },
     "execution_count": 122,
     "metadata": {},
     "output_type": "execute_result"
    }
   ],
   "source": [
    "value_of_DB_add5"
   ]
  },
  {
   "cell_type": "code",
   "execution_count": 123,
   "metadata": {
    "collapsed": false
   },
   "outputs": [
    {
     "data": {
      "text/plain": [
       "1857080.48"
      ]
     },
     "execution_count": 123,
     "metadata": {},
     "output_type": "execute_result"
    }
   ],
   "source": [
    "value_of_DB"
   ]
  },
  {
   "cell_type": "code",
   "execution_count": 124,
   "metadata": {
    "collapsed": false
   },
   "outputs": [
    {
     "data": {
      "image/png": "[encoded data removed]",
      "text/plain": [
       "<matplotlib.figure.Figure at 0x11eb563c8>"
      ]
     },
     "metadata": {},
     "output_type": "display_data"
    }
   ],
   "source": [
    "import pylab as plt\n",
    "\n",
    "DayOfWeekOfCall = [1,2,3]\n",
    "DispatchesOnThisWeekday = [77, 32, 42]\n",
    "\n",
    "LABELS = [\"Monday\", \"Tuesday\", \"Wednesday\"]\n",
    "\n",
    "plt.bar(DayOfWeekOfCall, DispatchesOnThisWeekday, align='center')\n",
    "plt.xticks(DayOfWeekOfCall, LABELS)\n",
    "plt.show()"
   ]
  },
  {
   "cell_type": "code",
   "execution_count": 125,
   "metadata": {
    "collapsed": false
   },
   "outputs": [
    {
     "ename": "TypeError",
     "evalue": "'list' object is not callable",
     "output_type": "error",
     "traceback": [
      "\u001b[0;31m---------------------------------------------------------------------------\u001b[0m",
      "\u001b[0;31mTypeError\u001b[0m                                 Traceback (most recent call last)",
      "\u001b[0;32m<ipython-input-125-4f2cdb0a3cf4>\u001b[0m in \u001b[0;36m<module>\u001b[0;34m()\u001b[0m\n\u001b[1;32m      4\u001b[0m \u001b[0mplt\u001b[0m\u001b[0;34m.\u001b[0m\u001b[0mxticks\u001b[0m\u001b[0;34m=\u001b[0m\u001b[0;34m(\u001b[0m\u001b[0;34m[\u001b[0m\u001b[0;36m0\u001b[0m\u001b[0;34m,\u001b[0m\u001b[0;36m1\u001b[0m\u001b[0;34m,\u001b[0m\u001b[0;36m2\u001b[0m\u001b[0;34m]\u001b[0m\u001b[0;34m)\u001b[0m\u001b[0;34m\u001b[0m\u001b[0m\n\u001b[1;32m      5\u001b[0m \u001b[0mlabels\u001b[0m \u001b[0;34m=\u001b[0m \u001b[0;34m[\u001b[0m\u001b[0;34m\"0%\"\u001b[0m\u001b[0;34m,\u001b[0m\u001b[0;34m\"5%\"\u001b[0m\u001b[0;34m,\u001b[0m\u001b[0;34m\"10%\"\u001b[0m\u001b[0;34m]\u001b[0m\u001b[0;34m\u001b[0m\u001b[0m\n\u001b[0;32m----> 6\u001b[0;31m \u001b[0mplt\u001b[0m\u001b[0;34m.\u001b[0m\u001b[0mxticks\u001b[0m\u001b[0;34m(\u001b[0m\u001b[0mchanges\u001b[0m\u001b[0;34m,\u001b[0m \u001b[0mlabels\u001b[0m\u001b[0;34m)\u001b[0m\u001b[0;34m\u001b[0m\u001b[0m\n\u001b[0m\u001b[1;32m      7\u001b[0m \u001b[0mplt\u001b[0m\u001b[0;34m.\u001b[0m\u001b[0mshow\u001b[0m\u001b[0;34m(\u001b[0m\u001b[0;34m)\u001b[0m\u001b[0;34m\u001b[0m\u001b[0m\n",
      "\u001b[0;31mTypeError\u001b[0m: 'list' object is not callable"
     ]
    },
    {
     "data": {
      "image/png": "[encoded data removed]",
      "text/plain": [
       "<matplotlib.figure.Figure at 0x11ffc6b00>"
      ]
     },
     "metadata": {},
     "output_type": "display_data"
    }
   ],
   "source": [
    "changes = [0,1,2]\n",
    "values = np.array([0,int(value_of_DB_add5-value_of_DB),int(value_of_DB_add10-value_of_DB)])\n",
    "plt.bar(changes,values)\n",
    "plt.xticks=([0,1,2])\n",
    "labels = [\"0%\",\"5%\",\"10%\"]\n",
    "plt.xticks(changes, labels)\n",
    "plt.show()"
   ]
  },
  {
   "cell_type": "code",
   "execution_count": null,
   "metadata": {
    "collapsed": false
   },
   "outputs": [],
   "source": [
    "values"
   ]
  },
  {
   "cell_type": "code",
   "execution_count": 126,
   "metadata": {
    "collapsed": false
   },
   "outputs": [
    {
     "data": {
      "text/plain": [
       "array([    0, 13324, 26705])"
      ]
     },
     "execution_count": 126,
     "metadata": {},
     "output_type": "execute_result"
    }
   ],
   "source": [
    "np.array([0,int(value_of_DB_add5-value_of_DB),int(value_of_DB_add10-value_of_DB)])"
   ]
  },
  {
   "cell_type": "code",
   "execution_count": null,
   "metadata": {
    "collapsed": true
   },
   "outputs": [],
   "source": []
  }
 ],
 "metadata": {
  "anaconda-cloud": {},
  "kernelspec": {
   "display_name": "Python [conda root]",
   "language": "python",
   "name": "conda-root-py"
  },
  "language_info": {
   "codemirror_mode": {
    "name": "ipython",
    "version": 3
   },
   "file_extension": ".py",
   "mimetype": "text/x-python",
   "name": "python",
   "nbconvert_exporter": "python",
   "pygments_lexer": "ipython3",
   "version": "3.5.2"
  }
 },
 "nbformat": 4,
 "nbformat_minor": 1
}
