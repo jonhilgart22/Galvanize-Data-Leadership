{
 "cells": [
  {
   "cell_type": "code",
   "execution_count": 1,
   "metadata": {
    "collapsed": false
   },
   "outputs": [
    {
     "name": "stdout",
     "output_type": "stream",
     "text": [
      "Populating the interactive namespace from numpy and matplotlib\n"
     ]
    },
    {
     "name": "stderr",
     "output_type": "stream",
     "text": [
      "/Users/laurakirk/anaconda/lib/python3.6/site-packages/IPython/core/magics/pylab.py:161: UserWarning: pylab import has clobbered these variables: ['relativedelta']\n",
      "`%matplotlib` prevents importing * from pylab and numpy\n",
      "  \"\\n`%matplotlib` prevents importing * from pylab and numpy\"\n"
     ]
    }
   ],
   "source": [
    "import pandas as pd\n",
    "import numpy as np\n",
    "import seaborn as sns\n",
    "import datetime\n",
    "from dateutil import relativedelta\n",
    "import datetime\n",
    "%pylab inline"
   ]
  },
  {
   "cell_type": "code",
   "execution_count": 67,
   "metadata": {
    "collapsed": false
   },
   "outputs": [],
   "source": [
    "col_names = ['customer_id','amount','date']\n",
    "original_df = pd.read_csv('purchases.txt',delimiter='\\t',names=col_names)\n",
    "original_df.date = pd.to_datetime(original_df['date']) ## datetime\n",
    "original_df['month'] = pd.DatetimeIndex(original_df['date']).month ## add in month\n",
    "original_df['year'] = pd.DatetimeIndex(original_df['date']).year ## add in year\n",
    "original_df.date = pd.DatetimeIndex(original_df['date'])\n",
    "##days\n",
    "start_date = datetime.datetime(2016,1,1)\n",
    "original_df['days_since_purchase'] = start_date -original_df.date  ## days since last purchase for each purchase\n"
   ]
  },
  {
   "cell_type": "code",
   "execution_count": 68,
   "metadata": {
    "collapsed": true
   },
   "outputs": [],
   "source": [
    "#http://stackoverflow.com/questions/4039879/best-way-to-find-the-months-between-two-dates\n",
    "def diff_month(d1, d2):\n",
    "    return (d1.year - d2.year)*12 + d1.month - d2.month\n",
    "def diff_year(d1, d2):\n",
    "    return (d1.year - d2.year)"
   ]
  },
  {
   "cell_type": "code",
   "execution_count": 69,
   "metadata": {
    "collapsed": false
   },
   "outputs": [],
   "source": [
    "#Months\n",
    "original_df['months_since_purchase']=original_df.date.apply(lambda x: diff_month(start_date,x))\n",
    "#Year\n",
    "original_df['years_since_purchase']=original_df.date.apply(lambda x: diff_year(start_date,x))\n"
   ]
  },
  {
   "cell_type": "code",
   "execution_count": 70,
   "metadata": {
    "collapsed": false
   },
   "outputs": [],
   "source": [
    "## Create indicators for our state\n",
    "original_df['state_one'] = original_df.years_since_purchase.apply(lambda x: 3-x) >=0\n",
    "original_df['state_two'] =  original_df.years_since_purchase.apply(lambda x: x>3 and x<=6)\n",
    "original_df['state_three'] =  original_df.years_since_purchase.apply(lambda x: x>6 and x<=9)"
   ]
  },
  {
   "cell_type": "code",
   "execution_count": 71,
   "metadata": {
    "collapsed": false
   },
   "outputs": [
    {
     "data": {
      "text/html": [
       "<div>\n",
       "<table border=\"1\" class=\"dataframe\">\n",
       "  <thead>\n",
       "    <tr style=\"text-align: right;\">\n",
       "      <th></th>\n",
       "      <th>customer_id</th>\n",
       "      <th>amount</th>\n",
       "      <th>date</th>\n",
       "      <th>month</th>\n",
       "      <th>year</th>\n",
       "      <th>days_since_purchase</th>\n",
       "      <th>months_since_purchase</th>\n",
       "      <th>years_since_purchase</th>\n",
       "      <th>state_one</th>\n",
       "      <th>state_two</th>\n",
       "      <th>state_three</th>\n",
       "    </tr>\n",
       "  </thead>\n",
       "  <tbody>\n",
       "    <tr>\n",
       "      <th>0</th>\n",
       "      <td>760</td>\n",
       "      <td>25.0</td>\n",
       "      <td>2009-11-06</td>\n",
       "      <td>11</td>\n",
       "      <td>2009</td>\n",
       "      <td>2247 days</td>\n",
       "      <td>74</td>\n",
       "      <td>7</td>\n",
       "      <td>False</td>\n",
       "      <td>False</td>\n",
       "      <td>True</td>\n",
       "    </tr>\n",
       "    <tr>\n",
       "      <th>1</th>\n",
       "      <td>860</td>\n",
       "      <td>50.0</td>\n",
       "      <td>2012-09-28</td>\n",
       "      <td>9</td>\n",
       "      <td>2012</td>\n",
       "      <td>1190 days</td>\n",
       "      <td>40</td>\n",
       "      <td>4</td>\n",
       "      <td>False</td>\n",
       "      <td>True</td>\n",
       "      <td>False</td>\n",
       "    </tr>\n",
       "    <tr>\n",
       "      <th>2</th>\n",
       "      <td>1200</td>\n",
       "      <td>100.0</td>\n",
       "      <td>2005-10-25</td>\n",
       "      <td>10</td>\n",
       "      <td>2005</td>\n",
       "      <td>3720 days</td>\n",
       "      <td>123</td>\n",
       "      <td>11</td>\n",
       "      <td>False</td>\n",
       "      <td>False</td>\n",
       "      <td>False</td>\n",
       "    </tr>\n",
       "    <tr>\n",
       "      <th>3</th>\n",
       "      <td>1420</td>\n",
       "      <td>50.0</td>\n",
       "      <td>2009-07-09</td>\n",
       "      <td>7</td>\n",
       "      <td>2009</td>\n",
       "      <td>2367 days</td>\n",
       "      <td>78</td>\n",
       "      <td>7</td>\n",
       "      <td>False</td>\n",
       "      <td>False</td>\n",
       "      <td>True</td>\n",
       "    </tr>\n",
       "    <tr>\n",
       "      <th>4</th>\n",
       "      <td>1940</td>\n",
       "      <td>70.0</td>\n",
       "      <td>2013-01-25</td>\n",
       "      <td>1</td>\n",
       "      <td>2013</td>\n",
       "      <td>1071 days</td>\n",
       "      <td>36</td>\n",
       "      <td>3</td>\n",
       "      <td>True</td>\n",
       "      <td>False</td>\n",
       "      <td>False</td>\n",
       "    </tr>\n",
       "  </tbody>\n",
       "</table>\n",
       "</div>"
      ],
      "text/plain": [
       "   customer_id  amount       date  month  year  days_since_purchase  \\\n",
       "0          760    25.0 2009-11-06     11  2009            2247 days   \n",
       "1          860    50.0 2012-09-28      9  2012            1190 days   \n",
       "2         1200   100.0 2005-10-25     10  2005            3720 days   \n",
       "3         1420    50.0 2009-07-09      7  2009            2367 days   \n",
       "4         1940    70.0 2013-01-25      1  2013            1071 days   \n",
       "\n",
       "   months_since_purchase  years_since_purchase state_one state_two state_three  \n",
       "0                     74                     7     False     False        True  \n",
       "1                     40                     4     False      True       False  \n",
       "2                    123                    11     False     False       False  \n",
       "3                     78                     7     False     False        True  \n",
       "4                     36                     3      True     False       False  "
      ]
     },
     "execution_count": 71,
     "metadata": {},
     "output_type": "execute_result"
    }
   ],
   "source": [
    "original_df.head()"
   ]
  },
  {
   "cell_type": "code",
   "execution_count": null,
   "metadata": {
    "collapsed": true
   },
   "outputs": [],
   "source": []
  },
  {
   "cell_type": "code",
   "execution_count": null,
   "metadata": {
    "collapsed": true
   },
   "outputs": [],
   "source": []
  },
  {
   "cell_type": "code",
   "execution_count": null,
   "metadata": {
    "collapsed": true
   },
   "outputs": [],
   "source": []
  },
  {
   "cell_type": "code",
   "execution_count": 72,
   "metadata": {
    "collapsed": false
   },
   "outputs": [
    {
     "name": "stdout",
     "output_type": "stream",
     "text": [
      "Average purchases 2.7823749796383774\n",
      "Median purchases 2.0\n"
     ]
    }
   ],
   "source": [
    "## On average people make 2.78 purchases\n",
    "print('Average purchases', np.mean(original_df.groupby(by=['customer_id']).count()['amount']))\n",
    "# Median purcahses are 2.0\n",
    "print('Median purchases', np.median(original_df.groupby(by=['customer_id']).count()['amount']))\n"
   ]
  },
  {
   "cell_type": "code",
   "execution_count": 11,
   "metadata": {
    "collapsed": false
   },
   "outputs": [],
   "source": [
    "## Average number of months since purchase per customer id\n",
    "avg_months_since_purchase_per_customer= original_df.groupby(by=['customer_id',])['months_since_purchase'].mean().reset_index()"
   ]
  },
  {
   "cell_type": "code",
   "execution_count": 12,
   "metadata": {
    "collapsed": false
   },
   "outputs": [
    {
     "name": "stdout",
     "output_type": "stream",
     "text": [
      "('Average months in-between purchases', 53.749820869899438)\n",
      "('Median number of months in-between purchases', 51.666666666666664)\n"
     ]
    }
   ],
   "source": [
    "print('Average months in-between purchases',np.mean(avg_months_since_purchase_per_customer.months_since_purchase))\n",
    "print('Median number of months in-between purchases',np.median(avg_months_since_purchase_per_customer.months_since_purchase))"
   ]
  },
  {
   "cell_type": "code",
   "execution_count": 14,
   "metadata": {
    "collapsed": false
   },
   "outputs": [
    {
     "name": "stdout",
     "output_type": "stream",
     "text": [
      "('Average years in-between purchases', 5.1303007240013274)\n",
      "('Median years quarters in-between purchases', 5.0)\n"
     ]
    }
   ],
   "source": [
    "print('Average years in-between purchases',np.mean(original_df.years_since_purchase))\n",
    "print('Median years quarters in-between purchases',np.median(original_df.years_since_purchase))"
   ]
  },
  {
   "cell_type": "code",
   "execution_count": 16,
   "metadata": {
    "collapsed": false
   },
   "outputs": [
    {
     "data": {
      "text/plain": [
       "<matplotlib.text.Text at 0x10e26c810>"
      ]
     },
     "execution_count": 16,
     "metadata": {},
     "output_type": "execute_result"
    },
    {
     "data": {
      "image/png": "[encoded data removed]",
      "text/plain": [
       "<matplotlib.figure.Figure at 0x10555e3d0>"
      ]
     },
     "metadata": {},
     "output_type": "display_data"
    }
   ],
   "source": [
    "truncated_avg_months_customer.months_since_purchase.plot(kind='kde',xlim=[0,150])\n",
    "plt.title('Average Number of Months Between Purcahses')\n",
    "plt.xlabel('Months')"
   ]
  },
  {
   "cell_type": "code",
   "execution_count": 10,
   "metadata": {
    "collapsed": false
   },
   "outputs": [
    {
     "data": {
      "text/plain": [
       "<matplotlib.text.Text at 0x118a1c2b0>"
      ]
     },
     "execution_count": 10,
     "metadata": {},
     "output_type": "execute_result"
    },
    {
     "data": {
      "image/png": "[encoded data removed]",
      "text/plain": [
       "<matplotlib.figure.Figure at 0x1181694e0>"
      ]
     },
     "metadata": {},
     "output_type": "display_data"
    }
   ],
   "source": [
    "original_df.groupby(by=['customer_id'])['years_since_purchase'].mean().reset_index()['years_since_purchase'].plot(kind='kde',xlim=[0,10])\n",
    "plt.title('Average Number Years Between Purchases')\n",
    "plt.xlabel('Years')"
   ]
  },
  {
   "cell_type": "code",
   "execution_count": 18,
   "metadata": {
    "collapsed": false
   },
   "outputs": [
    {
     "data": {
      "text/plain": [
       "<matplotlib.text.Text at 0x10ed8b510>"
      ]
     },
     "execution_count": 18,
     "metadata": {},
     "output_type": "execute_result"
    },
    {
     "data": {
      "image/png": "[encoded data removed]",
      "text/plain": [
       "<matplotlib.figure.Figure at 0x10555e990>"
      ]
     },
     "metadata": {},
     "output_type": "display_data"
    }
   ],
   "source": [
    "## Number of purchases per month total - not by unique customer id\n",
    "original_df.groupby(by=['months_since_purchase']).count()['customer_id'].plot(kind='bar',figsize=([25,8]))\n",
    "plt.ylabel('Number of Purchases')"
   ]
  },
  {
   "cell_type": "code",
   "execution_count": 19,
   "metadata": {
    "collapsed": false
   },
   "outputs": [
    {
     "data": {
      "text/plain": [
       "<matplotlib.axes._subplots.AxesSubplot at 0x10555ea10>"
      ]
     },
     "execution_count": 19,
     "metadata": {},
     "output_type": "execute_result"
    },
    {
     "data": {
      "image/png": "[encoded data removed]",
      "text/plain": [
       "<matplotlib.figure.Figure at 0x1126cdfd0>"
      ]
     },
     "metadata": {},
     "output_type": "display_data"
    }
   ],
   "source": [
    "## Number of pruchases per year total - not by unique customer id\n",
    "original_df.groupby(by=['years_since_purchase']).count()['customer_id'].plot(kind='bar')"
   ]
  },
  {
   "cell_type": "code",
   "execution_count": 74,
   "metadata": {
    "collapsed": false
   },
   "outputs": [],
   "source": [
    "cumulative_purchases_per_year = original_df.groupby(by=['years_since_purchase']).count()['customer_id'].apply(\n",
    "lambda x: x/sum(original_df.groupby(by=['years_since_purchase']).count())).reset_index()"
   ]
  },
  {
   "cell_type": "code",
   "execution_count": 75,
   "metadata": {
    "collapsed": false
   },
   "outputs": [],
   "source": [
    "cumulative_purchases_per_year['running_total'] = cumulative_purchases_per_year.customer_id.cumsum()"
   ]
  },
  {
   "cell_type": "code",
   "execution_count": 77,
   "metadata": {
    "collapsed": false
   },
   "outputs": [
    {
     "data": {
      "text/plain": [
       "<matplotlib.text.Text at 0x122ef3cc0>"
      ]
     },
     "execution_count": 77,
     "metadata": {},
     "output_type": "execute_result"
    },
    {
     "data": {
      "image/png": "[encoded data removed]",
      "text/plain": [
       "<matplotlib.figure.Figure at 0x1223ad2e8>"
      ]
     },
     "metadata": {},
     "output_type": "display_data"
    }
   ],
   "source": [
    "## Cumulative purchases over years\n",
    "plt.figure(figsize=(10,5))\n",
    "cumulative_purchases_per_year.running_total.plot(kind='bar')\n",
    "plt.ylabel('Percent of Purchases')\n",
    "plt.xlabel('Number of Years')\n",
    "plt.title('Cumulative Purchases per Year')"
   ]
  },
  {
   "cell_type": "code",
   "execution_count": 23,
   "metadata": {
    "collapsed": false
   },
   "outputs": [
    {
     "data": {
      "text/plain": [
       "<matplotlib.axes._subplots.AxesSubplot at 0x113444b90>"
      ]
     },
     "execution_count": 23,
     "metadata": {},
     "output_type": "execute_result"
    },
    {
     "data": {
      "image/png": "[encoded data removed]",
      "text/plain": [
       "<matplotlib.figure.Figure at 0x11335fb50>"
      ]
     },
     "metadata": {},
     "output_type": "display_data"
    }
   ],
   "source": [
    "## Total number of purchases per year\n",
    "original_df.groupby(['year']).count()['customer_id'].plot(kind='bar')"
   ]
  },
  {
   "cell_type": "markdown",
   "metadata": {
    "collapsed": true
   },
   "source": [
    "## Remove Purchases made in 10 or 11 years ago (less than 5% of purchases)"
   ]
  },
  {
   "cell_type": "code",
   "execution_count": 11,
   "metadata": {
    "collapsed": false
   },
   "outputs": [
    {
     "data": {
      "text/html": [
       "<div>\n",
       "<table border=\"1\" class=\"dataframe\">\n",
       "  <thead>\n",
       "    <tr style=\"text-align: right;\">\n",
       "      <th></th>\n",
       "      <th>customer_id</th>\n",
       "      <th>amount</th>\n",
       "      <th>date</th>\n",
       "      <th>month</th>\n",
       "      <th>year</th>\n",
       "      <th>days_since_purchase</th>\n",
       "      <th>months_since_purchase</th>\n",
       "      <th>years_since_purchase</th>\n",
       "      <th>state_one</th>\n",
       "      <th>state_two</th>\n",
       "      <th>state_three</th>\n",
       "    </tr>\n",
       "  </thead>\n",
       "  <tbody>\n",
       "    <tr>\n",
       "      <th>2</th>\n",
       "      <td>1200</td>\n",
       "      <td>100.0</td>\n",
       "      <td>2005-10-25</td>\n",
       "      <td>10</td>\n",
       "      <td>2005</td>\n",
       "      <td>3720 days</td>\n",
       "      <td>123</td>\n",
       "      <td>11</td>\n",
       "      <td>False</td>\n",
       "      <td>False</td>\n",
       "      <td>False</td>\n",
       "    </tr>\n",
       "    <tr>\n",
       "      <th>6</th>\n",
       "      <td>2620</td>\n",
       "      <td>30.0</td>\n",
       "      <td>2006-03-09</td>\n",
       "      <td>3</td>\n",
       "      <td>2006</td>\n",
       "      <td>3585 days</td>\n",
       "      <td>118</td>\n",
       "      <td>10</td>\n",
       "      <td>False</td>\n",
       "      <td>False</td>\n",
       "      <td>False</td>\n",
       "    </tr>\n",
       "    <tr>\n",
       "      <th>8</th>\n",
       "      <td>3120</td>\n",
       "      <td>150.0</td>\n",
       "      <td>2006-11-08</td>\n",
       "      <td>11</td>\n",
       "      <td>2006</td>\n",
       "      <td>3341 days</td>\n",
       "      <td>110</td>\n",
       "      <td>10</td>\n",
       "      <td>False</td>\n",
       "      <td>False</td>\n",
       "      <td>False</td>\n",
       "    </tr>\n",
       "    <tr>\n",
       "      <th>12</th>\n",
       "      <td>4000</td>\n",
       "      <td>20.0</td>\n",
       "      <td>2005-11-25</td>\n",
       "      <td>11</td>\n",
       "      <td>2005</td>\n",
       "      <td>3689 days</td>\n",
       "      <td>122</td>\n",
       "      <td>11</td>\n",
       "      <td>False</td>\n",
       "      <td>False</td>\n",
       "      <td>False</td>\n",
       "    </tr>\n",
       "    <tr>\n",
       "      <th>16</th>\n",
       "      <td>4840</td>\n",
       "      <td>30.0</td>\n",
       "      <td>2005-10-14</td>\n",
       "      <td>10</td>\n",
       "      <td>2005</td>\n",
       "      <td>3731 days</td>\n",
       "      <td>123</td>\n",
       "      <td>11</td>\n",
       "      <td>False</td>\n",
       "      <td>False</td>\n",
       "      <td>False</td>\n",
       "    </tr>\n",
       "    <tr>\n",
       "      <th>17</th>\n",
       "      <td>4910</td>\n",
       "      <td>15.0</td>\n",
       "      <td>2006-12-13</td>\n",
       "      <td>12</td>\n",
       "      <td>2006</td>\n",
       "      <td>3306 days</td>\n",
       "      <td>109</td>\n",
       "      <td>10</td>\n",
       "      <td>False</td>\n",
       "      <td>False</td>\n",
       "      <td>False</td>\n",
       "    </tr>\n",
       "    <tr>\n",
       "      <th>19</th>\n",
       "      <td>4970</td>\n",
       "      <td>30.0</td>\n",
       "      <td>2006-12-01</td>\n",
       "      <td>12</td>\n",
       "      <td>2006</td>\n",
       "      <td>3318 days</td>\n",
       "      <td>109</td>\n",
       "      <td>10</td>\n",
       "      <td>False</td>\n",
       "      <td>False</td>\n",
       "      <td>False</td>\n",
       "    </tr>\n",
       "    <tr>\n",
       "      <th>20</th>\n",
       "      <td>5250</td>\n",
       "      <td>50.0</td>\n",
       "      <td>2005-12-20</td>\n",
       "      <td>12</td>\n",
       "      <td>2005</td>\n",
       "      <td>3664 days</td>\n",
       "      <td>121</td>\n",
       "      <td>11</td>\n",
       "      <td>False</td>\n",
       "      <td>False</td>\n",
       "      <td>False</td>\n",
       "    </tr>\n",
       "    <tr>\n",
       "      <th>22</th>\n",
       "      <td>5990</td>\n",
       "      <td>30.0</td>\n",
       "      <td>2006-03-17</td>\n",
       "      <td>3</td>\n",
       "      <td>2006</td>\n",
       "      <td>3577 days</td>\n",
       "      <td>118</td>\n",
       "      <td>10</td>\n",
       "      <td>False</td>\n",
       "      <td>False</td>\n",
       "      <td>False</td>\n",
       "    </tr>\n",
       "    <tr>\n",
       "      <th>23</th>\n",
       "      <td>6240</td>\n",
       "      <td>100.0</td>\n",
       "      <td>2006-11-09</td>\n",
       "      <td>11</td>\n",
       "      <td>2006</td>\n",
       "      <td>3340 days</td>\n",
       "      <td>110</td>\n",
       "      <td>10</td>\n",
       "      <td>False</td>\n",
       "      <td>False</td>\n",
       "      <td>False</td>\n",
       "    </tr>\n",
       "    <tr>\n",
       "      <th>24</th>\n",
       "      <td>6390</td>\n",
       "      <td>15.0</td>\n",
       "      <td>2005-10-25</td>\n",
       "      <td>10</td>\n",
       "      <td>2005</td>\n",
       "      <td>3720 days</td>\n",
       "      <td>123</td>\n",
       "      <td>11</td>\n",
       "      <td>False</td>\n",
       "      <td>False</td>\n",
       "      <td>False</td>\n",
       "    </tr>\n",
       "    <tr>\n",
       "      <th>26</th>\n",
       "      <td>6600</td>\n",
       "      <td>50.0</td>\n",
       "      <td>2005-09-23</td>\n",
       "      <td>9</td>\n",
       "      <td>2005</td>\n",
       "      <td>3752 days</td>\n",
       "      <td>124</td>\n",
       "      <td>11</td>\n",
       "      <td>False</td>\n",
       "      <td>False</td>\n",
       "      <td>False</td>\n",
       "    </tr>\n",
       "    <tr>\n",
       "      <th>36</th>\n",
       "      <td>7660</td>\n",
       "      <td>30.0</td>\n",
       "      <td>2006-06-03</td>\n",
       "      <td>6</td>\n",
       "      <td>2006</td>\n",
       "      <td>3499 days</td>\n",
       "      <td>115</td>\n",
       "      <td>10</td>\n",
       "      <td>False</td>\n",
       "      <td>False</td>\n",
       "      <td>False</td>\n",
       "    </tr>\n",
       "    <tr>\n",
       "      <th>43</th>\n",
       "      <td>8190</td>\n",
       "      <td>20.0</td>\n",
       "      <td>2006-12-09</td>\n",
       "      <td>12</td>\n",
       "      <td>2006</td>\n",
       "      <td>3310 days</td>\n",
       "      <td>109</td>\n",
       "      <td>10</td>\n",
       "      <td>False</td>\n",
       "      <td>False</td>\n",
       "      <td>False</td>\n",
       "    </tr>\n",
       "    <tr>\n",
       "      <th>45</th>\n",
       "      <td>8550</td>\n",
       "      <td>30.0</td>\n",
       "      <td>2006-10-17</td>\n",
       "      <td>10</td>\n",
       "      <td>2006</td>\n",
       "      <td>3363 days</td>\n",
       "      <td>111</td>\n",
       "      <td>10</td>\n",
       "      <td>False</td>\n",
       "      <td>False</td>\n",
       "      <td>False</td>\n",
       "    </tr>\n",
       "    <tr>\n",
       "      <th>49</th>\n",
       "      <td>8720</td>\n",
       "      <td>50.0</td>\n",
       "      <td>2005-08-23</td>\n",
       "      <td>8</td>\n",
       "      <td>2005</td>\n",
       "      <td>3783 days</td>\n",
       "      <td>125</td>\n",
       "      <td>11</td>\n",
       "      <td>False</td>\n",
       "      <td>False</td>\n",
       "      <td>False</td>\n",
       "    </tr>\n",
       "    <tr>\n",
       "      <th>51</th>\n",
       "      <td>9010</td>\n",
       "      <td>15.0</td>\n",
       "      <td>2005-10-25</td>\n",
       "      <td>10</td>\n",
       "      <td>2005</td>\n",
       "      <td>3720 days</td>\n",
       "      <td>123</td>\n",
       "      <td>11</td>\n",
       "      <td>False</td>\n",
       "      <td>False</td>\n",
       "      <td>False</td>\n",
       "    </tr>\n",
       "    <tr>\n",
       "      <th>53</th>\n",
       "      <td>9250</td>\n",
       "      <td>25.0</td>\n",
       "      <td>2005-08-02</td>\n",
       "      <td>8</td>\n",
       "      <td>2005</td>\n",
       "      <td>3804 days</td>\n",
       "      <td>125</td>\n",
       "      <td>11</td>\n",
       "      <td>False</td>\n",
       "      <td>False</td>\n",
       "      <td>False</td>\n",
       "    </tr>\n",
       "    <tr>\n",
       "      <th>56</th>\n",
       "      <td>9740</td>\n",
       "      <td>60.0</td>\n",
       "      <td>2006-12-31</td>\n",
       "      <td>12</td>\n",
       "      <td>2006</td>\n",
       "      <td>3288 days</td>\n",
       "      <td>109</td>\n",
       "      <td>10</td>\n",
       "      <td>False</td>\n",
       "      <td>False</td>\n",
       "      <td>False</td>\n",
       "    </tr>\n",
       "    <tr>\n",
       "      <th>60</th>\n",
       "      <td>10210</td>\n",
       "      <td>30.0</td>\n",
       "      <td>2006-10-31</td>\n",
       "      <td>10</td>\n",
       "      <td>2006</td>\n",
       "      <td>3349 days</td>\n",
       "      <td>111</td>\n",
       "      <td>10</td>\n",
       "      <td>False</td>\n",
       "      <td>False</td>\n",
       "      <td>False</td>\n",
       "    </tr>\n",
       "    <tr>\n",
       "      <th>62</th>\n",
       "      <td>10310</td>\n",
       "      <td>30.0</td>\n",
       "      <td>2005-12-17</td>\n",
       "      <td>12</td>\n",
       "      <td>2005</td>\n",
       "      <td>3667 days</td>\n",
       "      <td>121</td>\n",
       "      <td>11</td>\n",
       "      <td>False</td>\n",
       "      <td>False</td>\n",
       "      <td>False</td>\n",
       "    </tr>\n",
       "    <tr>\n",
       "      <th>63</th>\n",
       "      <td>10550</td>\n",
       "      <td>30.0</td>\n",
       "      <td>2006-12-31</td>\n",
       "      <td>12</td>\n",
       "      <td>2006</td>\n",
       "      <td>3288 days</td>\n",
       "      <td>109</td>\n",
       "      <td>10</td>\n",
       "      <td>False</td>\n",
       "      <td>False</td>\n",
       "      <td>False</td>\n",
       "    </tr>\n",
       "    <tr>\n",
       "      <th>68</th>\n",
       "      <td>10700</td>\n",
       "      <td>15.0</td>\n",
       "      <td>2006-03-08</td>\n",
       "      <td>3</td>\n",
       "      <td>2006</td>\n",
       "      <td>3586 days</td>\n",
       "      <td>118</td>\n",
       "      <td>10</td>\n",
       "      <td>False</td>\n",
       "      <td>False</td>\n",
       "      <td>False</td>\n",
       "    </tr>\n",
       "    <tr>\n",
       "      <th>71</th>\n",
       "      <td>10870</td>\n",
       "      <td>25.0</td>\n",
       "      <td>2005-08-02</td>\n",
       "      <td>8</td>\n",
       "      <td>2005</td>\n",
       "      <td>3804 days</td>\n",
       "      <td>125</td>\n",
       "      <td>11</td>\n",
       "      <td>False</td>\n",
       "      <td>False</td>\n",
       "      <td>False</td>\n",
       "    </tr>\n",
       "    <tr>\n",
       "      <th>74</th>\n",
       "      <td>11070</td>\n",
       "      <td>25.0</td>\n",
       "      <td>2005-07-26</td>\n",
       "      <td>7</td>\n",
       "      <td>2005</td>\n",
       "      <td>3811 days</td>\n",
       "      <td>126</td>\n",
       "      <td>11</td>\n",
       "      <td>False</td>\n",
       "      <td>False</td>\n",
       "      <td>False</td>\n",
       "    </tr>\n",
       "    <tr>\n",
       "      <th>75</th>\n",
       "      <td>11070</td>\n",
       "      <td>30.0</td>\n",
       "      <td>2006-04-29</td>\n",
       "      <td>4</td>\n",
       "      <td>2006</td>\n",
       "      <td>3534 days</td>\n",
       "      <td>117</td>\n",
       "      <td>10</td>\n",
       "      <td>False</td>\n",
       "      <td>False</td>\n",
       "      <td>False</td>\n",
       "    </tr>\n",
       "    <tr>\n",
       "      <th>85</th>\n",
       "      <td>12060</td>\n",
       "      <td>20.0</td>\n",
       "      <td>2005-10-14</td>\n",
       "      <td>10</td>\n",
       "      <td>2005</td>\n",
       "      <td>3731 days</td>\n",
       "      <td>123</td>\n",
       "      <td>11</td>\n",
       "      <td>False</td>\n",
       "      <td>False</td>\n",
       "      <td>False</td>\n",
       "    </tr>\n",
       "    <tr>\n",
       "      <th>90</th>\n",
       "      <td>12670</td>\n",
       "      <td>180.0</td>\n",
       "      <td>2005-11-16</td>\n",
       "      <td>11</td>\n",
       "      <td>2005</td>\n",
       "      <td>3698 days</td>\n",
       "      <td>122</td>\n",
       "      <td>11</td>\n",
       "      <td>False</td>\n",
       "      <td>False</td>\n",
       "      <td>False</td>\n",
       "    </tr>\n",
       "    <tr>\n",
       "      <th>92</th>\n",
       "      <td>13140</td>\n",
       "      <td>30.0</td>\n",
       "      <td>2005-10-29</td>\n",
       "      <td>10</td>\n",
       "      <td>2005</td>\n",
       "      <td>3716 days</td>\n",
       "      <td>123</td>\n",
       "      <td>11</td>\n",
       "      <td>False</td>\n",
       "      <td>False</td>\n",
       "      <td>False</td>\n",
       "    </tr>\n",
       "    <tr>\n",
       "      <th>94</th>\n",
       "      <td>13240</td>\n",
       "      <td>15.0</td>\n",
       "      <td>2005-11-23</td>\n",
       "      <td>11</td>\n",
       "      <td>2005</td>\n",
       "      <td>3691 days</td>\n",
       "      <td>122</td>\n",
       "      <td>11</td>\n",
       "      <td>False</td>\n",
       "      <td>False</td>\n",
       "      <td>False</td>\n",
       "    </tr>\n",
       "    <tr>\n",
       "      <th>...</th>\n",
       "      <td>...</td>\n",
       "      <td>...</td>\n",
       "      <td>...</td>\n",
       "      <td>...</td>\n",
       "      <td>...</td>\n",
       "      <td>...</td>\n",
       "      <td>...</td>\n",
       "      <td>...</td>\n",
       "      <td>...</td>\n",
       "      <td>...</td>\n",
       "      <td>...</td>\n",
       "    </tr>\n",
       "    <tr>\n",
       "      <th>50872</th>\n",
       "      <td>54100</td>\n",
       "      <td>50.0</td>\n",
       "      <td>2006-12-05</td>\n",
       "      <td>12</td>\n",
       "      <td>2006</td>\n",
       "      <td>3314 days</td>\n",
       "      <td>109</td>\n",
       "      <td>10</td>\n",
       "      <td>False</td>\n",
       "      <td>False</td>\n",
       "      <td>False</td>\n",
       "    </tr>\n",
       "    <tr>\n",
       "      <th>50881</th>\n",
       "      <td>6120</td>\n",
       "      <td>30.0</td>\n",
       "      <td>2006-12-31</td>\n",
       "      <td>12</td>\n",
       "      <td>2006</td>\n",
       "      <td>3288 days</td>\n",
       "      <td>109</td>\n",
       "      <td>10</td>\n",
       "      <td>False</td>\n",
       "      <td>False</td>\n",
       "      <td>False</td>\n",
       "    </tr>\n",
       "    <tr>\n",
       "      <th>50882</th>\n",
       "      <td>7550</td>\n",
       "      <td>15.0</td>\n",
       "      <td>2006-10-18</td>\n",
       "      <td>10</td>\n",
       "      <td>2006</td>\n",
       "      <td>3362 days</td>\n",
       "      <td>111</td>\n",
       "      <td>10</td>\n",
       "      <td>False</td>\n",
       "      <td>False</td>\n",
       "      <td>False</td>\n",
       "    </tr>\n",
       "    <tr>\n",
       "      <th>50884</th>\n",
       "      <td>13060</td>\n",
       "      <td>46.0</td>\n",
       "      <td>2005-09-02</td>\n",
       "      <td>9</td>\n",
       "      <td>2005</td>\n",
       "      <td>3773 days</td>\n",
       "      <td>124</td>\n",
       "      <td>11</td>\n",
       "      <td>False</td>\n",
       "      <td>False</td>\n",
       "      <td>False</td>\n",
       "    </tr>\n",
       "    <tr>\n",
       "      <th>50885</th>\n",
       "      <td>27370</td>\n",
       "      <td>30.0</td>\n",
       "      <td>2006-10-18</td>\n",
       "      <td>10</td>\n",
       "      <td>2006</td>\n",
       "      <td>3362 days</td>\n",
       "      <td>111</td>\n",
       "      <td>10</td>\n",
       "      <td>False</td>\n",
       "      <td>False</td>\n",
       "      <td>False</td>\n",
       "    </tr>\n",
       "    <tr>\n",
       "      <th>50902</th>\n",
       "      <td>33310</td>\n",
       "      <td>30.0</td>\n",
       "      <td>2006-03-17</td>\n",
       "      <td>3</td>\n",
       "      <td>2006</td>\n",
       "      <td>3577 days</td>\n",
       "      <td>118</td>\n",
       "      <td>10</td>\n",
       "      <td>False</td>\n",
       "      <td>False</td>\n",
       "      <td>False</td>\n",
       "    </tr>\n",
       "    <tr>\n",
       "      <th>50912</th>\n",
       "      <td>17810</td>\n",
       "      <td>50.0</td>\n",
       "      <td>2005-10-14</td>\n",
       "      <td>10</td>\n",
       "      <td>2005</td>\n",
       "      <td>3731 days</td>\n",
       "      <td>123</td>\n",
       "      <td>11</td>\n",
       "      <td>False</td>\n",
       "      <td>False</td>\n",
       "      <td>False</td>\n",
       "    </tr>\n",
       "    <tr>\n",
       "      <th>50920</th>\n",
       "      <td>6870</td>\n",
       "      <td>30.0</td>\n",
       "      <td>2005-04-22</td>\n",
       "      <td>4</td>\n",
       "      <td>2005</td>\n",
       "      <td>3906 days</td>\n",
       "      <td>129</td>\n",
       "      <td>11</td>\n",
       "      <td>False</td>\n",
       "      <td>False</td>\n",
       "      <td>False</td>\n",
       "    </tr>\n",
       "    <tr>\n",
       "      <th>50923</th>\n",
       "      <td>19250</td>\n",
       "      <td>15.0</td>\n",
       "      <td>2005-10-15</td>\n",
       "      <td>10</td>\n",
       "      <td>2005</td>\n",
       "      <td>3730 days</td>\n",
       "      <td>123</td>\n",
       "      <td>11</td>\n",
       "      <td>False</td>\n",
       "      <td>False</td>\n",
       "      <td>False</td>\n",
       "    </tr>\n",
       "    <tr>\n",
       "      <th>50935</th>\n",
       "      <td>50110</td>\n",
       "      <td>60.0</td>\n",
       "      <td>2006-10-20</td>\n",
       "      <td>10</td>\n",
       "      <td>2006</td>\n",
       "      <td>3360 days</td>\n",
       "      <td>111</td>\n",
       "      <td>10</td>\n",
       "      <td>False</td>\n",
       "      <td>False</td>\n",
       "      <td>False</td>\n",
       "    </tr>\n",
       "    <tr>\n",
       "      <th>50945</th>\n",
       "      <td>48900</td>\n",
       "      <td>30.0</td>\n",
       "      <td>2006-06-01</td>\n",
       "      <td>6</td>\n",
       "      <td>2006</td>\n",
       "      <td>3501 days</td>\n",
       "      <td>115</td>\n",
       "      <td>10</td>\n",
       "      <td>False</td>\n",
       "      <td>False</td>\n",
       "      <td>False</td>\n",
       "    </tr>\n",
       "    <tr>\n",
       "      <th>50956</th>\n",
       "      <td>54290</td>\n",
       "      <td>30.0</td>\n",
       "      <td>2006-12-06</td>\n",
       "      <td>12</td>\n",
       "      <td>2006</td>\n",
       "      <td>3313 days</td>\n",
       "      <td>109</td>\n",
       "      <td>10</td>\n",
       "      <td>False</td>\n",
       "      <td>False</td>\n",
       "      <td>False</td>\n",
       "    </tr>\n",
       "    <tr>\n",
       "      <th>50957</th>\n",
       "      <td>19180</td>\n",
       "      <td>30.0</td>\n",
       "      <td>2005-05-24</td>\n",
       "      <td>5</td>\n",
       "      <td>2005</td>\n",
       "      <td>3874 days</td>\n",
       "      <td>128</td>\n",
       "      <td>11</td>\n",
       "      <td>False</td>\n",
       "      <td>False</td>\n",
       "      <td>False</td>\n",
       "    </tr>\n",
       "    <tr>\n",
       "      <th>50972</th>\n",
       "      <td>55250</td>\n",
       "      <td>10.0</td>\n",
       "      <td>2006-12-13</td>\n",
       "      <td>12</td>\n",
       "      <td>2006</td>\n",
       "      <td>3306 days</td>\n",
       "      <td>109</td>\n",
       "      <td>10</td>\n",
       "      <td>False</td>\n",
       "      <td>False</td>\n",
       "      <td>False</td>\n",
       "    </tr>\n",
       "    <tr>\n",
       "      <th>50996</th>\n",
       "      <td>51070</td>\n",
       "      <td>50.0</td>\n",
       "      <td>2006-11-18</td>\n",
       "      <td>11</td>\n",
       "      <td>2006</td>\n",
       "      <td>3331 days</td>\n",
       "      <td>110</td>\n",
       "      <td>10</td>\n",
       "      <td>False</td>\n",
       "      <td>False</td>\n",
       "      <td>False</td>\n",
       "    </tr>\n",
       "    <tr>\n",
       "      <th>50999</th>\n",
       "      <td>18380</td>\n",
       "      <td>50.0</td>\n",
       "      <td>2005-04-27</td>\n",
       "      <td>4</td>\n",
       "      <td>2005</td>\n",
       "      <td>3901 days</td>\n",
       "      <td>129</td>\n",
       "      <td>11</td>\n",
       "      <td>False</td>\n",
       "      <td>False</td>\n",
       "      <td>False</td>\n",
       "    </tr>\n",
       "    <tr>\n",
       "      <th>51010</th>\n",
       "      <td>60970</td>\n",
       "      <td>70.0</td>\n",
       "      <td>2006-12-31</td>\n",
       "      <td>12</td>\n",
       "      <td>2006</td>\n",
       "      <td>3288 days</td>\n",
       "      <td>109</td>\n",
       "      <td>10</td>\n",
       "      <td>False</td>\n",
       "      <td>False</td>\n",
       "      <td>False</td>\n",
       "    </tr>\n",
       "    <tr>\n",
       "      <th>51034</th>\n",
       "      <td>9560</td>\n",
       "      <td>30.0</td>\n",
       "      <td>2005-04-16</td>\n",
       "      <td>4</td>\n",
       "      <td>2005</td>\n",
       "      <td>3912 days</td>\n",
       "      <td>129</td>\n",
       "      <td>11</td>\n",
       "      <td>False</td>\n",
       "      <td>False</td>\n",
       "      <td>False</td>\n",
       "    </tr>\n",
       "    <tr>\n",
       "      <th>51070</th>\n",
       "      <td>25280</td>\n",
       "      <td>30.0</td>\n",
       "      <td>2006-10-28</td>\n",
       "      <td>10</td>\n",
       "      <td>2006</td>\n",
       "      <td>3352 days</td>\n",
       "      <td>111</td>\n",
       "      <td>10</td>\n",
       "      <td>False</td>\n",
       "      <td>False</td>\n",
       "      <td>False</td>\n",
       "    </tr>\n",
       "    <tr>\n",
       "      <th>51073</th>\n",
       "      <td>6160</td>\n",
       "      <td>100.0</td>\n",
       "      <td>2005-12-27</td>\n",
       "      <td>12</td>\n",
       "      <td>2005</td>\n",
       "      <td>3657 days</td>\n",
       "      <td>121</td>\n",
       "      <td>11</td>\n",
       "      <td>False</td>\n",
       "      <td>False</td>\n",
       "      <td>False</td>\n",
       "    </tr>\n",
       "    <tr>\n",
       "      <th>51088</th>\n",
       "      <td>59290</td>\n",
       "      <td>15.0</td>\n",
       "      <td>2006-12-31</td>\n",
       "      <td>12</td>\n",
       "      <td>2006</td>\n",
       "      <td>3288 days</td>\n",
       "      <td>109</td>\n",
       "      <td>10</td>\n",
       "      <td>False</td>\n",
       "      <td>False</td>\n",
       "      <td>False</td>\n",
       "    </tr>\n",
       "    <tr>\n",
       "      <th>51089</th>\n",
       "      <td>52100</td>\n",
       "      <td>50.0</td>\n",
       "      <td>2006-11-24</td>\n",
       "      <td>11</td>\n",
       "      <td>2006</td>\n",
       "      <td>3325 days</td>\n",
       "      <td>110</td>\n",
       "      <td>10</td>\n",
       "      <td>False</td>\n",
       "      <td>False</td>\n",
       "      <td>False</td>\n",
       "    </tr>\n",
       "    <tr>\n",
       "      <th>51098</th>\n",
       "      <td>15520</td>\n",
       "      <td>30.0</td>\n",
       "      <td>2005-04-20</td>\n",
       "      <td>4</td>\n",
       "      <td>2005</td>\n",
       "      <td>3908 days</td>\n",
       "      <td>129</td>\n",
       "      <td>11</td>\n",
       "      <td>False</td>\n",
       "      <td>False</td>\n",
       "      <td>False</td>\n",
       "    </tr>\n",
       "    <tr>\n",
       "      <th>51109</th>\n",
       "      <td>47770</td>\n",
       "      <td>50.0</td>\n",
       "      <td>2005-12-31</td>\n",
       "      <td>12</td>\n",
       "      <td>2005</td>\n",
       "      <td>3653 days</td>\n",
       "      <td>121</td>\n",
       "      <td>11</td>\n",
       "      <td>False</td>\n",
       "      <td>False</td>\n",
       "      <td>False</td>\n",
       "    </tr>\n",
       "    <tr>\n",
       "      <th>51143</th>\n",
       "      <td>13710</td>\n",
       "      <td>50.0</td>\n",
       "      <td>2006-11-29</td>\n",
       "      <td>11</td>\n",
       "      <td>2006</td>\n",
       "      <td>3320 days</td>\n",
       "      <td>110</td>\n",
       "      <td>10</td>\n",
       "      <td>False</td>\n",
       "      <td>False</td>\n",
       "      <td>False</td>\n",
       "    </tr>\n",
       "    <tr>\n",
       "      <th>51151</th>\n",
       "      <td>24980</td>\n",
       "      <td>30.0</td>\n",
       "      <td>2006-11-23</td>\n",
       "      <td>11</td>\n",
       "      <td>2006</td>\n",
       "      <td>3326 days</td>\n",
       "      <td>110</td>\n",
       "      <td>10</td>\n",
       "      <td>False</td>\n",
       "      <td>False</td>\n",
       "      <td>False</td>\n",
       "    </tr>\n",
       "    <tr>\n",
       "      <th>51164</th>\n",
       "      <td>19320</td>\n",
       "      <td>10.0</td>\n",
       "      <td>2005-05-24</td>\n",
       "      <td>5</td>\n",
       "      <td>2005</td>\n",
       "      <td>3874 days</td>\n",
       "      <td>128</td>\n",
       "      <td>11</td>\n",
       "      <td>False</td>\n",
       "      <td>False</td>\n",
       "      <td>False</td>\n",
       "    </tr>\n",
       "    <tr>\n",
       "      <th>51175</th>\n",
       "      <td>61240</td>\n",
       "      <td>40.0</td>\n",
       "      <td>2006-12-31</td>\n",
       "      <td>12</td>\n",
       "      <td>2006</td>\n",
       "      <td>3288 days</td>\n",
       "      <td>109</td>\n",
       "      <td>10</td>\n",
       "      <td>False</td>\n",
       "      <td>False</td>\n",
       "      <td>False</td>\n",
       "    </tr>\n",
       "    <tr>\n",
       "      <th>51176</th>\n",
       "      <td>48180</td>\n",
       "      <td>100.0</td>\n",
       "      <td>2006-12-31</td>\n",
       "      <td>12</td>\n",
       "      <td>2006</td>\n",
       "      <td>3288 days</td>\n",
       "      <td>109</td>\n",
       "      <td>10</td>\n",
       "      <td>False</td>\n",
       "      <td>False</td>\n",
       "      <td>False</td>\n",
       "    </tr>\n",
       "    <tr>\n",
       "      <th>51186</th>\n",
       "      <td>60140</td>\n",
       "      <td>40.0</td>\n",
       "      <td>2006-12-31</td>\n",
       "      <td>12</td>\n",
       "      <td>2006</td>\n",
       "      <td>3288 days</td>\n",
       "      <td>109</td>\n",
       "      <td>10</td>\n",
       "      <td>False</td>\n",
       "      <td>False</td>\n",
       "      <td>False</td>\n",
       "    </tr>\n",
       "  </tbody>\n",
       "</table>\n",
       "<p>3652 rows × 11 columns</p>\n",
       "</div>"
      ],
      "text/plain": [
       "       customer_id  amount       date  month  year  days_since_purchase  \\\n",
       "2             1200   100.0 2005-10-25     10  2005            3720 days   \n",
       "6             2620    30.0 2006-03-09      3  2006            3585 days   \n",
       "8             3120   150.0 2006-11-08     11  2006            3341 days   \n",
       "12            4000    20.0 2005-11-25     11  2005            3689 days   \n",
       "16            4840    30.0 2005-10-14     10  2005            3731 days   \n",
       "17            4910    15.0 2006-12-13     12  2006            3306 days   \n",
       "19            4970    30.0 2006-12-01     12  2006            3318 days   \n",
       "20            5250    50.0 2005-12-20     12  2005            3664 days   \n",
       "22            5990    30.0 2006-03-17      3  2006            3577 days   \n",
       "23            6240   100.0 2006-11-09     11  2006            3340 days   \n",
       "24            6390    15.0 2005-10-25     10  2005            3720 days   \n",
       "26            6600    50.0 2005-09-23      9  2005            3752 days   \n",
       "36            7660    30.0 2006-06-03      6  2006            3499 days   \n",
       "43            8190    20.0 2006-12-09     12  2006            3310 days   \n",
       "45            8550    30.0 2006-10-17     10  2006            3363 days   \n",
       "49            8720    50.0 2005-08-23      8  2005            3783 days   \n",
       "51            9010    15.0 2005-10-25     10  2005            3720 days   \n",
       "53            9250    25.0 2005-08-02      8  2005            3804 days   \n",
       "56            9740    60.0 2006-12-31     12  2006            3288 days   \n",
       "60           10210    30.0 2006-10-31     10  2006            3349 days   \n",
       "62           10310    30.0 2005-12-17     12  2005            3667 days   \n",
       "63           10550    30.0 2006-12-31     12  2006            3288 days   \n",
       "68           10700    15.0 2006-03-08      3  2006            3586 days   \n",
       "71           10870    25.0 2005-08-02      8  2005            3804 days   \n",
       "74           11070    25.0 2005-07-26      7  2005            3811 days   \n",
       "75           11070    30.0 2006-04-29      4  2006            3534 days   \n",
       "85           12060    20.0 2005-10-14     10  2005            3731 days   \n",
       "90           12670   180.0 2005-11-16     11  2005            3698 days   \n",
       "92           13140    30.0 2005-10-29     10  2005            3716 days   \n",
       "94           13240    15.0 2005-11-23     11  2005            3691 days   \n",
       "...            ...     ...        ...    ...   ...                  ...   \n",
       "50872        54100    50.0 2006-12-05     12  2006            3314 days   \n",
       "50881         6120    30.0 2006-12-31     12  2006            3288 days   \n",
       "50882         7550    15.0 2006-10-18     10  2006            3362 days   \n",
       "50884        13060    46.0 2005-09-02      9  2005            3773 days   \n",
       "50885        27370    30.0 2006-10-18     10  2006            3362 days   \n",
       "50902        33310    30.0 2006-03-17      3  2006            3577 days   \n",
       "50912        17810    50.0 2005-10-14     10  2005            3731 days   \n",
       "50920         6870    30.0 2005-04-22      4  2005            3906 days   \n",
       "50923        19250    15.0 2005-10-15     10  2005            3730 days   \n",
       "50935        50110    60.0 2006-10-20     10  2006            3360 days   \n",
       "50945        48900    30.0 2006-06-01      6  2006            3501 days   \n",
       "50956        54290    30.0 2006-12-06     12  2006            3313 days   \n",
       "50957        19180    30.0 2005-05-24      5  2005            3874 days   \n",
       "50972        55250    10.0 2006-12-13     12  2006            3306 days   \n",
       "50996        51070    50.0 2006-11-18     11  2006            3331 days   \n",
       "50999        18380    50.0 2005-04-27      4  2005            3901 days   \n",
       "51010        60970    70.0 2006-12-31     12  2006            3288 days   \n",
       "51034         9560    30.0 2005-04-16      4  2005            3912 days   \n",
       "51070        25280    30.0 2006-10-28     10  2006            3352 days   \n",
       "51073         6160   100.0 2005-12-27     12  2005            3657 days   \n",
       "51088        59290    15.0 2006-12-31     12  2006            3288 days   \n",
       "51089        52100    50.0 2006-11-24     11  2006            3325 days   \n",
       "51098        15520    30.0 2005-04-20      4  2005            3908 days   \n",
       "51109        47770    50.0 2005-12-31     12  2005            3653 days   \n",
       "51143        13710    50.0 2006-11-29     11  2006            3320 days   \n",
       "51151        24980    30.0 2006-11-23     11  2006            3326 days   \n",
       "51164        19320    10.0 2005-05-24      5  2005            3874 days   \n",
       "51175        61240    40.0 2006-12-31     12  2006            3288 days   \n",
       "51176        48180   100.0 2006-12-31     12  2006            3288 days   \n",
       "51186        60140    40.0 2006-12-31     12  2006            3288 days   \n",
       "\n",
       "       months_since_purchase  years_since_purchase state_one state_two  \\\n",
       "2                        123                    11     False     False   \n",
       "6                        118                    10     False     False   \n",
       "8                        110                    10     False     False   \n",
       "12                       122                    11     False     False   \n",
       "16                       123                    11     False     False   \n",
       "17                       109                    10     False     False   \n",
       "19                       109                    10     False     False   \n",
       "20                       121                    11     False     False   \n",
       "22                       118                    10     False     False   \n",
       "23                       110                    10     False     False   \n",
       "24                       123                    11     False     False   \n",
       "26                       124                    11     False     False   \n",
       "36                       115                    10     False     False   \n",
       "43                       109                    10     False     False   \n",
       "45                       111                    10     False     False   \n",
       "49                       125                    11     False     False   \n",
       "51                       123                    11     False     False   \n",
       "53                       125                    11     False     False   \n",
       "56                       109                    10     False     False   \n",
       "60                       111                    10     False     False   \n",
       "62                       121                    11     False     False   \n",
       "63                       109                    10     False     False   \n",
       "68                       118                    10     False     False   \n",
       "71                       125                    11     False     False   \n",
       "74                       126                    11     False     False   \n",
       "75                       117                    10     False     False   \n",
       "85                       123                    11     False     False   \n",
       "90                       122                    11     False     False   \n",
       "92                       123                    11     False     False   \n",
       "94                       122                    11     False     False   \n",
       "...                      ...                   ...       ...       ...   \n",
       "50872                    109                    10     False     False   \n",
       "50881                    109                    10     False     False   \n",
       "50882                    111                    10     False     False   \n",
       "50884                    124                    11     False     False   \n",
       "50885                    111                    10     False     False   \n",
       "50902                    118                    10     False     False   \n",
       "50912                    123                    11     False     False   \n",
       "50920                    129                    11     False     False   \n",
       "50923                    123                    11     False     False   \n",
       "50935                    111                    10     False     False   \n",
       "50945                    115                    10     False     False   \n",
       "50956                    109                    10     False     False   \n",
       "50957                    128                    11     False     False   \n",
       "50972                    109                    10     False     False   \n",
       "50996                    110                    10     False     False   \n",
       "50999                    129                    11     False     False   \n",
       "51010                    109                    10     False     False   \n",
       "51034                    129                    11     False     False   \n",
       "51070                    111                    10     False     False   \n",
       "51073                    121                    11     False     False   \n",
       "51088                    109                    10     False     False   \n",
       "51089                    110                    10     False     False   \n",
       "51098                    129                    11     False     False   \n",
       "51109                    121                    11     False     False   \n",
       "51143                    110                    10     False     False   \n",
       "51151                    110                    10     False     False   \n",
       "51164                    128                    11     False     False   \n",
       "51175                    109                    10     False     False   \n",
       "51176                    109                    10     False     False   \n",
       "51186                    109                    10     False     False   \n",
       "\n",
       "      state_three  \n",
       "2           False  \n",
       "6           False  \n",
       "8           False  \n",
       "12          False  \n",
       "16          False  \n",
       "17          False  \n",
       "19          False  \n",
       "20          False  \n",
       "22          False  \n",
       "23          False  \n",
       "24          False  \n",
       "26          False  \n",
       "36          False  \n",
       "43          False  \n",
       "45          False  \n",
       "49          False  \n",
       "51          False  \n",
       "53          False  \n",
       "56          False  \n",
       "60          False  \n",
       "62          False  \n",
       "63          False  \n",
       "68          False  \n",
       "71          False  \n",
       "74          False  \n",
       "75          False  \n",
       "85          False  \n",
       "90          False  \n",
       "92          False  \n",
       "94          False  \n",
       "...           ...  \n",
       "50872       False  \n",
       "50881       False  \n",
       "50882       False  \n",
       "50884       False  \n",
       "50885       False  \n",
       "50902       False  \n",
       "50912       False  \n",
       "50920       False  \n",
       "50923       False  \n",
       "50935       False  \n",
       "50945       False  \n",
       "50956       False  \n",
       "50957       False  \n",
       "50972       False  \n",
       "50996       False  \n",
       "50999       False  \n",
       "51010       False  \n",
       "51034       False  \n",
       "51070       False  \n",
       "51073       False  \n",
       "51088       False  \n",
       "51089       False  \n",
       "51098       False  \n",
       "51109       False  \n",
       "51143       False  \n",
       "51151       False  \n",
       "51164       False  \n",
       "51175       False  \n",
       "51176       False  \n",
       "51186       False  \n",
       "\n",
       "[3652 rows x 11 columns]"
      ]
     },
     "execution_count": 11,
     "metadata": {},
     "output_type": "execute_result"
    }
   ],
   "source": [
    "## drop these \n",
    "original_df[(original_df.state_one == False) &\n",
    "            (original_df.state_two == False) &\n",
    "                (original_df.state_three == False)]"
   ]
  },
  {
   "cell_type": "code",
   "execution_count": 12,
   "metadata": {
    "collapsed": false
   },
   "outputs": [],
   "source": [
    "indexes_to_drop = original_df[(original_df.state_one == False) &\n",
    "            (original_df.state_two == False) &\n",
    "                (original_df.state_three == False)].index"
   ]
  },
  {
   "cell_type": "code",
   "execution_count": 14,
   "metadata": {
    "collapsed": false
   },
   "outputs": [],
   "source": [
    "# this drops the last years (with very few purchases)\n",
    "state_df = original_df.drop(original_df.index[indexes_to_drop])"
   ]
  },
  {
   "cell_type": "code",
   "execution_count": 15,
   "metadata": {
    "collapsed": false
   },
   "outputs": [
    {
     "data": {
      "text/html": [
       "<div>\n",
       "<table border=\"1\" class=\"dataframe\">\n",
       "  <thead>\n",
       "    <tr style=\"text-align: right;\">\n",
       "      <th></th>\n",
       "      <th>customer_id</th>\n",
       "      <th>amount</th>\n",
       "      <th>date</th>\n",
       "      <th>month</th>\n",
       "      <th>year</th>\n",
       "      <th>days_since_purchase</th>\n",
       "      <th>months_since_purchase</th>\n",
       "      <th>years_since_purchase</th>\n",
       "      <th>state_one</th>\n",
       "      <th>state_two</th>\n",
       "      <th>state_three</th>\n",
       "    </tr>\n",
       "  </thead>\n",
       "  <tbody>\n",
       "  </tbody>\n",
       "</table>\n",
       "</div>"
      ],
      "text/plain": [
       "Empty DataFrame\n",
       "Columns: [customer_id, amount, date, month, year, days_since_purchase, months_since_purchase, years_since_purchase, state_one, state_two, state_three]\n",
       "Index: []"
      ]
     },
     "execution_count": 15,
     "metadata": {},
     "output_type": "execute_result"
    }
   ],
   "source": [
    "## Confirm we dropped everything correctly\n",
    "state_df[(state_df.state_one == False) &\n",
    "            (state_df.state_two == False) &\n",
    "                (state_df.state_three == False)]"
   ]
  },
  {
   "cell_type": "code",
   "execution_count": null,
   "metadata": {
    "collapsed": true
   },
   "outputs": [],
   "source": []
  },
  {
   "cell_type": "code",
   "execution_count": null,
   "metadata": {
    "collapsed": true
   },
   "outputs": [],
   "source": []
  },
  {
   "cell_type": "code",
   "execution_count": null,
   "metadata": {
    "collapsed": true
   },
   "outputs": [],
   "source": []
  },
  {
   "cell_type": "code",
   "execution_count": null,
   "metadata": {
    "collapsed": true
   },
   "outputs": [],
   "source": []
  },
  {
   "cell_type": "code",
   "execution_count": null,
   "metadata": {
    "collapsed": true
   },
   "outputs": [],
   "source": []
  },
  {
   "cell_type": "code",
   "execution_count": null,
   "metadata": {
    "collapsed": true
   },
   "outputs": [],
   "source": []
  },
  {
   "cell_type": "code",
   "execution_count": null,
   "metadata": {
    "collapsed": true
   },
   "outputs": [],
   "source": []
  },
  {
   "cell_type": "code",
   "execution_count": null,
   "metadata": {
    "collapsed": true
   },
   "outputs": [],
   "source": []
  },
  {
   "cell_type": "markdown",
   "metadata": {},
   "source": [
    "# Define a reward vector\n",
    "- This is the expected amount of money the firm will receive in every state"
   ]
  },
  {
   "cell_type": "code",
   "execution_count": 116,
   "metadata": {
    "collapsed": false
   },
   "outputs": [],
   "source": [
    "# frequency flag less than 2\n",
    "frequency_less2 = (state_df.groupby('customer_id').count()<2).reset_index()"
   ]
  },
  {
   "cell_type": "code",
   "execution_count": 219,
   "metadata": {
    "collapsed": false
   },
   "outputs": [],
   "source": [
    "frequency_less2 = frequency_less2[['customer_id','amount']]\n",
    "frequency_less2['one_purchase']=frequency_less2['amount']"
   ]
  },
  {
   "cell_type": "code",
   "execution_count": 220,
   "metadata": {
    "collapsed": true
   },
   "outputs": [],
   "source": [
    "## frequency flag greater than or equal to 2\n",
    "frequency_more2 = (state_df.groupby('customer_id').count()>=2).reset_index()\n",
    "frequency_more2 = frequency_more2[['customer_id','amount']]\n",
    "frequency_more2['2_or_more_purchases']=frequency_more2['amount']"
   ]
  },
  {
   "cell_type": "code",
   "execution_count": 132,
   "metadata": {
    "collapsed": true
   },
   "outputs": [],
   "source": [
    "# amount flag less than 30\n",
    "amount_less30 = (state_df.groupby('customer_id').mean()<30).reset_index()\n",
    "amount_less30 = amount_less30[['customer_id','amount']]\n",
    "amount_less30['average_amount_<_30'] = amount_less30['amount']"
   ]
  },
  {
   "cell_type": "code",
   "execution_count": 226,
   "metadata": {
    "collapsed": true
   },
   "outputs": [],
   "source": [
    "# amount flag more than\n",
    "amount_more30 = (state_df.groupby('customer_id').mean()>=30).reset_index()\n",
    "amount_more30 = amount_more30[['customer_id','amount']]\n",
    "amount_more30['average_amount_=>_30'] = amount_more30['amount']"
   ]
  },
  {
   "cell_type": "code",
   "execution_count": 156,
   "metadata": {
    "collapsed": true
   },
   "outputs": [],
   "source": [
    "# Recency 1-<2 years\n",
    "recency_1_2 = state_df.ix[state_df.groupby('customer_id').date.idxmax(),:]"
   ]
  },
  {
   "cell_type": "code",
   "execution_count": 157,
   "metadata": {
    "collapsed": false
   },
   "outputs": [],
   "source": [
    "recency_1_2['purchased_in_past_1<2_yrs.']=recency_1_2.years_since_purchase<2"
   ]
  },
  {
   "cell_type": "code",
   "execution_count": 158,
   "metadata": {
    "collapsed": false
   },
   "outputs": [],
   "source": [
    "recency_1_2.drop(recency_1_2[['amount','date','month','days_since_purchase','months_since_purchase',\n",
    "                  'years_since_purchase','state_one','state_two','state_three','year']],axis=1,inplace=True)"
   ]
  },
  {
   "cell_type": "code",
   "execution_count": 254,
   "metadata": {
    "collapsed": false
   },
   "outputs": [],
   "source": [
    "recency_more2_less4 = state_df.ix[state_df.groupby('customer_id').date.idxmax(),:]\n",
    "recency_more2_less4['purchased_in_past_>=2<4_yrs.']=(recency_more2_less4.years_since_purchase>=2 )\\\n",
    "                                                    & (recency_more2_less4.years_since_purchase<4) \n",
    "recency_more2_less4.drop(recency_more2_less4[['amount','date','month','days_since_purchase','months_since_purchase',\n",
    "                  'years_since_purchase','state_one','state_two','state_three','year']],axis=1,inplace=True)"
   ]
  },
  {
   "cell_type": "code",
   "execution_count": 255,
   "metadata": {
    "collapsed": false
   },
   "outputs": [],
   "source": [
    "recency_more4_less6 = state_df.ix[state_df.groupby('customer_id').date.idxmax(),:]\n",
    "recency_more4_less6['purchased_in_past_>=4<6_yrs.']=(recency_more4_less6.years_since_purchase>=4 )\\\n",
    "                                                    & (recency_more4_less6.years_since_purchase<6) \n",
    "recency_more4_less6.drop(recency_more4_less6[['amount','date','month','days_since_purchase','months_since_purchase',\n",
    "                  'years_since_purchase','state_one','state_two','state_three','year']],axis=1,inplace=True)"
   ]
  },
  {
   "cell_type": "code",
   "execution_count": 268,
   "metadata": {
    "collapsed": false
   },
   "outputs": [],
   "source": [
    "recency_more6_less8 = state_df.ix[state_df.groupby('customer_id').date.idxmax(),:]\n",
    "recency_more6_less8['purchased_in_past_>=6<8_yrs.']=(recency_more6_less8.years_since_purchase>=6 )\\\n",
    "                                                    & (recency_more6_less8.years_since_purchase<8) \n",
    "recency_more6_less8.drop(recency_more6_less8[['amount','date','month','days_since_purchase','months_since_purchase',\n",
    "                  'years_since_purchase','state_one','state_two','state_three','year']],axis=1,inplace=True)"
   ]
  },
  {
   "cell_type": "code",
   "execution_count": 275,
   "metadata": {
    "collapsed": false
   },
   "outputs": [],
   "source": [
    "### merge everything now\n",
    "reward_state = state_df.copy()\n",
    "reward_states_list = [frequency_less2,frequency_more2,amount_more30,amount_less30,recency_1_2,\\\n",
    "                  recency_more2_less4,recency_more4_less6,recency_more6_less8]\n",
    "\n"
   ]
  },
  {
   "cell_type": "code",
   "execution_count": 276,
   "metadata": {
    "collapsed": false
   },
   "outputs": [],
   "source": [
    "for dataframe in reward_states_list:\n",
    "    temp =pd.merge(reward_state,dataframe,on='customer_id')\n",
    "    reward_state = temp"
   ]
  },
  {
   "cell_type": "code",
   "execution_count": 279,
   "metadata": {
    "collapsed": false
   },
   "outputs": [
    {
     "data": {
      "text/plain": [
       "Index(['customer_id', 'amount_x', 'months_since_purchase',\n",
       "       'years_since_purchase', 'amount_y', 'one_purchase', 'amount_x',\n",
       "       '2_or_more_purchases', 'amount_y', 'average_amount_=>_30',\n",
       "       'average_amount_<_30', 'purchased_in_past_1<2_yrs.',\n",
       "       'purchased_in_past_>=2<4_yrs.', 'purchased_in_past_>=4<6_yrs.',\n",
       "       'purchased_in_past_>=6<8_yrs.'],\n",
       "      dtype='object')"
      ]
     },
     "execution_count": 279,
     "metadata": {},
     "output_type": "execute_result"
    }
   ],
   "source": [
    "# have the Df\n",
    "reward_state.columns"
   ]
  },
  {
   "cell_type": "code",
   "execution_count": 278,
   "metadata": {
    "collapsed": false
   },
   "outputs": [],
   "source": [
    "# clean up\n",
    "reward_state = reward_state.drop(labels=\\\n",
    "        ['amount','state_one','state_two','state_three','date','month','year','days_since_purchase'],axis=1)"
   ]
  },
  {
   "cell_type": "raw",
   "metadata": {},
   "source": [
    "- Next , calculate the total amount $$ per RFM state"
   ]
  },
  {
   "cell_type": "code",
   "execution_count": 249,
   "metadata": {
    "collapsed": false
   },
   "outputs": [],
   "source": [
    "state_one_reward = np.mean(reward_state[(reward_state['purchased_in_past_1<2_yrs.']==True) & \\\n",
    "                                        (reward_state['one_purchase']==True) &\\\n",
    "             (reward_state['average_amount_=>_30']==True)].amount_x).reset_index().iloc[0,1]"
   ]
  },
  {
   "cell_type": "code",
   "execution_count": 250,
   "metadata": {
    "collapsed": false
   },
   "outputs": [],
   "source": [
    "state_two_reward = np.mean(reward_state[(reward_state['purchased_in_past_1<2_yrs.']==True) & \\\n",
    "                                        (reward_state['2_or_more_purchases']==True) &\\\n",
    "             (reward_state['average_amount_<_30']==True)].amount_x).reset_index().iloc[0,1]"
   ]
  },
  {
   "cell_type": "code",
   "execution_count": 252,
   "metadata": {
    "collapsed": true
   },
   "outputs": [],
   "source": [
    "state_three_reward = np.mean(reward_state[(reward_state['purchased_in_past_1<2_yrs.']==True) & \\\n",
    "                                        (reward_state['one_purchase']==True) &\\\n",
    "             (reward_state['average_amount_<_30']==True)].amount_x).reset_index().iloc[0,1]"
   ]
  },
  {
   "cell_type": "code",
   "execution_count": 253,
   "metadata": {
    "collapsed": true
   },
   "outputs": [],
   "source": [
    "state_four_reward = np.mean(reward_state[(reward_state['purchased_in_past_1<2_yrs.']==True) & \\\n",
    "                                        (reward_state['one_purchase']==True) &\\\n",
    "             (reward_state['average_amount_=>_30']==True)].amount_x).reset_index().iloc[0,1]"
   ]
  },
  {
   "cell_type": "code",
   "execution_count": 261,
   "metadata": {
    "collapsed": true
   },
   "outputs": [],
   "source": [
    "state_five_reward = np.mean(reward_state[(reward_state['purchased_in_past_>=2<4_yrs.']==True) & \\\n",
    "                                        (reward_state['2_or_more_purchases']==True) &\\\n",
    "             (reward_state['average_amount_=>_30']==True)].amount_x).reset_index().iloc[0,1]"
   ]
  },
  {
   "cell_type": "code",
   "execution_count": 262,
   "metadata": {
    "collapsed": true
   },
   "outputs": [],
   "source": [
    "state_six_reward = np.mean(reward_state[(reward_state['purchased_in_past_>=2<4_yrs.']==True) & \\\n",
    "                                        (reward_state['2_or_more_purchases']==True) &\\\n",
    "             (reward_state['average_amount_<_30']==True)].amount_x).reset_index().iloc[0,1]"
   ]
  },
  {
   "cell_type": "code",
   "execution_count": 263,
   "metadata": {
    "collapsed": true
   },
   "outputs": [],
   "source": [
    "state_seven_reward = np.mean(reward_state[(reward_state['purchased_in_past_>=2<4_yrs.']==True) & \\\n",
    "                                        (reward_state['one_purchase']==True) &\\\n",
    "             (reward_state['average_amount_<_30']==True)].amount_x).reset_index().iloc[0,1]"
   ]
  },
  {
   "cell_type": "code",
   "execution_count": 264,
   "metadata": {
    "collapsed": true
   },
   "outputs": [],
   "source": [
    "state_eight_reward = np.mean(reward_state[(reward_state['purchased_in_past_>=2<4_yrs.']==True) & \\\n",
    "                                        (reward_state['one_purchase']==True) &\\\n",
    "             (reward_state['average_amount_=>_30']==True)].amount_x).reset_index().iloc[0,1]"
   ]
  },
  {
   "cell_type": "code",
   "execution_count": 280,
   "metadata": {
    "collapsed": true
   },
   "outputs": [],
   "source": [
    "state_nine_reward = np.mean(reward_state[(reward_state['purchased_in_past_>=4<6_yrs.']==True) & \\\n",
    "                                        (reward_state['2_or_more_purchases']==True) &\\\n",
    "             (reward_state['average_amount_=>_30']==True)].amount_x).reset_index().iloc[0,1]"
   ]
  },
  {
   "cell_type": "code",
   "execution_count": 281,
   "metadata": {
    "collapsed": true
   },
   "outputs": [],
   "source": [
    "state_ten_reward = np.mean(reward_state[(reward_state['purchased_in_past_>=4<6_yrs.']==True) & \\\n",
    "                                        (reward_state['2_or_more_purchases']==True) &\\\n",
    "             (reward_state['average_amount_<_30']==True)].amount_x).reset_index().iloc[0,1]"
   ]
  },
  {
   "cell_type": "code",
   "execution_count": 282,
   "metadata": {
    "collapsed": true
   },
   "outputs": [],
   "source": [
    "state_elleven_reward = np.mean(reward_state[(reward_state['purchased_in_past_>=4<6_yrs.']==True) & \\\n",
    "                                        (reward_state['one_purchase']==True) &\\\n",
    "             (reward_state['average_amount_<_30']==True)].amount_x).reset_index().iloc[0,1]"
   ]
  },
  {
   "cell_type": "code",
   "execution_count": 283,
   "metadata": {
    "collapsed": true
   },
   "outputs": [],
   "source": [
    "state_twelve_reward = np.mean(reward_state[(reward_state['purchased_in_past_>=4<6_yrs.']==True) & \\\n",
    "                                        (reward_state['one_purchase']==True) &\\\n",
    "             (reward_state['average_amount_=>_30']==True)].amount_x).reset_index().iloc[0,1]"
   ]
  },
  {
   "cell_type": "code",
   "execution_count": 285,
   "metadata": {
    "collapsed": true
   },
   "outputs": [],
   "source": [
    "state_thirteen_reward = np.mean(reward_state[(reward_state['purchased_in_past_>=6<8_yrs.']==True) & \\\n",
    "                                        (reward_state['2_or_more_purchases']==True) &\\\n",
    "             (reward_state['average_amount_=>_30']==True)].amount_x).reset_index().iloc[0,1]"
   ]
  },
  {
   "cell_type": "code",
   "execution_count": 286,
   "metadata": {
    "collapsed": true
   },
   "outputs": [],
   "source": [
    "state_fourteen_reward = np.mean(reward_state[(reward_state['purchased_in_past_>=6<8_yrs.']==True) & \\\n",
    "                                        (reward_state['2_or_more_purchases']==True) &\\\n",
    "             (reward_state['average_amount_<_30']==True)].amount_x).reset_index().iloc[0,1]"
   ]
  },
  {
   "cell_type": "code",
   "execution_count": 287,
   "metadata": {
    "collapsed": true
   },
   "outputs": [],
   "source": [
    "state_fifteen_reward = np.mean(reward_state[(reward_state['purchased_in_past_>=6<8_yrs.']==True) & \\\n",
    "                                        (reward_state['one_purchase']==True) &\\\n",
    "             (reward_state['average_amount_<_30']==True)].amount_x).reset_index().iloc[0,1]"
   ]
  },
  {
   "cell_type": "code",
   "execution_count": 288,
   "metadata": {
    "collapsed": true
   },
   "outputs": [],
   "source": [
    "state_sixteen_reward = np.mean(reward_state[(reward_state['purchased_in_past_>=6<8_yrs.']==True) & \\\n",
    "                                        (reward_state['one_purchase']==True) &\\\n",
    "             (reward_state['average_amount_=>_30']==True)].amount_x).reset_index().iloc[0,1]"
   ]
  },
  {
   "cell_type": "code",
   "execution_count": 295,
   "metadata": {
    "collapsed": false
   },
   "outputs": [],
   "source": [
    "## turn these number into a reward vector\n",
    "reward_vector = np.array([state_one_reward,state_two_reward,state_three_reward,state_four_reward,state_five_reward,state_six_reward,\\\n",
    "                state_seven_reward,state_eight_reward,state_nine_reward,state_ten_reward,state_elleven_reward,\\\n",
    "                state_twelve_reward,state_thirteen_reward,state_fourteen_reward,state_fifteen_reward,state_sixteen_reward])"
   ]
  },
  {
   "cell_type": "code",
   "execution_count": 298,
   "metadata": {
    "collapsed": false
   },
   "outputs": [
    {
     "data": {
      "text/plain": [
       "array([ 86.22550042,  21.19739743,  17.50778055,  99.84699164,\n",
       "        82.76301926,  20.76796982,  15.6682243 ,  73.22125   ,\n",
       "        76.70415916,  20.27027027,  15.87978142,  65.23450877,\n",
       "        71.74732394,  20.08346561,  17.33528551,  64.62989247])"
      ]
     },
     "execution_count": 298,
     "metadata": {},
     "output_type": "execute_result"
    }
   ],
   "source": [
    "reward_vector"
   ]
  },
  {
   "cell_type": "code",
   "execution_count": 299,
   "metadata": {
    "collapsed": false
   },
   "outputs": [
    {
     "data": {
      "text/plain": [
       "17.507780548628428"
      ]
     },
     "execution_count": 299,
     "metadata": {},
     "output_type": "execute_result"
    }
   ],
   "source": [
    "state_three_reward"
   ]
  },
  {
   "cell_type": "code",
   "execution_count": null,
   "metadata": {
    "collapsed": true
   },
   "outputs": [],
   "source": []
  },
  {
   "cell_type": "code",
   "execution_count": null,
   "metadata": {
    "collapsed": true
   },
   "outputs": [],
   "source": []
  },
  {
   "cell_type": "code",
   "execution_count": null,
   "metadata": {
    "collapsed": true
   },
   "outputs": [],
   "source": []
  },
  {
   "cell_type": "code",
   "execution_count": null,
   "metadata": {
    "collapsed": true
   },
   "outputs": [],
   "source": []
  },
  {
   "cell_type": "code",
   "execution_count": null,
   "metadata": {
    "collapsed": true
   },
   "outputs": [],
   "source": []
  },
  {
   "cell_type": "code",
   "execution_count": null,
   "metadata": {
    "collapsed": true
   },
   "outputs": [],
   "source": []
  },
  {
   "cell_type": "code",
   "execution_count": null,
   "metadata": {
    "collapsed": true
   },
   "outputs": [],
   "source": []
  },
  {
   "cell_type": "code",
   "execution_count": null,
   "metadata": {
    "collapsed": true
   },
   "outputs": [],
   "source": []
  },
  {
   "cell_type": "code",
   "execution_count": null,
   "metadata": {
    "collapsed": true
   },
   "outputs": [],
   "source": []
  },
  {
   "cell_type": "code",
   "execution_count": null,
   "metadata": {
    "collapsed": true
   },
   "outputs": [],
   "source": []
  },
  {
   "cell_type": "code",
   "execution_count": null,
   "metadata": {
    "collapsed": true
   },
   "outputs": [],
   "source": []
  },
  {
   "cell_type": "markdown",
   "metadata": {},
   "source": [
    "# Find Amount "
   ]
  },
  {
   "cell_type": "code",
   "execution_count": 47,
   "metadata": {
    "collapsed": false
   },
   "outputs": [],
   "source": [
    "amount_df = state_df.groupby('amount').count()['customer_id'].reset_index()"
   ]
  },
  {
   "cell_type": "code",
   "execution_count": 48,
   "metadata": {
    "collapsed": false
   },
   "outputs": [],
   "source": [
    "total_transactions = sum(state_df.groupby('amount').count()['customer_id'].reset_index()['customer_id'])"
   ]
  },
  {
   "cell_type": "code",
   "execution_count": 49,
   "metadata": {
    "collapsed": false
   },
   "outputs": [],
   "source": [
    "amount_df['relative_percent']=state_df.groupby('amount').count()['customer_id'].reset_index().customer_id/ total_transactions"
   ]
  },
  {
   "cell_type": "code",
   "execution_count": 50,
   "metadata": {
    "collapsed": false
   },
   "outputs": [],
   "source": [
    "amount_df['cumulative_percent']=amount_df.relative_percent.cumsum()"
   ]
  },
  {
   "cell_type": "code",
   "execution_count": 51,
   "metadata": {
    "collapsed": false
   },
   "outputs": [],
   "source": [
    "amount_df['total_purchases'] = amount_df['customer_id']"
   ]
  },
  {
   "cell_type": "code",
   "execution_count": 52,
   "metadata": {
    "collapsed": false
   },
   "outputs": [
    {
     "data": {
      "text/plain": [
       "<matplotlib.axes._subplots.AxesSubplot at 0x11f9884e0>"
      ]
     },
     "execution_count": 52,
     "metadata": {},
     "output_type": "execute_result"
    },
    {
     "data": {
      "image/png": "[encoded data removed]",
      "text/plain": [
       "<matplotlib.figure.Figure at 0x11e9434a8>"
      ]
     },
     "metadata": {},
     "output_type": "display_data"
    }
   ],
   "source": [
    "plt.figure(figsize=(23,7))\n",
    "sns.barplot(x=amount_df.amount[amount_df.amount<30],y=amount_df.cumulative_percent)\n"
   ]
  },
  {
   "cell_type": "code",
   "execution_count": 89,
   "metadata": {
    "collapsed": false
   },
   "outputs": [
    {
     "data": {
      "text/plain": [
       "<matplotlib.axes._subplots.AxesSubplot at 0x117cd3c50>"
      ]
     },
     "execution_count": 89,
     "metadata": {},
     "output_type": "execute_result"
    },
    {
     "data": {
      "image/png": "[encoded data removed]",
      "text/plain": [
       "<matplotlib.figure.Figure at 0x115350150>"
      ]
     },
     "metadata": {},
     "output_type": "display_data"
    }
   ],
   "source": [
    "plt.figure(figsize=(23,7))\n",
    "sns.barplot(x=amount_df.amount[amount_df.amount<80],y=amount_df.cumulative_percent)\n"
   ]
  },
  {
   "cell_type": "code",
   "execution_count": 91,
   "metadata": {
    "collapsed": false
   },
   "outputs": [
    {
     "data": {
      "text/plain": [
       "<matplotlib.axes._subplots.AxesSubplot at 0x11949a650>"
      ]
     },
     "execution_count": 91,
     "metadata": {},
     "output_type": "execute_result"
    },
    {
     "data": {
      "image/png": "[encoded data removed]",
      "text/plain": [
       "<matplotlib.figure.Figure at 0x1186ad3d0>"
      ]
     },
     "metadata": {},
     "output_type": "display_data"
    }
   ],
   "source": [
    "plt.figure(figsize=(23,7))\n",
    "sns.barplot(x=amount_df.amount,y=amount_df.cumulative_percent)\n"
   ]
  },
  {
   "cell_type": "code",
   "execution_count": 58,
   "metadata": {
    "collapsed": false
   },
   "outputs": [
    {
     "data": {
      "text/plain": [
       "<matplotlib.text.Text at 0x121f84898>"
      ]
     },
     "execution_count": 58,
     "metadata": {},
     "output_type": "execute_result"
    },
    {
     "data": {
      "image/png": "[encoded data removed]",
      "text/plain": [
       "<matplotlib.figure.Figure at 0x121f4f438>"
      ]
     },
     "metadata": {},
     "output_type": "display_data"
    }
   ],
   "source": [
    "plt.figure(figsize=(14,7))\n",
    "total = sns.barplot(x=amount_df.amount[amount_df.amount<80],y=amount_df.total_purchases)\n",
    "for item in total.get_xticklabels():\n",
    "    item.set_rotation(90)\n",
    "\n",
    "plt.title('Most Frequent Purchase Amount')"
   ]
  },
  {
   "cell_type": "markdown",
   "metadata": {},
   "source": [
    "#### most popular amount is \\$30. We will segment into two cohorts: <\\$30 and >\\$30"
   ]
  },
  {
   "cell_type": "markdown",
   "metadata": {},
   "source": [
    "# Frequency"
   ]
  },
  {
   "cell_type": "code",
   "execution_count": 60,
   "metadata": {
    "collapsed": true
   },
   "outputs": [],
   "source": [
    "frequency_df = state_df.groupby('customer_id').count().reset_index()"
   ]
  },
  {
   "cell_type": "code",
   "execution_count": 61,
   "metadata": {
    "collapsed": false
   },
   "outputs": [
    {
     "data": {
      "text/html": [
       "<div>\n",
       "<table border=\"1\" class=\"dataframe\">\n",
       "  <thead>\n",
       "    <tr style=\"text-align: right;\">\n",
       "      <th></th>\n",
       "      <th>customer_id</th>\n",
       "      <th>amount</th>\n",
       "      <th>date</th>\n",
       "      <th>month</th>\n",
       "      <th>year</th>\n",
       "      <th>days_since_purchase</th>\n",
       "      <th>months_since_purchase</th>\n",
       "      <th>years_since_purchase</th>\n",
       "      <th>state_one</th>\n",
       "      <th>state_two</th>\n",
       "      <th>state_three</th>\n",
       "    </tr>\n",
       "  </thead>\n",
       "  <tbody>\n",
       "    <tr>\n",
       "      <th>0</th>\n",
       "      <td>80</td>\n",
       "      <td>6</td>\n",
       "      <td>6</td>\n",
       "      <td>6</td>\n",
       "      <td>6</td>\n",
       "      <td>6</td>\n",
       "      <td>6</td>\n",
       "      <td>6</td>\n",
       "      <td>6</td>\n",
       "      <td>6</td>\n",
       "      <td>6</td>\n",
       "    </tr>\n",
       "    <tr>\n",
       "      <th>1</th>\n",
       "      <td>90</td>\n",
       "      <td>8</td>\n",
       "      <td>8</td>\n",
       "      <td>8</td>\n",
       "      <td>8</td>\n",
       "      <td>8</td>\n",
       "      <td>8</td>\n",
       "      <td>8</td>\n",
       "      <td>8</td>\n",
       "      <td>8</td>\n",
       "      <td>8</td>\n",
       "    </tr>\n",
       "    <tr>\n",
       "      <th>2</th>\n",
       "      <td>120</td>\n",
       "      <td>1</td>\n",
       "      <td>1</td>\n",
       "      <td>1</td>\n",
       "      <td>1</td>\n",
       "      <td>1</td>\n",
       "      <td>1</td>\n",
       "      <td>1</td>\n",
       "      <td>1</td>\n",
       "      <td>1</td>\n",
       "      <td>1</td>\n",
       "    </tr>\n",
       "    <tr>\n",
       "      <th>3</th>\n",
       "      <td>130</td>\n",
       "      <td>1</td>\n",
       "      <td>1</td>\n",
       "      <td>1</td>\n",
       "      <td>1</td>\n",
       "      <td>1</td>\n",
       "      <td>1</td>\n",
       "      <td>1</td>\n",
       "      <td>1</td>\n",
       "      <td>1</td>\n",
       "      <td>1</td>\n",
       "    </tr>\n",
       "    <tr>\n",
       "      <th>4</th>\n",
       "      <td>160</td>\n",
       "      <td>1</td>\n",
       "      <td>1</td>\n",
       "      <td>1</td>\n",
       "      <td>1</td>\n",
       "      <td>1</td>\n",
       "      <td>1</td>\n",
       "      <td>1</td>\n",
       "      <td>1</td>\n",
       "      <td>1</td>\n",
       "      <td>1</td>\n",
       "    </tr>\n",
       "  </tbody>\n",
       "</table>\n",
       "</div>"
      ],
      "text/plain": [
       "   customer_id  amount  date  month  year  days_since_purchase  \\\n",
       "0           80       6     6      6     6                    6   \n",
       "1           90       8     8      8     8                    8   \n",
       "2          120       1     1      1     1                    1   \n",
       "3          130       1     1      1     1                    1   \n",
       "4          160       1     1      1     1                    1   \n",
       "\n",
       "   months_since_purchase  years_since_purchase  state_one  state_two  \\\n",
       "0                      6                     6          6          6   \n",
       "1                      8                     8          8          8   \n",
       "2                      1                     1          1          1   \n",
       "3                      1                     1          1          1   \n",
       "4                      1                     1          1          1   \n",
       "\n",
       "   state_three  \n",
       "0            6  \n",
       "1            8  \n",
       "2            1  \n",
       "3            1  \n",
       "4            1  "
      ]
     },
     "execution_count": 61,
     "metadata": {},
     "output_type": "execute_result"
    }
   ],
   "source": [
    "frequency_df.head()"
   ]
  },
  {
   "cell_type": "code",
   "execution_count": 62,
   "metadata": {
    "collapsed": false
   },
   "outputs": [
    {
     "data": {
      "text/plain": [
       "<matplotlib.axes._subplots.AxesSubplot at 0x1224bb978>"
      ]
     },
     "execution_count": 62,
     "metadata": {},
     "output_type": "execute_result"
    },
    {
     "data": {
      "image/png": "[encoded data removed]",
      "text/plain": [
       "<matplotlib.figure.Figure at 0x12216f908>"
      ]
     },
     "metadata": {},
     "output_type": "display_data"
    }
   ],
   "source": [
    "frequency_df.amount.plot(kind=\"kde\")"
   ]
  },
  {
   "cell_type": "code",
   "execution_count": 65,
   "metadata": {
    "collapsed": false
   },
   "outputs": [
    {
     "name": "stderr",
     "output_type": "stream",
     "text": [
      "/Users/laurakirk/anaconda/lib/python3.6/site-packages/statsmodels/nonparametric/kdetools.py:20: VisibleDeprecationWarning: using a non-integer number instead of an integer will result in an error in the future\n",
      "  y = X[:m/2+1] + np.r_[0,X[m/2+1:],0]*1j\n"
     ]
    },
    {
     "data": {
      "text/plain": [
       "<matplotlib.text.Text at 0x11ced9fd0>"
      ]
     },
     "execution_count": 65,
     "metadata": {},
     "output_type": "execute_result"
    },
    {
     "data": {
      "image/png": "[encoded data removed]",
      "text/plain": [
       "<matplotlib.figure.Figure at 0x11cf8e4a8>"
      ]
     },
     "metadata": {},
     "output_type": "display_data"
    }
   ],
   "source": [
    "plt.figure(figsize=(14,7))\n",
    "freq = sns.distplot(frequency_df.amount[frequency_df.amount<15])\n",
    "for item in freq.get_xticklabels():\n",
    "    item.set_rotation(90)\n",
    "\n",
    "plt.title('Number of Purchases per Customer ')\n",
    "plt.xlabel('Num. Purchases')"
   ]
  },
  {
   "cell_type": "markdown",
   "metadata": {},
   "source": [
    "#### most popular frequency is 1 purchase. We will segment into two cohorts: < 1 and > 1 purchase"
   ]
  },
  {
   "cell_type": "markdown",
   "metadata": {},
   "source": [
    "# Recency Matrix "
   ]
  },
  {
   "cell_type": "code",
   "execution_count": 18,
   "metadata": {
    "collapsed": false
   },
   "outputs": [],
   "source": [
    "recency_df = state_df.ix[state_df.groupby('customer_id').date.idxmax(), :]\n",
    "recency_df.days_since_purchase = recency_df.days_since_purchase.apply(lambda x:x.days)"
   ]
  },
  {
   "cell_type": "code",
   "execution_count": 19,
   "metadata": {
    "collapsed": false
   },
   "outputs": [
    {
     "data": {
      "text/plain": [
       "<matplotlib.text.Text at 0x1188bd828>"
      ]
     },
     "execution_count": 19,
     "metadata": {},
     "output_type": "execute_result"
    },
    {
     "data": {
      "image/png": "[encoded data removed]",
      "text/plain": [
       "<matplotlib.figure.Figure at 0x11571b2e8>"
      ]
     },
     "metadata": {},
     "output_type": "display_data"
    }
   ],
   "source": [
    "recency_df.months_since_purchase.plot(kind='kde')\n",
    "plt.xlabel('months since last purchase')"
   ]
  },
  {
   "cell_type": "code",
   "execution_count": 21,
   "metadata": {
    "collapsed": false
   },
   "outputs": [
    {
     "data": {
      "text/plain": [
       "<matplotlib.text.Text at 0x118ffb780>"
      ]
     },
     "execution_count": 21,
     "metadata": {},
     "output_type": "execute_result"
    },
    {
     "data": {
      "image/png": "[encoded data removed]",
      "text/plain": [
       "<matplotlib.figure.Figure at 0x119756d30>"
      ]
     },
     "metadata": {},
     "output_type": "display_data"
    }
   ],
   "source": [
    "plt.figure(figsize=(10,5))\n",
    "recency_df.months_since_purchase[recency_df.months_since_purchase<18].plot(kind='kde',xlim=[0,18])\n",
    "plt.xlabel('months since last purchase')\n",
    "plt.title('Frequency of purchases')"
   ]
  },
  {
   "cell_type": "code",
   "execution_count": 167,
   "metadata": {
    "collapsed": false
   },
   "outputs": [
    {
     "data": {
      "text/plain": [
       "<matplotlib.axes._subplots.AxesSubplot at 0x126332150>"
      ]
     },
     "execution_count": 167,
     "metadata": {},
     "output_type": "execute_result"
    },
    {
     "data": {
      "image/png": "[encoded data removed]",
      "text/plain": [
       "<matplotlib.figure.Figure at 0x1263320d0>"
      ]
     },
     "metadata": {},
     "output_type": "display_data"
    }
   ],
   "source": [
    "plt.figure(figsize=(23,7))\n",
    "recency_plot = sns.distplot(recency_df.days_since_purchase)\n",
    "for item in recency_plot.get_xticklabels():\n",
    "    item.set_rotation(90)\n",
    "\n",
    "recency_plot"
   ]
  },
  {
   "cell_type": "code",
   "execution_count": 172,
   "metadata": {
    "collapsed": false
   },
   "outputs": [
    {
     "data": {
      "text/plain": [
       "<matplotlib.axes._subplots.AxesSubplot at 0x11fe3df50>"
      ]
     },
     "execution_count": 172,
     "metadata": {},
     "output_type": "execute_result"
    },
    {
     "data": {
      "image/png": "[encoded data removed]",
      "text/plain": [
       "<matplotlib.figure.Figure at 0x11fe7c390>"
      ]
     },
     "metadata": {},
     "output_type": "display_data"
    }
   ],
   "source": [
    "plt.figure(figsize=(23,7))\n",
    "recency_plot = sns.distplot(recency_df.days_since_purchase[recency_df.days_since_purchase<360])\n",
    "for item in recency_plot.get_xticklabels():\n",
    "    item.set_rotation(90)\n",
    "\n",
    "recency_plot"
   ]
  },
  {
   "cell_type": "code",
   "execution_count": 45,
   "metadata": {
    "collapsed": false
   },
   "outputs": [
    {
     "name": "stderr",
     "output_type": "stream",
     "text": [
      "/Users/laurakirk/anaconda/lib/python3.6/site-packages/statsmodels/nonparametric/kdetools.py:20: VisibleDeprecationWarning: using a non-integer number instead of an integer will result in an error in the future\n",
      "  y = X[:m/2+1] + np.r_[0,X[m/2+1:],0]*1j\n"
     ]
    },
    {
     "data": {
      "text/plain": [
       "<matplotlib.axes._subplots.AxesSubplot at 0x11f5e28d0>"
      ]
     },
     "execution_count": 45,
     "metadata": {},
     "output_type": "execute_result"
    },
    {
     "data": {
      "image/png": "[encoded data removed]",
      "text/plain": [
       "<matplotlib.figure.Figure at 0x11f923da0>"
      ]
     },
     "metadata": {},
     "output_type": "display_data"
    }
   ],
   "source": [
    "plt.figure(figsize=(15,7))\n",
    "sns.distplot(recency_df.days_since_purchase[recency_df.days_since_purchase<100])\n",
    "plt.title('')\n",
    "#plt.xticks([i for i in range(100)], fontsize = 10)\n",
    "\n",
    "# for item in recency_plot.get_xticklabels():=3\n",
    "#     item.set_rotation(90)\n",
    "\n"
   ]
  },
  {
   "cell_type": "markdown",
   "metadata": {},
   "source": [
    "### Using days is too noisy, therefore let us use 12 months as the state segmentation"
   ]
  },
  {
   "cell_type": "markdown",
   "metadata": {},
   "source": [
    "# Transition Matrix\n",
    "- Start with recency"
   ]
  },
  {
   "cell_type": "code",
   "execution_count": 230,
   "metadata": {
    "collapsed": false
   },
   "outputs": [
    {
     "data": {
      "text/plain": [
       "1958"
      ]
     },
     "execution_count": 230,
     "metadata": {},
     "output_type": "execute_result"
    }
   ],
   "source": [
    "recency_df[(recency_df.months_since_purchase>12) & (recency_df.months_since_purchase<=24)]['customer_id'].count()"
   ]
  },
  {
   "cell_type": "code",
   "execution_count": 240,
   "metadata": {
    "collapsed": false
   },
   "outputs": [],
   "source": [
    "# people who have purchase in last year\n",
    "people_purchase_this_year = recency_df[recency_df.months_since_purchase<=12]['customer_id'].count()\n",
    "people_purchase_year_two = recency_df[(recency_df.months_since_purchase>12) & (recency_df.months_since_purchase<=24)]['customer_id'].count()\n",
    "people_purchase_year_three = recency_df[(recency_df.months_since_purchase>24) & (recency_df.months_since_purchase<=36)]['customer_id'].count()\n",
    "people_purchase_year_four = recency_df[(recency_df.months_since_purchase>36) & (recency_df.months_since_purchase<=48)]['customer_id'].count()\n",
    "people_purchase_year_five = recency_df[(recency_df.months_since_purchase>48) & (recency_df.months_since_purchase<=60)]['customer_id'].count()\n",
    "people_purchase_year_six = recency_df[(recency_df.months_since_purchase>60) & (recency_df.months_since_purchase<=72)]['customer_id'].count()\n",
    "people_purchase_year_seven = recency_df[(recency_df.months_since_purchase>72) & (recency_df.months_since_purchase<=84)]['customer_id'].count()\n",
    "people_purchase_year_eight = recency_df[(recency_df.months_since_purchase>84) & (recency_df.months_since_purchase<=96)]['customer_id'].count()\n",
    "people_purchase_year_nine = recency_df[(recency_df.months_since_purchase>96) & (recency_df.months_since_purchase<=108)]['customer_id'].count()\n"
   ]
  },
  {
   "cell_type": "code",
   "execution_count": 235,
   "metadata": {
    "collapsed": false
   },
   "outputs": [
    {
     "data": {
      "text/plain": [
       "True"
      ]
     },
     "execution_count": 235,
     "metadata": {},
     "output_type": "execute_result"
    }
   ],
   "source": [
    "## make sure we are not missing any customers\n",
    "len(state_df.customer_id.unique()) == total_customers "
   ]
  },
  {
   "cell_type": "code",
   "execution_count": 215,
   "metadata": {
    "collapsed": false
   },
   "outputs": [],
   "source": [
    "total_customers = recency_df.customer_id.count()"
   ]
  },
  {
   "cell_type": "code",
   "execution_count": 245,
   "metadata": {
    "collapsed": false
   },
   "outputs": [],
   "source": [
    "state_probs = [float(people_purchase_this_year*1.0 / total_customers),\n",
    "               float(people_purchase_year_two*1.0 / total_customers),\n",
    "               float(people_purchase_year_three*1.0 / total_customers),\n",
    "               float(people_purchase_year_four*1.0 / total_customers),\n",
    "               float(people_purchase_year_five*1.0 / total_customers),\n",
    "               float(people_purchase_year_six*1.0 / total_customers),\n",
    "               float(people_purchase_year_seven*1.0 / total_customers),\n",
    "               float(people_purchase_year_eight*1.0 / total_customers),\n",
    "               float(people_purchase_year_nine*1.0 / total_customers)]"
   ]
  },
  {
   "cell_type": "code",
   "execution_count": 246,
   "metadata": {
    "collapsed": false
   },
   "outputs": [
    {
     "data": {
      "text/plain": [
       "[0.30464473164399797,\n",
       " 0.1105028500479711,\n",
       " 0.10739883740617416,\n",
       " 0.10897906202381624,\n",
       " 0.0725774592245612,\n",
       " 0.0824538630848242,\n",
       " 0.07477848637056267,\n",
       " 0.06580506800609515,\n",
       " 0.0728596421919973]"
      ]
     },
     "execution_count": 246,
     "metadata": {},
     "output_type": "execute_result"
    }
   ],
   "source": [
    "state_probs"
   ]
  },
  {
   "cell_type": "code",
   "execution_count": 251,
   "metadata": {
    "collapsed": false
   },
   "outputs": [],
   "source": [
    "trans_matrix = pd.DataFrame(state_probs, columns=[\"state_one\"])"
   ]
  },
  {
   "cell_type": "code",
   "execution_count": 252,
   "metadata": {
    "collapsed": false
   },
   "outputs": [
    {
     "data": {
      "text/html": [
       "<div>\n",
       "<table border=\"1\" class=\"dataframe\">\n",
       "  <thead>\n",
       "    <tr style=\"text-align: right;\">\n",
       "      <th></th>\n",
       "      <th>state_one</th>\n",
       "    </tr>\n",
       "  </thead>\n",
       "  <tbody>\n",
       "    <tr>\n",
       "      <th>0</th>\n",
       "      <td>0.304645</td>\n",
       "    </tr>\n",
       "    <tr>\n",
       "      <th>1</th>\n",
       "      <td>0.110503</td>\n",
       "    </tr>\n",
       "    <tr>\n",
       "      <th>2</th>\n",
       "      <td>0.107399</td>\n",
       "    </tr>\n",
       "    <tr>\n",
       "      <th>3</th>\n",
       "      <td>0.108979</td>\n",
       "    </tr>\n",
       "    <tr>\n",
       "      <th>4</th>\n",
       "      <td>0.072577</td>\n",
       "    </tr>\n",
       "    <tr>\n",
       "      <th>5</th>\n",
       "      <td>0.082454</td>\n",
       "    </tr>\n",
       "    <tr>\n",
       "      <th>6</th>\n",
       "      <td>0.074778</td>\n",
       "    </tr>\n",
       "    <tr>\n",
       "      <th>7</th>\n",
       "      <td>0.065805</td>\n",
       "    </tr>\n",
       "    <tr>\n",
       "      <th>8</th>\n",
       "      <td>0.072860</td>\n",
       "    </tr>\n",
       "  </tbody>\n",
       "</table>\n",
       "</div>"
      ],
      "text/plain": [
       "   state_one\n",
       "0   0.304645\n",
       "1   0.110503\n",
       "2   0.107399\n",
       "3   0.108979\n",
       "4   0.072577\n",
       "5   0.082454\n",
       "6   0.074778\n",
       "7   0.065805\n",
       "8   0.072860"
      ]
     },
     "execution_count": 252,
     "metadata": {},
     "output_type": "execute_result"
    }
   ],
   "source": [
    "trans_matrix['state_two'] = "
   ]
  },
  {
   "cell_type": "code",
   "execution_count": null,
   "metadata": {
    "collapsed": true
   },
   "outputs": [],
   "source": []
  }
 ],
 "metadata": {
  "anaconda-cloud": {},
  "kernelspec": {
   "display_name": "Python [default]",
   "language": "python",
   "name": "python3"
  },
  "language_info": {
   "codemirror_mode": {
    "name": "ipython",
    "version": 3
   },
   "file_extension": ".py",
   "mimetype": "text/x-python",
   "name": "python",
   "nbconvert_exporter": "python",
   "pygments_lexer": "ipython3",
   "version": "3.5.2"
  }
 },
 "nbformat": 4,
 "nbformat_minor": 1
}
