{
 "cells": [
  {
   "cell_type": "markdown",
   "metadata": {},
   "source": [
    "# Tahoe Healthcare\n",
    "- The goal of this case is exploratory data analysis to understand what factors are the biggest indicator or readmissions. This way, instead of rolling out 'Care Tracker' to every patient ( which costs `$1,200` per patient), only the groups of patients most at risk of being re-admitted will be enrolled into the Care Tracker program.\n",
    "- The first section will be some basic exploratory data analysis to understand the makeup of the patient data.\n",
    "- The second section will look into clustering from both a manegerial and statistical perspective.\n",
    "- The third second will work on fitting different supervised marchine learning regression models (based on RMSE) to predict readmission.\n",
    "- The fourth section will outline the most important variables to predict readmission, as well as recommendations to Tahoe Healthcare."
   ]
  },
  {
   "cell_type": "markdown",
   "metadata": {},
   "source": [
    "## Exploratory data analysis"
   ]
  },
  {
   "cell_type": "code",
   "execution_count": 80,
   "metadata": {
    "collapsed": false
   },
   "outputs": [
    {
     "name": "stdout",
     "output_type": "stream",
     "text": [
      "Populating the interactive namespace from numpy and matplotlib\n"
     ]
    },
    {
     "name": "stderr",
     "output_type": "stream",
     "text": [
      "/Users/jonathanhilgart/anaconda/lib/python3.5/site-packages/IPython/core/magics/pylab.py:161: UserWarning: pylab import has clobbered these variables: ['product']\n",
      "`%matplotlib` prevents importing * from pylab and numpy\n",
      "  \"\\n`%matplotlib` prevents importing * from pylab and numpy\"\n"
     ]
    }
   ],
   "source": [
    "import pandas as pd\n",
    "import numpy as np\n",
    "import seaborn as sns\n",
    "from itertools import product\n",
    "from collections import defaultdict\n",
    "from sklearn.cluster import KMeans\n",
    "from sklearn.metrics import silhouette_score\n",
    "from sklearn.ensemble import RandomForestClassifier\n",
    "from model_testing import Model_Testing_Regression\n",
    "from scipy.spatial.distance import euclidean\n",
    "from sklearn.metrics import r2_score\n",
    "from sklearn.linear_model import LogisticRegression\n",
    "from sklearn.model_selection import train_test_split\n",
    "from sklearn.metrics import accuracy_score\n",
    "from sklearn.metrics import roc_curve, auc\n",
    "from  sklearn.ensemble import GradientBoostingClassifier\n",
    "from sklearn.svm import SVC\n",
    "from sklearn.model_selection import GridSearchCV\n",
    "%pylab inline"
   ]
  },
  {
   "cell_type": "code",
   "execution_count": 3,
   "metadata": {
    "collapsed": true
   },
   "outputs": [],
   "source": [
    "tahoe_df = pd.read_csv('Final Project Data_Case.csv')\n"
   ]
  },
  {
   "cell_type": "code",
   "execution_count": 4,
   "metadata": {
    "collapsed": false
   },
   "outputs": [
    {
     "data": {
      "text/html": [
       "<div>\n",
       "<table border=\"1\" class=\"dataframe\">\n",
       "  <thead>\n",
       "    <tr style=\"text-align: right;\">\n",
       "      <th></th>\n",
       "      <th>﻿age</th>\n",
       "      <th>female</th>\n",
       "      <th>flu_season</th>\n",
       "      <th>ed_admit</th>\n",
       "      <th>severity score</th>\n",
       "      <th>comorbidity score</th>\n",
       "      <th>readmit30</th>\n",
       "    </tr>\n",
       "  </thead>\n",
       "  <tbody>\n",
       "    <tr>\n",
       "      <th>4377</th>\n",
       "      <td>88</td>\n",
       "      <td>1</td>\n",
       "      <td>0</td>\n",
       "      <td>1</td>\n",
       "      <td>34</td>\n",
       "      <td>94</td>\n",
       "      <td>0</td>\n",
       "    </tr>\n",
       "    <tr>\n",
       "      <th>4378</th>\n",
       "      <td>98</td>\n",
       "      <td>0</td>\n",
       "      <td>0</td>\n",
       "      <td>1</td>\n",
       "      <td>51</td>\n",
       "      <td>136</td>\n",
       "      <td>0</td>\n",
       "    </tr>\n",
       "    <tr>\n",
       "      <th>4379</th>\n",
       "      <td>84</td>\n",
       "      <td>1</td>\n",
       "      <td>0</td>\n",
       "      <td>1</td>\n",
       "      <td>10</td>\n",
       "      <td>32</td>\n",
       "      <td>0</td>\n",
       "    </tr>\n",
       "    <tr>\n",
       "      <th>4380</th>\n",
       "      <td>67</td>\n",
       "      <td>1</td>\n",
       "      <td>1</td>\n",
       "      <td>1</td>\n",
       "      <td>10</td>\n",
       "      <td>73</td>\n",
       "      <td>0</td>\n",
       "    </tr>\n",
       "    <tr>\n",
       "      <th>4381</th>\n",
       "      <td>79</td>\n",
       "      <td>1</td>\n",
       "      <td>0</td>\n",
       "      <td>1</td>\n",
       "      <td>20</td>\n",
       "      <td>92</td>\n",
       "      <td>0</td>\n",
       "    </tr>\n",
       "  </tbody>\n",
       "</table>\n",
       "</div>"
      ],
      "text/plain": [
       "      ﻿age  female  flu_season  ed_admit  severity score  comorbidity score  \\\n",
       "4377    88       1           0         1              34                 94   \n",
       "4378    98       0           0         1              51                136   \n",
       "4379    84       1           0         1              10                 32   \n",
       "4380    67       1           1         1              10                 73   \n",
       "4381    79       1           0         1              20                 92   \n",
       "\n",
       "      readmit30  \n",
       "4377          0  \n",
       "4378          0  \n",
       "4379          0  \n",
       "4380          0  \n",
       "4381          0  "
      ]
     },
     "execution_count": 4,
     "metadata": {},
     "output_type": "execute_result"
    }
   ],
   "source": [
    "tahoe_df.tail()"
   ]
  },
  {
   "cell_type": "markdown",
   "metadata": {},
   "source": [
    "- Rename the columns to make them easier to work with\n"
   ]
  },
  {
   "cell_type": "code",
   "execution_count": 5,
   "metadata": {
    "collapsed": false
   },
   "outputs": [],
   "source": [
    "tahoe_df['age']=tahoe_df['﻿age']\n",
    "tahoe_df['severity_score']=tahoe_df['severity score']\n",
    "tahoe_df['comorbidity_score'] = tahoe_df['comorbidity score']\n",
    "tahoe_df.drop(['﻿age','severity score','comorbidity score'],axis=1,inplace=True)"
   ]
  },
  {
   "cell_type": "code",
   "execution_count": 6,
   "metadata": {
    "collapsed": false
   },
   "outputs": [
    {
     "name": "stdout",
     "output_type": "stream",
     "text": [
      "<class 'pandas.core.frame.DataFrame'>\n",
      "RangeIndex: 4382 entries, 0 to 4381\n",
      "Data columns (total 7 columns):\n",
      "female               4382 non-null int64\n",
      "flu_season           4382 non-null int64\n",
      "ed_admit             4382 non-null int64\n",
      "readmit30            4382 non-null int64\n",
      "age                  4382 non-null int64\n",
      "severity_score       4382 non-null int64\n",
      "comorbidity_score    4382 non-null int64\n",
      "dtypes: int64(7)\n",
      "memory usage: 239.7 KB\n"
     ]
    }
   ],
   "source": [
    "tahoe_df.info()"
   ]
  },
  {
   "cell_type": "code",
   "execution_count": 7,
   "metadata": {
    "collapsed": true
   },
   "outputs": [],
   "source": [
    "# 4,382 patient records"
   ]
  },
  {
   "cell_type": "code",
   "execution_count": 8,
   "metadata": {
    "collapsed": false
   },
   "outputs": [
    {
     "data": {
      "text/html": [
       "<div>\n",
       "<table border=\"1\" class=\"dataframe\">\n",
       "  <thead>\n",
       "    <tr style=\"text-align: right;\">\n",
       "      <th></th>\n",
       "      <th>female</th>\n",
       "      <th>flu_season</th>\n",
       "      <th>ed_admit</th>\n",
       "      <th>readmit30</th>\n",
       "      <th>age</th>\n",
       "      <th>severity_score</th>\n",
       "      <th>comorbidity_score</th>\n",
       "    </tr>\n",
       "  </thead>\n",
       "  <tbody>\n",
       "    <tr>\n",
       "      <th>count</th>\n",
       "      <td>4382.000000</td>\n",
       "      <td>4382.000000</td>\n",
       "      <td>4382.000000</td>\n",
       "      <td>4382.000000</td>\n",
       "      <td>4382.000000</td>\n",
       "      <td>4382.000000</td>\n",
       "      <td>4382.000000</td>\n",
       "    </tr>\n",
       "    <tr>\n",
       "      <th>mean</th>\n",
       "      <td>0.469192</td>\n",
       "      <td>0.408033</td>\n",
       "      <td>0.809220</td>\n",
       "      <td>0.227750</td>\n",
       "      <td>76.847330</td>\n",
       "      <td>22.353263</td>\n",
       "      <td>94.735509</td>\n",
       "    </tr>\n",
       "    <tr>\n",
       "      <th>std</th>\n",
       "      <td>0.499107</td>\n",
       "      <td>0.491525</td>\n",
       "      <td>0.392961</td>\n",
       "      <td>0.419428</td>\n",
       "      <td>7.904949</td>\n",
       "      <td>18.005320</td>\n",
       "      <td>57.145155</td>\n",
       "    </tr>\n",
       "    <tr>\n",
       "      <th>min</th>\n",
       "      <td>0.000000</td>\n",
       "      <td>0.000000</td>\n",
       "      <td>0.000000</td>\n",
       "      <td>0.000000</td>\n",
       "      <td>65.000000</td>\n",
       "      <td>1.000000</td>\n",
       "      <td>1.000000</td>\n",
       "    </tr>\n",
       "    <tr>\n",
       "      <th>25%</th>\n",
       "      <td>0.000000</td>\n",
       "      <td>0.000000</td>\n",
       "      <td>1.000000</td>\n",
       "      <td>0.000000</td>\n",
       "      <td>70.000000</td>\n",
       "      <td>8.000000</td>\n",
       "      <td>51.000000</td>\n",
       "    </tr>\n",
       "    <tr>\n",
       "      <th>50%</th>\n",
       "      <td>0.000000</td>\n",
       "      <td>0.000000</td>\n",
       "      <td>1.000000</td>\n",
       "      <td>0.000000</td>\n",
       "      <td>76.000000</td>\n",
       "      <td>19.000000</td>\n",
       "      <td>86.000000</td>\n",
       "    </tr>\n",
       "    <tr>\n",
       "      <th>75%</th>\n",
       "      <td>1.000000</td>\n",
       "      <td>1.000000</td>\n",
       "      <td>1.000000</td>\n",
       "      <td>0.000000</td>\n",
       "      <td>82.000000</td>\n",
       "      <td>32.000000</td>\n",
       "      <td>131.000000</td>\n",
       "    </tr>\n",
       "    <tr>\n",
       "      <th>max</th>\n",
       "      <td>1.000000</td>\n",
       "      <td>1.000000</td>\n",
       "      <td>1.000000</td>\n",
       "      <td>1.000000</td>\n",
       "      <td>105.000000</td>\n",
       "      <td>112.000000</td>\n",
       "      <td>322.000000</td>\n",
       "    </tr>\n",
       "  </tbody>\n",
       "</table>\n",
       "</div>"
      ],
      "text/plain": [
       "            female   flu_season     ed_admit    readmit30          age  \\\n",
       "count  4382.000000  4382.000000  4382.000000  4382.000000  4382.000000   \n",
       "mean      0.469192     0.408033     0.809220     0.227750    76.847330   \n",
       "std       0.499107     0.491525     0.392961     0.419428     7.904949   \n",
       "min       0.000000     0.000000     0.000000     0.000000    65.000000   \n",
       "25%       0.000000     0.000000     1.000000     0.000000    70.000000   \n",
       "50%       0.000000     0.000000     1.000000     0.000000    76.000000   \n",
       "75%       1.000000     1.000000     1.000000     0.000000    82.000000   \n",
       "max       1.000000     1.000000     1.000000     1.000000   105.000000   \n",
       "\n",
       "       severity_score  comorbidity_score  \n",
       "count     4382.000000        4382.000000  \n",
       "mean        22.353263          94.735509  \n",
       "std         18.005320          57.145155  \n",
       "min          1.000000           1.000000  \n",
       "25%          8.000000          51.000000  \n",
       "50%         19.000000          86.000000  \n",
       "75%         32.000000         131.000000  \n",
       "max        112.000000         322.000000  "
      ]
     },
     "execution_count": 8,
     "metadata": {},
     "output_type": "execute_result"
    }
   ],
   "source": [
    "tahoe_df.describe()"
   ]
  },
  {
   "cell_type": "markdown",
   "metadata": {},
   "source": [
    "- Age varies from 65 to 105\n",
    "- Slightly more males\n",
    "- More admits outside of flue season, \n",
    "- Majority are emergency room admits\n",
    "- Most admits have fairly high severity score and comordibity score\n",
    "- About 23% readmit after 30 days"
   ]
  },
  {
   "cell_type": "code",
   "execution_count": 9,
   "metadata": {
    "collapsed": false
   },
   "outputs": [
    {
     "data": {
      "text/html": [
       "<div>\n",
       "<table border=\"1\" class=\"dataframe\">\n",
       "  <thead>\n",
       "    <tr style=\"text-align: right;\">\n",
       "      <th></th>\n",
       "      <th>female</th>\n",
       "      <th>flu_season</th>\n",
       "      <th>ed_admit</th>\n",
       "      <th>readmit30</th>\n",
       "      <th>age</th>\n",
       "      <th>severity_score</th>\n",
       "      <th>comorbidity_score</th>\n",
       "    </tr>\n",
       "  </thead>\n",
       "  <tbody>\n",
       "    <tr>\n",
       "      <th>female</th>\n",
       "      <td>1.000000</td>\n",
       "      <td>0.014966</td>\n",
       "      <td>0.122485</td>\n",
       "      <td>0.042248</td>\n",
       "      <td>0.149257</td>\n",
       "      <td>0.095394</td>\n",
       "      <td>0.005320</td>\n",
       "    </tr>\n",
       "    <tr>\n",
       "      <th>flu_season</th>\n",
       "      <td>0.014966</td>\n",
       "      <td>1.000000</td>\n",
       "      <td>-0.012863</td>\n",
       "      <td>0.121551</td>\n",
       "      <td>-0.011575</td>\n",
       "      <td>0.003079</td>\n",
       "      <td>-0.012914</td>\n",
       "    </tr>\n",
       "    <tr>\n",
       "      <th>ed_admit</th>\n",
       "      <td>0.122485</td>\n",
       "      <td>-0.012863</td>\n",
       "      <td>1.000000</td>\n",
       "      <td>0.054564</td>\n",
       "      <td>0.139642</td>\n",
       "      <td>0.335556</td>\n",
       "      <td>0.030971</td>\n",
       "    </tr>\n",
       "    <tr>\n",
       "      <th>readmit30</th>\n",
       "      <td>0.042248</td>\n",
       "      <td>0.121551</td>\n",
       "      <td>0.054564</td>\n",
       "      <td>1.000000</td>\n",
       "      <td>0.102466</td>\n",
       "      <td>0.250942</td>\n",
       "      <td>0.383048</td>\n",
       "    </tr>\n",
       "    <tr>\n",
       "      <th>age</th>\n",
       "      <td>0.149257</td>\n",
       "      <td>-0.011575</td>\n",
       "      <td>0.139642</td>\n",
       "      <td>0.102466</td>\n",
       "      <td>1.000000</td>\n",
       "      <td>0.281042</td>\n",
       "      <td>0.161160</td>\n",
       "    </tr>\n",
       "    <tr>\n",
       "      <th>severity_score</th>\n",
       "      <td>0.095394</td>\n",
       "      <td>0.003079</td>\n",
       "      <td>0.335556</td>\n",
       "      <td>0.250942</td>\n",
       "      <td>0.281042</td>\n",
       "      <td>1.000000</td>\n",
       "      <td>0.196759</td>\n",
       "    </tr>\n",
       "    <tr>\n",
       "      <th>comorbidity_score</th>\n",
       "      <td>0.005320</td>\n",
       "      <td>-0.012914</td>\n",
       "      <td>0.030971</td>\n",
       "      <td>0.383048</td>\n",
       "      <td>0.161160</td>\n",
       "      <td>0.196759</td>\n",
       "      <td>1.000000</td>\n",
       "    </tr>\n",
       "  </tbody>\n",
       "</table>\n",
       "</div>"
      ],
      "text/plain": [
       "                     female  flu_season  ed_admit  readmit30       age  \\\n",
       "female             1.000000    0.014966  0.122485   0.042248  0.149257   \n",
       "flu_season         0.014966    1.000000 -0.012863   0.121551 -0.011575   \n",
       "ed_admit           0.122485   -0.012863  1.000000   0.054564  0.139642   \n",
       "readmit30          0.042248    0.121551  0.054564   1.000000  0.102466   \n",
       "age                0.149257   -0.011575  0.139642   0.102466  1.000000   \n",
       "severity_score     0.095394    0.003079  0.335556   0.250942  0.281042   \n",
       "comorbidity_score  0.005320   -0.012914  0.030971   0.383048  0.161160   \n",
       "\n",
       "                   severity_score  comorbidity_score  \n",
       "female                   0.095394           0.005320  \n",
       "flu_season               0.003079          -0.012914  \n",
       "ed_admit                 0.335556           0.030971  \n",
       "readmit30                0.250942           0.383048  \n",
       "age                      0.281042           0.161160  \n",
       "severity_score           1.000000           0.196759  \n",
       "comorbidity_score        0.196759           1.000000  "
      ]
     },
     "execution_count": 9,
     "metadata": {},
     "output_type": "execute_result"
    }
   ],
   "source": [
    "tahoe_corr_matrix = tahoe_df.corr()\n",
    "tahoe_corr_matrix"
   ]
  },
  {
   "cell_type": "code",
   "execution_count": 10,
   "metadata": {
    "collapsed": false
   },
   "outputs": [
    {
     "data": {
      "image/png": "[encoded data removed]",
      "text/plain": [
       "<matplotlib.figure.Figure at 0x1163100b8>"
      ]
     },
     "metadata": {},
     "output_type": "display_data"
    }
   ],
   "source": [
    "sns.heatmap(tahoe_corr_matrix);"
   ]
  },
  {
   "cell_type": "markdown",
   "metadata": {},
   "source": [
    "- Interested in correlations with readmit30\n",
    "    - High correlation with comorbidty score, severity score, and to a lesser extend flu season and age\n",
    "- Next, plot the distributions of these variables"
   ]
  },
  {
   "cell_type": "code",
   "execution_count": 11,
   "metadata": {
    "collapsed": false
   },
   "outputs": [
    {
     "name": "stderr",
     "output_type": "stream",
     "text": [
      "/Users/jonathanhilgart/anaconda/lib/python3.5/site-packages/statsmodels/nonparametric/kdetools.py:20: VisibleDeprecationWarning: using a non-integer number instead of an integer will result in an error in the future\n",
      "  y = X[:m/2+1] + np.r_[0,X[m/2+1:],0]*1j\n"
     ]
    },
    {
     "data": {
      "image/png": "[encoded data removed]",
      "text/plain": [
       "<matplotlib.figure.Figure at 0x118e006a0>"
      ]
     },
     "metadata": {},
     "output_type": "display_data"
    }
   ],
   "source": [
    "sns.distplot(tahoe_df.loc[:,'age']);"
   ]
  },
  {
   "cell_type": "code",
   "execution_count": 12,
   "metadata": {
    "collapsed": false
   },
   "outputs": [
    {
     "name": "stderr",
     "output_type": "stream",
     "text": [
      "/Users/jonathanhilgart/anaconda/lib/python3.5/site-packages/statsmodels/nonparametric/kdetools.py:20: VisibleDeprecationWarning: using a non-integer number instead of an integer will result in an error in the future\n",
      "  y = X[:m/2+1] + np.r_[0,X[m/2+1:],0]*1j\n"
     ]
    },
    {
     "data": {
      "image/png": "[encoded data removed]",
      "text/plain": [
       "<matplotlib.figure.Figure at 0x11901e828>"
      ]
     },
     "metadata": {},
     "output_type": "display_data"
    }
   ],
   "source": [
    "sns.distplot(tahoe_df.loc[:,'female']);"
   ]
  },
  {
   "cell_type": "code",
   "execution_count": 13,
   "metadata": {
    "collapsed": false
   },
   "outputs": [
    {
     "name": "stderr",
     "output_type": "stream",
     "text": [
      "/Users/jonathanhilgart/anaconda/lib/python3.5/site-packages/statsmodels/nonparametric/kdetools.py:20: VisibleDeprecationWarning: using a non-integer number instead of an integer will result in an error in the future\n",
      "  y = X[:m/2+1] + np.r_[0,X[m/2+1:],0]*1j\n"
     ]
    },
    {
     "data": {
      "image/png": "[encoded data removed]",
      "text/plain": [
       "<matplotlib.figure.Figure at 0x11916f978>"
      ]
     },
     "metadata": {},
     "output_type": "display_data"
    }
   ],
   "source": [
    "sns.distplot(tahoe_df.loc[:,'flu_season']);"
   ]
  },
  {
   "cell_type": "code",
   "execution_count": 14,
   "metadata": {
    "collapsed": false
   },
   "outputs": [
    {
     "name": "stderr",
     "output_type": "stream",
     "text": [
      "/Users/jonathanhilgart/anaconda/lib/python3.5/site-packages/statsmodels/nonparametric/kdetools.py:20: VisibleDeprecationWarning: using a non-integer number instead of an integer will result in an error in the future\n",
      "  y = X[:m/2+1] + np.r_[0,X[m/2+1:],0]*1j\n"
     ]
    },
    {
     "data": {
      "image/png": "[encoded data removed]",
      "text/plain": [
       "<matplotlib.figure.Figure at 0x1191f56d8>"
      ]
     },
     "metadata": {},
     "output_type": "display_data"
    }
   ],
   "source": [
    "sns.distplot(tahoe_df.loc[:,'ed_admit']);"
   ]
  },
  {
   "cell_type": "code",
   "execution_count": 15,
   "metadata": {
    "collapsed": false
   },
   "outputs": [
    {
     "name": "stderr",
     "output_type": "stream",
     "text": [
      "/Users/jonathanhilgart/anaconda/lib/python3.5/site-packages/statsmodels/nonparametric/kdetools.py:20: VisibleDeprecationWarning: using a non-integer number instead of an integer will result in an error in the future\n",
      "  y = X[:m/2+1] + np.r_[0,X[m/2+1:],0]*1j\n"
     ]
    },
    {
     "data": {
      "image/png": "[encoded data removed]",
      "text/plain": [
       "<matplotlib.figure.Figure at 0x11950fd30>"
      ]
     },
     "metadata": {},
     "output_type": "display_data"
    }
   ],
   "source": [
    "sns.distplot(tahoe_df.loc[:,'severity_score']);"
   ]
  },
  {
   "cell_type": "code",
   "execution_count": 16,
   "metadata": {
    "collapsed": false
   },
   "outputs": [
    {
     "name": "stderr",
     "output_type": "stream",
     "text": [
      "/Users/jonathanhilgart/anaconda/lib/python3.5/site-packages/statsmodels/nonparametric/kdetools.py:20: VisibleDeprecationWarning: using a non-integer number instead of an integer will result in an error in the future\n",
      "  y = X[:m/2+1] + np.r_[0,X[m/2+1:],0]*1j\n"
     ]
    },
    {
     "data": {
      "image/png": "[encoded data removed]",
      "text/plain": [
       "<matplotlib.figure.Figure at 0x1191e1eb8>"
      ]
     },
     "metadata": {},
     "output_type": "display_data"
    }
   ],
   "source": [
    "sns.distplot(tahoe_df.loc[:,'comorbidity_score']);"
   ]
  },
  {
   "cell_type": "markdown",
   "metadata": {},
   "source": [
    "## Cluster the patients\n",
    "- First, managerial clustering\n",
    "    - Cluster on the percentiles of comorbidty score, severity score, and flu season. There are four quartiles for each of the first two varaibles (and two for the second for a total of 32 `bclusters\n",
    "- Second, statistical clustering\n",
    "    - K-means will be used on all of the varaibles to determine the optimal clustering strategy"
   ]
  },
  {
   "cell_type": "code",
   "execution_count": 17,
   "metadata": {
    "collapsed": false
   },
   "outputs": [],
   "source": [
    "tahoe_quartiles = tahoe_df.describe()"
   ]
  },
  {
   "cell_type": "code",
   "execution_count": 18,
   "metadata": {
    "collapsed": false
   },
   "outputs": [],
   "source": [
    "severity_score_quartiles = [i for i in tahoe_quartiles['severity_score'].iloc[4:7]]\n",
    "severity_score_quartiles.append(33) ## to account for last quartile\n",
    "comorbidity_score_quartiles = [i for i in tahoe_quartiles['comorbidity_score'].iloc[4:7]]\n",
    "comorbidity_score_quartiles.append(132)## to account for last quartile\n",
    "flu_season=[.1,.9] # greater than or less than this (i.e. 0 or 1)"
   ]
  },
  {
   "cell_type": "code",
   "execution_count": 19,
   "metadata": {
    "collapsed": false
   },
   "outputs": [
    {
     "data": {
      "text/html": [
       "<div>\n",
       "<table border=\"1\" class=\"dataframe\">\n",
       "  <thead>\n",
       "    <tr style=\"text-align: right;\">\n",
       "      <th></th>\n",
       "      <th>severity_score</th>\n",
       "      <th>comorbidity_score</th>\n",
       "      <th>flu_season</th>\n",
       "    </tr>\n",
       "  </thead>\n",
       "  <tbody>\n",
       "    <tr>\n",
       "      <th>count</th>\n",
       "      <td>4382.000000</td>\n",
       "      <td>4382.000000</td>\n",
       "      <td>4382.000000</td>\n",
       "    </tr>\n",
       "    <tr>\n",
       "      <th>mean</th>\n",
       "      <td>22.353263</td>\n",
       "      <td>94.735509</td>\n",
       "      <td>0.408033</td>\n",
       "    </tr>\n",
       "    <tr>\n",
       "      <th>std</th>\n",
       "      <td>18.005320</td>\n",
       "      <td>57.145155</td>\n",
       "      <td>0.491525</td>\n",
       "    </tr>\n",
       "    <tr>\n",
       "      <th>min</th>\n",
       "      <td>1.000000</td>\n",
       "      <td>1.000000</td>\n",
       "      <td>0.000000</td>\n",
       "    </tr>\n",
       "    <tr>\n",
       "      <th>25%</th>\n",
       "      <td>8.000000</td>\n",
       "      <td>51.000000</td>\n",
       "      <td>0.000000</td>\n",
       "    </tr>\n",
       "    <tr>\n",
       "      <th>50%</th>\n",
       "      <td>19.000000</td>\n",
       "      <td>86.000000</td>\n",
       "      <td>0.000000</td>\n",
       "    </tr>\n",
       "    <tr>\n",
       "      <th>75%</th>\n",
       "      <td>32.000000</td>\n",
       "      <td>131.000000</td>\n",
       "      <td>1.000000</td>\n",
       "    </tr>\n",
       "    <tr>\n",
       "      <th>max</th>\n",
       "      <td>112.000000</td>\n",
       "      <td>322.000000</td>\n",
       "      <td>1.000000</td>\n",
       "    </tr>\n",
       "  </tbody>\n",
       "</table>\n",
       "</div>"
      ],
      "text/plain": [
       "       severity_score  comorbidity_score   flu_season\n",
       "count     4382.000000        4382.000000  4382.000000\n",
       "mean        22.353263          94.735509     0.408033\n",
       "std         18.005320          57.145155     0.491525\n",
       "min          1.000000           1.000000     0.000000\n",
       "25%          8.000000          51.000000     0.000000\n",
       "50%         19.000000          86.000000     0.000000\n",
       "75%         32.000000         131.000000     1.000000\n",
       "max        112.000000         322.000000     1.000000"
      ]
     },
     "execution_count": 19,
     "metadata": {},
     "output_type": "execute_result"
    }
   ],
   "source": [
    "tahoe_quartiles.loc[:,('severity_score','comorbidity_score','flu_season')]"
   ]
  },
  {
   "cell_type": "code",
   "execution_count": 20,
   "metadata": {
    "collapsed": false
   },
   "outputs": [
    {
     "data": {
      "text/html": [
       "<div>\n",
       "<table border=\"1\" class=\"dataframe\">\n",
       "  <thead>\n",
       "    <tr style=\"text-align: right;\">\n",
       "      <th></th>\n",
       "      <th>female</th>\n",
       "      <th>flu_season</th>\n",
       "      <th>ed_admit</th>\n",
       "      <th>readmit30</th>\n",
       "      <th>age</th>\n",
       "      <th>severity_score</th>\n",
       "      <th>comorbidity_score</th>\n",
       "    </tr>\n",
       "  </thead>\n",
       "  <tbody>\n",
       "    <tr>\n",
       "      <th>0</th>\n",
       "      <td>1</td>\n",
       "      <td>1</td>\n",
       "      <td>1</td>\n",
       "      <td>0</td>\n",
       "      <td>100</td>\n",
       "      <td>38</td>\n",
       "      <td>112</td>\n",
       "    </tr>\n",
       "    <tr>\n",
       "      <th>1</th>\n",
       "      <td>1</td>\n",
       "      <td>0</td>\n",
       "      <td>1</td>\n",
       "      <td>1</td>\n",
       "      <td>83</td>\n",
       "      <td>8</td>\n",
       "      <td>109</td>\n",
       "    </tr>\n",
       "    <tr>\n",
       "      <th>2</th>\n",
       "      <td>0</td>\n",
       "      <td>1</td>\n",
       "      <td>0</td>\n",
       "      <td>0</td>\n",
       "      <td>74</td>\n",
       "      <td>1</td>\n",
       "      <td>80</td>\n",
       "    </tr>\n",
       "    <tr>\n",
       "      <th>3</th>\n",
       "      <td>1</td>\n",
       "      <td>1</td>\n",
       "      <td>1</td>\n",
       "      <td>0</td>\n",
       "      <td>66</td>\n",
       "      <td>25</td>\n",
       "      <td>4</td>\n",
       "    </tr>\n",
       "    <tr>\n",
       "      <th>4</th>\n",
       "      <td>1</td>\n",
       "      <td>1</td>\n",
       "      <td>1</td>\n",
       "      <td>0</td>\n",
       "      <td>68</td>\n",
       "      <td>25</td>\n",
       "      <td>32</td>\n",
       "    </tr>\n",
       "  </tbody>\n",
       "</table>\n",
       "</div>"
      ],
      "text/plain": [
       "   female  flu_season  ed_admit  readmit30  age  severity_score  \\\n",
       "0       1           1         1          0  100              38   \n",
       "1       1           0         1          1   83               8   \n",
       "2       0           1         0          0   74               1   \n",
       "3       1           1         1          0   66              25   \n",
       "4       1           1         1          0   68              25   \n",
       "\n",
       "   comorbidity_score  \n",
       "0                112  \n",
       "1                109  \n",
       "2                 80  \n",
       "3                  4  \n",
       "4                 32  "
      ]
     },
     "execution_count": 20,
     "metadata": {},
     "output_type": "execute_result"
    }
   ],
   "source": [
    "tahoe_df.head()"
   ]
  },
  {
   "cell_type": "code",
   "execution_count": 21,
   "metadata": {
    "collapsed": false
   },
   "outputs": [],
   "source": [
    "tahoe_df['severity_quantile'] = pd.qcut(tahoe_df['severity_score'], 4, labels=False)\n",
    "tahoe_df['comorbidity_quantile'] = pd.qcut(tahoe_df['comorbidity_score'], 4, labels=False)\n"
   ]
  },
  {
   "cell_type": "code",
   "execution_count": 22,
   "metadata": {
    "collapsed": false
   },
   "outputs": [
    {
     "data": {
      "text/plain": [
       "[0.1, 0.9]"
      ]
     },
     "execution_count": 22,
     "metadata": {},
     "output_type": "execute_result"
    }
   ],
   "source": [
    "flu_season"
   ]
  },
  {
   "cell_type": "code",
   "execution_count": 23,
   "metadata": {
    "collapsed": false
   },
   "outputs": [
    {
     "data": {
      "text/plain": [
       "[8.0, 19.0, 32.0, 33]"
      ]
     },
     "execution_count": 23,
     "metadata": {},
     "output_type": "execute_result"
    }
   ],
   "source": [
    "severity_score_quartiles"
   ]
  },
  {
   "cell_type": "code",
   "execution_count": 24,
   "metadata": {
    "collapsed": false
   },
   "outputs": [
    {
     "data": {
      "text/plain": [
       "[51.0, 86.0, 131.0, 132]"
      ]
     },
     "execution_count": 24,
     "metadata": {},
     "output_type": "execute_result"
    }
   ],
   "source": [
    "comorbidity_score_quartiles "
   ]
  },
  {
   "cell_type": "code",
   "execution_count": 25,
   "metadata": {
    "collapsed": false
   },
   "outputs": [
    {
     "data": {
      "text/plain": [
       "[0, 1]"
      ]
     },
     "execution_count": 25,
     "metadata": {},
     "output_type": "execute_result"
    }
   ],
   "source": [
    "[ i for i in range(2)]"
   ]
  },
  {
   "cell_type": "code",
   "execution_count": 26,
   "metadata": {
    "collapsed": false
   },
   "outputs": [],
   "source": [
    "def assign_managerial_clusters(input_dataframe):\n",
    "    \"\"\"Assign managerial clusters given the severity socre, comorbidty score, and fluseason indicator.\n",
    "    This assumes that the input dataframe already has indicators for the bins for each columns\"\"\"\n",
    "    count = 1\n",
    "    df = input_dataframe.copy()\n",
    "    list_of_df = []\n",
    "    count = 0\n",
    "    df['managerial_cluster']=np.nan\n",
    "    final_df = pd.DataFrame(columns = ['female', 'flu_season', 'ed_admit', 'readmit30', 'age',\n",
    "       'severity_score', 'comorbidity_score', 'severity_quantile',\n",
    "       'comorbidity_quantile','managerial_cluster'])\n",
    "    count = 0\n",
    "    row_of_assignments = []\n",
    "    cluster_assignments =defaultdict(int)\n",
    "    for comordibty_q in range(4):\n",
    "        for severity_q in range(4):\n",
    "            for flu_h in range(2):\n",
    "                cluster =  df[(df['comorbidity_quantile'] == comordibty_q) & \\\n",
    "                        (df['severity_quantile'] == severity_q) &\\\n",
    "                        (df['flu_season'] == flu_h)]\n",
    "                cluster['managerial_cluster'] = count\n",
    "                final_df = pd.concat([final_df,cluster]) ## add to a final DF\n",
    "                cluster_assignments[comordibty_q,severity_q,flu_h]=count\n",
    "\n",
    "                count +=1      \n",
    "    return final_df,cluster_assignments\n",
    "        \n",
    "            \n",
    "    \n",
    "    \n",
    "    \n",
    "                "
   ]
  },
  {
   "cell_type": "code",
   "execution_count": 27,
   "metadata": {
    "collapsed": false
   },
   "outputs": [
    {
     "name": "stderr",
     "output_type": "stream",
     "text": [
      "/Users/jonathanhilgart/anaconda/lib/python3.5/site-packages/ipykernel/__main__.py:19: SettingWithCopyWarning: \n",
      "A value is trying to be set on a copy of a slice from a DataFrame.\n",
      "Try using .loc[row_indexer,col_indexer] = value instead\n",
      "\n",
      "See the caveats in the documentation: http://pandas.pydata.org/pandas-docs/stable/indexing.html#indexing-view-versus-copy\n"
     ]
    }
   ],
   "source": [
    "tahoe_mang_cluster_df, custer_assignments = assign_managerial_clusters(tahoe_df)"
   ]
  },
  {
   "cell_type": "code",
   "execution_count": 28,
   "metadata": {
    "collapsed": false
   },
   "outputs": [
    {
     "data": {
      "text/plain": [
       "count    4382.000000\n",
       "mean       15.257417\n",
       "std         9.637573\n",
       "min         0.000000\n",
       "25%         7.000000\n",
       "50%        15.000000\n",
       "75%        23.000000\n",
       "max        31.000000\n",
       "Name: managerial_cluster, dtype: float64"
      ]
     },
     "execution_count": 28,
     "metadata": {},
     "output_type": "execute_result"
    }
   ],
   "source": [
    "tahoe_mang_cluster_df.managerial_cluster.describe()"
   ]
  },
  {
   "cell_type": "markdown",
   "metadata": {},
   "source": [
    "- Next, determine the probability of re-admittance per managerial cluster"
   ]
  },
  {
   "cell_type": "code",
   "execution_count": 29,
   "metadata": {
    "collapsed": false
   },
   "outputs": [],
   "source": [
    "## total number of readmission per managerial cluster\n",
    "readmission_per_cluster = tahoe_mang_cluster_df.groupby(['managerial_cluster'])['readmit30'].sum().reset_index()"
   ]
  },
  {
   "cell_type": "code",
   "execution_count": 30,
   "metadata": {
    "collapsed": false
   },
   "outputs": [],
   "source": [
    "# divide by the total number to get the probability of re-admission per cluster\n",
    "\n",
    "patients_per_cluster = tahoe_mang_cluster_df.groupby(['managerial_cluster'])['readmit30'].count().reset_index()\n"
   ]
  },
  {
   "cell_type": "code",
   "execution_count": 31,
   "metadata": {
    "collapsed": false
   },
   "outputs": [],
   "source": [
    "## probability of readmission per cluster\n",
    "probability_readmission_per_cluster = (readmission_per_cluster/patients_per_cluster ).reset_index()\n",
    "#sorted_probability_readmission_per_cluster = probability_readmission_per_cluster.sort_values(ascending=False).reset_index()\n",
    "probability_readmission_per_cluster['probability_of_readmit'] =probability_readmission_per_cluster['readmit30'] "
   ]
  },
  {
   "cell_type": "code",
   "execution_count": 32,
   "metadata": {
    "collapsed": false
   },
   "outputs": [],
   "source": [
    "probability_readmission_per_cluster['patients_per_cluster']=patients_per_cluster['readmit30']\n",
    "probability_readmission_per_cluster['readmit_per_cluster'] = readmission_per_cluster['readmit30']"
   ]
  },
  {
   "cell_type": "code",
   "execution_count": 33,
   "metadata": {
    "collapsed": false
   },
   "outputs": [],
   "source": [
    "# sort by top readmit clusters\n",
    "probability_readmission_per_cluster.sort_values('probability_of_readmit',ascending=False,inplace=True)"
   ]
  },
  {
   "cell_type": "code",
   "execution_count": 305,
   "metadata": {
    "collapsed": true
   },
   "outputs": [],
   "source": [
    "### add in the probability of readmit with caretracker (lowers it by 40%)\n",
    "probability_readmission_per_cluster['probability_readmit_caretracker'] = \\\n",
    "probability_readmission_per_cluster.probability_of_readmit*.6"
   ]
  },
  {
   "cell_type": "code",
   "execution_count": 400,
   "metadata": {
    "collapsed": false
   },
   "outputs": [
    {
     "data": {
      "text/html": [
       "<div>\n",
       "<table border=\"1\" class=\"dataframe\">\n",
       "  <thead>\n",
       "    <tr style=\"text-align: right;\">\n",
       "      <th></th>\n",
       "      <th>managerial_cluster</th>\n",
       "      <th>probability_of_readmit</th>\n",
       "      <th>patients_per_cluster</th>\n",
       "      <th>readmit_per_cluster</th>\n",
       "      <th>probability_readmit_caretracker</th>\n",
       "      <th>min_cost</th>\n",
       "      <th>option</th>\n",
       "    </tr>\n",
       "  </thead>\n",
       "  <tbody>\n",
       "    <tr>\n",
       "      <th>31</th>\n",
       "      <td>31.0</td>\n",
       "      <td>0.717791</td>\n",
       "      <td>163</td>\n",
       "      <td>117.0</td>\n",
       "      <td>0.430675</td>\n",
       "      <td>195600.0</td>\n",
       "      <td>1</td>\n",
       "    </tr>\n",
       "    <tr>\n",
       "      <th>29</th>\n",
       "      <td>29.0</td>\n",
       "      <td>0.543103</td>\n",
       "      <td>116</td>\n",
       "      <td>63.0</td>\n",
       "      <td>0.325862</td>\n",
       "      <td>139200.0</td>\n",
       "      <td>1</td>\n",
       "    </tr>\n",
       "    <tr>\n",
       "      <th>25</th>\n",
       "      <td>25.0</td>\n",
       "      <td>0.533333</td>\n",
       "      <td>75</td>\n",
       "      <td>40.0</td>\n",
       "      <td>0.320000</td>\n",
       "      <td>90000.0</td>\n",
       "      <td>1</td>\n",
       "    </tr>\n",
       "    <tr>\n",
       "      <th>27</th>\n",
       "      <td>27.0</td>\n",
       "      <td>0.511628</td>\n",
       "      <td>86</td>\n",
       "      <td>44.0</td>\n",
       "      <td>0.306977</td>\n",
       "      <td>103200.0</td>\n",
       "      <td>1</td>\n",
       "    </tr>\n",
       "    <tr>\n",
       "      <th>30</th>\n",
       "      <td>30.0</td>\n",
       "      <td>0.502041</td>\n",
       "      <td>245</td>\n",
       "      <td>123.0</td>\n",
       "      <td>0.301224</td>\n",
       "      <td>294000.0</td>\n",
       "      <td>1</td>\n",
       "    </tr>\n",
       "    <tr>\n",
       "      <th>28</th>\n",
       "      <td>28.0</td>\n",
       "      <td>0.393939</td>\n",
       "      <td>165</td>\n",
       "      <td>65.0</td>\n",
       "      <td>0.236364</td>\n",
       "      <td>198000.0</td>\n",
       "      <td>1</td>\n",
       "    </tr>\n",
       "    <tr>\n",
       "      <th>23</th>\n",
       "      <td>23.0</td>\n",
       "      <td>0.367347</td>\n",
       "      <td>98</td>\n",
       "      <td>36.0</td>\n",
       "      <td>0.220408</td>\n",
       "      <td>117600.0</td>\n",
       "      <td>1</td>\n",
       "    </tr>\n",
       "    <tr>\n",
       "      <th>22</th>\n",
       "      <td>22.0</td>\n",
       "      <td>0.348684</td>\n",
       "      <td>152</td>\n",
       "      <td>53.0</td>\n",
       "      <td>0.209211</td>\n",
       "      <td>182400.0</td>\n",
       "      <td>1</td>\n",
       "    </tr>\n",
       "    <tr>\n",
       "      <th>21</th>\n",
       "      <td>21.0</td>\n",
       "      <td>0.324786</td>\n",
       "      <td>117</td>\n",
       "      <td>38.0</td>\n",
       "      <td>0.194872</td>\n",
       "      <td>140400.0</td>\n",
       "      <td>1</td>\n",
       "    </tr>\n",
       "    <tr>\n",
       "      <th>15</th>\n",
       "      <td>15.0</td>\n",
       "      <td>0.298969</td>\n",
       "      <td>97</td>\n",
       "      <td>29.0</td>\n",
       "      <td>0.179381</td>\n",
       "      <td>116400.0</td>\n",
       "      <td>1</td>\n",
       "    </tr>\n",
       "    <tr>\n",
       "      <th>24</th>\n",
       "      <td>24.0</td>\n",
       "      <td>0.266055</td>\n",
       "      <td>109</td>\n",
       "      <td>29.0</td>\n",
       "      <td>0.159633</td>\n",
       "      <td>130800.0</td>\n",
       "      <td>1</td>\n",
       "    </tr>\n",
       "    <tr>\n",
       "      <th>19</th>\n",
       "      <td>19.0</td>\n",
       "      <td>0.262626</td>\n",
       "      <td>99</td>\n",
       "      <td>26.0</td>\n",
       "      <td>0.157576</td>\n",
       "      <td>118800.0</td>\n",
       "      <td>1</td>\n",
       "    </tr>\n",
       "    <tr>\n",
       "      <th>26</th>\n",
       "      <td>26.0</td>\n",
       "      <td>0.258065</td>\n",
       "      <td>124</td>\n",
       "      <td>32.0</td>\n",
       "      <td>0.154839</td>\n",
       "      <td>148800.0</td>\n",
       "      <td>1</td>\n",
       "    </tr>\n",
       "    <tr>\n",
       "      <th>14</th>\n",
       "      <td>14.0</td>\n",
       "      <td>0.241935</td>\n",
       "      <td>124</td>\n",
       "      <td>30.0</td>\n",
       "      <td>0.145161</td>\n",
       "      <td>148800.0</td>\n",
       "      <td>1</td>\n",
       "    </tr>\n",
       "    <tr>\n",
       "      <th>7</th>\n",
       "      <td>7.0</td>\n",
       "      <td>0.204082</td>\n",
       "      <td>98</td>\n",
       "      <td>20.0</td>\n",
       "      <td>0.122449</td>\n",
       "      <td>117600.0</td>\n",
       "      <td>1</td>\n",
       "    </tr>\n",
       "    <tr>\n",
       "      <th>17</th>\n",
       "      <td>17.0</td>\n",
       "      <td>0.187500</td>\n",
       "      <td>112</td>\n",
       "      <td>21.0</td>\n",
       "      <td>0.112500</td>\n",
       "      <td>134400.0</td>\n",
       "      <td>1</td>\n",
       "    </tr>\n",
       "    <tr>\n",
       "      <th>13</th>\n",
       "      <td>13.0</td>\n",
       "      <td>0.171717</td>\n",
       "      <td>99</td>\n",
       "      <td>17.0</td>\n",
       "      <td>0.103030</td>\n",
       "      <td>118800.0</td>\n",
       "      <td>1</td>\n",
       "    </tr>\n",
       "    <tr>\n",
       "      <th>11</th>\n",
       "      <td>11.0</td>\n",
       "      <td>0.171171</td>\n",
       "      <td>111</td>\n",
       "      <td>19.0</td>\n",
       "      <td>0.102703</td>\n",
       "      <td>133200.0</td>\n",
       "      <td>1</td>\n",
       "    </tr>\n",
       "    <tr>\n",
       "      <th>20</th>\n",
       "      <td>20.0</td>\n",
       "      <td>0.165746</td>\n",
       "      <td>181</td>\n",
       "      <td>30.0</td>\n",
       "      <td>0.099448</td>\n",
       "      <td>217200.0</td>\n",
       "      <td>1</td>\n",
       "    </tr>\n",
       "    <tr>\n",
       "      <th>18</th>\n",
       "      <td>18.0</td>\n",
       "      <td>0.153374</td>\n",
       "      <td>163</td>\n",
       "      <td>25.0</td>\n",
       "      <td>0.092025</td>\n",
       "      <td>195600.0</td>\n",
       "      <td>1</td>\n",
       "    </tr>\n",
       "    <tr>\n",
       "      <th>12</th>\n",
       "      <td>12.0</td>\n",
       "      <td>0.123377</td>\n",
       "      <td>154</td>\n",
       "      <td>19.0</td>\n",
       "      <td>0.074026</td>\n",
       "      <td>152000.0</td>\n",
       "      <td>0</td>\n",
       "    </tr>\n",
       "    <tr>\n",
       "      <th>6</th>\n",
       "      <td>6.0</td>\n",
       "      <td>0.106195</td>\n",
       "      <td>113</td>\n",
       "      <td>12.0</td>\n",
       "      <td>0.063717</td>\n",
       "      <td>96000.0</td>\n",
       "      <td>0</td>\n",
       "    </tr>\n",
       "    <tr>\n",
       "      <th>1</th>\n",
       "      <td>1.0</td>\n",
       "      <td>0.102740</td>\n",
       "      <td>146</td>\n",
       "      <td>15.0</td>\n",
       "      <td>0.061644</td>\n",
       "      <td>120000.0</td>\n",
       "      <td>0</td>\n",
       "    </tr>\n",
       "    <tr>\n",
       "      <th>16</th>\n",
       "      <td>16.0</td>\n",
       "      <td>0.100000</td>\n",
       "      <td>160</td>\n",
       "      <td>16.0</td>\n",
       "      <td>0.060000</td>\n",
       "      <td>128000.0</td>\n",
       "      <td>0</td>\n",
       "    </tr>\n",
       "    <tr>\n",
       "      <th>5</th>\n",
       "      <td>5.0</td>\n",
       "      <td>0.095745</td>\n",
       "      <td>94</td>\n",
       "      <td>9.0</td>\n",
       "      <td>0.057447</td>\n",
       "      <td>72000.0</td>\n",
       "      <td>0</td>\n",
       "    </tr>\n",
       "    <tr>\n",
       "      <th>3</th>\n",
       "      <td>3.0</td>\n",
       "      <td>0.089552</td>\n",
       "      <td>134</td>\n",
       "      <td>12.0</td>\n",
       "      <td>0.053731</td>\n",
       "      <td>96000.0</td>\n",
       "      <td>0</td>\n",
       "    </tr>\n",
       "    <tr>\n",
       "      <th>8</th>\n",
       "      <td>8.0</td>\n",
       "      <td>0.087379</td>\n",
       "      <td>206</td>\n",
       "      <td>18.0</td>\n",
       "      <td>0.052427</td>\n",
       "      <td>144000.0</td>\n",
       "      <td>0</td>\n",
       "    </tr>\n",
       "    <tr>\n",
       "      <th>9</th>\n",
       "      <td>9.0</td>\n",
       "      <td>0.076923</td>\n",
       "      <td>143</td>\n",
       "      <td>11.0</td>\n",
       "      <td>0.046154</td>\n",
       "      <td>88000.0</td>\n",
       "      <td>0</td>\n",
       "    </tr>\n",
       "    <tr>\n",
       "      <th>10</th>\n",
       "      <td>10.0</td>\n",
       "      <td>0.072289</td>\n",
       "      <td>166</td>\n",
       "      <td>12.0</td>\n",
       "      <td>0.043373</td>\n",
       "      <td>96000.0</td>\n",
       "      <td>0</td>\n",
       "    </tr>\n",
       "    <tr>\n",
       "      <th>4</th>\n",
       "      <td>4.0</td>\n",
       "      <td>0.068966</td>\n",
       "      <td>145</td>\n",
       "      <td>10.0</td>\n",
       "      <td>0.041379</td>\n",
       "      <td>80000.0</td>\n",
       "      <td>0</td>\n",
       "    </tr>\n",
       "    <tr>\n",
       "      <th>2</th>\n",
       "      <td>2.0</td>\n",
       "      <td>0.026596</td>\n",
       "      <td>188</td>\n",
       "      <td>5.0</td>\n",
       "      <td>0.015957</td>\n",
       "      <td>40000.0</td>\n",
       "      <td>0</td>\n",
       "    </tr>\n",
       "    <tr>\n",
       "      <th>0</th>\n",
       "      <td>0.0</td>\n",
       "      <td>0.010050</td>\n",
       "      <td>199</td>\n",
       "      <td>2.0</td>\n",
       "      <td>0.006030</td>\n",
       "      <td>16000.0</td>\n",
       "      <td>0</td>\n",
       "    </tr>\n",
       "  </tbody>\n",
       "</table>\n",
       "</div>"
      ],
      "text/plain": [
       "    managerial_cluster  probability_of_readmit  patients_per_cluster  \\\n",
       "31                31.0                0.717791                   163   \n",
       "29                29.0                0.543103                   116   \n",
       "25                25.0                0.533333                    75   \n",
       "27                27.0                0.511628                    86   \n",
       "30                30.0                0.502041                   245   \n",
       "28                28.0                0.393939                   165   \n",
       "23                23.0                0.367347                    98   \n",
       "22                22.0                0.348684                   152   \n",
       "21                21.0                0.324786                   117   \n",
       "15                15.0                0.298969                    97   \n",
       "24                24.0                0.266055                   109   \n",
       "19                19.0                0.262626                    99   \n",
       "26                26.0                0.258065                   124   \n",
       "14                14.0                0.241935                   124   \n",
       "7                  7.0                0.204082                    98   \n",
       "17                17.0                0.187500                   112   \n",
       "13                13.0                0.171717                    99   \n",
       "11                11.0                0.171171                   111   \n",
       "20                20.0                0.165746                   181   \n",
       "18                18.0                0.153374                   163   \n",
       "12                12.0                0.123377                   154   \n",
       "6                  6.0                0.106195                   113   \n",
       "1                  1.0                0.102740                   146   \n",
       "16                16.0                0.100000                   160   \n",
       "5                  5.0                0.095745                    94   \n",
       "3                  3.0                0.089552                   134   \n",
       "8                  8.0                0.087379                   206   \n",
       "9                  9.0                0.076923                   143   \n",
       "10                10.0                0.072289                   166   \n",
       "4                  4.0                0.068966                   145   \n",
       "2                  2.0                0.026596                   188   \n",
       "0                  0.0                0.010050                   199   \n",
       "\n",
       "    readmit_per_cluster  probability_readmit_caretracker  min_cost  option  \n",
       "31                117.0                         0.430675  195600.0       1  \n",
       "29                 63.0                         0.325862  139200.0       1  \n",
       "25                 40.0                         0.320000   90000.0       1  \n",
       "27                 44.0                         0.306977  103200.0       1  \n",
       "30                123.0                         0.301224  294000.0       1  \n",
       "28                 65.0                         0.236364  198000.0       1  \n",
       "23                 36.0                         0.220408  117600.0       1  \n",
       "22                 53.0                         0.209211  182400.0       1  \n",
       "21                 38.0                         0.194872  140400.0       1  \n",
       "15                 29.0                         0.179381  116400.0       1  \n",
       "24                 29.0                         0.159633  130800.0       1  \n",
       "19                 26.0                         0.157576  118800.0       1  \n",
       "26                 32.0                         0.154839  148800.0       1  \n",
       "14                 30.0                         0.145161  148800.0       1  \n",
       "7                  20.0                         0.122449  117600.0       1  \n",
       "17                 21.0                         0.112500  134400.0       1  \n",
       "13                 17.0                         0.103030  118800.0       1  \n",
       "11                 19.0                         0.102703  133200.0       1  \n",
       "20                 30.0                         0.099448  217200.0       1  \n",
       "18                 25.0                         0.092025  195600.0       1  \n",
       "12                 19.0                         0.074026  152000.0       0  \n",
       "6                  12.0                         0.063717   96000.0       0  \n",
       "1                  15.0                         0.061644  120000.0       0  \n",
       "16                 16.0                         0.060000  128000.0       0  \n",
       "5                   9.0                         0.057447   72000.0       0  \n",
       "3                  12.0                         0.053731   96000.0       0  \n",
       "8                  18.0                         0.052427  144000.0       0  \n",
       "9                  11.0                         0.046154   88000.0       0  \n",
       "10                 12.0                         0.043373   96000.0       0  \n",
       "4                  10.0                         0.041379   80000.0       0  \n",
       "2                   5.0                         0.015957   40000.0       0  \n",
       "0                   2.0                         0.006030   16000.0       0  "
      ]
     },
     "execution_count": 400,
     "metadata": {},
     "output_type": "execute_result"
    }
   ],
   "source": [
    "probability_readmission_per_cluster"
   ]
  },
  {
   "cell_type": "markdown",
   "metadata": {},
   "source": [
    "- Next, determine the cost of adding Care Tracker per cluster per person in each cluster\n"
   ]
  },
  {
   "cell_type": "code",
   "execution_count": 326,
   "metadata": {
    "collapsed": false
   },
   "outputs": [],
   "source": [
    "probability_readmission_per_cluster.drop(\\\n",
    "                                        'readmit_cost_given_care_track',\\\n",
    "                               axis=1,inplace=True)"
   ]
  },
  {
   "cell_type": "code",
   "execution_count": 369,
   "metadata": {
    "collapsed": true
   },
   "outputs": [],
   "source": [
    "def find_minimum_cost(dataframe_input,cost_of_readmit=8000,cost_of_caretracker=1200):\n",
    "    \"\"\"find the minimum combination between using the caretracker for each person in a cluster, or the cost\n",
    "    of readmission $8k per person in that cluter.\n",
    "    \n",
    "    The formula is  The Cost of readmittance * Number of patients who have be readmitted  , compared to\n",
    "    \n",
    "    The probability of readmittance given that a patient is using care tracker, \n",
    "    times the number of patients in that cluster, time the cost of readmittance, plus the cost of care tracker times\n",
    "    the number of patients in that cluster\n",
    "    \"\"\"\n",
    "    dataframe_i = dataframe_input.copy()\n",
    "    list_of_options = []\n",
    "    min_cost_per_option = []\n",
    "    alternative_cost = []\n",
    "    \n",
    "    for idx, row in dataframe_i.iterrows():\n",
    "        if (row['probability_readmit_caretracker'] *row['patients_per_cluster'] * cost_of_readmit + \\\n",
    "            cost_of_caretracker *row['patients_per_cluster'])   \\\n",
    "            < (cost_of_readmit *row['readmit_per_cluster']):\n",
    "            \n",
    "            list_of_options.append(1) ## assign to caretracker program\n",
    "            min_cost_per_option.append(row['probability_readmit_caretracker']\\\n",
    "                                       *row['patients_per_cluster'] * cost_of_readmit + \\\n",
    "                                        cost_of_caretracker *row['patients_per_cluster'])\n",
    "            alternative_cost.append(cost_of_readmit *row['readmit_per_cluster'])\n",
    "        else:\n",
    "            list_of_options.append(0) ## don't assign to caretracker program\n",
    "            min_cost_per_option.append(cost_of_readmit *row['readmit_per_cluster'])\n",
    "            alternative_cost.append(row['probability_readmit_caretracker']\\\n",
    "                                       *row['patients_per_cluster'] * cost_of_readmit + \\\n",
    "                                        cost_of_caretracker *row['patients_per_cluster'])\n",
    "        \n",
    "    dataframe_i['min_cost']=min_cost_per_option\n",
    "    dataframe_i['option']=list_of_options # 1 = assign to caretracker 0 = don't assign to caretracker\n",
    "    dataframe_i['alternative_cost'] = alternative_cost\n",
    "    return dataframe_i     \n",
    "    \n",
    "    "
   ]
  },
  {
   "cell_type": "code",
   "execution_count": 389,
   "metadata": {
    "collapsed": false
   },
   "outputs": [],
   "source": [
    "min_cost_tahoe_prob_df['care_tracker_cost_cluster'] = \\\n",
    "    min_cost_tahoe_prob_df['patients_per_cluster']*1200 + \\\n",
    "    min_cost_tahoe_prob_df['probability_readmit_caretracker']*min_cost_tahoe_prob_df['patients_per_cluster']*8000\n",
    "\n",
    "min_cost_tahoe_prob_df['readmit_cost_cluster'] = \\\n",
    "    min_cost_tahoe_prob_df['readmit_per_cluster']*8000 "
   ]
  },
  {
   "cell_type": "code",
   "execution_count": 370,
   "metadata": {
    "collapsed": false
   },
   "outputs": [],
   "source": [
    "min_cost_tahoe_prob_df = find_minimum_cost(probability_readmission_per_cluster)`b"
   ]
  },
  {
   "cell_type": "code",
   "execution_count": 399,
   "metadata": {
    "collapsed": false
   },
   "outputs": [
    {
     "data": {
      "text/html": [
       "<div>\n",
       "<table border=\"1\" class=\"dataframe\">\n",
       "  <thead>\n",
       "    <tr style=\"text-align: right;\">\n",
       "      <th></th>\n",
       "      <th>managerial_cluster</th>\n",
       "      <th>probability_of_readmit</th>\n",
       "      <th>patients_per_cluster</th>\n",
       "      <th>readmit_per_cluster</th>\n",
       "      <th>probability_readmit_caretracker</th>\n",
       "      <th>min_cost</th>\n",
       "      <th>option</th>\n",
       "      <th>alternative_cost</th>\n",
       "      <th>care_tracker_cost_cluster</th>\n",
       "      <th>readmit_cost_cluster</th>\n",
       "    </tr>\n",
       "  </thead>\n",
       "  <tbody>\n",
       "    <tr>\n",
       "      <th>31</th>\n",
       "      <td>31.0</td>\n",
       "      <td>0.717791</td>\n",
       "      <td>163</td>\n",
       "      <td>117.0</td>\n",
       "      <td>0.430675</td>\n",
       "      <td>757200.0</td>\n",
       "      <td>1</td>\n",
       "      <td>936000.0</td>\n",
       "      <td>757200.0</td>\n",
       "      <td>936000.0</td>\n",
       "    </tr>\n",
       "    <tr>\n",
       "      <th>29</th>\n",
       "      <td>29.0</td>\n",
       "      <td>0.543103</td>\n",
       "      <td>116</td>\n",
       "      <td>63.0</td>\n",
       "      <td>0.325862</td>\n",
       "      <td>441600.0</td>\n",
       "      <td>1</td>\n",
       "      <td>504000.0</td>\n",
       "      <td>441600.0</td>\n",
       "      <td>504000.0</td>\n",
       "    </tr>\n",
       "    <tr>\n",
       "      <th>25</th>\n",
       "      <td>25.0</td>\n",
       "      <td>0.533333</td>\n",
       "      <td>75</td>\n",
       "      <td>40.0</td>\n",
       "      <td>0.320000</td>\n",
       "      <td>282000.0</td>\n",
       "      <td>1</td>\n",
       "      <td>320000.0</td>\n",
       "      <td>282000.0</td>\n",
       "      <td>320000.0</td>\n",
       "    </tr>\n",
       "    <tr>\n",
       "      <th>27</th>\n",
       "      <td>27.0</td>\n",
       "      <td>0.511628</td>\n",
       "      <td>86</td>\n",
       "      <td>44.0</td>\n",
       "      <td>0.306977</td>\n",
       "      <td>314400.0</td>\n",
       "      <td>1</td>\n",
       "      <td>352000.0</td>\n",
       "      <td>314400.0</td>\n",
       "      <td>352000.0</td>\n",
       "    </tr>\n",
       "    <tr>\n",
       "      <th>30</th>\n",
       "      <td>30.0</td>\n",
       "      <td>0.502041</td>\n",
       "      <td>245</td>\n",
       "      <td>123.0</td>\n",
       "      <td>0.301224</td>\n",
       "      <td>884400.0</td>\n",
       "      <td>1</td>\n",
       "      <td>984000.0</td>\n",
       "      <td>884400.0</td>\n",
       "      <td>984000.0</td>\n",
       "    </tr>\n",
       "    <tr>\n",
       "      <th>28</th>\n",
       "      <td>28.0</td>\n",
       "      <td>0.393939</td>\n",
       "      <td>165</td>\n",
       "      <td>65.0</td>\n",
       "      <td>0.236364</td>\n",
       "      <td>510000.0</td>\n",
       "      <td>1</td>\n",
       "      <td>520000.0</td>\n",
       "      <td>510000.0</td>\n",
       "      <td>520000.0</td>\n",
       "    </tr>\n",
       "  </tbody>\n",
       "</table>\n",
       "</div>"
      ],
      "text/plain": [
       "    managerial_cluster  probability_of_readmit  patients_per_cluster  \\\n",
       "31                31.0                0.717791                   163   \n",
       "29                29.0                0.543103                   116   \n",
       "25                25.0                0.533333                    75   \n",
       "27                27.0                0.511628                    86   \n",
       "30                30.0                0.502041                   245   \n",
       "28                28.0                0.393939                   165   \n",
       "\n",
       "    readmit_per_cluster  probability_readmit_caretracker  min_cost  option  \\\n",
       "31                117.0                         0.430675  757200.0       1   \n",
       "29                 63.0                         0.325862  441600.0       1   \n",
       "25                 40.0                         0.320000  282000.0       1   \n",
       "27                 44.0                         0.306977  314400.0       1   \n",
       "30                123.0                         0.301224  884400.0       1   \n",
       "28                 65.0                         0.236364  510000.0       1   \n",
       "\n",
       "    alternative_cost  care_tracker_cost_cluster  readmit_cost_cluster  \n",
       "31          936000.0                   757200.0              936000.0  \n",
       "29          504000.0                   441600.0              504000.0  \n",
       "25          320000.0                   282000.0              320000.0  \n",
       "27          352000.0                   314400.0              352000.0  \n",
       "30          984000.0                   884400.0              984000.0  \n",
       "28          520000.0                   510000.0              520000.0  "
      ]
     },
     "execution_count": 399,
     "metadata": {},
     "output_type": "execute_result"
    }
   ],
   "source": [
    "min_cost_tahoe_prob_df[min_cost_tahoe_prob_df.option==1]"
   ]
  },
  {
   "cell_type": "code",
   "execution_count": 355,
   "metadata": {
    "collapsed": false
   },
   "outputs": [],
   "source": [
    "# Find the savings per cluster"
   ]
  },
  {
   "cell_type": "code",
   "execution_count": 383,
   "metadata": {
    "collapsed": false
   },
   "outputs": [],
   "source": []
  },
  {
   "cell_type": "code",
   "execution_count": 391,
   "metadata": {
    "collapsed": false
   },
   "outputs": [],
   "source": [
    "savings_over_readmit= sum(min_cost_tahoe_prob_df.readmit_cost_cluster -min_cost_tahoe_prob_df.min_cost )\n",
    "savings_over_care_tracker = sum(min_cost_tahoe_prob_df.care_tracker_cost_cluster-min_cost_tahoe_prob_df.min_cost )"
   ]
  },
  {
   "cell_type": "code",
   "execution_count": 620,
   "metadata": {
    "collapsed": false
   },
   "outputs": [
    {
     "name": "stdout",
     "output_type": "stream",
     "text": [
      "Tahoe will save 426400.0000000002 compared to not assigning anyone to care tracker\n",
      "Tahoe will save 2491200.0 compared to assigning everyone to care tracker\n",
      "The baseline probability of re-admittance is 22.77%\n",
      "The baseline of no readmittance is 77.23%\n"
     ]
    }
   ],
   "source": [
    "print(\"Tahoe will save {} compared to not assigning anyone to care tracker\".format(savings_over_readmit))\n",
    "print(\"Tahoe will save {} compared to assigning everyone to care tracker\".format(savings_over_care_tracker))\n",
    "baseline_readmittance =  sum(min_cost_tahoe_prob_df.readmit_per_cluster)/sum(min_cost_tahoe_prob_df.patients_per_cluster)\n",
    "baseline_noreadmittance = 1-baseline_readmittance\n",
    "print(\"The baseline probability of re-admittance is {:.2%}\".format(\n",
    "        sum(min_cost_tahoe_prob_df.readmit_per_cluster)/sum(min_cost_tahoe_prob_df.patients_per_cluster)))\n",
    "print(\"The baseline of no readmittance is {:.2%}\".format(baseline_noreadmittance))"
   ]
  },
  {
   "cell_type": "markdown",
   "metadata": {},
   "source": [
    "### Following the advice from managerial clustering on which segments to assign to care tracker, we would save `$2,491,200` compared to assigning everyone to  care tracker and will save `$426,000` compared to not assigning anyone to care tracker.\n",
    "- This is assuming our sample of patients represents the entire population of patients\n",
    "- Managerial is typically easier for businesses to implement compared to an algorithm\n",
    "- However, some risks inlude the fact the this is a static model that does not evolve over time.\n",
    "\n",
    "\n",
    "> We should assign segments, 31,29,25,27,30, and 28 to care tracker\n",
    "- 31: comorbidity_score above 131, severity_score above 32, in flu season\n",
    "- 29: comorbidity_score above 131, severity_score 19-32, in flu season\n",
    "- 25: comorbidity_score above 131, severity_score below 8, in flu season\n",
    "- 27: comorbidity_score above 131, severity_score 8 to 19, in flu season\n",
    "- 30: comorbidity_score above 131, severity_score above 32, not in flu season\n",
    "- 28: comorbidity_score above 131, severity_score 19-32, not in flu season"
   ]
  },
  {
   "cell_type": "markdown",
   "metadata": {},
   "source": [
    "# Next, investigate statistical clustering and machine learning to determine the best option.\n",
    "- Start with k-means\n",
    "    - To find the ideal number of clusters, run a silhouette score model on different cluster sizes\n",
    "    - Don't cluster on readmit rate, we don't know this when a patient comes in\n",
    "- Then, investigate a couple supervised classification models"
   ]
  },
  {
   "cell_type": "code",
   "execution_count": 403,
   "metadata": {
    "collapsed": true
   },
   "outputs": [],
   "source": [
    "def euclidean_distance(a,b):\n",
    "    \"\"\"Expects numpy array and returns the euclidan distance between them\"\"\"\n",
    "    return sqrt(sum((a-b)**2))"
   ]
  },
  {
   "cell_type": "code",
   "execution_count": 415,
   "metadata": {
    "collapsed": false
   },
   "outputs": [
    {
     "data": {
      "text/html": [
       "<div>\n",
       "<table border=\"1\" class=\"dataframe\">\n",
       "  <thead>\n",
       "    <tr style=\"text-align: right;\">\n",
       "      <th></th>\n",
       "      <th>﻿age</th>\n",
       "      <th>female</th>\n",
       "      <th>flu_season</th>\n",
       "      <th>ed_admit</th>\n",
       "      <th>severity score</th>\n",
       "    </tr>\n",
       "  </thead>\n",
       "  <tbody>\n",
       "    <tr>\n",
       "      <th>0</th>\n",
       "      <td>100</td>\n",
       "      <td>1</td>\n",
       "      <td>1</td>\n",
       "      <td>1</td>\n",
       "      <td>38</td>\n",
       "    </tr>\n",
       "    <tr>\n",
       "      <th>1</th>\n",
       "      <td>83</td>\n",
       "      <td>1</td>\n",
       "      <td>0</td>\n",
       "      <td>1</td>\n",
       "      <td>8</td>\n",
       "    </tr>\n",
       "    <tr>\n",
       "      <th>2</th>\n",
       "      <td>74</td>\n",
       "      <td>0</td>\n",
       "      <td>1</td>\n",
       "      <td>0</td>\n",
       "      <td>1</td>\n",
       "    </tr>\n",
       "    <tr>\n",
       "      <th>3</th>\n",
       "      <td>66</td>\n",
       "      <td>1</td>\n",
       "      <td>1</td>\n",
       "      <td>1</td>\n",
       "      <td>25</td>\n",
       "    </tr>\n",
       "    <tr>\n",
       "      <th>4</th>\n",
       "      <td>68</td>\n",
       "      <td>1</td>\n",
       "      <td>1</td>\n",
       "      <td>1</td>\n",
       "      <td>25</td>\n",
       "    </tr>\n",
       "  </tbody>\n",
       "</table>\n",
       "</div>"
      ],
      "text/plain": [
       "   ﻿age  female  flu_season  ed_admit  severity score\n",
       "0   100       1           1         1              38\n",
       "1    83       1           0         1               8\n",
       "2    74       0           1         0               1\n",
       "3    66       1           1         1              25\n",
       "4    68       1           1         1              25"
      ]
     },
     "execution_count": 415,
     "metadata": {},
     "output_type": "execute_result"
    }
   ],
   "source": [
    "clustering_df = tahoe_df.iloc[:,:5]\n",
    "clustering_df.head()"
   ]
  },
  {
   "cell_type": "code",
   "execution_count": 433,
   "metadata": {
    "collapsed": true
   },
   "outputs": [],
   "source": [
    "\n",
    "def sample_silhouette_score(dataframe_input,max_cluster_size=100):\n",
    "    \"\"\"Run a three fold CV on 10,000 samples from the dataframe to determine the ideal number of clusters.\n",
    "    Output is the ideal number of clusters of 3 CV folds with 10k samples.\"\"\"\n",
    "    silhouette_score_l = []\n",
    "    predicted_labels = defaultdict(list)\n",
    "    for clusters in range(2,max_cluster_size):\n",
    "        knn_classifier = KMeans(clusters)\n",
    "        silhouette_scores_for_this_cluster = []\n",
    "        fit_knn = knn_classifier.fit(dataframe_input)\n",
    "        predicted_labels[clusters]=fit_knn.labels_\n",
    "        predicted_lab = fit_knn.labels_\n",
    "        silhouette_score_l.append(silhouette_score(X=dataframe_input,labels=predicted_lab))\n",
    "        print('Finished iteration {}'.format(clusters))\n",
    "    number_of_clusters = [i for i in range(2,max_cluster_size)]\n",
    "    plt.plot([i for i in range(2,max_cluster_size)],silhouette_score_l)\n",
    "    plt.title('Ideal Number of Clusters')\n",
    "    plt.ylabel('Silhouette score')\n",
    "    plt.xlabel('Number of clusters')\n",
    "    print('The best number of clusters is {}'.format(number_of_clusters[np.argmax(np.array(silhouette_score_l))]))\n",
    "    return predicted_labels[number_of_clusters[np.argmax(np.array(silhouette_score_l))]]\n",
    "    "
   ]
  },
  {
   "cell_type": "code",
   "execution_count": 434,
   "metadata": {
    "collapsed": false
   },
   "outputs": [
    {
     "name": "stdout",
     "output_type": "stream",
     "text": [
      "Finished iteration 2\n",
      "Finished iteration 3\n",
      "Finished iteration 4\n",
      "Finished iteration 5\n",
      "Finished iteration 6\n",
      "Finished iteration 7\n",
      "Finished iteration 8\n",
      "Finished iteration 9\n",
      "Finished iteration 10\n",
      "Finished iteration 11\n",
      "Finished iteration 12\n",
      "Finished iteration 13\n",
      "Finished iteration 14\n",
      "Finished iteration 15\n",
      "Finished iteration 16\n",
      "Finished iteration 17\n",
      "Finished iteration 18\n",
      "Finished iteration 19\n",
      "Finished iteration 20\n",
      "Finished iteration 21\n",
      "Finished iteration 22\n",
      "Finished iteration 23\n",
      "Finished iteration 24\n",
      "Finished iteration 25\n",
      "Finished iteration 26\n",
      "Finished iteration 27\n",
      "Finished iteration 28\n",
      "Finished iteration 29\n",
      "Finished iteration 30\n",
      "Finished iteration 31\n",
      "Finished iteration 32\n",
      "Finished iteration 33\n",
      "Finished iteration 34\n",
      "Finished iteration 35\n",
      "Finished iteration 36\n",
      "Finished iteration 37\n",
      "Finished iteration 38\n",
      "Finished iteration 39\n",
      "Finished iteration 40\n",
      "Finished iteration 41\n",
      "Finished iteration 42\n",
      "Finished iteration 43\n",
      "Finished iteration 44\n",
      "Finished iteration 45\n",
      "Finished iteration 46\n",
      "Finished iteration 47\n",
      "Finished iteration 48\n",
      "Finished iteration 49\n",
      "Finished iteration 50\n",
      "Finished iteration 51\n",
      "Finished iteration 52\n",
      "Finished iteration 53\n",
      "Finished iteration 54\n",
      "Finished iteration 55\n",
      "Finished iteration 56\n",
      "Finished iteration 57\n",
      "Finished iteration 58\n",
      "Finished iteration 59\n",
      "Finished iteration 60\n",
      "Finished iteration 61\n",
      "Finished iteration 62\n",
      "Finished iteration 63\n",
      "Finished iteration 64\n",
      "Finished iteration 65\n",
      "Finished iteration 66\n",
      "Finished iteration 67\n",
      "Finished iteration 68\n",
      "Finished iteration 69\n",
      "Finished iteration 70\n",
      "Finished iteration 71\n",
      "Finished iteration 72\n",
      "Finished iteration 73\n",
      "Finished iteration 74\n",
      "Finished iteration 75\n",
      "Finished iteration 76\n",
      "Finished iteration 77\n",
      "Finished iteration 78\n",
      "Finished iteration 79\n",
      "Finished iteration 80\n",
      "Finished iteration 81\n",
      "Finished iteration 82\n",
      "Finished iteration 83\n",
      "Finished iteration 84\n",
      "Finished iteration 85\n",
      "Finished iteration 86\n",
      "Finished iteration 87\n",
      "Finished iteration 88\n",
      "Finished iteration 89\n",
      "Finished iteration 90\n",
      "Finished iteration 91\n",
      "Finished iteration 92\n",
      "Finished iteration 93\n",
      "Finished iteration 94\n",
      "Finished iteration 95\n",
      "Finished iteration 96\n",
      "Finished iteration 97\n",
      "Finished iteration 98\n",
      "Finished iteration 99\n",
      "The best number of clusters is 2\n"
     ]
    },
    {
     "data": {
      "image/png": "[encoded data removed]",
      "text/plain": [
       "<matplotlib.figure.Figure at 0x1043baf28>"
      ]
     },
     "metadata": {},
     "output_type": "display_data"
    }
   ],
   "source": [
    "clustered_labels = sample_silhouette_score(clustering_df)"
   ]
  },
  {
   "cell_type": "markdown",
   "metadata": {},
   "source": [
    "##### The ideal number of clusters is two, which means that there is not a lot of difference in the people being clustered. We will skip the clustering here and move onto a machine learning algorithm\n",
    "- Test random forest\n",
    "- Logistic regression\n",
    "\n",
    "\n",
    "##### To deal with the class imbalance, create stratified sampling methods to form a balanced class"
   ]
  },
  {
   "cell_type": "code",
   "execution_count": 34,
   "metadata": {
    "collapsed": false
   },
   "outputs": [],
   "source": [
    "admitted_df =tahoe_df[tahoe_df.readmit30==1]\n"
   ]
  },
  {
   "cell_type": "code",
   "execution_count": 35,
   "metadata": {
    "collapsed": true
   },
   "outputs": [],
   "source": [
    "not_admitted_df = tahoe_df[tahoe_df.readmit30==0]"
   ]
  },
  {
   "cell_type": "code",
   "execution_count": 36,
   "metadata": {
    "collapsed": false
   },
   "outputs": [
    {
     "data": {
      "text/plain": [
       "998"
      ]
     },
     "execution_count": 36,
     "metadata": {},
     "output_type": "execute_result"
    }
   ],
   "source": [
    "len(admitted_df)"
   ]
  },
  {
   "cell_type": "markdown",
   "metadata": {},
   "source": [
    "### Take sample s of 998 from the not_admitted_df to create balanced classes\n",
    "- Baseline is 50/50 is a balanced class"
   ]
  },
  {
   "cell_type": "code",
   "execution_count": 37,
   "metadata": {
    "collapsed": true
   },
   "outputs": [],
   "source": [
    "sample_1 = not_admitted_df.sample(998)"
   ]
  },
  {
   "cell_type": "code",
   "execution_count": 38,
   "metadata": {
    "collapsed": false
   },
   "outputs": [],
   "source": [
    "balanced_df_1 =pd.concat([sample_1,admitted_df])"
   ]
  },
  {
   "cell_type": "code",
   "execution_count": 39,
   "metadata": {
    "collapsed": false
   },
   "outputs": [
    {
     "data": {
      "text/html": [
       "<div>\n",
       "<table border=\"1\" class=\"dataframe\">\n",
       "  <thead>\n",
       "    <tr style=\"text-align: right;\">\n",
       "      <th></th>\n",
       "      <th>female</th>\n",
       "      <th>flu_season</th>\n",
       "      <th>ed_admit</th>\n",
       "      <th>readmit30</th>\n",
       "      <th>age</th>\n",
       "      <th>severity_score</th>\n",
       "      <th>comorbidity_score</th>\n",
       "      <th>severity_quantile</th>\n",
       "      <th>comorbidity_quantile</th>\n",
       "    </tr>\n",
       "  </thead>\n",
       "  <tbody>\n",
       "    <tr>\n",
       "      <th>4357</th>\n",
       "      <td>1</td>\n",
       "      <td>1</td>\n",
       "      <td>1</td>\n",
       "      <td>1</td>\n",
       "      <td>88</td>\n",
       "      <td>42</td>\n",
       "      <td>44</td>\n",
       "      <td>3</td>\n",
       "      <td>0</td>\n",
       "    </tr>\n",
       "    <tr>\n",
       "      <th>4364</th>\n",
       "      <td>0</td>\n",
       "      <td>0</td>\n",
       "      <td>1</td>\n",
       "      <td>1</td>\n",
       "      <td>73</td>\n",
       "      <td>48</td>\n",
       "      <td>213</td>\n",
       "      <td>3</td>\n",
       "      <td>3</td>\n",
       "    </tr>\n",
       "    <tr>\n",
       "      <th>4366</th>\n",
       "      <td>1</td>\n",
       "      <td>1</td>\n",
       "      <td>1</td>\n",
       "      <td>1</td>\n",
       "      <td>72</td>\n",
       "      <td>27</td>\n",
       "      <td>128</td>\n",
       "      <td>2</td>\n",
       "      <td>2</td>\n",
       "    </tr>\n",
       "    <tr>\n",
       "      <th>4370</th>\n",
       "      <td>0</td>\n",
       "      <td>0</td>\n",
       "      <td>1</td>\n",
       "      <td>1</td>\n",
       "      <td>83</td>\n",
       "      <td>48</td>\n",
       "      <td>172</td>\n",
       "      <td>3</td>\n",
       "      <td>3</td>\n",
       "    </tr>\n",
       "    <tr>\n",
       "      <th>4373</th>\n",
       "      <td>1</td>\n",
       "      <td>1</td>\n",
       "      <td>1</td>\n",
       "      <td>1</td>\n",
       "      <td>67</td>\n",
       "      <td>13</td>\n",
       "      <td>45</td>\n",
       "      <td>1</td>\n",
       "      <td>0</td>\n",
       "    </tr>\n",
       "  </tbody>\n",
       "</table>\n",
       "</div>"
      ],
      "text/plain": [
       "      female  flu_season  ed_admit  readmit30  age  severity_score  \\\n",
       "4357       1           1         1          1   88              42   \n",
       "4364       0           0         1          1   73              48   \n",
       "4366       1           1         1          1   72              27   \n",
       "4370       0           0         1          1   83              48   \n",
       "4373       1           1         1          1   67              13   \n",
       "\n",
       "      comorbidity_score  severity_quantile  comorbidity_quantile  \n",
       "4357                 44                  3                     0  \n",
       "4364                213                  3                     3  \n",
       "4366                128                  2                     2  \n",
       "4370                172                  3                     3  \n",
       "4373                 45                  1                     0  "
      ]
     },
     "execution_count": 39,
     "metadata": {},
     "output_type": "execute_result"
    }
   ],
   "source": [
    "balanced_df_1.tail()"
   ]
  },
  {
   "cell_type": "code",
   "execution_count": 40,
   "metadata": {
    "collapsed": true
   },
   "outputs": [],
   "source": [
    "# not balanced\n",
    "tahoe_X = tahoe_df.loc[:,('female', 'flu_season', 'ed_admit',  'age',\\\n",
    "       'severity_score', 'comorbidity_score')]\n",
    "tahoe_y = tahoe_df.loc[:,'readmit30']\n",
    "tahoe_X_labels = ['female', 'flu_season', 'ed_admit', 'age',\n",
    "       'severity_score', 'comorbidity_score']\n",
    "tahoe_y_labels = 'readmit30'"
   ]
  },
  {
   "cell_type": "code",
   "execution_count": 41,
   "metadata": {
    "collapsed": true
   },
   "outputs": [],
   "source": [
    "tahoe_bal_X = balanced_df_1.loc[:,('female', 'flu_season', 'ed_admit',  'age',\\\n",
    "       'severity_score', 'comorbidity_score')]\n",
    "tahoe_bal_y = balanced_df_1.loc[:,'readmit30']\n",
    "tahoe_X_labels = ['female', 'flu_season', 'ed_admit', 'age',\n",
    "       'severity_score', 'comorbidity_score']\n",
    "tahoe_y_labels = 'readmit30'"
   ]
  },
  {
   "cell_type": "code",
   "execution_count": 42,
   "metadata": {
    "collapsed": true
   },
   "outputs": [],
   "source": [
    "# Create RF model\n",
    "best_rf_model = RandomForestClassifier(1000)"
   ]
  },
  {
   "cell_type": "code",
   "execution_count": null,
   "metadata": {
    "collapsed": true
   },
   "outputs": [],
   "source": []
  },
  {
   "cell_type": "code",
   "execution_count": 43,
   "metadata": {
    "collapsed": true
   },
   "outputs": [],
   "source": [
    "X_train_rf, X_test_rf, y_train_rf, y_test_rf = train_test_split(tahoe_X,tahoe_y,random_state=42)"
   ]
  },
  {
   "cell_type": "code",
   "execution_count": 45,
   "metadata": {
    "collapsed": false
   },
   "outputs": [
    {
     "name": "stdout",
     "output_type": "stream",
     "text": [
      "Best RF RMSE :0.47855469754265917\n",
      "\n",
      "Best RF R^2 score :24.60%\n",
      "\n",
      "Best accuracy score 77.10%\n",
      "[('Feature:', 'comorbidity_score', 'Importance:', 0.43607552236893687), ('Feature:', 'severity_score', 'Importance:', 0.27314003268246612), ('Feature:', 'age', 'Importance:', 0.2179161600954134), ('Feature:', 'flu_season', 'Importance:', 0.029277844544063902), ('Feature:', 'female', 'Importance:', 0.026316135160830638), ('Feature:', 'ed_admit', 'Importance:', 0.01727430514828928)]\n"
     ]
    }
   ],
   "source": [
    "# Best random forest\n",
    "best_rf_model.fit( X_train_rf, y_train_rf)\n",
    "\n",
    "\n",
    "best_rf_rmse =euclidean(y_test_rf,best_rf_model.predict(X_test_rf))/sqrt(len(y_test_rf))\n",
    "print('Best RF RMSE :{}'.format(best_rf_rmse ))\n",
    "print()\n",
    "best_rf_r2 =abs(r2_score(y_test_rf,best_rf_model.predict(X_test_rf)))\n",
    "print('Best RF R^2 score :{:.2%}'.format(best_rf_r2))\n",
    "print()\n",
    "rf_accuracy_score = accuracy_score(y_test_rf,best_rf_model.predict(X_test_rf))\n",
    "print(\"Best accuracy score {:.2%}\".format(rf_accuracy_score))\n",
    "feature_weights_rf = best_rf_model.feature_importances_[np.argsort(best_rf_model.feature_importances_)[::-1]]\n",
    "# print(regression_tahoe_readmit.x_labels) \n",
    "feature_names_rf = np.array(tahoe_X.columns)[np.argsort(best_rf_model.feature_importances_)[::-1]]\n",
    "\n",
    "print([('Feature:',i,'Importance:',f)\\\n",
    "for f,i in zip(best_rf_model.feature_importances_[np.argsort(best_rf_model.feature_importances_)[::-1]],\\\n",
    "                        np.array(tahoe_X.columns)[np.argsort(best_rf_model.feature_importances_)[::-1]])])"
   ]
  },
  {
   "cell_type": "code",
   "execution_count": 81,
   "metadata": {
    "collapsed": false
   },
   "outputs": [],
   "source": [
    "fpr_rf,tpr_rf,threshold_rf = roc_curve(y_test_rf, best_rf_model.predict(X_test_rf))"
   ]
  },
  {
   "cell_type": "code",
   "execution_count": 83,
   "metadata": {
    "collapsed": false
   },
   "outputs": [],
   "source": [
    "auc_rf = auc(fpr_rf,tpr_rf)"
   ]
  },
  {
   "cell_type": "code",
   "execution_count": 47,
   "metadata": {
    "collapsed": false
   },
   "outputs": [
    {
     "data": {
      "text/plain": [
       "array([2, 1, 0])"
      ]
     },
     "execution_count": 47,
     "metadata": {},
     "output_type": "execute_result"
    }
   ],
   "source": [
    "threshold_rf "
   ]
  },
  {
   "cell_type": "code",
   "execution_count": 49,
   "metadata": {
    "collapsed": false
   },
   "outputs": [
    {
     "data": {
      "text/plain": [
       "[<matplotlib.lines.Line2D at 0x11919e320>]"
      ]
     },
     "execution_count": 49,
     "metadata": {},
     "output_type": "execute_result"
    },
    {
     "data": {
      "image/png": "[encoded data removed]",
      "text/plain": [
       "<matplotlib.figure.Figure at 0x11629e710>"
      ]
     },
     "metadata": {},
     "output_type": "display_data"
    }
   ],
   "source": [
    "plt.plot(fpr_rf,tpr_rf)"
   ]
  },
  {
   "cell_type": "markdown",
   "metadata": {},
   "source": [
    "## Next, try logistic classification"
   ]
  },
  {
   "cell_type": "code",
   "execution_count": 50,
   "metadata": {
    "collapsed": true
   },
   "outputs": [],
   "source": [
    "\n",
    "logistic_model = LogisticRegression(penalty='l2')"
   ]
  },
  {
   "cell_type": "code",
   "execution_count": 51,
   "metadata": {
    "collapsed": true
   },
   "outputs": [],
   "source": [
    "X_train_log, X_test_log, y_train_log, y_test_log = train_test_split(tahoe_X,tahoe_y,random_state=42)"
   ]
  },
  {
   "cell_type": "code",
   "execution_count": 52,
   "metadata": {
    "collapsed": false
   },
   "outputs": [
    {
     "data": {
      "text/plain": [
       "LogisticRegression(C=1.0, class_weight=None, dual=False, fit_intercept=True,\n",
       "          intercept_scaling=1, max_iter=100, multi_class='ovr', n_jobs=1,\n",
       "          penalty='l2', random_state=None, solver='liblinear', tol=0.0001,\n",
       "          verbose=0, warm_start=False)"
      ]
     },
     "execution_count": 52,
     "metadata": {},
     "output_type": "execute_result"
    }
   ],
   "source": [
    "logistic_model.fit(X_train_log,y_train_log)"
   ]
  },
  {
   "cell_type": "code",
   "execution_count": 53,
   "metadata": {
    "collapsed": false
   },
   "outputs": [
    {
     "name": "stdout",
     "output_type": "stream",
     "text": [
      "Best logistic RMSE :0.45409732388778046\n",
      "\n",
      "Best logistic R^2 score :12.19%\n",
      "\n",
      "Best logistic accuracy 79.4%\n",
      "[('Feature:', 'flu_season', 'Importance:', 0.70175268891372855), ('Feature:', 'female', 'Importance:', 0.228045760434576), ('Feature:', 'severity_score', 'Importance:', 0.11564181427083099), ('Feature:', 'comorbidity_score', 'Importance:', 0.027685577324908353), ('Feature:', 'age', 'Importance:', 0.015867558841762584), ('Feature:', 'ed_admit', 'Importance:', 0.0095862704273493513)]\n"
     ]
    }
   ],
   "source": [
    "best_logistic_rmse =euclidean(y_test_log,logistic_model.predict(X_test_log))/sqrt(len(y_test_log))\n",
    "print('Best logistic RMSE :{}'.format(best_logistic_rmse))\n",
    "print()\n",
    "best_logistic_r2 = abs(r2_score(y_test_log,logistic_model.predict(X_test_log)))\n",
    "print('Best logistic R^2 score :{:.2%}'.format(best_logistic_r2))\n",
    "print()\n",
    "accuracy_score_log = accuracy_score(y_test_log,logistic_model.predict(X_test_log))\n",
    "print(\"Best logistic accuracy {:.1%}\".format(accuracy_score_log))\n",
    "\n",
    "feature_weights_logistic = abs(logistic_model.coef_)[0][np.argsort(abs(logistic_model.coef_))[0][::-1]]\n",
    "feature_names_logistic = np.array(tahoe_X.columns)[np.argsort(logistic_model.coef_)[0][::-1]]\n",
    "\n",
    "print([('Feature:',i,'Importance:',f)\\\n",
    "    for f,i in zip(feature_weights_logistic ,\\\n",
    "                        feature_names_logistic)])"
   ]
  },
  {
   "cell_type": "code",
   "execution_count": 54,
   "metadata": {
    "collapsed": true
   },
   "outputs": [],
   "source": [
    "fpr_log,tpr_log,threshold = roc_curve(y_test_log, logistic_model.predict(X_test_log))"
   ]
  },
  {
   "cell_type": "code",
   "execution_count": 84,
   "metadata": {
    "collapsed": false
   },
   "outputs": [],
   "source": [
    "auc_log = auc(fpr_log,tpr_log)"
   ]
  },
  {
   "cell_type": "code",
   "execution_count": null,
   "metadata": {
    "collapsed": true
   },
   "outputs": [],
   "source": []
  },
  {
   "cell_type": "code",
   "execution_count": null,
   "metadata": {
    "collapsed": true
   },
   "outputs": [],
   "source": []
  },
  {
   "cell_type": "markdown",
   "metadata": {},
   "source": [
    "# Try gradient boosting as well"
   ]
  },
  {
   "cell_type": "code",
   "execution_count": 57,
   "metadata": {
    "collapsed": true
   },
   "outputs": [],
   "source": [
    "GBoostModel = GradientBoostingClassifier(max_depth=2,n_estimators=1000)"
   ]
  },
  {
   "cell_type": "code",
   "execution_count": 58,
   "metadata": {
    "collapsed": true
   },
   "outputs": [],
   "source": [
    "X_train_gb, X_test_gb, y_train_gb, y_test_gb = train_test_split(tahoe_X,tahoe_y,random_state=42)"
   ]
  },
  {
   "cell_type": "code",
   "execution_count": 59,
   "metadata": {
    "collapsed": false
   },
   "outputs": [
    {
     "data": {
      "text/plain": [
       "GradientBoostingClassifier(criterion='friedman_mse', init=None,\n",
       "              learning_rate=0.1, loss='deviance', max_depth=2,\n",
       "              max_features=None, max_leaf_nodes=None,\n",
       "              min_impurity_split=1e-07, min_samples_leaf=1,\n",
       "              min_samples_split=2, min_weight_fraction_leaf=0.0,\n",
       "              n_estimators=1000, presort='auto', random_state=None,\n",
       "              subsample=1.0, verbose=0, warm_start=False)"
      ]
     },
     "execution_count": 59,
     "metadata": {},
     "output_type": "execute_result"
    }
   ],
   "source": [
    "GBoostModel.fit(X_train_gb,y_train_gb)"
   ]
  },
  {
   "cell_type": "code",
   "execution_count": 60,
   "metadata": {
    "collapsed": false
   },
   "outputs": [
    {
     "name": "stdout",
     "output_type": "stream",
     "text": [
      "Best gb RMSE :0.46107617686876035\n",
      "\n",
      "Best gb R^2 score :15.67%\n",
      "\n",
      "Best gb accuracy 78.7%\n",
      "[('Feature:', 'comorbidity_score', 'Importance:', 0.4958466243170474), ('Feature:', 'severity_score', 'Importance:', 0.25677060850740036), ('Feature:', 'age', 'Importance:', 0.19349876063105856), ('Feature:', 'female', 'Importance:', 0.022446611828486639), ('Feature:', 'ed_admit', 'Importance:', 0.018907262087995848), ('Feature:', 'flu_season', 'Importance:', 0.012530132628011099)]\n"
     ]
    }
   ],
   "source": [
    "best_gb_rmse =euclidean(y_test_gb,GBoostModel.predict(X_test_gb))/sqrt(len(y_test_gb))\n",
    "print('Best gb RMSE :{}'.format(best_gb_rmse))\n",
    "print()\n",
    "best_gb_r2 = abs(r2_score(y_test_gb,GBoostModel.predict(X_test_gb)))\n",
    "print('Best gb R^2 score :{:.2%}'.format(best_gb_r2))\n",
    "print()\n",
    "accuracy_score_gb = accuracy_score(y_test_gb,GBoostModel.predict(X_test_gb))\n",
    "print(\"Best gb accuracy {:.1%}\".format(accuracy_score_gb))\n",
    "\n",
    "feature_weights_gb = GBoostModel.feature_importances_[np.argsort(GBoostModel.feature_importances_)[::-1]]\n",
    "feature_names_gb = np.array(tahoe_X.columns)[np.argsort(GBoostModel.feature_importances_)[::-1]]\n",
    "\n",
    "print([('Feature:',i,'Importance:',f)\\\n",
    "    for f,i in zip(feature_weights_gb ,\\\n",
    "                        feature_names_gb)])"
   ]
  },
  {
   "cell_type": "code",
   "execution_count": 61,
   "metadata": {
    "collapsed": true
   },
   "outputs": [],
   "source": [
    "fpr_gb,tpr_gb,threshold = roc_curve(y_test_gb, GBoostModel.predict(X_test_gb))"
   ]
  },
  {
   "cell_type": "code",
   "execution_count": 86,
   "metadata": {
    "collapsed": false
   },
   "outputs": [],
   "source": [
    "auc_gb= auc(fpr_gb,tpr_gb)"
   ]
  },
  {
   "cell_type": "markdown",
   "metadata": {},
   "source": [
    "# Finally, use support vector machines to predict readmission\n"
   ]
  },
  {
   "cell_type": "code",
   "execution_count": 66,
   "metadata": {
    "collapsed": true
   },
   "outputs": [],
   "source": [
    "svm_model = SVC()"
   ]
  },
  {
   "cell_type": "code",
   "execution_count": 67,
   "metadata": {
    "collapsed": false
   },
   "outputs": [],
   "source": [
    "params_svm ={'C':[i for i in np.linspace(.1,20,50)]}"
   ]
  },
  {
   "cell_type": "code",
   "execution_count": 68,
   "metadata": {
    "collapsed": false
   },
   "outputs": [],
   "source": [
    "best_svm_model = GridSearchCV(svm_model,params_svm)"
   ]
  },
  {
   "cell_type": "code",
   "execution_count": 69,
   "metadata": {
    "collapsed": true
   },
   "outputs": [],
   "source": [
    "X_train_svm, X_test_svm, y_train_svm, y_test_svm = train_test_split(tahoe_X,tahoe_y,random_state=42)"
   ]
  },
  {
   "cell_type": "code",
   "execution_count": 70,
   "metadata": {
    "collapsed": false
   },
   "outputs": [
    {
     "name": "stdout",
     "output_type": "stream",
     "text": [
      "hi\n"
     ]
    }
   ],
   "source": [
    "print('hi')"
   ]
  },
  {
   "cell_type": "code",
   "execution_count": null,
   "metadata": {
    "collapsed": false
   },
   "outputs": [],
   "source": [
    "svm_model = best_svm_model.fit(X_train_svm,y_train_svm)"
   ]
  },
  {
   "cell_type": "code",
   "execution_count": 77,
   "metadata": {
    "collapsed": false
   },
   "outputs": [
    {
     "name": "stdout",
     "output_type": "stream",
     "text": [
      "Best svm RMSE :0.4926466582927436\n",
      "\n",
      "Best svm R^2 score :32.05%\n",
      "\n",
      "Best svm accuracy 75.7%\n"
     ]
    }
   ],
   "source": [
    "best_svm_rmse =euclidean(y_test_svm,svm_model.predict(X_test_svm))/sqrt(len(y_test_svm))\n",
    "print('Best svm RMSE :{}'.format(best_svm_rmse))\n",
    "print()\n",
    "best_svm_r2 = abs(r2_score(y_test_svm,svm_model.predict(X_test_svm)))\n",
    "print('Best svm R^2 score :{:.2%}'.format(best_svm_r2))\n",
    "print()\n",
    "accuracy_score_svm = accuracy_score(y_test_svm,svm_model.predict(X_test_svm))\n",
    "print(\"Best svm accuracy {:.1%}\".format(accuracy_score_svm))\n",
    "\n",
    "#feature_weights_svm = GBoostModel.feature_importances_[np.argsort(GBoostModel.feature_importances_)[::-1]]\n",
    "#feature_names_svm = np.array(tahoe_X.columns)[np.argsort(GBoostModel.feature_importances_)[::-1]]\n",
    "\n",
    "#print([('Feature:',i,'Importance:',f)\\\n",
    "#    for f,i in zip(feature_weights_gb ,\\\n",
    "#                        feature_names_gb)])"
   ]
  },
  {
   "cell_type": "code",
   "execution_count": 78,
   "metadata": {
    "collapsed": true
   },
   "outputs": [],
   "source": [
    "fpr_svm,tpr_svm,threshold_svm = roc_curve(y_test_svm,best_svm_model.predict(X_test_svm))"
   ]
  },
  {
   "cell_type": "code",
   "execution_count": 87,
   "metadata": {
    "collapsed": true
   },
   "outputs": [],
   "source": [
    "auc_svm = auc(fpr_svm,tpr_svm)"
   ]
  },
  {
   "cell_type": "code",
   "execution_count": 91,
   "metadata": {
    "collapsed": false
   },
   "outputs": [
    {
     "data": {
      "text/plain": [
       "array([0, 0, 0, ..., 0, 0, 0])"
      ]
     },
     "execution_count": 91,
     "metadata": {},
     "output_type": "execute_result"
    }
   ],
   "source": [
    "best_svm_model.predict(X_test_svm)"
   ]
  },
  {
   "cell_type": "code",
   "execution_count": 88,
   "metadata": {
    "collapsed": false
   },
   "outputs": [
    {
     "name": "stdout",
     "output_type": "stream",
     "text": [
      "The area under the curve for logistic 0.6301114231361535, random forest 0.6188830510009965, gradient boosting 0.6284491348854062, and svm 0.5\n"
     ]
    }
   ],
   "source": [
    "print(\"The area under the curve for logistic {}, random forest {}, gradient boosting {}, and svm {}\".format(\n",
    "    auc_log,auc_rf,auc_gb,auc_svm))"
   ]
  },
  {
   "cell_type": "code",
   "execution_count": 79,
   "metadata": {
    "collapsed": false
   },
   "outputs": [
    {
     "data": {
      "text/plain": [
       "<matplotlib.legend.Legend at 0x119178f98>"
      ]
     },
     "execution_count": 79,
     "metadata": {},
     "output_type": "execute_result"
    },
    {
     "data": {
      "image/png": "[encoded data removed]",
      "text/plain": [
       "<matplotlib.figure.Figure at 0x118fe7748>"
      ]
     },
     "metadata": {},
     "output_type": "display_data"
    }
   ],
   "source": [
    "plt.figure(figsize=(10,5))\n",
    "plt.plot(fpr_log,tpr_log, label='LOG')\n",
    "plt.plot(fpr_rf,tpr_rf, label = 'RF')\n",
    "plt.plot(fpr_gb,tpr_gb,label='GB')\n",
    "plt.plot(fpr_svm,tpr_svm,label='SVM')\n",
    "plt.title(\"ROC curve to predict readmission\")\n",
    "plt.ylabel(\"True Positive Rate\")\n",
    "plt.xlabel(\"False Postiive Rate\")\n",
    "plt.legend()"
   ]
  },
  {
   "cell_type": "markdown",
   "metadata": {},
   "source": [
    "- Based upon this, use the Logistic Classification model\n",
    "- Run each row through the model, and generate a probability of readmittance\n"
   ]
  },
  {
   "cell_type": "code",
   "execution_count": 691,
   "metadata": {
    "collapsed": false
   },
   "outputs": [
    {
     "data": {
      "text/plain": [
       "1602"
      ]
     },
     "execution_count": 691,
     "metadata": {},
     "output_type": "execute_result"
    }
   ],
   "source": [
    "sum(logistic_model.predict(tahoe_X))"
   ]
  },
  {
   "cell_type": "code",
   "execution_count": 693,
   "metadata": {
    "collapsed": false
   },
   "outputs": [
    {
     "data": {
      "text/plain": [
       "998"
      ]
     },
     "execution_count": 693,
     "metadata": {},
     "output_type": "execute_result"
    }
   ],
   "source": [
    "sum(tahoe_y)\n"
   ]
  },
  {
   "cell_type": "code",
   "execution_count": null,
   "metadata": {
    "collapsed": true
   },
   "outputs": [],
   "source": []
  },
  {
   "cell_type": "code",
   "execution_count": null,
   "metadata": {
    "collapsed": true
   },
   "outputs": [],
   "source": []
  },
  {
   "cell_type": "code",
   "execution_count": null,
   "metadata": {
    "collapsed": true
   },
   "outputs": [],
   "source": []
  },
  {
   "cell_type": "code",
   "execution_count": null,
   "metadata": {
    "collapsed": true
   },
   "outputs": [],
   "source": []
  },
  {
   "cell_type": "code",
   "execution_count": 549,
   "metadata": {
    "collapsed": false
   },
   "outputs": [
    {
     "data": {
      "text/html": [
       "<div>\n",
       "<table border=\"1\" class=\"dataframe\">\n",
       "  <thead>\n",
       "    <tr style=\"text-align: right;\">\n",
       "      <th></th>\n",
       "      <th>female</th>\n",
       "      <th>flu_season</th>\n",
       "      <th>ed_admit</th>\n",
       "      <th>age</th>\n",
       "      <th>severity_score</th>\n",
       "      <th>comorbidity_score</th>\n",
       "    </tr>\n",
       "  </thead>\n",
       "  <tbody>\n",
       "    <tr>\n",
       "      <th>0</th>\n",
       "      <td>1</td>\n",
       "      <td>1</td>\n",
       "      <td>1</td>\n",
       "      <td>100</td>\n",
       "      <td>38</td>\n",
       "      <td>112</td>\n",
       "    </tr>\n",
       "    <tr>\n",
       "      <th>1</th>\n",
       "      <td>1</td>\n",
       "      <td>0</td>\n",
       "      <td>1</td>\n",
       "      <td>83</td>\n",
       "      <td>8</td>\n",
       "      <td>109</td>\n",
       "    </tr>\n",
       "    <tr>\n",
       "      <th>2</th>\n",
       "      <td>0</td>\n",
       "      <td>1</td>\n",
       "      <td>0</td>\n",
       "      <td>74</td>\n",
       "      <td>1</td>\n",
       "      <td>80</td>\n",
       "    </tr>\n",
       "    <tr>\n",
       "      <th>3</th>\n",
       "      <td>1</td>\n",
       "      <td>1</td>\n",
       "      <td>1</td>\n",
       "      <td>66</td>\n",
       "      <td>25</td>\n",
       "      <td>4</td>\n",
       "    </tr>\n",
       "    <tr>\n",
       "      <th>4</th>\n",
       "      <td>1</td>\n",
       "      <td>1</td>\n",
       "      <td>1</td>\n",
       "      <td>68</td>\n",
       "      <td>25</td>\n",
       "      <td>32</td>\n",
       "    </tr>\n",
       "  </tbody>\n",
       "</table>\n",
       "</div>"
      ],
      "text/plain": [
       "   female  flu_season  ed_admit  age  severity_score  comorbidity_score\n",
       "0       1           1         1  100              38                112\n",
       "1       1           0         1   83               8                109\n",
       "2       0           1         0   74               1                 80\n",
       "3       1           1         1   66              25                  4\n",
       "4       1           1         1   68              25                 32"
      ]
     },
     "execution_count": 549,
     "metadata": {},
     "output_type": "execute_result"
    }
   ],
   "source": [
    "tahoe_X.head()"
   ]
  },
  {
   "cell_type": "code",
   "execution_count": 590,
   "metadata": {
    "collapsed": false
   },
   "outputs": [],
   "source": [
    "logsitic_predictions_df = tahoe_df.copy()"
   ]
  },
  {
   "cell_type": "code",
   "execution_count": 591,
   "metadata": {
    "collapsed": false
   },
   "outputs": [],
   "source": [
    "readmit_predictions = logistic_model.predict(tahoe_X)"
   ]
  },
  {
   "cell_type": "code",
   "execution_count": 592,
   "metadata": {
    "collapsed": true
   },
   "outputs": [],
   "source": [
    "logistic_predictions_df['predictions_of_readmit']=readmit_predictions"
   ]
  },
  {
   "cell_type": "code",
   "execution_count": 593,
   "metadata": {
    "collapsed": false
   },
   "outputs": [
    {
     "data": {
      "text/plain": [
       "484"
      ]
     },
     "execution_count": 593,
     "metadata": {},
     "output_type": "execute_result"
    }
   ],
   "source": [
    "# RF predicts 987 people will be readmitted\n",
    "sum(logistic_predictions_df.predictions_of_readmit)"
   ]
  },
  {
   "cell_type": "code",
   "execution_count": 594,
   "metadata": {
    "collapsed": false
   },
   "outputs": [
    {
     "data": {
      "text/plain": [
       "998"
      ]
     },
     "execution_count": 594,
     "metadata": {},
     "output_type": "execute_result"
    }
   ],
   "source": [
    "# In reality there were 998 people who were readmitted\n",
    "sum(logistic_predictions_df.readmit30)"
   ]
  },
  {
   "cell_type": "markdown",
   "metadata": {},
   "source": [
    "- For every person that is predicted to be readmitted, assign them to a care tracker program\n",
    "    - Calculate the cost of this (`$1,200` per person plus\n",
    "- For every person that was not predicted to be readmitted, we was in reality readmitted,"
   ]
  }
 ],
 "metadata": {
  "anaconda-cloud": {},
  "kernelspec": {
   "display_name": "Python [default]",
   "language": "python",
   "name": "python3"
  },
  "language_info": {
   "codemirror_mode": {
    "name": "ipython",
    "version": 3
   },
   "file_extension": ".py",
   "mimetype": "text/x-python",
   "name": "python",
   "nbconvert_exporter": "python",
   "pygments_lexer": "ipython3",
   "version": "3.5.2"
  }
 },
 "nbformat": 4,
 "nbformat_minor": 1
}
