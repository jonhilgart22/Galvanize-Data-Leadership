{
 "cells": [
  {
   "cell_type": "markdown",
   "metadata": {
    "deletable": true,
    "editable": true
   },
   "source": [
    "Bayesian Modeling Example\n",
    "------\n",
    "\n",
    "<center><img src=\"images/dilbert_funny.jpg\" height=\"500\"/></center>\n",
    "\n",
    "We want to compare the click-through rate (CTR) for \"A\" and \"B\""
   ]
  },
  {
   "cell_type": "markdown",
   "metadata": {
    "deletable": true,
    "editable": true
   },
   "source": [
    "-----\n",
    "Let's look at the formula and derviation:\n",
    "http://www.evanmiller.org/bayesian-ab-testing.html"
   ]
  },
  {
   "cell_type": "markdown",
   "metadata": {
    "deletable": true,
    "editable": true
   },
   "source": [
    "Let's code it up\n",
    "------\n",
    "\n",
    "HT: http://engineering.richrelevance.com/bayesian-ab-tests/"
   ]
  },
  {
   "cell_type": "code",
   "execution_count": 93,
   "metadata": {
    "collapsed": true,
    "deletable": true,
    "editable": true
   },
   "outputs": [],
   "source": [
    "reset -fs"
   ]
  },
  {
   "cell_type": "code",
   "execution_count": 94,
   "metadata": {
    "collapsed": true,
    "deletable": true,
    "editable": true
   },
   "outputs": [],
   "source": [
    "import matplotlib.pyplot as plt\n",
    "from numpy.random import beta as beta_dist\n",
    "import numpy as np\n",
    "import pandas as pd\n",
    "\n",
    "%matplotlib inline"
   ]
  },
  {
   "cell_type": "markdown",
   "metadata": {
    "deletable": true,
    "editable": true
   },
   "source": [
    "If we let p ~ Beta(α=1, β=1) be the prior:"
   ]
  },
  {
   "cell_type": "code",
   "execution_count": 95,
   "metadata": {
    "collapsed": true,
    "deletable": true,
    "editable": true
   },
   "outputs": [],
   "source": [
    "α = 1 \n",
    "β = 1"
   ]
  },
  {
   "cell_type": "code",
   "execution_count": 96,
   "metadata": {
    "collapsed": true
   },
   "outputs": [],
   "source": [
    "# # From class\n",
    "\n",
    "# clicks_A = 563 \n",
    "# views_A = 835 \n",
    "# clicks_B = 463 \n",
    "# views_B = 829"
   ]
  },
  {
   "cell_type": "code",
   "execution_count": 84,
   "metadata": {
    "collapsed": true,
    "deletable": true,
    "editable": true
   },
   "outputs": [],
   "source": [
    "# # Very Different\n",
    "\n",
    "# clicks_A = 10_000 \n",
    "# views_A = 56_000 \n",
    "# clicks_B = 345 \n",
    "# views_B = 49_000"
   ]
  },
  {
   "cell_type": "code",
   "execution_count": 113,
   "metadata": {
    "collapsed": true
   },
   "outputs": [],
   "source": [
    "# Different\n",
    "\n",
    "clicks_A = 450 \n",
    "views_A = 56_000 \n",
    "clicks_B = 345 \n",
    "views_B = 49_000"
   ]
  },
  {
   "cell_type": "code",
   "execution_count": 107,
   "metadata": {
    "collapsed": true
   },
   "outputs": [],
   "source": [
    "# # Same, same\n",
    "\n",
    "# clicks_A = 450 \n",
    "# views_A = 56_000 \n",
    "# clicks_B = 450 \n",
    "# views_B = 56_000"
   ]
  },
  {
   "cell_type": "code",
   "execution_count": 119,
   "metadata": {
    "collapsed": true,
    "deletable": true,
    "editable": true
   },
   "outputs": [],
   "source": [
    "n_samples = 51 #10_000 # number of samples to draw"
   ]
  },
  {
   "cell_type": "code",
   "execution_count": 120,
   "metadata": {
    "collapsed": false,
    "deletable": true,
    "editable": true
   },
   "outputs": [],
   "source": [
    "A_samples = beta_dist(a=clicks_A+α, \n",
    "                      b=views_A-clicks_A+β, \n",
    "                      size=n_samples)\n",
    "B_samples = beta_dist(a=clicks_B+α, \n",
    "                      b=views_B-clicks_B+β, \n",
    "                      size=n_samples)"
   ]
  },
  {
   "cell_type": "code",
   "execution_count": 121,
   "metadata": {
    "collapsed": false,
    "deletable": true,
    "editable": true
   },
   "outputs": [
    {
     "data": {
      "image/png": "[encoded data removed]",
      "text/plain": [
       "<matplotlib.figure.Figure at 0x11716bf98>"
      ]
     },
     "metadata": {},
     "output_type": "display_data"
    }
   ],
   "source": [
    "fig = plt.figure()\n",
    "ax = fig.add_subplot(111)\n",
    "pd.DataFrame({'A': A_samples}).plot(kind='hist', ax=ax, legend=True);\n",
    "pd.DataFrame({'B': B_samples}).plot(kind='hist', ax=ax, legend=True, color='red',);"
   ]
  },
  {
   "cell_type": "code",
   "execution_count": 122,
   "metadata": {
    "collapsed": false,
    "deletable": true,
    "editable": true
   },
   "outputs": [
    {
     "data": {
      "image/png": "[encoded data removed]",
      "text/plain": [
       "<matplotlib.figure.Figure at 0x1170bfe80>"
      ]
     },
     "metadata": {},
     "output_type": "display_data"
    }
   ],
   "source": [
    "fig = plt.figure()\n",
    "ax = fig.add_subplot(111)\n",
    "pd.DataFrame({'A': A_samples}).plot(kind='kde', ax=ax, legend=True);\n",
    "pd.DataFrame({'B': B_samples}).plot(kind='kde', ax=ax, legend=True, color='red',);"
   ]
  },
  {
   "cell_type": "code",
   "execution_count": 118,
   "metadata": {
    "collapsed": false,
    "deletable": true,
    "editable": true
   },
   "outputs": [
    {
     "data": {
      "text/plain": [
       "'0.98'"
      ]
     },
     "execution_count": 118,
     "metadata": {},
     "output_type": "execute_result"
    }
   ],
   "source": [
    "A_v_B = np.mean(A_samples > B_samples)\n",
    "f'{A_v_B:.2}'"
   ]
  },
  {
   "cell_type": "code",
   "execution_count": 92,
   "metadata": {
    "collapsed": false
   },
   "outputs": [
    {
     "name": "stdout",
     "output_type": "stream",
     "text": [
      "The probability that A is better B: 1.0\n",
      "\n",
      "\n",
      "Baseline (pure) chance that A is better B is .5\n"
     ]
    }
   ],
   "source": [
    "print(f'The probability that A is better B: {A_v_B:.2}')\n",
    "\n",
    "print('\\n\\nBaseline (pure) chance that A is better B is .5')"
   ]
  },
  {
   "cell_type": "markdown",
   "metadata": {
    "collapsed": true,
    "deletable": true,
    "editable": true
   },
   "source": [
    "Let's look at it another way:\n",
    "http://www.evanmiller.org/ab-testing/chi-squared.html#!450/56000;345/49000@93"
   ]
  },
  {
   "cell_type": "markdown",
   "metadata": {
    "collapsed": true,
    "deletable": true,
    "editable": true
   },
   "source": [
    "<br>\n",
    "<br> \n",
    "<br>\n",
    "\n",
    "----"
   ]
  },
  {
   "cell_type": "code",
   "execution_count": null,
   "metadata": {
    "collapsed": true
   },
   "outputs": [],
   "source": []
  }
 ],
 "metadata": {
  "kernelspec": {
   "display_name": "Python 3",
   "language": "python",
   "name": "python3"
  },
  "language_info": {
   "codemirror_mode": {
    "name": "ipython",
    "version": 3
   },
   "file_extension": ".py",
   "mimetype": "text/x-python",
   "name": "python",
   "nbconvert_exporter": "python",
   "pygments_lexer": "ipython3",
   "version": "3.6.0"
  }
 },
 "nbformat": 4,
 "nbformat_minor": 2
}
