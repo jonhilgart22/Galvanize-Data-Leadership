{
 "cells": [
  {
   "cell_type": "code",
   "execution_count": 3,
   "metadata": {
    "collapsed": false
   },
   "outputs": [
    {
     "name": "stdout",
     "output_type": "stream",
     "text": [
      "Populating the interactive namespace from numpy and matplotlib\n"
     ]
    }
   ],
   "source": [
    "import pandas as pd\n",
    "import numpy as np\n",
    "import seaborn as sns\n",
    "%pylab inline"
   ]
  },
  {
   "cell_type": "code",
   "execution_count": 12,
   "metadata": {
    "collapsed": true
   },
   "outputs": [],
   "source": [
    "df_data_pt_1 = pd.read_csv(\"Nomis Solutions_Data Part I.csv\")\n",
    "df_data_pt_2 = pd.read_csv(\"Nomis Solutions Part II.csv\",skiprows=1)"
   ]
  },
  {
   "cell_type": "code",
   "execution_count": 13,
   "metadata": {
    "collapsed": false
   },
   "outputs": [
    {
     "name": "stdout",
     "output_type": "stream",
     "text": [
      "<class 'pandas.core.frame.DataFrame'>\n",
      "RangeIndex: 208088 entries, 0 to 208087\n",
      "Data columns (total 12 columns):\n",
      "﻿Tier               208085 non-null float64\n",
      "FICO                208087 non-null float64\n",
      "Approve Date        208085 non-null object\n",
      "Term                208085 non-null float64\n",
      "Amount              208085 non-null float64\n",
      "Previous Rate       208077 non-null object\n",
      "Car  Type           208085 non-null object\n",
      "Competition rate    208085 non-null float64\n",
      "Outcome             208085 non-null float64\n",
      "Rate                208085 non-null float64\n",
      "Cost of Funds       208085 non-null float64\n",
      "Partner Bin         208085 non-null float64\n",
      "dtypes: float64(9), object(3)\n",
      "memory usage: 19.1+ MB\n"
     ]
    }
   ],
   "source": [
    "df_data_pt_1.info()"
   ]
  },
  {
   "cell_type": "code",
   "execution_count": 15,
   "metadata": {
    "collapsed": false
   },
   "outputs": [
    {
     "data": {
      "text/html": [
       "<div>\n",
       "<table border=\"1\" class=\"dataframe\">\n",
       "  <thead>\n",
       "    <tr style=\"text-align: right;\">\n",
       "      <th></th>\n",
       "      <th>Tier</th>\n",
       "      <th>FICO</th>\n",
       "      <th>Approve Date</th>\n",
       "      <th>Term</th>\n",
       "      <th>Amount</th>\n",
       "      <th>Previous Rate</th>\n",
       "      <th>Car  Type</th>\n",
       "      <th>Competition Rate</th>\n",
       "      <th>Outcome</th>\n",
       "      <th>Rate</th>\n",
       "      <th>Cost of Funds</th>\n",
       "      <th>Partner Bin</th>\n",
       "      <th>Unnamed: 12</th>\n",
       "      <th>Unnamed: 13</th>\n",
       "      <th>Unnamed: 14</th>\n",
       "      <th>Unnamed: 15</th>\n",
       "      <th>Unnamed: 16</th>\n",
       "      <th>Unnamed: 17</th>\n",
       "    </tr>\n",
       "  </thead>\n",
       "  <tbody>\n",
       "    <tr>\n",
       "      <th>0</th>\n",
       "      <td>2</td>\n",
       "      <td>702</td>\n",
       "      <td>7/2/02</td>\n",
       "      <td>60</td>\n",
       "      <td>22000</td>\n",
       "      <td></td>\n",
       "      <td>U</td>\n",
       "      <td>5.85</td>\n",
       "      <td>0</td>\n",
       "      <td>6.19</td>\n",
       "      <td>1.84</td>\n",
       "      <td>3</td>\n",
       "      <td>NaN</td>\n",
       "      <td>Term</td>\n",
       "      <td>60</td>\n",
       "      <td>NaN</td>\n",
       "      <td>NaN</td>\n",
       "      <td>NaN</td>\n",
       "    </tr>\n",
       "    <tr>\n",
       "      <th>1</th>\n",
       "      <td>2</td>\n",
       "      <td>710</td>\n",
       "      <td>7/3/02</td>\n",
       "      <td>60</td>\n",
       "      <td>21000</td>\n",
       "      <td></td>\n",
       "      <td>U</td>\n",
       "      <td>5.85</td>\n",
       "      <td>0</td>\n",
       "      <td>6.19</td>\n",
       "      <td>1.84</td>\n",
       "      <td>1</td>\n",
       "      <td>NaN</td>\n",
       "      <td>Car Type</td>\n",
       "      <td>U</td>\n",
       "      <td>NaN</td>\n",
       "      <td>NaN</td>\n",
       "      <td>NaN</td>\n",
       "    </tr>\n",
       "    <tr>\n",
       "      <th>2</th>\n",
       "      <td>3</td>\n",
       "      <td>693</td>\n",
       "      <td>7/6/02</td>\n",
       "      <td>60</td>\n",
       "      <td>19598</td>\n",
       "      <td></td>\n",
       "      <td>U</td>\n",
       "      <td>5.85</td>\n",
       "      <td>1</td>\n",
       "      <td>7.29</td>\n",
       "      <td>1.84</td>\n",
       "      <td>1</td>\n",
       "      <td>NaN</td>\n",
       "      <td>Min FICO</td>\n",
       "      <td>684</td>\n",
       "      <td>NaN</td>\n",
       "      <td>NaN</td>\n",
       "      <td>NaN</td>\n",
       "    </tr>\n",
       "    <tr>\n",
       "      <th>3</th>\n",
       "      <td>3</td>\n",
       "      <td>696</td>\n",
       "      <td>7/6/02</td>\n",
       "      <td>60</td>\n",
       "      <td>23071</td>\n",
       "      <td></td>\n",
       "      <td>U</td>\n",
       "      <td>5.85</td>\n",
       "      <td>0</td>\n",
       "      <td>7.29</td>\n",
       "      <td>1.84</td>\n",
       "      <td>3</td>\n",
       "      <td>NaN</td>\n",
       "      <td>Max FICO</td>\n",
       "      <td>712</td>\n",
       "      <td>NaN</td>\n",
       "      <td>NaN</td>\n",
       "      <td>NaN</td>\n",
       "    </tr>\n",
       "    <tr>\n",
       "      <th>4</th>\n",
       "      <td>3</td>\n",
       "      <td>697</td>\n",
       "      <td>7/8/02</td>\n",
       "      <td>60</td>\n",
       "      <td>21578</td>\n",
       "      <td></td>\n",
       "      <td>U</td>\n",
       "      <td>5.80</td>\n",
       "      <td>1</td>\n",
       "      <td>7.29</td>\n",
       "      <td>1.84</td>\n",
       "      <td>2</td>\n",
       "      <td>NaN</td>\n",
       "      <td>Min Amnt</td>\n",
       "      <td>17800</td>\n",
       "      <td>NaN</td>\n",
       "      <td>NaN</td>\n",
       "      <td>NaN</td>\n",
       "    </tr>\n",
       "  </tbody>\n",
       "</table>\n",
       "</div>"
      ],
      "text/plain": [
       "   Tier  FICO Approve Date  Term  Amount Previous Rate Car  Type  \\\n",
       "0     2   702       7/2/02    60   22000                       U   \n",
       "1     2   710       7/3/02    60   21000                       U   \n",
       "2     3   693       7/6/02    60   19598                       U   \n",
       "3     3   696       7/6/02    60   23071                       U   \n",
       "4     3   697       7/8/02    60   21578                       U   \n",
       "\n",
       "   Competition Rate  Outcome  Rate  Cost of Funds  Partner Bin  Unnamed: 12  \\\n",
       "0              5.85        0  6.19           1.84            3          NaN   \n",
       "1              5.85        0  6.19           1.84            1          NaN   \n",
       "2              5.85        1  7.29           1.84            1          NaN   \n",
       "3              5.85        0  7.29           1.84            3          NaN   \n",
       "4              5.80        1  7.29           1.84            2          NaN   \n",
       "\n",
       "  Unnamed: 13 Unnamed: 14  Unnamed: 15  Unnamed: 16  Unnamed: 17  \n",
       "0        Term          60          NaN          NaN          NaN  \n",
       "1    Car Type           U          NaN          NaN          NaN  \n",
       "2    Min FICO         684          NaN          NaN          NaN  \n",
       "3    Max FICO         712          NaN          NaN          NaN  \n",
       "4    Min Amnt       17800          NaN          NaN          NaN  "
      ]
     },
     "execution_count": 15,
     "metadata": {},
     "output_type": "execute_result"
    }
   ],
   "source": [
    " df_data_pt_2.head()"
   ]
  },
  {
   "cell_type": "code",
   "execution_count": null,
   "metadata": {
    "collapsed": true
   },
   "outputs": [],
   "source": []
  }
 ],
 "metadata": {
  "anaconda-cloud": {},
  "kernelspec": {
   "display_name": "Python [conda root]",
   "language": "python",
   "name": "conda-root-py"
  }
 },
 "nbformat": 4,
 "nbformat_minor": 1
}
