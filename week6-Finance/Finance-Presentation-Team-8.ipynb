{
 "cells": [
  {
   "cell_type": "code",
   "execution_count": 128,
   "metadata": {
    "collapsed": false
   },
   "outputs": [
    {
     "name": "stdout",
     "output_type": "stream",
     "text": [
      "Populating the interactive namespace from numpy and matplotlib\n"
     ]
    }
   ],
   "source": [
    "import pandas as pd\n",
    "import numpy as np\n",
    "import seaborn as sns\n",
    "%pylab inline\n",
    "from sklearn.cluster import KMeans\n",
    "from sklearn.metrics import silhouette_score\n",
    "from sklearn.model_selection import train_test_split\n",
    "from collections import defaultdict"
   ]
  },
  {
   "cell_type": "code",
   "execution_count": 17,
   "metadata": {
    "collapsed": false
   },
   "outputs": [],
   "source": [
    "df_data_pt_1 = pd.read_csv(\"Nomis Solutions_Data Part I.csv\")\n",
    "df_data_pt_1['car_type']=df_data_pt_1['Car  Type']\n",
    "df_data_pt_1['previous_rate']=df_data_pt_1['Previous Rate']\n",
    "df_data_pt_1['approve_date']=df_data_pt_1['Approve Date']\n",
    "df_data_pt_1['competition_rate']=df_data_pt_1['Competition rate']\n",
    "df_data_pt_1['cost_of_funds']=df_data_pt_1['Cost of Funds']\n",
    "\n",
    "\n",
    "df_data_pt_1.drop(['Car  Type','Previous Rate','Approve Date','Competition rate','Cost of Funds'],axis=1,inplace=True)\n",
    "df_data_pt_1.approve_date= pd.to_datetime(df_data_pt_1.approve_date)\n",
    "df_data_pt_1.previous_rate = df_data_pt_1.previous_rate.apply(lambda x:0 if x == ' ' else float(x))\n",
    "df_data_pt_2 = pd.read_csv(\"Nomis Solutions Part II.csv\",skiprows=1)\n",
    "\n",
    "## add in the year , month, and date to cluster against\n",
    "df_data_pt_1['year'] = df_data_pt_1.approve_date.apply( lambda x: x.year)\n",
    "df_data_pt_1['month'] = df_data_pt_1.approve_date.apply( lambda x: x.month)\n",
    "df_data_pt_1['day'] = df_data_pt_1.approve_date.apply( lambda x: x.day)\n",
    "\n",
    "## fix the naming with tier\n",
    "df_data_pt_1['tier'] = df_data_pt_1.iloc[:,0]\n",
    "df_data_pt_1 = df_data_pt_1.iloc[:,1:]"
   ]
  },
  {
   "cell_type": "code",
   "execution_count": 18,
   "metadata": {
    "collapsed": false
   },
   "outputs": [],
   "source": [
    "## create a dataframe without data to cluster against\n",
    "df_data_copy = df_data_pt_1.copy()\n",
    "df_data_pt_1_no_date = df_data_copy.loc[:,('tier', 'FICO', 'Term', 'Amount', 'Outcome', 'Rate', 'Partner Bin',\\\n",
    "       'car_type', 'previous_rate', 'competition_rate',\\\n",
    "       'cost_of_funds', 'year', 'month', 'day')]"
   ]
  },
  {
   "cell_type": "code",
   "execution_count": 19,
   "metadata": {
    "collapsed": false
   },
   "outputs": [],
   "source": [
    "# Drop NA columns\n",
    "df_data_pt_1.dropna(inplace=True)\n"
   ]
  },
  {
   "cell_type": "code",
   "execution_count": 20,
   "metadata": {
    "collapsed": false
   },
   "outputs": [],
   "source": [
    " #Drop na columns\n",
    "df_data_pt_2.dropna(inplace=True)"
   ]
  },
  {
   "cell_type": "code",
   "execution_count": 21,
   "metadata": {
    "collapsed": false
   },
   "outputs": [],
   "source": [
    "df_data_pt_1_no_date.dropna(inplace=True)"
   ]
  },
  {
   "cell_type": "code",
   "execution_count": 22,
   "metadata": {
    "collapsed": false
   },
   "outputs": [
    {
     "name": "stdout",
     "output_type": "stream",
     "text": [
      "<class 'pandas.core.frame.DataFrame'>\n",
      "Int64Index: 208077 entries, 0 to 208078\n",
      "Data columns (total 14 columns):\n",
      "tier                208077 non-null float64\n",
      "FICO                208077 non-null float64\n",
      "Term                208077 non-null float64\n",
      "Amount              208077 non-null float64\n",
      "Outcome             208077 non-null float64\n",
      "Rate                208077 non-null float64\n",
      "Partner Bin         208077 non-null float64\n",
      "car_type            208077 non-null object\n",
      "previous_rate       208077 non-null float64\n",
      "competition_rate    208077 non-null float64\n",
      "cost_of_funds       208077 non-null float64\n",
      "year                208077 non-null float64\n",
      "month               208077 non-null float64\n",
      "day                 208077 non-null float64\n",
      "dtypes: float64(13), object(1)\n",
      "memory usage: 23.8+ MB\n"
     ]
    }
   ],
   "source": [
    "df_data_pt_1_no_date.info()"
   ]
  },
  {
   "cell_type": "code",
   "execution_count": 23,
   "metadata": {
    "collapsed": false
   },
   "outputs": [],
   "source": [
    "df_data_no_date_dummy = pd.get_dummies(df_data_pt_1_no_date)"
   ]
  },
  {
   "cell_type": "code",
   "execution_count": 53,
   "metadata": {
    "collapsed": false
   },
   "outputs": [],
   "source": [
    "## round our values to four places\n",
    "df_data_no_date_dummy = df_data_no_date_dummy.apply(lambda x:round(x,4))"
   ]
  },
  {
   "cell_type": "code",
   "execution_count": 54,
   "metadata": {
    "collapsed": false
   },
   "outputs": [
    {
     "data": {
      "text/html": [
       "<div>\n",
       "<table border=\"1\" class=\"dataframe\">\n",
       "  <thead>\n",
       "    <tr style=\"text-align: right;\">\n",
       "      <th></th>\n",
       "      <th>tier</th>\n",
       "      <th>FICO</th>\n",
       "      <th>Term</th>\n",
       "      <th>Amount</th>\n",
       "      <th>Outcome</th>\n",
       "      <th>Rate</th>\n",
       "      <th>Partner Bin</th>\n",
       "      <th>previous_rate</th>\n",
       "      <th>competition_rate</th>\n",
       "      <th>cost_of_funds</th>\n",
       "      <th>year</th>\n",
       "      <th>month</th>\n",
       "      <th>day</th>\n",
       "      <th>car_type_N</th>\n",
       "      <th>car_type_R</th>\n",
       "      <th>car_type_U</th>\n",
       "    </tr>\n",
       "  </thead>\n",
       "  <tbody>\n",
       "    <tr>\n",
       "      <th>0</th>\n",
       "      <td>3.0</td>\n",
       "      <td>695.0</td>\n",
       "      <td>72.0</td>\n",
       "      <td>35000.0</td>\n",
       "      <td>0.0</td>\n",
       "      <td>7.49</td>\n",
       "      <td>1.0</td>\n",
       "      <td>0.0</td>\n",
       "      <td>6.25</td>\n",
       "      <td>1.8388</td>\n",
       "      <td>2002.0</td>\n",
       "      <td>7.0</td>\n",
       "      <td>1.0</td>\n",
       "      <td>1.0</td>\n",
       "      <td>0.0</td>\n",
       "      <td>0.0</td>\n",
       "    </tr>\n",
       "    <tr>\n",
       "      <th>1</th>\n",
       "      <td>1.0</td>\n",
       "      <td>751.0</td>\n",
       "      <td>60.0</td>\n",
       "      <td>40000.0</td>\n",
       "      <td>0.0</td>\n",
       "      <td>5.49</td>\n",
       "      <td>3.0</td>\n",
       "      <td>0.0</td>\n",
       "      <td>5.65</td>\n",
       "      <td>1.8388</td>\n",
       "      <td>2002.0</td>\n",
       "      <td>7.0</td>\n",
       "      <td>1.0</td>\n",
       "      <td>1.0</td>\n",
       "      <td>0.0</td>\n",
       "      <td>0.0</td>\n",
       "    </tr>\n",
       "    <tr>\n",
       "      <th>2</th>\n",
       "      <td>1.0</td>\n",
       "      <td>731.0</td>\n",
       "      <td>60.0</td>\n",
       "      <td>18064.0</td>\n",
       "      <td>0.0</td>\n",
       "      <td>5.49</td>\n",
       "      <td>3.0</td>\n",
       "      <td>0.0</td>\n",
       "      <td>5.65</td>\n",
       "      <td>1.8388</td>\n",
       "      <td>2002.0</td>\n",
       "      <td>7.0</td>\n",
       "      <td>1.0</td>\n",
       "      <td>1.0</td>\n",
       "      <td>0.0</td>\n",
       "      <td>0.0</td>\n",
       "    </tr>\n",
       "    <tr>\n",
       "      <th>3</th>\n",
       "      <td>4.0</td>\n",
       "      <td>652.0</td>\n",
       "      <td>72.0</td>\n",
       "      <td>15415.0</td>\n",
       "      <td>0.0</td>\n",
       "      <td>8.99</td>\n",
       "      <td>3.0</td>\n",
       "      <td>0.0</td>\n",
       "      <td>6.25</td>\n",
       "      <td>1.8388</td>\n",
       "      <td>2002.0</td>\n",
       "      <td>7.0</td>\n",
       "      <td>1.0</td>\n",
       "      <td>1.0</td>\n",
       "      <td>0.0</td>\n",
       "      <td>0.0</td>\n",
       "    </tr>\n",
       "    <tr>\n",
       "      <th>4</th>\n",
       "      <td>1.0</td>\n",
       "      <td>730.0</td>\n",
       "      <td>48.0</td>\n",
       "      <td>32000.0</td>\n",
       "      <td>0.0</td>\n",
       "      <td>5.49</td>\n",
       "      <td>1.0</td>\n",
       "      <td>0.0</td>\n",
       "      <td>5.65</td>\n",
       "      <td>1.8388</td>\n",
       "      <td>2002.0</td>\n",
       "      <td>7.0</td>\n",
       "      <td>1.0</td>\n",
       "      <td>1.0</td>\n",
       "      <td>0.0</td>\n",
       "      <td>0.0</td>\n",
       "    </tr>\n",
       "  </tbody>\n",
       "</table>\n",
       "</div>"
      ],
      "text/plain": [
       "   tier   FICO  Term   Amount  Outcome  Rate  Partner Bin  previous_rate  \\\n",
       "0   3.0  695.0  72.0  35000.0      0.0  7.49          1.0            0.0   \n",
       "1   1.0  751.0  60.0  40000.0      0.0  5.49          3.0            0.0   \n",
       "2   1.0  731.0  60.0  18064.0      0.0  5.49          3.0            0.0   \n",
       "3   4.0  652.0  72.0  15415.0      0.0  8.99          3.0            0.0   \n",
       "4   1.0  730.0  48.0  32000.0      0.0  5.49          1.0            0.0   \n",
       "\n",
       "   competition_rate  cost_of_funds    year  month  day  car_type_N  \\\n",
       "0              6.25         1.8388  2002.0    7.0  1.0         1.0   \n",
       "1              5.65         1.8388  2002.0    7.0  1.0         1.0   \n",
       "2              5.65         1.8388  2002.0    7.0  1.0         1.0   \n",
       "3              6.25         1.8388  2002.0    7.0  1.0         1.0   \n",
       "4              5.65         1.8388  2002.0    7.0  1.0         1.0   \n",
       "\n",
       "   car_type_R  car_type_U  \n",
       "0         0.0         0.0  \n",
       "1         0.0         0.0  \n",
       "2         0.0         0.0  \n",
       "3         0.0         0.0  \n",
       "4         0.0         0.0  "
      ]
     },
     "execution_count": 54,
     "metadata": {},
     "output_type": "execute_result"
    }
   ],
   "source": [
    "df_data_no_date_dummy.head()"
   ]
  },
  {
   "cell_type": "code",
   "execution_count": 26,
   "metadata": {
    "collapsed": true
   },
   "outputs": [],
   "source": [
    "# Classify the customers we have into groups\n",
    "knn_classifier = KMeans()"
   ]
  },
  {
   "cell_type": "code",
   "execution_count": 27,
   "metadata": {
    "collapsed": false
   },
   "outputs": [
    {
     "data": {
      "text/plain": [
       "array([6, 6, 3, ..., 1, 1, 3], dtype=int32)"
      ]
     },
     "execution_count": 27,
     "metadata": {},
     "output_type": "execute_result"
    }
   ],
   "source": [
    "predicted_labels"
   ]
  },
  {
   "cell_type": "code",
   "execution_count": 45,
   "metadata": {
    "collapsed": true
   },
   "outputs": [],
   "source": [
    "\n",
    "first_sample = df_data_no_date_dummy.sample(10000)"
   ]
  },
  {
   "cell_type": "code",
   "execution_count": 39,
   "metadata": {
    "collapsed": false
   },
   "outputs": [
    {
     "data": {
      "text/plain": [
       "array([5, 5, 0, ..., 6, 4, 0], dtype=int32)"
      ]
     },
     "execution_count": 39,
     "metadata": {},
     "output_type": "execute_result"
    }
   ],
   "source": [
    "fit_knn = knn_classifier.fit(X=first_sample)\n",
    "predicted_labels = fit_knn.labels_\n",
    "predicted_labels"
   ]
  },
  {
   "cell_type": "code",
   "execution_count": 40,
   "metadata": {
    "collapsed": false
   },
   "outputs": [
    {
     "data": {
      "text/plain": [
       "0.55660832243458125"
      ]
     },
     "execution_count": 40,
     "metadata": {},
     "output_type": "execute_result"
    }
   ],
   "source": [
    "## too large for this\n",
    "silhouette_score(X=first_sample,labels=predicted_labels)"
   ]
  },
  {
   "cell_type": "code",
   "execution_count": 217,
   "metadata": {
    "collapsed": true
   },
   "outputs": [],
   "source": [
    "def sample_silhouette_score(dataframe_input,max_size=20):\n",
    "    \"\"\"Run a three fold CV on 20,000 samples from the dataframe to determine the ideal number of clusters.\n",
    "    Output is the ideal number of clusters of 3 CV folds with 20k samples.\"\"\"\n",
    "    silhouette_score_l = []\n",
    "    for clusters in range(2,25):\n",
    "        knn_classifier = KMeans(clusters)\n",
    "        silhouette_scores_for_this_cluster = []\n",
    "        for _ in range(3): ## CV for samples\n",
    "            sample = dataframe_input.sample(12000)\n",
    "            fit_knn = knn_classifier.fit(X=sample.values)\n",
    "            predicted_labels = fit_knn.labels_\n",
    "            silhouette_scores_for_this_cluster.append(silhouette_score(X=sample,labels=predicted_labels))\n",
    "        silhouette_score_l.append(np.mean(silhouette_scores_for_this_cluster))\n",
    "        print('Finished iteration {}'.format(clusters))\n",
    "    number_of_clusters = [i for i in range(2,25)]\n",
    "    plt.plot([i for i in range(2,25)],silhouette_score_l)\n",
    "    plt.title('Silhouette score vs Num. Clusters')\n",
    "    print('The best number of clusters is {}'.format(number_of_clusters[np.argmax(np.array(silhouette_score_l))]))\n",
    "        \n",
    "    "
   ]
  },
  {
   "cell_type": "code",
   "execution_count": 218,
   "metadata": {
    "collapsed": false
   },
   "outputs": [
    {
     "name": "stdout",
     "output_type": "stream",
     "text": [
      "Finished iteration 2\n",
      "Finished iteration 3\n",
      "Finished iteration 4\n",
      "Finished iteration 5\n",
      "Finished iteration 6\n",
      "Finished iteration 7\n",
      "Finished iteration 8\n",
      "Finished iteration 9\n",
      "Finished iteration 10\n",
      "Finished iteration 11\n",
      "Finished iteration 12\n",
      "Finished iteration 13\n",
      "Finished iteration 14\n",
      "Finished iteration 15\n",
      "Finished iteration 16\n",
      "Finished iteration 17\n",
      "Finished iteration 18\n",
      "Finished iteration 19\n",
      "Finished iteration 20\n",
      "Finished iteration 21\n",
      "Finished iteration 22\n",
      "Finished iteration 23\n",
      "Finished iteration 24\n",
      "The best number of clusters is 20\n"
     ]
    },
    {
     "data": {
      "image/png": "[encoded data removed]",
      "text/plain": [
       "<matplotlib.figure.Figure at 0x117121208>"
      ]
     },
     "metadata": {},
     "output_type": "display_data"
    }
   ],
   "source": [
    "# This takes ~20 minutes to run\n",
    "sample_silhouette_score(df_data_no_date_dummy)"
   ]
  },
  {
   "cell_type": "markdown",
   "metadata": {},
   "source": [
    "- Twenty is the ideal nuber of clusters here\n"
   ]
  },
  {
   "cell_type": "code",
   "execution_count": 219,
   "metadata": {
    "collapsed": false
   },
   "outputs": [],
   "source": [
    "def find_avg_centroid(dataframe_input,cv=5,cluster_size=20):\n",
    "    \"\"\"Using 20 centers, find the averge middle value of each center.\n",
    "    This will return a dict where the key is the center number, and the value is a list of the location\n",
    "    of the cluster center.\"\"\"\n",
    "    centroids = defaultdict(list)\n",
    "    \n",
    "    final_centroids=defaultdict(list)\n",
    "    for x in range(cv): ## CV for samples\n",
    "        sample = dataframe_input.sample(15000)\n",
    "        knn_classifier = KMeans(cluster_size)\n",
    "        fit_knn = knn_classifier.fit(X=sample.values)\n",
    "        predicted_labels = fit_knn.labels_\n",
    "        for cluster_number in range(len(fit_knn.cluster_centers_)):\n",
    "\n",
    "            centroids[cluster_number ].append(fit_knn.cluster_centers_)\n",
    "            \n",
    "    # next, take the average of each CV center from the clusters above\n",
    "    for k,v in centroids.items():\n",
    "        current_centroid_avg = []\n",
    "        df = pd.DataFrame(v[0]) # conver t odf to make taking th mean easier\n",
    "        #print(np.mean(df.iloc[:,0]),'here')\n",
    "        \n",
    "        for col_num in range(np.shape(df)[1]):\n",
    "            final_centroids[k].append(  np.mean(df.iloc[:,col_num]))\n",
    "\n",
    "            \n",
    "            \n",
    "            #current_centroid_avg.append(np.mean(v[:,idx]))\n",
    "        #final_centroids[k]=np.mean(v)\n",
    "    return final_centroids"
   ]
  },
  {
   "cell_type": "code",
   "execution_count": 221,
   "metadata": {
    "collapsed": false
   },
   "outputs": [
    {
     "name": "stdout",
     "output_type": "stream",
     "text": [
      "looP\n",
      "looP\n",
      "looP\n",
      "looP\n",
      "looP\n",
      "looP\n",
      "looP\n",
      "looP\n",
      "looP\n",
      "looP\n",
      "looP\n",
      "looP\n",
      "looP\n",
      "looP\n",
      "looP\n",
      "looP\n",
      "looP\n",
      "looP\n",
      "looP\n",
      "looP\n"
     ]
    }
   ],
   "source": [
    "average_cluster_centers = find_avg_centroid(df_data_no_date_dummy)"
   ]
  },
  {
   "cell_type": "code",
   "execution_count": 222,
   "metadata": {
    "collapsed": false
   },
   "outputs": [
    {
     "data": {
      "text/plain": [
       "defaultdict(list,\n",
       "            {0: [1.913806465036549,\n",
       "              728.3917857671029,\n",
       "              57.41030403097145,\n",
       "              32898.93451231782,\n",
       "              0.21008431729480237,\n",
       "              5.5740383058112215,\n",
       "              2.0011201141211137,\n",
       "              1.6289808774981729,\n",
       "              4.777911824458723,\n",
       "              1.317538020060166,\n",
       "              2003.2473096074693,\n",
       "              6.681798283422805,\n",
       "              15.685598958657357,\n",
       "              0.616741915900122,\n",
       "              0.19738533303296743,\n",
       "              0.18587275106691192],\n",
       "             1: [1.913806465036549,\n",
       "              728.3917857671029,\n",
       "              57.41030403097145,\n",
       "              32898.93451231782,\n",
       "              0.21008431729480237,\n",
       "              5.5740383058112215,\n",
       "              2.0011201141211137,\n",
       "              1.6289808774981729,\n",
       "              4.777911824458723,\n",
       "              1.317538020060166,\n",
       "              2003.2473096074693,\n",
       "              6.681798283422805,\n",
       "              15.685598958657357,\n",
       "              0.616741915900122,\n",
       "              0.19738533303296743,\n",
       "              0.18587275106691192],\n",
       "             2: [1.913806465036549,\n",
       "              728.3917857671029,\n",
       "              57.41030403097145,\n",
       "              32898.93451231782,\n",
       "              0.21008431729480237,\n",
       "              5.5740383058112215,\n",
       "              2.0011201141211137,\n",
       "              1.6289808774981729,\n",
       "              4.777911824458723,\n",
       "              1.317538020060166,\n",
       "              2003.2473096074693,\n",
       "              6.681798283422805,\n",
       "              15.685598958657357,\n",
       "              0.616741915900122,\n",
       "              0.19738533303296743,\n",
       "              0.18587275106691192],\n",
       "             3: [1.913806465036549,\n",
       "              728.3917857671029,\n",
       "              57.41030403097145,\n",
       "              32898.93451231782,\n",
       "              0.21008431729480237,\n",
       "              5.5740383058112215,\n",
       "              2.0011201141211137,\n",
       "              1.6289808774981729,\n",
       "              4.777911824458723,\n",
       "              1.317538020060166,\n",
       "              2003.2473096074693,\n",
       "              6.681798283422805,\n",
       "              15.685598958657357,\n",
       "              0.616741915900122,\n",
       "              0.19738533303296743,\n",
       "              0.18587275106691192],\n",
       "             4: [1.913806465036549,\n",
       "              728.3917857671029,\n",
       "              57.41030403097145,\n",
       "              32898.93451231782,\n",
       "              0.21008431729480237,\n",
       "              5.5740383058112215,\n",
       "              2.0011201141211137,\n",
       "              1.6289808774981729,\n",
       "              4.777911824458723,\n",
       "              1.317538020060166,\n",
       "              2003.2473096074693,\n",
       "              6.681798283422805,\n",
       "              15.685598958657357,\n",
       "              0.616741915900122,\n",
       "              0.19738533303296743,\n",
       "              0.18587275106691192],\n",
       "             5: [1.913806465036549,\n",
       "              728.3917857671029,\n",
       "              57.41030403097145,\n",
       "              32898.93451231782,\n",
       "              0.21008431729480237,\n",
       "              5.5740383058112215,\n",
       "              2.0011201141211137,\n",
       "              1.6289808774981729,\n",
       "              4.777911824458723,\n",
       "              1.317538020060166,\n",
       "              2003.2473096074693,\n",
       "              6.681798283422805,\n",
       "              15.685598958657357,\n",
       "              0.616741915900122,\n",
       "              0.19738533303296743,\n",
       "              0.18587275106691192],\n",
       "             6: [1.913806465036549,\n",
       "              728.3917857671029,\n",
       "              57.41030403097145,\n",
       "              32898.93451231782,\n",
       "              0.21008431729480237,\n",
       "              5.5740383058112215,\n",
       "              2.0011201141211137,\n",
       "              1.6289808774981729,\n",
       "              4.777911824458723,\n",
       "              1.317538020060166,\n",
       "              2003.2473096074693,\n",
       "              6.681798283422805,\n",
       "              15.685598958657357,\n",
       "              0.616741915900122,\n",
       "              0.19738533303296743,\n",
       "              0.18587275106691192],\n",
       "             7: [1.913806465036549,\n",
       "              728.3917857671029,\n",
       "              57.41030403097145,\n",
       "              32898.93451231782,\n",
       "              0.21008431729480237,\n",
       "              5.5740383058112215,\n",
       "              2.0011201141211137,\n",
       "              1.6289808774981729,\n",
       "              4.777911824458723,\n",
       "              1.317538020060166,\n",
       "              2003.2473096074693,\n",
       "              6.681798283422805,\n",
       "              15.685598958657357,\n",
       "              0.616741915900122,\n",
       "              0.19738533303296743,\n",
       "              0.18587275106691192],\n",
       "             8: [1.913806465036549,\n",
       "              728.3917857671029,\n",
       "              57.41030403097145,\n",
       "              32898.93451231782,\n",
       "              0.21008431729480237,\n",
       "              5.5740383058112215,\n",
       "              2.0011201141211137,\n",
       "              1.6289808774981729,\n",
       "              4.777911824458723,\n",
       "              1.317538020060166,\n",
       "              2003.2473096074693,\n",
       "              6.681798283422805,\n",
       "              15.685598958657357,\n",
       "              0.616741915900122,\n",
       "              0.19738533303296743,\n",
       "              0.18587275106691192],\n",
       "             9: [1.913806465036549,\n",
       "              728.3917857671029,\n",
       "              57.41030403097145,\n",
       "              32898.93451231782,\n",
       "              0.21008431729480237,\n",
       "              5.5740383058112215,\n",
       "              2.0011201141211137,\n",
       "              1.6289808774981729,\n",
       "              4.777911824458723,\n",
       "              1.317538020060166,\n",
       "              2003.2473096074693,\n",
       "              6.681798283422805,\n",
       "              15.685598958657357,\n",
       "              0.616741915900122,\n",
       "              0.19738533303296743,\n",
       "              0.18587275106691192],\n",
       "             10: [1.913806465036549,\n",
       "              728.3917857671029,\n",
       "              57.41030403097145,\n",
       "              32898.93451231782,\n",
       "              0.21008431729480237,\n",
       "              5.5740383058112215,\n",
       "              2.0011201141211137,\n",
       "              1.6289808774981729,\n",
       "              4.777911824458723,\n",
       "              1.317538020060166,\n",
       "              2003.2473096074693,\n",
       "              6.681798283422805,\n",
       "              15.685598958657357,\n",
       "              0.616741915900122,\n",
       "              0.19738533303296743,\n",
       "              0.18587275106691192],\n",
       "             11: [1.913806465036549,\n",
       "              728.3917857671029,\n",
       "              57.41030403097145,\n",
       "              32898.93451231782,\n",
       "              0.21008431729480237,\n",
       "              5.5740383058112215,\n",
       "              2.0011201141211137,\n",
       "              1.6289808774981729,\n",
       "              4.777911824458723,\n",
       "              1.317538020060166,\n",
       "              2003.2473096074693,\n",
       "              6.681798283422805,\n",
       "              15.685598958657357,\n",
       "              0.616741915900122,\n",
       "              0.19738533303296743,\n",
       "              0.18587275106691192],\n",
       "             12: [1.913806465036549,\n",
       "              728.3917857671029,\n",
       "              57.41030403097145,\n",
       "              32898.93451231782,\n",
       "              0.21008431729480237,\n",
       "              5.5740383058112215,\n",
       "              2.0011201141211137,\n",
       "              1.6289808774981729,\n",
       "              4.777911824458723,\n",
       "              1.317538020060166,\n",
       "              2003.2473096074693,\n",
       "              6.681798283422805,\n",
       "              15.685598958657357,\n",
       "              0.616741915900122,\n",
       "              0.19738533303296743,\n",
       "              0.18587275106691192],\n",
       "             13: [1.913806465036549,\n",
       "              728.3917857671029,\n",
       "              57.41030403097145,\n",
       "              32898.93451231782,\n",
       "              0.21008431729480237,\n",
       "              5.5740383058112215,\n",
       "              2.0011201141211137,\n",
       "              1.6289808774981729,\n",
       "              4.777911824458723,\n",
       "              1.317538020060166,\n",
       "              2003.2473096074693,\n",
       "              6.681798283422805,\n",
       "              15.685598958657357,\n",
       "              0.616741915900122,\n",
       "              0.19738533303296743,\n",
       "              0.18587275106691192],\n",
       "             14: [1.913806465036549,\n",
       "              728.3917857671029,\n",
       "              57.41030403097145,\n",
       "              32898.93451231782,\n",
       "              0.21008431729480237,\n",
       "              5.5740383058112215,\n",
       "              2.0011201141211137,\n",
       "              1.6289808774981729,\n",
       "              4.777911824458723,\n",
       "              1.317538020060166,\n",
       "              2003.2473096074693,\n",
       "              6.681798283422805,\n",
       "              15.685598958657357,\n",
       "              0.616741915900122,\n",
       "              0.19738533303296743,\n",
       "              0.18587275106691192],\n",
       "             15: [1.913806465036549,\n",
       "              728.3917857671029,\n",
       "              57.41030403097145,\n",
       "              32898.93451231782,\n",
       "              0.21008431729480237,\n",
       "              5.5740383058112215,\n",
       "              2.0011201141211137,\n",
       "              1.6289808774981729,\n",
       "              4.777911824458723,\n",
       "              1.317538020060166,\n",
       "              2003.2473096074693,\n",
       "              6.681798283422805,\n",
       "              15.685598958657357,\n",
       "              0.616741915900122,\n",
       "              0.19738533303296743,\n",
       "              0.18587275106691192],\n",
       "             16: [1.913806465036549,\n",
       "              728.3917857671029,\n",
       "              57.41030403097145,\n",
       "              32898.93451231782,\n",
       "              0.21008431729480237,\n",
       "              5.5740383058112215,\n",
       "              2.0011201141211137,\n",
       "              1.6289808774981729,\n",
       "              4.777911824458723,\n",
       "              1.317538020060166,\n",
       "              2003.2473096074693,\n",
       "              6.681798283422805,\n",
       "              15.685598958657357,\n",
       "              0.616741915900122,\n",
       "              0.19738533303296743,\n",
       "              0.18587275106691192],\n",
       "             17: [1.913806465036549,\n",
       "              728.3917857671029,\n",
       "              57.41030403097145,\n",
       "              32898.93451231782,\n",
       "              0.21008431729480237,\n",
       "              5.5740383058112215,\n",
       "              2.0011201141211137,\n",
       "              1.6289808774981729,\n",
       "              4.777911824458723,\n",
       "              1.317538020060166,\n",
       "              2003.2473096074693,\n",
       "              6.681798283422805,\n",
       "              15.685598958657357,\n",
       "              0.616741915900122,\n",
       "              0.19738533303296743,\n",
       "              0.18587275106691192],\n",
       "             18: [1.913806465036549,\n",
       "              728.3917857671029,\n",
       "              57.41030403097145,\n",
       "              32898.93451231782,\n",
       "              0.21008431729480237,\n",
       "              5.5740383058112215,\n",
       "              2.0011201141211137,\n",
       "              1.6289808774981729,\n",
       "              4.777911824458723,\n",
       "              1.317538020060166,\n",
       "              2003.2473096074693,\n",
       "              6.681798283422805,\n",
       "              15.685598958657357,\n",
       "              0.616741915900122,\n",
       "              0.19738533303296743,\n",
       "              0.18587275106691192],\n",
       "             19: [1.913806465036549,\n",
       "              728.3917857671029,\n",
       "              57.41030403097145,\n",
       "              32898.93451231782,\n",
       "              0.21008431729480237,\n",
       "              5.5740383058112215,\n",
       "              2.0011201141211137,\n",
       "              1.6289808774981729,\n",
       "              4.777911824458723,\n",
       "              1.317538020060166,\n",
       "              2003.2473096074693,\n",
       "              6.681798283422805,\n",
       "              15.685598958657357,\n",
       "              0.616741915900122,\n",
       "              0.19738533303296743,\n",
       "              0.18587275106691192]})"
      ]
     },
     "execution_count": 222,
     "metadata": {},
     "output_type": "execute_result"
    }
   ],
   "source": [
    "average_cluster_centers "
   ]
  },
  {
   "cell_type": "code",
   "execution_count": null,
   "metadata": {
    "collapsed": true
   },
   "outputs": [],
   "source": []
  }
 ],
 "metadata": {
  "anaconda-cloud": {},
  "kernelspec": {
   "display_name": "Python [conda root]",
   "language": "python",
   "name": "conda-root-py"
  },
  "language_info": {
   "codemirror_mode": {
    "name": "ipython",
    "version": 3
   },
   "file_extension": ".py",
   "mimetype": "text/x-python",
   "name": "python",
   "nbconvert_exporter": "python",
   "pygments_lexer": "ipython3",
   "version": "3.5.2"
  }
 },
 "nbformat": 4,
 "nbformat_minor": 1
}
