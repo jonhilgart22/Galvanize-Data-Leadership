{
 "cells": [
  {
   "cell_type": "markdown",
   "metadata": {},
   "source": [
    "If your having problems running this on your machine. do the following...\n",
    "\n",
    "\n",
    "brew install apache-spark\n",
    "\n",
    "#setting env variable:\n",
    "\n",
    "export SPARK_HOME=\"/usr/local/Cellar/apache-spark/2.1.0/libexec/\"\n",
    "\n",
    "export PYTHONPATH=$SPARK_HOME/python:$SPARK_HOME/python/build:$PYTHONPATH\n",
    "\n",
    "export PYTHONPATH=$SPARK_HOME/python/lib/py4j-0.10.4-src.zip:$PYTHONPATH\n",
    "\n",
    "export PYSPARK_DRIVER_PYTHON=jupyter\n",
    "\n",
    "export PYSPARK_DRIVER_PYTHON_OPTS=notebook\n",
    "\n",
    "\n",
    "pyspark\n"
   ]
  },
  {
   "cell_type": "code",
   "execution_count": 1,
   "metadata": {
    "collapsed": false,
    "scrolled": false
   },
   "outputs": [
    {
     "name": "stdout",
     "output_type": "stream",
     "text": [
      "208085\n",
      "291.2058743595071\n",
      "2002\n"
     ]
    }
   ],
   "source": [
    "# MUST AT LEAST RUN THIS ONE TO GET THE DATA VARIABLE. OTHERS ARE OPTIONAL.\n",
    "%matplotlib inline\n",
    "from pyspark.sql import Row\n",
    "from pyspark import SparkContext\n",
    "import seaborn as sns\n",
    "import re\n",
    "import numpy as np\n",
    "import pandas as pd\n",
    "from scipy import stats, integrate\n",
    "import matplotlib.pyplot as plt\n",
    "from datetime import datetime\n",
    "from pyspark.sql.functions import col,udf, unix_timestamp\n",
    "from pyspark.sql.types import DateType\n",
    "from pyspark.sql.functions import udf\n",
    "from pyspark.sql.types import DataType\n",
    "from pyspark.sql.types import IntegerType\n",
    "from pyspark.sql.types import DoubleType\n",
    "import locale\n",
    "\n",
    "data = spark.read.csv(\"Nomis Solutions_Data Part I.csv\", header=True, inferSchema=True)\n",
    "data = data.where(data.Tier.isNotNull()) # remove bad data, 3 entries have 'null' for Tier\n",
    "for column in data.columns: #fix column names\n",
    "    data = data.withColumnRenamed(column, column.lower().replace(' ','_'))\n",
    "data = data.withColumn('spread', (data.rate - data.competition_rate)/100) #calculate the spread\n",
    "data = data.withColumn('rate', data.rate/100)\n",
    "data = data.withColumn('competition_rate', data.competition_rate/100)\n",
    "data = data.withColumn('cost_of_funds', data.cost_of_funds/100)\n",
    "print(data.count())\n",
    "\n",
    "# calculate out the NPV\n",
    "def npv(loan, term, APR, cost_of_capital):\n",
    "    interest = loan*APR # http://mathforum.org/dr.math/faq/faq.interest.html\n",
    "    Cfs = []\n",
    "    Cfs.append(-loan)\n",
    "    for i in range(1,int(term/12)+1):\n",
    "        Cfs.append(interest)\n",
    "    Cfs[-1] += loan\n",
    "\n",
    "    disc_Cfs = []\n",
    "    for t,cf in enumerate(Cfs):\n",
    "         disc_Cfs.append(cf / (1+cost_of_capital)**t)\n",
    "    return sum(disc_Cfs)\n",
    "    \n",
    "print(npv(1000, 60, 0.07, 0.01))\n",
    "npv = udf(npv, returnType=DoubleType())\n",
    "data = data.withColumn('npv', npv(\"amount\", \"term\", \"rate\", \"cost_of_funds\")) #.select(\"approve_date\", \"amount\", \"term\", \"rate\", \"cost_of_funds\", \"npv\")\n",
    "\n",
    "# calculate out the year\n",
    "def year(stringDate):\n",
    "    return datetime.strptime(stringDate, '%m/%d/%y').year\n",
    "print(year(\"7/1/02\"))\n",
    "year = udf(year, returnType=IntegerType())\n",
    "data = data.withColumn('year', year(\"approve_date\"))\n",
    "#calculate out the spread\n",
    "data = data.withColumn('spread', data.rate - data.cost_of_funds)\n"
   ]
  },
  {
   "cell_type": "code",
   "execution_count": 2,
   "metadata": {
    "collapsed": false
   },
   "outputs": [
    {
     "data": {
      "text/plain": [
       "DataFrame[tier: int, fico: int, approve_date: string, term: int, amount: double, previous_rate: string, car__type: string, competition_rate: double, outcome: int, rate: double, cost_of_funds: double, partner_bin: int, spread: double, npv: double, year: int]"
      ]
     },
     "execution_count": 2,
     "metadata": {},
     "output_type": "execute_result"
    }
   ],
   "source": [
    "data"
   ]
  },
  {
   "cell_type": "code",
   "execution_count": 3,
   "metadata": {
    "collapsed": false,
    "scrolled": true
   },
   "outputs": [
    {
     "name": "stdout",
     "output_type": "stream",
     "text": [
      "+----+----+------------+----+-------+-------------+---------+----------------+-------+-------------------+-------------+-----------+-------------------+-----------------+----+\n",
      "|tier|fico|approve_date|term| amount|previous_rate|car__type|competition_rate|outcome|               rate|cost_of_funds|partner_bin|             spread|              npv|year|\n",
      "+----+----+------------+----+-------+-------------+---------+----------------+-------+-------------------+-------------+-----------+-------------------+-----------------+----+\n",
      "|   3| 695|      7/1/02|  72|35000.0|             |        N|          0.0625|      0|0.07490000000000001|     0.018388|          1|0.05651200000000001|11139.70700051541|2002|\n",
      "+----+----+------------+----+-------+-------------+---------+----------------+-------+-------------------+-------------+-----------+-------------------+-----------------+----+\n",
      "only showing top 1 row\n",
      "\n"
     ]
    }
   ],
   "source": [
    "data.show(1)"
   ]
  },
  {
   "cell_type": "code",
   "execution_count": 4,
   "metadata": {
    "collapsed": false,
    "scrolled": true
   },
   "outputs": [
    {
     "name": "stdout",
     "output_type": "stream",
     "text": [
      "+-------+----------------+-----------------+--------------------+-------------------+\n",
      "|summary|            fico|             term|    competition_rate|            outcome|\n",
      "+-------+----------------+-----------------+--------------------+-------------------+\n",
      "|  count|          208085|           208085|              208085|             208085|\n",
      "|   mean|726.731407838143|56.80901554653146|0.048070775404278426|0.22003988754595477|\n",
      "| stddev| 44.783564051538|11.20410261525545|0.005861487877211517| 0.4142742572366969|\n",
      "|    min|             587|               36|0.029900000000000003|                  0|\n",
      "|    max|             854|               72|              0.0645|                  1|\n",
      "+-------+----------------+-----------------+--------------------+-------------------+\n",
      "\n"
     ]
    }
   ],
   "source": [
    "data.describe('fico','term','competition_rate','outcome').show()"
   ]
  },
  {
   "cell_type": "code",
   "execution_count": 5,
   "metadata": {
    "collapsed": false
   },
   "outputs": [
    {
     "name": "stdout",
     "output_type": "stream",
     "text": [
      "+-------+--------------------+--------------------+------------------+--------------------+\n",
      "|summary|                rate|       cost_of_funds|       partner_bin|              spread|\n",
      "+-------+--------------------+--------------------+------------------+--------------------+\n",
      "|  count|              208085|              208085|            208085|              208085|\n",
      "|   mean|0.056230491626017044|0.013288188254794572| 2.029670567316241| 0.04294230337121641|\n",
      "| stddev|0.015469784190445417|0.002780538586589...|0.9110620679208952|0.015256583823850003|\n",
      "|    min|              0.0245|              0.0102|                 1|0.009399999999999999|\n",
      "|    max|              0.1553|0.021269999999999997|                 3|              0.1441|\n",
      "+-------+--------------------+--------------------+------------------+--------------------+\n",
      "\n"
     ]
    }
   ],
   "source": [
    "data.describe('rate','cost_of_funds', 'partner_bin', 'spread').show()"
   ]
  },
  {
   "cell_type": "code",
   "execution_count": 6,
   "metadata": {
    "collapsed": false,
    "scrolled": true
   },
   "outputs": [
    {
     "name": "stdout",
     "output_type": "stream",
     "text": [
      "+----+------+\n",
      "|tier| count|\n",
      "+----+------+\n",
      "|   1|100261|\n",
      "|   2| 45472|\n",
      "|   3| 39570|\n",
      "|   4| 22782|\n",
      "+----+------+\n",
      "\n"
     ]
    }
   ],
   "source": [
    "data.groupBy('tier').count().sort('tier').show()"
   ]
  },
  {
   "cell_type": "code",
   "execution_count": null,
   "metadata": {
    "collapsed": false
   },
   "outputs": [],
   "source": [
    "# fico vs amount is interesting\n",
    "x=data.select('tier','fico','amount','outcome', 'spread').toPandas()\n",
    "sns.pairplot(x, hue='tier')"
   ]
  },
  {
   "cell_type": "code",
   "execution_count": null,
   "metadata": {
    "collapsed": false
   },
   "outputs": [],
   "source": [
    "# amount vs amount shows that the loans they are approving are low $ amount loans\n",
    "# rate vs rate shows the loans they are approving are low interest rate loans\n",
    "#x=data.select('tier','fico','amount','rate', 'cost_of_funds').toPandas()\n",
    "x=data.select('fico','amount','rate', 'cost_of_funds', 'competition_rate', 'outcome', 'spread').toPandas()\n",
    "sns.pairplot(x, hue='outcome')"
   ]
  },
  {
   "cell_type": "markdown",
   "metadata": {
    "collapsed": true
   },
   "source": [
    "$NPV=\\sum_{n=1}^{n} \\frac{Cn}{(1+r)^n} - Co$"
   ]
  },
  {
   "cell_type": "code",
   "execution_count": null,
   "metadata": {
    "collapsed": true
   },
   "outputs": [],
   "source": []
  },
  {
   "cell_type": "code",
   "execution_count": null,
   "metadata": {
    "collapsed": true
   },
   "outputs": [],
   "source": []
  },
  {
   "cell_type": "code",
   "execution_count": null,
   "metadata": {
    "collapsed": true
   },
   "outputs": [],
   "source": [
    "IRR"
   ]
  },
  {
   "cell_type": "code",
   "execution_count": 21,
   "metadata": {
    "collapsed": false
   },
   "outputs": [
    {
     "name": "stdout",
     "output_type": "stream",
     "text": [
      "          sum(npv)\n",
      "year              \n",
      "2002  1.913898e+07\n",
      "2003  7.883488e+07\n",
      "2004  7.628669e+07\n"
     ]
    }
   ],
   "source": [
    "import pyspark.sql.functions as func\n",
    "agg_npv = data.where(data.outcome==1).groupBy('year').sum('npv').toPandas()\n",
    "agg_npv = agg_npv.sort_values('year',0)\n",
    "#pd.options.display.float_format = '${:,.2f}'.format\n",
    "agg_npv = agg_npv.set_index('year')\n",
    "print(agg_npv)"
   ]
  },
  {
   "cell_type": "code",
   "execution_count": 23,
   "metadata": {
    "collapsed": false
   },
   "outputs": [
    {
     "name": "stdout",
     "output_type": "stream",
     "text": [
      "2002 0.01689893351567463\n",
      "2003 0.01177518111180385\n",
      "2004 0.013632502898191337\n"
     ]
    }
   ],
   "source": [
    "cost_of_capital = data.where(data.outcome==1)#.where(data.approve_date.isNotNull())# .where(data.year == '2003')\n",
    "cost_of_capital = cost_of_capital.toPandas()\n",
    "\n",
    "for year in cost_of_capital['year'].unique():\n",
    "    print(year, cost_of_capital[cost_of_capital['year']==year]['cost_of_funds'].mean())\n",
    "avg_coc = [0.01689893351567463, 0.01177518111180385, 0.013632502898191337]"
   ]
  },
  {
   "cell_type": "code",
   "execution_count": 24,
   "metadata": {
    "collapsed": false
   },
   "outputs": [
    {
     "name": "stdout",
     "output_type": "stream",
     "text": [
      "171304873.154\n"
     ]
    }
   ],
   "source": [
    "disc_Cfs = []\n",
    "for t,cf in enumerate(agg_npv['sum(npv)']):\n",
    "     disc_Cfs.append(cf / (1+avg_coc[t])**t)\n",
    "print(sum(disc_Cfs))\n"
   ]
  },
  {
   "cell_type": "code",
   "execution_count": null,
   "metadata": {
    "collapsed": true
   },
   "outputs": [],
   "source": []
  },
  {
   "cell_type": "code",
   "execution_count": null,
   "metadata": {
    "collapsed": false
   },
   "outputs": [],
   "source": [
    "NPV for tier, FICO, approve date, term, amount"
   ]
  },
  {
   "cell_type": "code",
   "execution_count": null,
   "metadata": {
    "collapsed": true
   },
   "outputs": [],
   "source": [
    "EDA"
   ]
  },
  {
   "cell_type": "code",
   "execution_count": null,
   "metadata": {
    "collapsed": true
   },
   "outputs": [],
   "source": []
  }
 ],
 "metadata": {
  "anaconda-cloud": {},
  "kernelspec": {
   "display_name": "Python [Root]",
   "language": "python",
   "name": "Python [Root]"
  },
  "language_info": {
   "codemirror_mode": {
    "name": "ipython",
    "version": 3
   },
   "file_extension": ".py",
   "mimetype": "text/x-python",
   "name": "python",
   "nbconvert_exporter": "python",
   "pygments_lexer": "ipython3",
   "version": "3.5.2"
  }
 },
 "nbformat": 4,
 "nbformat_minor": 0
}
